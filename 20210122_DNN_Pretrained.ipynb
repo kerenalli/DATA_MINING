{
  "nbformat": 4,
  "nbformat_minor": 0,
  "metadata": {
    "colab": {
      "name": "20210122_DNN_Pretrained.ipynb",
      "provenance": [],
      "authorship_tag": "ABX9TyMOCIVC9DFWwq4+aCciZg+q",
      "include_colab_link": true
    },
    "kernelspec": {
      "name": "python3",
      "display_name": "Python 3"
    }
  },
  "cells": [
    {
      "cell_type": "markdown",
      "metadata": {
        "id": "view-in-github",
        "colab_type": "text"
      },
      "source": [
        "<a href=\"https://colab.research.google.com/github/kerenalli/DATA_MINING/blob/main/20210122_DNN_Pretrained.ipynb\" target=\"_parent\"><img src=\"https://colab.research.google.com/assets/colab-badge.svg\" alt=\"Open In Colab\"/></a>"
      ]
    },
    {
      "cell_type": "code",
      "metadata": {
        "colab": {
          "base_uri": "https://localhost:8080/"
        },
        "id": "yQ6Y2gUMq1m8",
        "outputId": "da458286-79bb-48b9-c9e0-9df506fb5381"
      },
      "source": [
        "!python classify_image.py --image /content/dog1.jpg --model xception"
      ],
      "execution_count": 1,
      "outputs": [
        {
          "output_type": "stream",
          "text": [
            "2021-01-22 06:00:08.306017: I tensorflow/stream_executor/platform/default/dso_loader.cc:49] Successfully opened dynamic library libcudart.so.10.1\n",
            "[INFO] loading xception...\n",
            "2021-01-22 06:00:11.416410: I tensorflow/compiler/jit/xla_cpu_device.cc:41] Not creating XLA devices, tf_xla_enable_xla_devices not set\n",
            "2021-01-22 06:00:11.449063: I tensorflow/stream_executor/platform/default/dso_loader.cc:49] Successfully opened dynamic library libcuda.so.1\n",
            "2021-01-22 06:00:11.512535: E tensorflow/stream_executor/cuda/cuda_driver.cc:328] failed call to cuInit: CUDA_ERROR_NO_DEVICE: no CUDA-capable device is detected\n",
            "2021-01-22 06:00:11.512601: I tensorflow/stream_executor/cuda/cuda_diagnostics.cc:156] kernel driver does not appear to be running on this host (d055f56aa758): /proc/driver/nvidia/version does not exist\n",
            "2021-01-22 06:00:11.513173: I tensorflow/compiler/jit/xla_gpu_device.cc:99] Not creating XLA devices, tf_xla_enable_xla_devices not set\n",
            "Downloading data from https://storage.googleapis.com/tensorflow/keras-applications/xception/xception_weights_tf_dim_ordering_tf_kernels.h5\n",
            "91889664/91884032 [==============================] - 0s 0us/step\n",
            "[INFO] loading and pre-processing image...\n",
            "[INFO] classifying image with 'xception'...\n",
            "2021-01-22 06:00:13.658670: I tensorflow/compiler/mlir/mlir_graph_optimization_pass.cc:116] None of the MLIR optimization passes are enabled (registered 2)\n",
            "2021-01-22 06:00:13.677032: I tensorflow/core/platform/profile_utils/cpu_utils.cc:112] CPU Frequency: 2299995000 Hz\n",
            "Downloading data from https://storage.googleapis.com/download.tensorflow.org/data/imagenet_class_index.json\n",
            "40960/35363 [==================================] - 0s 0us/step\n",
            "1. golden_retriever: 37.34%\n",
            "2. cocker_spaniel: 13.06%\n",
            "3. Labrador_retriever: 5.06%\n",
            "4. toy_poodle: 2.87%\n",
            "5. standard_poodle: 1.95%\n"
          ],
          "name": "stdout"
        }
      ]
    },
    {
      "cell_type": "code",
      "metadata": {
        "colab": {
          "base_uri": "https://localhost:8080/"
        },
        "id": "m7ijEuh0rz0N",
        "outputId": "af6f15a0-44f4-4f57-d14c-6e525d3aed1e"
      },
      "source": [
        "!python classify_image.py --image /content/ball.jpg --model inception"
      ],
      "execution_count": 3,
      "outputs": [
        {
          "output_type": "stream",
          "text": [
            "2021-01-22 06:02:13.845193: I tensorflow/stream_executor/platform/default/dso_loader.cc:49] Successfully opened dynamic library libcudart.so.10.1\n",
            "[INFO] loading inception...\n",
            "2021-01-22 06:02:16.462847: I tensorflow/compiler/jit/xla_cpu_device.cc:41] Not creating XLA devices, tf_xla_enable_xla_devices not set\n",
            "2021-01-22 06:02:16.463857: I tensorflow/stream_executor/platform/default/dso_loader.cc:49] Successfully opened dynamic library libcuda.so.1\n",
            "2021-01-22 06:02:16.474741: E tensorflow/stream_executor/cuda/cuda_driver.cc:328] failed call to cuInit: CUDA_ERROR_NO_DEVICE: no CUDA-capable device is detected\n",
            "2021-01-22 06:02:16.474789: I tensorflow/stream_executor/cuda/cuda_diagnostics.cc:156] kernel driver does not appear to be running on this host (d055f56aa758): /proc/driver/nvidia/version does not exist\n",
            "2021-01-22 06:02:16.475389: I tensorflow/compiler/jit/xla_gpu_device.cc:99] Not creating XLA devices, tf_xla_enable_xla_devices not set\n",
            "Downloading data from https://storage.googleapis.com/tensorflow/keras-applications/inception_v3/inception_v3_weights_tf_dim_ordering_tf_kernels.h5\n",
            "96116736/96112376 [==============================] - 0s 0us/step\n",
            "[INFO] loading and pre-processing image...\n",
            "[INFO] classifying image with 'inception'...\n",
            "2021-01-22 06:02:19.391156: I tensorflow/compiler/mlir/mlir_graph_optimization_pass.cc:116] None of the MLIR optimization passes are enabled (registered 2)\n",
            "2021-01-22 06:02:19.391644: I tensorflow/core/platform/profile_utils/cpu_utils.cc:112] CPU Frequency: 2299995000 Hz\n",
            "1. ping-pong_ball: 32.08%\n",
            "2. croquet_ball: 13.97%\n",
            "3. face_powder: 9.56%\n",
            "4. puck: 5.95%\n",
            "5. candle: 2.92%\n"
          ],
          "name": "stdout"
        }
      ]
    },
    {
      "cell_type": "code",
      "metadata": {
        "colab": {
          "base_uri": "https://localhost:8080/"
        },
        "id": "h18ItRP6sJks",
        "outputId": "dac3ad4e-dd2d-45ff-ed4f-8505897be4e5"
      },
      "source": [
        "!python classify_image.py --image /content/cball.jpg --model resnet"
      ],
      "execution_count": 4,
      "outputs": [
        {
          "output_type": "stream",
          "text": [
            "2021-01-22 06:03:36.410267: I tensorflow/stream_executor/platform/default/dso_loader.cc:49] Successfully opened dynamic library libcudart.so.10.1\n",
            "[INFO] loading resnet...\n",
            "2021-01-22 06:03:38.992223: I tensorflow/compiler/jit/xla_cpu_device.cc:41] Not creating XLA devices, tf_xla_enable_xla_devices not set\n",
            "2021-01-22 06:03:38.993374: I tensorflow/stream_executor/platform/default/dso_loader.cc:49] Successfully opened dynamic library libcuda.so.1\n",
            "2021-01-22 06:03:39.004372: E tensorflow/stream_executor/cuda/cuda_driver.cc:328] failed call to cuInit: CUDA_ERROR_NO_DEVICE: no CUDA-capable device is detected\n",
            "2021-01-22 06:03:39.004433: I tensorflow/stream_executor/cuda/cuda_diagnostics.cc:156] kernel driver does not appear to be running on this host (d055f56aa758): /proc/driver/nvidia/version does not exist\n",
            "2021-01-22 06:03:39.004951: I tensorflow/compiler/jit/xla_gpu_device.cc:99] Not creating XLA devices, tf_xla_enable_xla_devices not set\n",
            "Downloading data from https://storage.googleapis.com/tensorflow/keras-applications/resnet/resnet50_weights_tf_dim_ordering_tf_kernels.h5\n",
            "102973440/102967424 [==============================] - 0s 0us/step\n",
            "[INFO] loading and pre-processing image...\n",
            "[INFO] classifying image with 'resnet'...\n",
            "2021-01-22 06:03:41.232742: I tensorflow/compiler/mlir/mlir_graph_optimization_pass.cc:116] None of the MLIR optimization passes are enabled (registered 2)\n",
            "2021-01-22 06:03:41.233222: I tensorflow/core/platform/profile_utils/cpu_utils.cc:112] CPU Frequency: 2299995000 Hz\n",
            "1. punching_bag: 86.87%\n",
            "2. maraca: 8.38%\n",
            "3. baseball: 1.16%\n",
            "4. croquet_ball: 0.99%\n",
            "5. rugby_ball: 0.71%\n"
          ],
          "name": "stdout"
        }
      ]
    },
    {
      "cell_type": "code",
      "metadata": {
        "colab": {
          "base_uri": "https://localhost:8080/"
        },
        "id": "EA92_g7ysYp0",
        "outputId": "a494dde4-7a69-49aa-a907-40b0135883cd"
      },
      "source": [
        "!python classify_image.py --image /content/cball.jpg --model xception"
      ],
      "execution_count": 5,
      "outputs": [
        {
          "output_type": "stream",
          "text": [
            "2021-01-22 06:04:43.726783: I tensorflow/stream_executor/platform/default/dso_loader.cc:49] Successfully opened dynamic library libcudart.so.10.1\n",
            "[INFO] loading xception...\n",
            "2021-01-22 06:04:46.255204: I tensorflow/compiler/jit/xla_cpu_device.cc:41] Not creating XLA devices, tf_xla_enable_xla_devices not set\n",
            "2021-01-22 06:04:46.256228: I tensorflow/stream_executor/platform/default/dso_loader.cc:49] Successfully opened dynamic library libcuda.so.1\n",
            "2021-01-22 06:04:46.266841: E tensorflow/stream_executor/cuda/cuda_driver.cc:328] failed call to cuInit: CUDA_ERROR_NO_DEVICE: no CUDA-capable device is detected\n",
            "2021-01-22 06:04:46.266891: I tensorflow/stream_executor/cuda/cuda_diagnostics.cc:156] kernel driver does not appear to be running on this host (d055f56aa758): /proc/driver/nvidia/version does not exist\n",
            "2021-01-22 06:04:46.267333: I tensorflow/compiler/jit/xla_gpu_device.cc:99] Not creating XLA devices, tf_xla_enable_xla_devices not set\n",
            "[INFO] loading and pre-processing image...\n",
            "[INFO] classifying image with 'xception'...\n",
            "2021-01-22 06:04:47.729686: I tensorflow/compiler/mlir/mlir_graph_optimization_pass.cc:116] None of the MLIR optimization passes are enabled (registered 2)\n",
            "2021-01-22 06:04:47.730130: I tensorflow/core/platform/profile_utils/cpu_utils.cc:112] CPU Frequency: 2299995000 Hz\n",
            "1. croquet_ball: 51.55%\n",
            "2. punching_bag: 18.63%\n",
            "3. football_helmet: 4.84%\n",
            "4. rugby_ball: 2.05%\n",
            "5. balloon: 1.86%\n"
          ],
          "name": "stdout"
        }
      ]
    },
    {
      "cell_type": "code",
      "metadata": {
        "colab": {
          "base_uri": "https://localhost:8080/"
        },
        "id": "SISFjaPIsz7m",
        "outputId": "b6441a42-246f-4ab5-db45-9178beb42e4d"
      },
      "source": [
        "!python classify_image.py --image /content/lips.jpg --model xception"
      ],
      "execution_count": 6,
      "outputs": [
        {
          "output_type": "stream",
          "text": [
            "2021-01-22 06:06:25.588916: I tensorflow/stream_executor/platform/default/dso_loader.cc:49] Successfully opened dynamic library libcudart.so.10.1\n",
            "[INFO] loading xception...\n",
            "2021-01-22 06:06:28.148655: I tensorflow/compiler/jit/xla_cpu_device.cc:41] Not creating XLA devices, tf_xla_enable_xla_devices not set\n",
            "2021-01-22 06:06:28.149587: I tensorflow/stream_executor/platform/default/dso_loader.cc:49] Successfully opened dynamic library libcuda.so.1\n",
            "2021-01-22 06:06:28.160329: E tensorflow/stream_executor/cuda/cuda_driver.cc:328] failed call to cuInit: CUDA_ERROR_NO_DEVICE: no CUDA-capable device is detected\n",
            "2021-01-22 06:06:28.160373: I tensorflow/stream_executor/cuda/cuda_diagnostics.cc:156] kernel driver does not appear to be running on this host (d055f56aa758): /proc/driver/nvidia/version does not exist\n",
            "2021-01-22 06:06:28.160855: I tensorflow/compiler/jit/xla_gpu_device.cc:99] Not creating XLA devices, tf_xla_enable_xla_devices not set\n",
            "[INFO] loading and pre-processing image...\n",
            "[INFO] classifying image with 'xception'...\n",
            "2021-01-22 06:06:29.626013: I tensorflow/compiler/mlir/mlir_graph_optimization_pass.cc:116] None of the MLIR optimization passes are enabled (registered 2)\n",
            "2021-01-22 06:06:29.626453: I tensorflow/core/platform/profile_utils/cpu_utils.cc:112] CPU Frequency: 2299995000 Hz\n",
            "1. ringneck_snake: 13.15%\n",
            "2. Band_Aid: 9.71%\n",
            "3. thunder_snake: 7.80%\n",
            "4. tick: 7.49%\n",
            "5. lipstick: 6.90%\n"
          ],
          "name": "stdout"
        }
      ]
    },
    {
      "cell_type": "code",
      "metadata": {
        "colab": {
          "base_uri": "https://localhost:8080/"
        },
        "id": "k81KVF1ctGSl",
        "outputId": "aebda92a-4299-4a9a-e13c-4663f5159ca6"
      },
      "source": [
        "!python classify_image.py --image /content/boat.jpg --model xception"
      ],
      "execution_count": 10,
      "outputs": [
        {
          "output_type": "stream",
          "text": [
            "2021-01-22 06:10:38.975991: I tensorflow/stream_executor/platform/default/dso_loader.cc:49] Successfully opened dynamic library libcudart.so.10.1\n",
            "[INFO] loading xception...\n",
            "2021-01-22 06:10:41.507690: I tensorflow/compiler/jit/xla_cpu_device.cc:41] Not creating XLA devices, tf_xla_enable_xla_devices not set\n",
            "2021-01-22 06:10:41.508696: I tensorflow/stream_executor/platform/default/dso_loader.cc:49] Successfully opened dynamic library libcuda.so.1\n",
            "2021-01-22 06:10:41.519444: E tensorflow/stream_executor/cuda/cuda_driver.cc:328] failed call to cuInit: CUDA_ERROR_NO_DEVICE: no CUDA-capable device is detected\n",
            "2021-01-22 06:10:41.519502: I tensorflow/stream_executor/cuda/cuda_diagnostics.cc:156] kernel driver does not appear to be running on this host (d055f56aa758): /proc/driver/nvidia/version does not exist\n",
            "2021-01-22 06:10:41.519976: I tensorflow/compiler/jit/xla_gpu_device.cc:99] Not creating XLA devices, tf_xla_enable_xla_devices not set\n",
            "[INFO] loading and pre-processing image...\n",
            "[INFO] classifying image with 'xception'...\n",
            "2021-01-22 06:10:43.023573: I tensorflow/compiler/mlir/mlir_graph_optimization_pass.cc:116] None of the MLIR optimization passes are enabled (registered 2)\n",
            "2021-01-22 06:10:43.024056: I tensorflow/core/platform/profile_utils/cpu_utils.cc:112] CPU Frequency: 2299995000 Hz\n",
            "1. canoe: 89.70%\n",
            "2. wreck: 3.00%\n",
            "3. paddle: 1.33%\n",
            "4. boathouse: 0.77%\n",
            "5. yawl: 0.68%\n"
          ],
          "name": "stdout"
        }
      ]
    }
  ]
}