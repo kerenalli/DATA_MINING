{
  "nbformat": 4,
  "nbformat_minor": 0,
  "metadata": {
    "colab": {
      "name": "20210120_FPTREE.ipynb",
      "provenance": [],
      "authorship_tag": "ABX9TyMOU+cdwszB6WLff1lRjksz",
      "include_colab_link": true
    },
    "kernelspec": {
      "name": "python3",
      "display_name": "Python 3"
    }
  },
  "cells": [
    {
      "cell_type": "markdown",
      "metadata": {
        "id": "view-in-github",
        "colab_type": "text"
      },
      "source": [
        "<a href=\"https://colab.research.google.com/github/kerenalli/DATA_MINING/blob/main/20210120_FPTREE.ipynb\" target=\"_parent\"><img src=\"https://colab.research.google.com/assets/colab-badge.svg\" alt=\"Open In Colab\"/></a>"
      ]
    },
    {
      "cell_type": "markdown",
      "metadata": {
        "id": "24bQSfQ6pIbt"
      },
      "source": [
        "https://www.kaggle.com/crimsonred/fpgrowth"
      ]
    },
    {
      "cell_type": "code",
      "metadata": {
        "id": "62-YOsbfpDVg"
      },
      "source": [
        ""
      ],
      "execution_count": null,
      "outputs": []
    }
  ]
}