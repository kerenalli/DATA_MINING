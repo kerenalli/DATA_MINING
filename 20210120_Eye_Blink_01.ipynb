{
  "nbformat": 4,
  "nbformat_minor": 0,
  "metadata": {
    "colab": {
      "name": "20210120_Eye_Blink_01.ipynb",
      "provenance": [],
      "mount_file_id": "1xwWqGQSw5i6N9Op30vBzgjuq8CWwCI77",
      "authorship_tag": "ABX9TyNyPjW8Tw5a3zGm+pO+V7Xi",
      "include_colab_link": true
    },
    "kernelspec": {
      "name": "python3",
      "display_name": "Python 3"
    }
  },
  "cells": [
    {
      "cell_type": "markdown",
      "metadata": {
        "id": "view-in-github",
        "colab_type": "text"
      },
      "source": [
        "<a href=\"https://colab.research.google.com/github/kerenalli/DATA_MINING/blob/main/20210120_Eye_Blink_01.ipynb\" target=\"_parent\"><img src=\"https://colab.research.google.com/assets/colab-badge.svg\" alt=\"Open In Colab\"/></a>"
      ]
    },
    {
      "cell_type": "code",
      "metadata": {
        "id": "48Z3qiXWiylQ"
      },
      "source": [
        "# Necessary imports\r\n",
        "import cv2\r\n",
        "import numpy as np\r\n",
        "import matplotlib.pyplot as plt\r\n",
        "import dlib\r\n",
        "from google.colab.patches import cv2_imshow"
      ],
      "execution_count": 36,
      "outputs": []
    },
    {
      "cell_type": "code",
      "metadata": {
        "colab": {
          "base_uri": "https://localhost:8080/"
        },
        "id": "sdkzKfJwi-q_",
        "outputId": "4a4a3382-55ef-4580-f050-5aeb26334d8e"
      },
      "source": [
        "# Downloading and unzipping facial landmark predictor\r\n",
        "!wget http://dlib.net/files/shape_predictor_68_face_landmarks.dat.bz2\r\n",
        "!bunzip2 \"shape_predictor_68_face_landmarks.dat.bz2\""
      ],
      "execution_count": 37,
      "outputs": [
        {
          "output_type": "stream",
          "text": [
            "--2021-01-20 11:46:34--  http://dlib.net/files/shape_predictor_68_face_landmarks.dat.bz2\n",
            "Resolving dlib.net (dlib.net)... 107.180.26.78\n",
            "Connecting to dlib.net (dlib.net)|107.180.26.78|:80... connected.\n",
            "HTTP request sent, awaiting response... 200 OK\n",
            "Length: 64040097 (61M)\n",
            "Saving to: ‘shape_predictor_68_face_landmarks.dat.bz2.1’\n",
            "\n",
            "shape_predictor_68_ 100%[===================>]  61.07M  18.4MB/s    in 4.0s    \n",
            "\n",
            "2021-01-20 11:46:38 (15.4 MB/s) - ‘shape_predictor_68_face_landmarks.dat.bz2.1’ saved [64040097/64040097]\n",
            "\n",
            "bunzip2: Output file shape_predictor_68_face_landmarks.dat already exists.\n"
          ],
          "name": "stdout"
        }
      ]
    },
    {
      "cell_type": "code",
      "metadata": {
        "id": "GwWWabWxjC7P"
      },
      "source": [
        " # Initializing the face detector and facial landmark predictor \r\n",
        "detector = dlib.get_frontal_face_detector()\r\n",
        "predictor = dlib.shape_predictor(\"shape_predictor_68_face_landmarks.dat\")"
      ],
      "execution_count": 38,
      "outputs": []
    },
    {
      "cell_type": "code",
      "metadata": {
        "id": "fcvo9xSZjQoG"
      },
      "source": [
        "# Creating a VidoCapture and VideoWriter object\r\n",
        "cap=cv2.VideoCapture(\"/content/drive/MyDrive/Classification/Videos/modi.mp4\")\r\n",
        "fourcc = cv2.VideoWriter_fourcc('M', 'P', '4', 'V')\r\n",
        "out = cv2.VideoWriter('output.mp4', fourcc, 29, (540,620))\r\n",
        "font=cv2.FONT_HERSHEY_SIMPLEX"
      ],
      "execution_count": 39,
      "outputs": []
    },
    {
      "cell_type": "code",
      "metadata": {
        "id": "n1J7JJg5kgFI"
      },
      "source": [
        "# Defining the mid-point\r\n",
        "def midpoint(p1 ,p2):\r\n",
        "  return int((p1.x + p2.x)/2), int((p1.y + p2.y)/2)"
      ],
      "execution_count": 40,
      "outputs": []
    },
    {
      "cell_type": "code",
      "metadata": {
        "id": "6_Ki4gSCkobY"
      },
      "source": [
        "# Defining the eye aspect ratio\r\n",
        "def get_EAR(eye_points, facial_landmarks):\r\n",
        "# Defining the left point of the eye   \r\n",
        "    left_point = [facial_landmarks.part(eye_points[0]).x, facial_landmarks.part(eye_points[0]).y]\r\n",
        "# Defining the right point of the eye   \r\n",
        "    right_point = [facial_landmarks.part(eye_points[3]).x, facial_landmarks.part(eye_points[3]).y]\r\n",
        "# Defining the top mid-point of the eye    \r\n",
        "    center_top = midpoint(facial_landmarks.part(eye_points[1]), facial_landmarks.part(eye_points[2]))\r\n",
        "# Defining the bottom mid-point of the eye   \r\n",
        "    center_bottom = midpoint(facial_landmarks.part(eye_points[5]), facial_landmarks.part(eye_points[4]))\r\n",
        "# Drawing horizontal and vertical line       \r\n",
        "    hor_line = cv2.line(frame, (left_point[0], left_point[1]), (right_point[0], right_point[1]), (255, 0, 0), 3)\r\n",
        "    ver_line = cv2.line(frame, (center_top[0], center_top[1]),(center_bottom[0], center_bottom[1]), (255, 0, 0), 3)\r\n",
        " # Calculating length of the horizontal and vertical line    \r\n",
        "    hor_line_lenght = euclidean_distance(left_point[0], left_point[1], right_point[0], right_point[1])\r\n",
        "    ver_line_lenght = euclidean_distance(center_top[0], center_top[1], center_bottom[0], center_bottom[1])\r\n",
        " # Calculating eye aspect ratio     \r\n",
        "    EAR = ver_line_lenght / hor_line_lenght\r\n",
        "    return EAR"
      ],
      "execution_count": 42,
      "outputs": []
    },
    {
      "cell_type": "code",
      "metadata": {
        "id": "-FX5OnDsoF6J"
      },
      "source": [
        "def mouth_aspect_ratio(mouth):\r\n",
        "\t# compute the euclidean distances between the two sets of\r\n",
        "\t# vertical mouth landmarks (x, y)-coordinates\r\n",
        "\tA = dist.euclidean(mouth[2], mouth[9]) # 51, 59\r\n",
        "\tB = dist.euclidean(mouth[4], mouth[7]) # 53, 57\r\n",
        "\r\n",
        "\t# compute the euclidean distance between the horizontal\r\n",
        "\t# mouth landmark (x, y)-coordinates\r\n",
        "\tC = dist.euclidean(mouth[0], mouth[6]) # 49, 55\r\n",
        "\r\n",
        "\t# compute the mouth aspect ratio\r\n",
        "\tmar = (A + B) / (2.0 * C)\r\n",
        "\r\n",
        "\t# return the mouth aspect ratio\r\n",
        "\treturn mar"
      ],
      "execution_count": 44,
      "outputs": []
    },
    {
      "cell_type": "code",
      "metadata": {
        "id": "X4sEAOdgksCa"
      },
      "source": [
        "# Creating a list eye_blink_signal\r\n",
        "eye_blink_signal=[]\r\n",
        "# Creating an object blink_ counter\r\n",
        "blink_counter = 0\r\n",
        "previous_ratio = 100\r\n",
        "# Creating a while loop\r\n",
        "while True:\r\n",
        "  ret, frame = cap.read() \r\n",
        "  if ret == False:\r\n",
        "    break\r\n",
        "# Converting a color frame into a grayscale frame  \r\n",
        "  gray = cv2.cvtColor(frame, cv2.COLOR_BGR2GRAY)\r\n",
        "# Creating an object in which we will sore detected faces  \r\n",
        "  faces = detector(gray)\r\n",
        "  for face in faces:\r\n",
        "    x, y = face.left(), face.top()\r\n",
        "    x1, y1 = face.right(), face.bottom()\r\n",
        "# Creating an object in which we will sore detected facial landmarks\r\n",
        "    landmarks = predictor(gray, face)\r\n",
        "# Calculating left eye aspect ratio    \r\n",
        "    left_eye_ratio = get_EAR([36, 37, 38, 39, 40, 41], landmarks)\r\n",
        "# Calculating right eye aspect ratio  \r\n",
        "    right_eye_ratio = get_EAR([42, 43, 44, 45, 46, 47], landmarks)\r\n",
        "# Calculating aspect ratio for both eyes  \r\n",
        "    blinking_ratio = (left_eye_ratio + right_eye_ratio) / 2\r\n",
        "# Rounding blinking_ratio on two decimal places   \r\n",
        "    blinking_ratio_1 = blinking_ratio * 100\r\n",
        "    blinking_ratio_2 = np.round(blinking_ratio_1)\r\n",
        "    blinking_ratio_rounded = blinking_ratio_2 / 100\r\n",
        "# Appending blinking ratio to a list eye_blink_signal\r\n",
        "    eye_blink_signal.append(blinking_ratio)\r\n",
        "    if blinking_ratio < 0.20:\r\n",
        "      if previous_ratio > 0.20:\r\n",
        "        blink_counter = blink_counter + 1\r\n",
        " # Displaying blink counter and blinking ratio in our output video      \r\n",
        "    \r\n",
        "    previous_ratio = blinking_ratio\r\n",
        "  \r\n",
        "  cv2.putText(frame, str(blink_counter), (30, 50), font, 2, (0, 0, 255),5)\r\n",
        "  cv2.putText(frame, str(blinking_ratio_rounded), (900, 50), font, 2, (0, 0, 255),5)\r\n",
        "  out.write(frame)\r\n",
        "out.release()"
      ],
      "execution_count": 35,
      "outputs": []
    },
    {
      "cell_type": "code",
      "metadata": {
        "colab": {
          "base_uri": "https://localhost:8080/",
          "height": 728
        },
        "id": "jiTng8kimEUQ",
        "outputId": "26effb0a-651a-43b4-d2ad-1674eb0038eb"
      },
      "source": [
        "!pip install -U kora\r\n",
        "from kora.drive import upload_public\r\n",
        "url = upload_public('/content/drive/MyDrive/Classification/Videos/modi.mp4')\r\n",
        "# then display it\r\n",
        "from IPython.display import HTML\r\n",
        "HTML(f\"\"\"<video src={url} width=640 controls/>\"\"\")"
      ],
      "execution_count": 43,
      "outputs": [
        {
          "output_type": "stream",
          "text": [
            "Requirement already up-to-date: kora in /usr/local/lib/python3.6/dist-packages (0.9.15)\n",
            "Requirement already satisfied, skipping upgrade: fastcore in /usr/local/lib/python3.6/dist-packages (from kora) (1.3.19)\n",
            "Requirement already satisfied, skipping upgrade: ipython in /usr/local/lib/python3.6/dist-packages (from kora) (5.5.0)\n",
            "Requirement already satisfied, skipping upgrade: packaging in /usr/local/lib/python3.6/dist-packages (from fastcore->kora) (20.8)\n",
            "Requirement already satisfied, skipping upgrade: pip in /usr/local/lib/python3.6/dist-packages (from fastcore->kora) (19.3.1)\n",
            "Requirement already satisfied, skipping upgrade: simplegeneric>0.8 in /usr/local/lib/python3.6/dist-packages (from ipython->kora) (0.8.1)\n",
            "Requirement already satisfied, skipping upgrade: decorator in /usr/local/lib/python3.6/dist-packages (from ipython->kora) (4.4.2)\n",
            "Requirement already satisfied, skipping upgrade: prompt-toolkit<2.0.0,>=1.0.4 in /usr/local/lib/python3.6/dist-packages (from ipython->kora) (1.0.18)\n",
            "Requirement already satisfied, skipping upgrade: traitlets>=4.2 in /usr/local/lib/python3.6/dist-packages (from ipython->kora) (4.3.3)\n",
            "Requirement already satisfied, skipping upgrade: pickleshare in /usr/local/lib/python3.6/dist-packages (from ipython->kora) (0.7.5)\n",
            "Requirement already satisfied, skipping upgrade: pexpect; sys_platform != \"win32\" in /usr/local/lib/python3.6/dist-packages (from ipython->kora) (4.8.0)\n",
            "Requirement already satisfied, skipping upgrade: pygments in /usr/local/lib/python3.6/dist-packages (from ipython->kora) (2.6.1)\n",
            "Requirement already satisfied, skipping upgrade: setuptools>=18.5 in /usr/local/lib/python3.6/dist-packages (from ipython->kora) (51.1.2)\n",
            "Requirement already satisfied, skipping upgrade: pyparsing>=2.0.2 in /usr/local/lib/python3.6/dist-packages (from packaging->fastcore->kora) (2.4.7)\n",
            "Requirement already satisfied, skipping upgrade: six>=1.9.0 in /usr/local/lib/python3.6/dist-packages (from prompt-toolkit<2.0.0,>=1.0.4->ipython->kora) (1.15.0)\n",
            "Requirement already satisfied, skipping upgrade: wcwidth in /usr/local/lib/python3.6/dist-packages (from prompt-toolkit<2.0.0,>=1.0.4->ipython->kora) (0.2.5)\n",
            "Requirement already satisfied, skipping upgrade: ipython-genutils in /usr/local/lib/python3.6/dist-packages (from traitlets>=4.2->ipython->kora) (0.2.0)\n",
            "Requirement already satisfied, skipping upgrade: ptyprocess>=0.5 in /usr/local/lib/python3.6/dist-packages (from pexpect; sys_platform != \"win32\"->ipython->kora) (0.7.0)\n"
          ],
          "name": "stdout"
        },
        {
          "output_type": "execute_result",
          "data": {
            "text/html": [
              "<video src=https://drive.google.com/uc?id=1q4efFLfFfwUFHVhZAm4wN54Yi6_No1cj width=640 controls/>"
            ],
            "text/plain": [
              "<IPython.core.display.HTML object>"
            ]
          },
          "metadata": {
            "tags": []
          },
          "execution_count": 43
        }
      ]
    }
  ]
}