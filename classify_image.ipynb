{
  "nbformat": 4,
  "nbformat_minor": 0,
  "metadata": {
    "colab": {
      "name": "classify_image.ipynb",
      "provenance": [],
      "authorship_tag": "ABX9TyM23mTXc1tAYoqLDVbWHZRZ",
      "include_colab_link": true
    },
    "kernelspec": {
      "name": "python3",
      "display_name": "Python 3"
    }
  },
  "cells": [
    {
      "cell_type": "markdown",
      "metadata": {
        "id": "view-in-github",
        "colab_type": "text"
      },
      "source": [
        "<a href=\"https://colab.research.google.com/github/kerenalli/DATA_MINING/blob/main/classify_image.ipynb\" target=\"_parent\"><img src=\"https://colab.research.google.com/assets/colab-badge.svg\" alt=\"Open In Colab\"/></a>"
      ]
    },
    {
      "cell_type": "markdown",
      "metadata": {
        "id": "H31Pd1UXoBZs"
      },
      "source": [
        "Classifying images with VGGNet, ResNet, Inception, and Xception with Python and Keras"
      ]
    },
    {
      "cell_type": "code",
      "metadata": {
        "colab": {
          "base_uri": "https://localhost:8080/",
          "height": 209
        },
        "id": "DV9sKynEn_Uf",
        "outputId": "4c188f30-9c03-4068-aa44-3bdbc3574eef"
      },
      "source": [
        "# import the necessary packages\r\n",
        "from tensorflow.keras.applications import ResNet50\r\n",
        "from tensorflow.keras.applications import InceptionV3\r\n",
        "from tensorflow.keras.applications import Xception # TensorFlow ONLY\r\n",
        "from tensorflow.keras.applications import VGG16\r\n",
        "from tensorflow.keras.applications import VGG19\r\n",
        "from tensorflow.keras.applications import imagenet_utils\r\n",
        "from tensorflow.keras.applications.inception_v3 import preprocess_input\r\n",
        "from tensorflow.keras.preprocessing.image import img_to_array\r\n",
        "from tensorflow.keras.preprocessing.image import load_img\r\n",
        "import numpy as np\r\n",
        "import argparse\r\n",
        "import cv2\r\n",
        "import matplotlib.pyplot as plt\r\n",
        "\r\n",
        "\r\n",
        "# construct the argument parse and parse the arguments\r\n",
        "ap = argparse.ArgumentParser()\r\n",
        "ap.add_argument(\"-i\", \"--image\", required=True,\r\n",
        "\thelp=\"path to the input image\")\r\n",
        "ap.add_argument(\"-model\", \"--model\", type=str, default=\"vgg16\",\r\n",
        "\thelp=\"name of pre-trained network to use\")\r\n",
        "args = vars(ap.parse_args())\r\n",
        "\r\n",
        "# define a dictionary that maps model names to their classes\r\n",
        "# inside Keras\r\n",
        "MODELS = {\r\n",
        "\t\"vgg16\": VGG16,\r\n",
        "\t\"vgg19\": VGG19,\r\n",
        "\t\"inception\": InceptionV3,\r\n",
        "\t\"xception\": Xception, # TensorFlow ONLY\r\n",
        "\t\"resnet\": ResNet50\r\n",
        "}\r\n",
        "# esnure a valid model name was supplied via command line argument\r\n",
        "if args[\"model\"] not in MODELS.keys():\r\n",
        "\traise AssertionError(\"The --model command line argument should \"\r\n",
        "\t\t\"be a key in the `MODELS` dictionary\")\r\n",
        " \r\n",
        "# initialize the input image shape (224x224 pixels) along with\r\n",
        "# the pre-processing function (this might need to be changed\r\n",
        "# based on which model we use to classify our image)\r\n",
        "inputShape = (224, 224)\r\n",
        "preprocess = imagenet_utils.preprocess_input\r\n",
        "# if we are using the InceptionV3 or Xception networks, then we\r\n",
        "# need to set the input shape to (299x299) [rather than (224x224)]\r\n",
        "# and use a different image pre-processing function\r\n",
        "if args[\"model\"] in (\"inception\", \"xception\"):\r\n",
        "\tinputShape = (299, 299)\r\n",
        "\tpreprocess = preprocess_input\r\n",
        "\r\n",
        "\r\n",
        "# load our the network weights from disk (NOTE: if this is the\r\n",
        "# first time you are running this script for a given network, the\r\n",
        "# weights will need to be downloaded first -- depending on which\r\n",
        "# network you are using, the weights can be 90-575MB, so be\r\n",
        "# patient; the weights will be cached and subsequent runs of this\r\n",
        "# script will be *much* faster)\r\n",
        "print(\"[INFO] loading {}...\".format(args[\"model\"]))\r\n",
        "Network = MODELS[args[\"model\"]]\r\n",
        "model = Network(weights=\"imagenet\")\r\n",
        "\r\n",
        "# load the input image using the Keras helper utility while ensuring\r\n",
        "# the image is resized to `inputShape`, the required input dimensions\r\n",
        "# for the ImageNet pre-trained network\r\n",
        "print(\"[INFO] loading and pre-processing image...\")\r\n",
        "image = load_img(args[\"image\"], target_size=inputShape)\r\n",
        "image = img_to_array(image)\r\n",
        "# our input image is now represented as a NumPy array of shape\r\n",
        "# (inputShape[0], inputShape[1], 3) however we need to expand the\r\n",
        "# dimension by making the shape (1, inputShape[0], inputShape[1], 3)\r\n",
        "# so we can pass it through the network\r\n",
        "image = np.expand_dims(image, axis=0)\r\n",
        "# pre-process the image using the appropriate function based on the\r\n",
        "# model that has been loaded (i.e., mean subtraction, scaling, etc.)\r\n",
        "image = preprocess(image)\r\n",
        "\r\n",
        "# classify the image\r\n",
        "print(\"[INFO] classifying image with '{}'...\".format(args[\"model\"]))\r\n",
        "preds = model.predict(image)\r\n",
        "P = imagenet_utils.decode_predictions(preds)\r\n",
        "# loop over the predictions and display the rank-5 predictions +\r\n",
        "# probabilities to our terminal\r\n",
        "for (i, (imagenetID, label, prob)) in enumerate(P[0]):\r\n",
        "\tprint(\"{}. {}: {:.2f}%\".format(i + 1, label, prob * 100))\r\n",
        "\r\n",
        "# load the image via OpenCV, draw the top prediction on the image,\r\n",
        "# and display the image to our screen\r\n",
        "orig = cv2.imread(args[\"image\"])\r\n",
        "(imagenetID, label, prob) = P[0][0]\r\n",
        "cv2.putText(orig, \"Label: {}, {:.2f}%\".format(label, prob * 100),\r\n",
        "\t(10, 30), cv2.FONT_HERSHEY_SIMPLEX, 0.8, (0, 0, 255), 2)\r\n",
        "plt.imshow(orig)\r\n",
        "cv2.waitKey(0)"
      ],
      "execution_count": 1,
      "outputs": [
        {
          "output_type": "stream",
          "text": [
            "usage: ipykernel_launcher.py [-h] -i IMAGE [-model MODEL]\n",
            "ipykernel_launcher.py: error: the following arguments are required: -i/--image\n"
          ],
          "name": "stderr"
        },
        {
          "output_type": "error",
          "ename": "SystemExit",
          "evalue": "ignored",
          "traceback": [
            "An exception has occurred, use %tb to see the full traceback.\n",
            "\u001b[0;31mSystemExit\u001b[0m\u001b[0;31m:\u001b[0m 2\n"
          ]
        },
        {
          "output_type": "stream",
          "text": [
            "/usr/local/lib/python3.6/dist-packages/IPython/core/interactiveshell.py:2890: UserWarning: To exit: use 'exit', 'quit', or Ctrl-D.\n",
            "  warn(\"To exit: use 'exit', 'quit', or Ctrl-D.\", stacklevel=1)\n"
          ],
          "name": "stderr"
        }
      ]
    }
  ]
}