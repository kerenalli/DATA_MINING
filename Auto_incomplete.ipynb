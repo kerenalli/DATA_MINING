{
  "nbformat": 4,
  "nbformat_minor": 0,
  "metadata": {
    "colab": {
      "name": "Auto_incomplete.ipynb",
      "provenance": [],
      "mount_file_id": "1OrHfuT02w_uz3E5k-70DY5FV5dhp2i2s",
      "authorship_tag": "ABX9TyOQpvUOD6LBgQCzsnku5FZX",
      "include_colab_link": true
    },
    "kernelspec": {
      "name": "python3",
      "display_name": "Python 3"
    }
  },
  "cells": [
    {
      "cell_type": "markdown",
      "metadata": {
        "id": "view-in-github",
        "colab_type": "text"
      },
      "source": [
        "<a href=\"https://colab.research.google.com/github/kerenalli/DATA_MINING/blob/main/Auto_incomplete.ipynb\" target=\"_parent\"><img src=\"https://colab.research.google.com/assets/colab-badge.svg\" alt=\"Open In Colab\"/></a>"
      ]
    },
    {
      "cell_type": "markdown",
      "metadata": {
        "id": "n2PjtdQZd0e8"
      },
      "source": [
        "```\r\n",
        "https://www.kaggle.com/gpreda/credit-card-fraud-detection-predictive-models/notebook\r\n",
        "\r\n",
        "https://www.kaggle.com/faressayah/credit-card-fraud-detection-anns-vs-xgboost\r\n",
        "\r\n",
        "https://machinelearningmastery.com/autoencoder-for-classification/\r\n",
        "```\r\n",
        "\r\n"
      ]
    },
    {
      "cell_type": "markdown",
      "metadata": {
        "id": "gRBBBI4qJvWZ"
      },
      "source": [
        "First we are going to import all the library and functions that is required in building convolutional autoencoder."
      ]
    },
    {
      "cell_type": "code",
      "metadata": {
        "colab": {
          "base_uri": "https://localhost:8080/",
          "height": 1000
        },
        "id": "2BPXeorBJrlr",
        "outputId": "6482bef2-d2b6-46d9-bd5c-c4864298a1a7"
      },
      "source": [
        "# train autoencoder for classification with with compression in the bottleneck layer\r\n",
        "from sklearn.datasets import make_classification\r\n",
        "from sklearn.preprocessing import MinMaxScaler\r\n",
        "from sklearn.model_selection import train_test_split\r\n",
        "from tensorflow.keras.models import Model\r\n",
        "from tensorflow.keras.layers import Input\r\n",
        "from tensorflow.keras.layers import Dense\r\n",
        "from tensorflow.keras.layers import LeakyReLU\r\n",
        "from tensorflow.keras.layers import BatchNormalization\r\n",
        "from tensorflow.keras.utils import plot_model\r\n",
        "from matplotlib import pyplot\r\n",
        "# define dataset\r\n",
        "X, y = make_classification(n_samples=1000, n_features=100, n_informative=10, n_redundant=90, random_state=1)\r\n",
        "# number of input columns\r\n",
        "n_inputs = X.shape[1]\r\n",
        "# split into train test sets\r\n",
        "X_train, X_test, y_train, y_test = train_test_split(X, y, test_size=0.33, random_state=1)\r\n",
        "# scale data\r\n",
        "t = MinMaxScaler()\r\n",
        "t.fit(X_train)\r\n",
        "X_train = t.transform(X_train)\r\n",
        "X_test = t.transform(X_test)\r\n",
        "# define encoder\r\n",
        "visible = Input(shape=(n_inputs,))\r\n",
        "# encoder level 1\r\n",
        "e = Dense(n_inputs*2)(visible)\r\n",
        "e = BatchNormalization()(e)\r\n",
        "e = LeakyReLU()(e)\r\n",
        "# encoder level 2\r\n",
        "e = Dense(n_inputs)(e)\r\n",
        "e = BatchNormalization()(e)\r\n",
        "e = LeakyReLU()(e)\r\n",
        "# bottleneck\r\n",
        "n_bottleneck = round(float(n_inputs) / 2.0)\r\n",
        "bottleneck = Dense(n_bottleneck)(e)\r\n",
        "# define decoder, level 1\r\n",
        "d = Dense(n_inputs)(bottleneck)\r\n",
        "d = BatchNormalization()(d)\r\n",
        "d = LeakyReLU()(d)\r\n",
        "# decoder level 2\r\n",
        "d = Dense(n_inputs*2)(d)\r\n",
        "d = BatchNormalization()(d)\r\n",
        "d = LeakyReLU()(d)\r\n",
        "# output layer\r\n",
        "output = Dense(n_inputs, activation='linear')(d)\r\n",
        "# define autoencoder model\r\n",
        "model = Model(inputs=visible, outputs=output)\r\n",
        "# compile autoencoder model\r\n",
        "model.compile(optimizer='adam', loss='mse')\r\n",
        "# plot the autoencoder\r\n",
        "plot_model(model, 'autoencoder_compress.png', show_shapes=True)\r\n",
        "# fit the autoencoder model to reconstruct input\r\n",
        "history = model.fit(X_train, X_train, epochs=200, batch_size=16, verbose=2, validation_data=(X_test,X_test))\r\n",
        "# plot loss\r\n",
        "pyplot.plot(history.history['loss'], label='train')\r\n",
        "pyplot.plot(history.history['val_loss'], label='test')\r\n",
        "pyplot.legend()\r\n",
        "pyplot.show()\r\n",
        "# define an encoder model (without the decoder)\r\n",
        "encoder = Model(inputs=visible, outputs=bottleneck)\r\n",
        "plot_model(encoder, 'encoder_compress.png', show_shapes=True)\r\n",
        "# save the encoder to file\r\n",
        "encoder.save('encoder.h5')"
      ],
      "execution_count": 48,
      "outputs": [
        {
          "output_type": "stream",
          "text": [
            "Epoch 1/200\n",
            "42/42 - 2s - loss: 0.2139 - val_loss: 0.1828\n",
            "Epoch 2/200\n",
            "42/42 - 0s - loss: 0.0348 - val_loss: 0.1057\n",
            "Epoch 3/200\n",
            "42/42 - 0s - loss: 0.0215 - val_loss: 0.0527\n",
            "Epoch 4/200\n",
            "42/42 - 0s - loss: 0.0185 - val_loss: 0.0300\n",
            "Epoch 5/200\n",
            "42/42 - 0s - loss: 0.0145 - val_loss: 0.0193\n",
            "Epoch 6/200\n",
            "42/42 - 0s - loss: 0.0138 - val_loss: 0.0135\n",
            "Epoch 7/200\n",
            "42/42 - 0s - loss: 0.0131 - val_loss: 0.0109\n",
            "Epoch 8/200\n",
            "42/42 - 0s - loss: 0.0112 - val_loss: 0.0083\n",
            "Epoch 9/200\n",
            "42/42 - 0s - loss: 0.0111 - val_loss: 0.0064\n",
            "Epoch 10/200\n",
            "42/42 - 0s - loss: 0.0099 - val_loss: 0.0057\n",
            "Epoch 11/200\n",
            "42/42 - 0s - loss: 0.0098 - val_loss: 0.0054\n",
            "Epoch 12/200\n",
            "42/42 - 0s - loss: 0.0092 - val_loss: 0.0063\n",
            "Epoch 13/200\n",
            "42/42 - 0s - loss: 0.0093 - val_loss: 0.0053\n",
            "Epoch 14/200\n",
            "42/42 - 0s - loss: 0.0085 - val_loss: 0.0050\n",
            "Epoch 15/200\n",
            "42/42 - 0s - loss: 0.0084 - val_loss: 0.0041\n",
            "Epoch 16/200\n",
            "42/42 - 0s - loss: 0.0080 - val_loss: 0.0041\n",
            "Epoch 17/200\n",
            "42/42 - 0s - loss: 0.0078 - val_loss: 0.0051\n",
            "Epoch 18/200\n",
            "42/42 - 0s - loss: 0.0072 - val_loss: 0.0047\n",
            "Epoch 19/200\n",
            "42/42 - 0s - loss: 0.0075 - val_loss: 0.0046\n",
            "Epoch 20/200\n",
            "42/42 - 0s - loss: 0.0075 - val_loss: 0.0037\n",
            "Epoch 21/200\n",
            "42/42 - 0s - loss: 0.0075 - val_loss: 0.0037\n",
            "Epoch 22/200\n",
            "42/42 - 0s - loss: 0.0070 - val_loss: 0.0035\n",
            "Epoch 23/200\n",
            "42/42 - 0s - loss: 0.0066 - val_loss: 0.0035\n",
            "Epoch 24/200\n",
            "42/42 - 0s - loss: 0.0067 - val_loss: 0.0034\n",
            "Epoch 25/200\n",
            "42/42 - 0s - loss: 0.0067 - val_loss: 0.0045\n",
            "Epoch 26/200\n",
            "42/42 - 0s - loss: 0.0073 - val_loss: 0.0038\n",
            "Epoch 27/200\n",
            "42/42 - 0s - loss: 0.0076 - val_loss: 0.0032\n",
            "Epoch 28/200\n",
            "42/42 - 0s - loss: 0.0068 - val_loss: 0.0032\n",
            "Epoch 29/200\n",
            "42/42 - 0s - loss: 0.0062 - val_loss: 0.0039\n",
            "Epoch 30/200\n",
            "42/42 - 0s - loss: 0.0059 - val_loss: 0.0034\n",
            "Epoch 31/200\n",
            "42/42 - 0s - loss: 0.0059 - val_loss: 0.0029\n",
            "Epoch 32/200\n",
            "42/42 - 0s - loss: 0.0064 - val_loss: 0.0036\n",
            "Epoch 33/200\n",
            "42/42 - 0s - loss: 0.0067 - val_loss: 0.0029\n",
            "Epoch 34/200\n",
            "42/42 - 0s - loss: 0.0060 - val_loss: 0.0025\n",
            "Epoch 35/200\n",
            "42/42 - 0s - loss: 0.0058 - val_loss: 0.0032\n",
            "Epoch 36/200\n",
            "42/42 - 0s - loss: 0.0059 - val_loss: 0.0027\n",
            "Epoch 37/200\n",
            "42/42 - 0s - loss: 0.0060 - val_loss: 0.0027\n",
            "Epoch 38/200\n",
            "42/42 - 0s - loss: 0.0062 - val_loss: 0.0029\n",
            "Epoch 39/200\n",
            "42/42 - 0s - loss: 0.0053 - val_loss: 0.0033\n",
            "Epoch 40/200\n",
            "42/42 - 0s - loss: 0.0058 - val_loss: 0.0026\n",
            "Epoch 41/200\n",
            "42/42 - 0s - loss: 0.0055 - val_loss: 0.0034\n",
            "Epoch 42/200\n",
            "42/42 - 0s - loss: 0.0056 - val_loss: 0.0028\n",
            "Epoch 43/200\n",
            "42/42 - 0s - loss: 0.0056 - val_loss: 0.0027\n",
            "Epoch 44/200\n",
            "42/42 - 0s - loss: 0.0059 - val_loss: 0.0026\n",
            "Epoch 45/200\n",
            "42/42 - 0s - loss: 0.0055 - val_loss: 0.0030\n",
            "Epoch 46/200\n",
            "42/42 - 0s - loss: 0.0055 - val_loss: 0.0028\n",
            "Epoch 47/200\n",
            "42/42 - 0s - loss: 0.0056 - val_loss: 0.0028\n",
            "Epoch 48/200\n",
            "42/42 - 0s - loss: 0.0049 - val_loss: 0.0031\n",
            "Epoch 49/200\n",
            "42/42 - 0s - loss: 0.0053 - val_loss: 0.0026\n",
            "Epoch 50/200\n",
            "42/42 - 0s - loss: 0.0052 - val_loss: 0.0031\n",
            "Epoch 51/200\n",
            "42/42 - 0s - loss: 0.0054 - val_loss: 0.0023\n",
            "Epoch 52/200\n",
            "42/42 - 0s - loss: 0.0053 - val_loss: 0.0021\n",
            "Epoch 53/200\n",
            "42/42 - 0s - loss: 0.0053 - val_loss: 0.0029\n",
            "Epoch 54/200\n",
            "42/42 - 0s - loss: 0.0055 - val_loss: 0.0030\n",
            "Epoch 55/200\n",
            "42/42 - 0s - loss: 0.0053 - val_loss: 0.0017\n",
            "Epoch 56/200\n",
            "42/42 - 0s - loss: 0.0049 - val_loss: 0.0029\n",
            "Epoch 57/200\n",
            "42/42 - 0s - loss: 0.0050 - val_loss: 0.0023\n",
            "Epoch 58/200\n",
            "42/42 - 0s - loss: 0.0046 - val_loss: 0.0017\n",
            "Epoch 59/200\n",
            "42/42 - 0s - loss: 0.0049 - val_loss: 0.0025\n",
            "Epoch 60/200\n",
            "42/42 - 0s - loss: 0.0049 - val_loss: 0.0025\n",
            "Epoch 61/200\n",
            "42/42 - 0s - loss: 0.0050 - val_loss: 0.0017\n",
            "Epoch 62/200\n",
            "42/42 - 0s - loss: 0.0049 - val_loss: 0.0019\n",
            "Epoch 63/200\n",
            "42/42 - 0s - loss: 0.0047 - val_loss: 0.0033\n",
            "Epoch 64/200\n",
            "42/42 - 0s - loss: 0.0047 - val_loss: 0.0019\n",
            "Epoch 65/200\n",
            "42/42 - 0s - loss: 0.0050 - val_loss: 0.0026\n",
            "Epoch 66/200\n",
            "42/42 - 0s - loss: 0.0050 - val_loss: 0.0018\n",
            "Epoch 67/200\n",
            "42/42 - 0s - loss: 0.0047 - val_loss: 0.0021\n",
            "Epoch 68/200\n",
            "42/42 - 0s - loss: 0.0045 - val_loss: 0.0028\n",
            "Epoch 69/200\n",
            "42/42 - 0s - loss: 0.0046 - val_loss: 0.0019\n",
            "Epoch 70/200\n",
            "42/42 - 0s - loss: 0.0049 - val_loss: 0.0024\n",
            "Epoch 71/200\n",
            "42/42 - 0s - loss: 0.0049 - val_loss: 0.0023\n",
            "Epoch 72/200\n",
            "42/42 - 0s - loss: 0.0047 - val_loss: 0.0023\n",
            "Epoch 73/200\n",
            "42/42 - 0s - loss: 0.0047 - val_loss: 0.0023\n",
            "Epoch 74/200\n",
            "42/42 - 0s - loss: 0.0045 - val_loss: 0.0024\n",
            "Epoch 75/200\n",
            "42/42 - 0s - loss: 0.0051 - val_loss: 0.0022\n",
            "Epoch 76/200\n",
            "42/42 - 0s - loss: 0.0044 - val_loss: 0.0022\n",
            "Epoch 77/200\n",
            "42/42 - 0s - loss: 0.0047 - val_loss: 0.0019\n",
            "Epoch 78/200\n",
            "42/42 - 0s - loss: 0.0045 - val_loss: 0.0024\n",
            "Epoch 79/200\n",
            "42/42 - 0s - loss: 0.0043 - val_loss: 0.0022\n",
            "Epoch 80/200\n",
            "42/42 - 0s - loss: 0.0045 - val_loss: 0.0018\n",
            "Epoch 81/200\n",
            "42/42 - 0s - loss: 0.0045 - val_loss: 0.0021\n",
            "Epoch 82/200\n",
            "42/42 - 0s - loss: 0.0044 - val_loss: 0.0019\n",
            "Epoch 83/200\n",
            "42/42 - 0s - loss: 0.0045 - val_loss: 0.0021\n",
            "Epoch 84/200\n",
            "42/42 - 0s - loss: 0.0045 - val_loss: 0.0028\n",
            "Epoch 85/200\n",
            "42/42 - 0s - loss: 0.0048 - val_loss: 0.0018\n",
            "Epoch 86/200\n",
            "42/42 - 0s - loss: 0.0044 - val_loss: 0.0016\n",
            "Epoch 87/200\n",
            "42/42 - 0s - loss: 0.0044 - val_loss: 0.0021\n",
            "Epoch 88/200\n",
            "42/42 - 0s - loss: 0.0042 - val_loss: 0.0018\n",
            "Epoch 89/200\n",
            "42/42 - 0s - loss: 0.0044 - val_loss: 0.0023\n",
            "Epoch 90/200\n",
            "42/42 - 0s - loss: 0.0041 - val_loss: 0.0021\n",
            "Epoch 91/200\n",
            "42/42 - 0s - loss: 0.0044 - val_loss: 0.0018\n",
            "Epoch 92/200\n",
            "42/42 - 0s - loss: 0.0041 - val_loss: 0.0018\n",
            "Epoch 93/200\n",
            "42/42 - 0s - loss: 0.0042 - val_loss: 0.0025\n",
            "Epoch 94/200\n",
            "42/42 - 0s - loss: 0.0041 - val_loss: 0.0024\n",
            "Epoch 95/200\n",
            "42/42 - 0s - loss: 0.0044 - val_loss: 0.0018\n",
            "Epoch 96/200\n",
            "42/42 - 0s - loss: 0.0045 - val_loss: 0.0032\n",
            "Epoch 97/200\n",
            "42/42 - 0s - loss: 0.0042 - val_loss: 0.0022\n",
            "Epoch 98/200\n",
            "42/42 - 0s - loss: 0.0043 - val_loss: 0.0029\n",
            "Epoch 99/200\n",
            "42/42 - 0s - loss: 0.0044 - val_loss: 0.0016\n",
            "Epoch 100/200\n",
            "42/42 - 0s - loss: 0.0041 - val_loss: 0.0025\n",
            "Epoch 101/200\n",
            "42/42 - 0s - loss: 0.0041 - val_loss: 0.0015\n",
            "Epoch 102/200\n",
            "42/42 - 0s - loss: 0.0040 - val_loss: 0.0021\n",
            "Epoch 103/200\n",
            "42/42 - 0s - loss: 0.0038 - val_loss: 0.0022\n",
            "Epoch 104/200\n",
            "42/42 - 0s - loss: 0.0038 - val_loss: 0.0019\n",
            "Epoch 105/200\n",
            "42/42 - 0s - loss: 0.0039 - val_loss: 0.0014\n",
            "Epoch 106/200\n",
            "42/42 - 0s - loss: 0.0042 - val_loss: 0.0020\n",
            "Epoch 107/200\n",
            "42/42 - 0s - loss: 0.0037 - val_loss: 0.0019\n",
            "Epoch 108/200\n",
            "42/42 - 0s - loss: 0.0043 - val_loss: 0.0017\n",
            "Epoch 109/200\n",
            "42/42 - 0s - loss: 0.0040 - val_loss: 0.0025\n",
            "Epoch 110/200\n",
            "42/42 - 0s - loss: 0.0037 - val_loss: 0.0016\n",
            "Epoch 111/200\n",
            "42/42 - 0s - loss: 0.0037 - val_loss: 0.0015\n",
            "Epoch 112/200\n",
            "42/42 - 0s - loss: 0.0038 - val_loss: 0.0016\n",
            "Epoch 113/200\n",
            "42/42 - 0s - loss: 0.0040 - val_loss: 0.0019\n",
            "Epoch 114/200\n",
            "42/42 - 0s - loss: 0.0039 - val_loss: 0.0020\n",
            "Epoch 115/200\n",
            "42/42 - 0s - loss: 0.0038 - val_loss: 0.0012\n",
            "Epoch 116/200\n",
            "42/42 - 0s - loss: 0.0037 - val_loss: 0.0013\n",
            "Epoch 117/200\n",
            "42/42 - 0s - loss: 0.0036 - val_loss: 0.0013\n",
            "Epoch 118/200\n",
            "42/42 - 0s - loss: 0.0037 - val_loss: 0.0016\n",
            "Epoch 119/200\n",
            "42/42 - 0s - loss: 0.0042 - val_loss: 0.0014\n",
            "Epoch 120/200\n",
            "42/42 - 0s - loss: 0.0037 - val_loss: 0.0017\n",
            "Epoch 121/200\n",
            "42/42 - 0s - loss: 0.0042 - val_loss: 0.0016\n",
            "Epoch 122/200\n",
            "42/42 - 0s - loss: 0.0038 - val_loss: 0.0017\n",
            "Epoch 123/200\n",
            "42/42 - 0s - loss: 0.0038 - val_loss: 0.0013\n",
            "Epoch 124/200\n",
            "42/42 - 0s - loss: 0.0035 - val_loss: 0.0016\n",
            "Epoch 125/200\n",
            "42/42 - 0s - loss: 0.0038 - val_loss: 0.0027\n",
            "Epoch 126/200\n",
            "42/42 - 0s - loss: 0.0040 - val_loss: 0.0015\n",
            "Epoch 127/200\n",
            "42/42 - 0s - loss: 0.0037 - val_loss: 0.0020\n",
            "Epoch 128/200\n",
            "42/42 - 0s - loss: 0.0037 - val_loss: 0.0018\n",
            "Epoch 129/200\n",
            "42/42 - 0s - loss: 0.0036 - val_loss: 0.0014\n",
            "Epoch 130/200\n",
            "42/42 - 0s - loss: 0.0035 - val_loss: 0.0013\n",
            "Epoch 131/200\n",
            "42/42 - 0s - loss: 0.0035 - val_loss: 0.0018\n",
            "Epoch 132/200\n",
            "42/42 - 0s - loss: 0.0039 - val_loss: 0.0019\n",
            "Epoch 133/200\n",
            "42/42 - 0s - loss: 0.0038 - val_loss: 0.0012\n",
            "Epoch 134/200\n",
            "42/42 - 0s - loss: 0.0036 - val_loss: 0.0016\n",
            "Epoch 135/200\n",
            "42/42 - 0s - loss: 0.0035 - val_loss: 0.0014\n",
            "Epoch 136/200\n",
            "42/42 - 0s - loss: 0.0035 - val_loss: 0.0010\n",
            "Epoch 137/200\n",
            "42/42 - 0s - loss: 0.0035 - val_loss: 0.0018\n",
            "Epoch 138/200\n",
            "42/42 - 0s - loss: 0.0039 - val_loss: 0.0016\n",
            "Epoch 139/200\n",
            "42/42 - 0s - loss: 0.0038 - val_loss: 0.0018\n",
            "Epoch 140/200\n",
            "42/42 - 0s - loss: 0.0036 - val_loss: 0.0015\n",
            "Epoch 141/200\n",
            "42/42 - 0s - loss: 0.0035 - val_loss: 0.0014\n",
            "Epoch 142/200\n",
            "42/42 - 0s - loss: 0.0033 - val_loss: 0.0013\n",
            "Epoch 143/200\n",
            "42/42 - 0s - loss: 0.0035 - val_loss: 0.0013\n",
            "Epoch 144/200\n",
            "42/42 - 0s - loss: 0.0033 - val_loss: 0.0015\n",
            "Epoch 145/200\n",
            "42/42 - 0s - loss: 0.0035 - val_loss: 0.0016\n",
            "Epoch 146/200\n",
            "42/42 - 0s - loss: 0.0037 - val_loss: 0.0016\n",
            "Epoch 147/200\n",
            "42/42 - 0s - loss: 0.0038 - val_loss: 0.0015\n",
            "Epoch 148/200\n",
            "42/42 - 0s - loss: 0.0036 - val_loss: 0.0012\n",
            "Epoch 149/200\n",
            "42/42 - 0s - loss: 0.0035 - val_loss: 0.0016\n",
            "Epoch 150/200\n",
            "42/42 - 0s - loss: 0.0033 - val_loss: 0.0011\n",
            "Epoch 151/200\n",
            "42/42 - 0s - loss: 0.0032 - val_loss: 0.0012\n",
            "Epoch 152/200\n",
            "42/42 - 0s - loss: 0.0033 - val_loss: 0.0012\n",
            "Epoch 153/200\n",
            "42/42 - 0s - loss: 0.0032 - val_loss: 0.0018\n",
            "Epoch 154/200\n",
            "42/42 - 0s - loss: 0.0036 - val_loss: 0.0016\n",
            "Epoch 155/200\n",
            "42/42 - 0s - loss: 0.0033 - val_loss: 9.5660e-04\n",
            "Epoch 156/200\n",
            "42/42 - 0s - loss: 0.0035 - val_loss: 0.0013\n",
            "Epoch 157/200\n",
            "42/42 - 0s - loss: 0.0038 - val_loss: 0.0012\n",
            "Epoch 158/200\n",
            "42/42 - 0s - loss: 0.0034 - val_loss: 0.0013\n",
            "Epoch 159/200\n",
            "42/42 - 0s - loss: 0.0034 - val_loss: 0.0012\n",
            "Epoch 160/200\n",
            "42/42 - 0s - loss: 0.0034 - val_loss: 0.0013\n",
            "Epoch 161/200\n",
            "42/42 - 0s - loss: 0.0036 - val_loss: 0.0015\n",
            "Epoch 162/200\n",
            "42/42 - 0s - loss: 0.0032 - val_loss: 0.0018\n",
            "Epoch 163/200\n",
            "42/42 - 0s - loss: 0.0032 - val_loss: 0.0013\n",
            "Epoch 164/200\n",
            "42/42 - 0s - loss: 0.0035 - val_loss: 0.0014\n",
            "Epoch 165/200\n",
            "42/42 - 0s - loss: 0.0031 - val_loss: 0.0011\n",
            "Epoch 166/200\n",
            "42/42 - 0s - loss: 0.0036 - val_loss: 0.0017\n",
            "Epoch 167/200\n",
            "42/42 - 0s - loss: 0.0033 - val_loss: 0.0017\n",
            "Epoch 168/200\n",
            "42/42 - 0s - loss: 0.0029 - val_loss: 0.0013\n",
            "Epoch 169/200\n",
            "42/42 - 0s - loss: 0.0032 - val_loss: 0.0016\n",
            "Epoch 170/200\n",
            "42/42 - 0s - loss: 0.0032 - val_loss: 0.0014\n",
            "Epoch 171/200\n",
            "42/42 - 0s - loss: 0.0031 - val_loss: 0.0014\n",
            "Epoch 172/200\n",
            "42/42 - 0s - loss: 0.0033 - val_loss: 0.0015\n",
            "Epoch 173/200\n",
            "42/42 - 0s - loss: 0.0031 - val_loss: 0.0012\n",
            "Epoch 174/200\n",
            "42/42 - 0s - loss: 0.0031 - val_loss: 0.0015\n",
            "Epoch 175/200\n",
            "42/42 - 0s - loss: 0.0032 - val_loss: 0.0016\n",
            "Epoch 176/200\n",
            "42/42 - 0s - loss: 0.0032 - val_loss: 0.0013\n",
            "Epoch 177/200\n",
            "42/42 - 0s - loss: 0.0031 - val_loss: 0.0012\n",
            "Epoch 178/200\n",
            "42/42 - 0s - loss: 0.0031 - val_loss: 8.2049e-04\n",
            "Epoch 179/200\n",
            "42/42 - 0s - loss: 0.0030 - val_loss: 0.0012\n",
            "Epoch 180/200\n",
            "42/42 - 0s - loss: 0.0031 - val_loss: 9.4687e-04\n",
            "Epoch 181/200\n",
            "42/42 - 0s - loss: 0.0031 - val_loss: 0.0014\n",
            "Epoch 182/200\n",
            "42/42 - 0s - loss: 0.0035 - val_loss: 0.0011\n",
            "Epoch 183/200\n",
            "42/42 - 0s - loss: 0.0029 - val_loss: 0.0012\n",
            "Epoch 184/200\n",
            "42/42 - 0s - loss: 0.0030 - val_loss: 0.0011\n",
            "Epoch 185/200\n",
            "42/42 - 0s - loss: 0.0034 - val_loss: 9.0348e-04\n",
            "Epoch 186/200\n",
            "42/42 - 0s - loss: 0.0032 - val_loss: 0.0011\n",
            "Epoch 187/200\n",
            "42/42 - 0s - loss: 0.0030 - val_loss: 0.0012\n",
            "Epoch 188/200\n",
            "42/42 - 0s - loss: 0.0031 - val_loss: 0.0014\n",
            "Epoch 189/200\n",
            "42/42 - 0s - loss: 0.0033 - val_loss: 0.0012\n",
            "Epoch 190/200\n",
            "42/42 - 0s - loss: 0.0032 - val_loss: 0.0012\n",
            "Epoch 191/200\n",
            "42/42 - 0s - loss: 0.0031 - val_loss: 0.0014\n",
            "Epoch 192/200\n",
            "42/42 - 0s - loss: 0.0030 - val_loss: 8.8558e-04\n",
            "Epoch 193/200\n",
            "42/42 - 0s - loss: 0.0030 - val_loss: 0.0011\n",
            "Epoch 194/200\n",
            "42/42 - 0s - loss: 0.0032 - val_loss: 0.0012\n",
            "Epoch 195/200\n",
            "42/42 - 0s - loss: 0.0031 - val_loss: 0.0010\n",
            "Epoch 196/200\n",
            "42/42 - 0s - loss: 0.0030 - val_loss: 0.0010\n",
            "Epoch 197/200\n",
            "42/42 - 0s - loss: 0.0027 - val_loss: 0.0011\n",
            "Epoch 198/200\n",
            "42/42 - 0s - loss: 0.0029 - val_loss: 0.0011\n",
            "Epoch 199/200\n",
            "42/42 - 0s - loss: 0.0031 - val_loss: 0.0012\n",
            "Epoch 200/200\n",
            "42/42 - 0s - loss: 0.0032 - val_loss: 0.0011\n"
          ],
          "name": "stdout"
        },
        {
          "output_type": "display_data",
          "data": {
            "image/png": "[encoded data removed]",
            "text/plain": [
              "<Figure size 432x288 with 1 Axes>"
            ]
          },
          "metadata": {
            "tags": [],
            "needs_background": "light"
          }
        }
      ]
    },
    {
      "cell_type": "code",
      "metadata": {
        "colab": {
          "base_uri": "https://localhost:8080/"
        },
        "id": "eV-SJY0-SOQk",
        "outputId": "82ad2611-e423-4c54-e2c7-3c06e434b9ac"
      },
      "source": [
        "# baseline in performance with logistic regression model\r\n",
        "from sklearn.datasets import make_classification\r\n",
        "from sklearn.preprocessing import MinMaxScaler\r\n",
        "from sklearn.preprocessing import LabelEncoder\r\n",
        "from sklearn.model_selection import train_test_split\r\n",
        "from sklearn.linear_model import LogisticRegression\r\n",
        "from sklearn.metrics import accuracy_score\r\n",
        "# define dataset\r\n",
        "X, y = make_classification(n_samples=1000, n_features=100, n_informative=10, n_redundant=90, random_state=1)\r\n",
        "# split into train test sets\r\n",
        "X_train, X_test, y_train, y_test = train_test_split(X, y, test_size=0.33, random_state=1)\r\n",
        "# scale data\r\n",
        "t = MinMaxScaler()\r\n",
        "t.fit(X_train)\r\n",
        "X_train = t.transform(X_train)\r\n",
        "X_test = t.transform(X_test)\r\n",
        "# define model\r\n",
        "model = LogisticRegression()\r\n",
        "# fit model on training set\r\n",
        "model.fit(X_train, y_train)\r\n",
        "# make prediction on test set\r\n",
        "yhat = model.predict(X_test)\r\n",
        "# calculate accuracy\r\n",
        "acc = accuracy_score(y_test, yhat)\r\n",
        "print(acc)"
      ],
      "execution_count": 49,
      "outputs": [
        {
          "output_type": "stream",
          "text": [
            "0.8939393939393939\n"
          ],
          "name": "stdout"
        }
      ]
    },
    {
      "cell_type": "code",
      "metadata": {
        "colab": {
          "base_uri": "https://localhost:8080/"
        },
        "id": "dcghY10fSWTn",
        "outputId": "10fe81f1-fcbe-49b0-c3f9-db51e79d70d6"
      },
      "source": [
        "# evaluate logistic regression on encoded input\r\n",
        "from sklearn.datasets import make_classification\r\n",
        "from sklearn.preprocessing import MinMaxScaler\r\n",
        "from sklearn.preprocessing import LabelEncoder\r\n",
        "from sklearn.model_selection import train_test_split\r\n",
        "from sklearn.linear_model import LogisticRegression\r\n",
        "from sklearn.metrics import accuracy_score\r\n",
        "from tensorflow.keras.models import load_model\r\n",
        "# define dataset\r\n",
        "X, y = make_classification(n_samples=1000, n_features=100, n_informative=10, n_redundant=90, random_state=1)\r\n",
        "# split into train test sets\r\n",
        "X_train, X_test, y_train, y_test = train_test_split(X, y, test_size=0.33, random_state=1)\r\n",
        "# scale data\r\n",
        "t = MinMaxScaler()\r\n",
        "t.fit(X_train)\r\n",
        "X_train = t.transform(X_train)\r\n",
        "X_test = t.transform(X_test)\r\n",
        "# load the model from file\r\n",
        "encoder = load_model('encoder.h5')\r\n",
        "# encode the train data\r\n",
        "X_train_encode = encoder.predict(X_train)\r\n",
        "# encode the test data\r\n",
        "X_test_encode = encoder.predict(X_test)\r\n",
        "# define the model\r\n",
        "model = LogisticRegression()\r\n",
        "# fit the model on the training set\r\n",
        "model.fit(X_train_encode, y_train)\r\n",
        "# make predictions on the test set\r\n",
        "yhat = model.predict(X_test_encode)\r\n",
        "# calculate classification accuracy\r\n",
        "acc = accuracy_score(y_test, yhat)\r\n",
        "print(acc)"
      ],
      "execution_count": 50,
      "outputs": [
        {
          "output_type": "stream",
          "text": [
            "WARNING:tensorflow:No training configuration found in the save file, so the model was *not* compiled. Compile it manually.\n",
            "0.9212121212121213\n"
          ],
          "name": "stdout"
        },
        {
          "output_type": "stream",
          "text": [
            "/usr/local/lib/python3.6/dist-packages/sklearn/linear_model/_logistic.py:940: ConvergenceWarning: lbfgs failed to converge (status=1):\n",
            "STOP: TOTAL NO. of ITERATIONS REACHED LIMIT.\n",
            "\n",
            "Increase the number of iterations (max_iter) or scale the data as shown in:\n",
            "    https://scikit-learn.org/stable/modules/preprocessing.html\n",
            "Please also refer to the documentation for alternative solver options:\n",
            "    https://scikit-learn.org/stable/modules/linear_model.html#logistic-regression\n",
            "  extra_warning_msg=_LOGISTIC_SOLVER_CONVERGENCE_MSG)\n"
          ],
          "name": "stderr"
        }
      ]
    },
    {
      "cell_type": "code",
      "metadata": {
        "colab": {
          "base_uri": "https://localhost:8080/"
        },
        "id": "xVrZ-xwWbA2R",
        "outputId": "7b862b6c-89bc-4946-a65c-91794df4e08f"
      },
      "source": [
        "!pip install catboost\r\n"
      ],
      "execution_count": 52,
      "outputs": [
        {
          "output_type": "stream",
          "text": [
            "Collecting catboost\n",
            "\u001b[?25l  Downloading https://files.pythonhosted.org/packages/20/37/bc4e0ddc30c07a96482abf1de7ed1ca54e59bba2026a33bca6d2ef286e5b/catboost-0.24.4-cp36-none-manylinux1_x86_64.whl (65.7MB)\n",
            "\u001b[K     |████████████████████████████████| 65.8MB 62kB/s \n",
            "\u001b[?25hRequirement already satisfied: matplotlib in /usr/local/lib/python3.6/dist-packages (from catboost) (3.2.2)\n",
            "Requirement already satisfied: plotly in /usr/local/lib/python3.6/dist-packages (from catboost) (4.4.1)\n",
            "Requirement already satisfied: pandas>=0.24.0 in /usr/local/lib/python3.6/dist-packages (from catboost) (1.1.5)\n",
            "Requirement already satisfied: graphviz in /usr/local/lib/python3.6/dist-packages (from catboost) (0.10.1)\n",
            "Requirement already satisfied: scipy in /usr/local/lib/python3.6/dist-packages (from catboost) (1.4.1)\n",
            "Requirement already satisfied: six in /usr/local/lib/python3.6/dist-packages (from catboost) (1.15.0)\n",
            "Requirement already satisfied: numpy>=1.16.0 in /usr/local/lib/python3.6/dist-packages (from catboost) (1.19.5)\n",
            "Requirement already satisfied: python-dateutil>=2.1 in /usr/local/lib/python3.6/dist-packages (from matplotlib->catboost) (2.8.1)\n",
            "Requirement already satisfied: pyparsing!=2.0.4,!=2.1.2,!=2.1.6,>=2.0.1 in /usr/local/lib/python3.6/dist-packages (from matplotlib->catboost) (2.4.7)\n",
            "Requirement already satisfied: cycler>=0.10 in /usr/local/lib/python3.6/dist-packages (from matplotlib->catboost) (0.10.0)\n",
            "Requirement already satisfied: kiwisolver>=1.0.1 in /usr/local/lib/python3.6/dist-packages (from matplotlib->catboost) (1.3.1)\n",
            "Requirement already satisfied: retrying>=1.3.3 in /usr/local/lib/python3.6/dist-packages (from plotly->catboost) (1.3.3)\n",
            "Requirement already satisfied: pytz>=2017.2 in /usr/local/lib/python3.6/dist-packages (from pandas>=0.24.0->catboost) (2018.9)\n",
            "Installing collected packages: catboost\n",
            "Successfully installed catboost-0.24.4\n"
          ],
          "name": "stdout"
        }
      ]
    },
    {
      "cell_type": "code",
      "metadata": {
        "colab": {
          "base_uri": "https://localhost:8080/",
          "height": 17
        },
        "id": "bHvr6pWuSext",
        "outputId": "81893498-efe2-41e7-acc7-bf0a46b5fdff"
      },
      "source": [
        "import pandas as pd \r\n",
        "import numpy as np\r\n",
        "import matplotlib\r\n",
        "import matplotlib.pyplot as plt\r\n",
        "import seaborn as sns\r\n",
        "%matplotlib inline \r\n",
        "import plotly.graph_objs as go\r\n",
        "import plotly.figure_factory as ff\r\n",
        "from plotly import tools\r\n",
        "from plotly.offline import download_plotlyjs, init_notebook_mode, plot, iplot\r\n",
        "init_notebook_mode(connected=True)\r\n",
        "import gc\r\n",
        "from datetime import datetime \r\n",
        "from sklearn.model_selection import train_test_split\r\n",
        "from sklearn.model_selection import KFold\r\n",
        "from sklearn.metrics import roc_auc_score\r\n",
        "from sklearn.ensemble import RandomForestClassifier\r\n",
        "from sklearn.ensemble import AdaBoostClassifier\r\n",
        "from catboost import CatBoostClassifier\r\n",
        "from sklearn import svm\r\n",
        "import lightgbm as lgb\r\n",
        "from lightgbm import LGBMClassifier\r\n",
        "import xgboost as xgb\r\n"
      ],
      "execution_count": 53,
      "outputs": [
        {
          "output_type": "display_data",
          "data": {
            "text/html": [
              "        <script type=\"text/javascript\">\n",
              "        window.PlotlyConfig = {MathJaxConfig: 'local'};\n",
              "        if (window.MathJax) {MathJax.Hub.Config({SVG: {font: \"STIX-Web\"}});}\n",
              "        if (typeof require !== 'undefined') {\n",
              "        require.undef(\"plotly\");\n",
              "        requirejs.config({\n",
              "            paths: {\n",
              "                'plotly': ['https://cdn.plot.ly/plotly-latest.min']\n",
              "            }\n",
              "        });\n",
              "        require(['plotly'], function(Plotly) {\n",
              "            window._Plotly = Plotly;\n",
              "        });\n",
              "        }\n",
              "        </script>\n",
              "        "
            ]
          },
          "metadata": {
            "tags": []
          }
        }
      ]
    },
    {
      "cell_type": "code",
      "metadata": {
        "id": "q0fJQ684bIsQ"
      },
      "source": [
        "pd.set_option('display.max_columns', 100)\r\n",
        "\r\n",
        "\r\n",
        "RFC_METRIC = 'gini'  #metric used for RandomForrestClassifier\r\n",
        "NUM_ESTIMATORS = 100 #number of estimators used for RandomForrestClassifier\r\n",
        "NO_JOBS = 4 #number of parallel jobs used for RandomForrestClassifier\r\n",
        "\r\n",
        "\r\n",
        "#TRAIN/VALIDATION/TEST SPLIT\r\n",
        "#VALIDATION\r\n",
        "VALID_SIZE = 0.20 # simple validation using train_test_split\r\n",
        "TEST_SIZE = 0.20 # test size using_train_test_split\r\n",
        "\r\n",
        "#CROSS-VALIDATION\r\n",
        "NUMBER_KFOLDS = 5 #number of KFolds for cross-validation\r\n",
        "\r\n",
        "\r\n",
        "\r\n",
        "RANDOM_STATE = 2018\r\n",
        "\r\n",
        "MAX_ROUNDS = 1000 #lgb iterations\r\n",
        "EARLY_STOP = 50 #lgb early stop \r\n",
        "OPT_ROUNDS = 1000  #To be adjusted based on best validation rounds\r\n",
        "VERBOSE_EVAL = 50 #Print out metric result\r\n",
        "\r\n",
        "IS_LOCAL = False"
      ],
      "execution_count": 54,
      "outputs": []
    },
    {
      "cell_type": "code",
      "metadata": {
        "id": "L8JF6SSobOpZ"
      },
      "source": [
        "data_df = pd.read_csv(\"/content/drive/MyDrive/DataSet/creditcard.csv\")"
      ],
      "execution_count": 55,
      "outputs": []
    },
    {
      "cell_type": "code",
      "metadata": {
        "colab": {
          "base_uri": "https://localhost:8080/",
          "height": 218
        },
        "id": "XWTtUWHgbbjG",
        "outputId": "6f2ab43f-7f25-4b9f-f067-6444150fb39f"
      },
      "source": [
        "data_df.head()"
      ],
      "execution_count": 56,
      "outputs": [
        {
          "output_type": "execute_result",
          "data": {
            "text/html": [
              "<div>\n",
              "<style scoped>\n",
              "    .dataframe tbody tr th:only-of-type {\n",
              "        vertical-align: middle;\n",
              "    }\n",
              "\n",
              "    .dataframe tbody tr th {\n",
              "        vertical-align: top;\n",
              "    }\n",
              "\n",
              "    .dataframe thead th {\n",
              "        text-align: right;\n",
              "    }\n",
              "</style>\n",
              "<table border=\"1\" class=\"dataframe\">\n",
              "  <thead>\n",
              "    <tr style=\"text-align: right;\">\n",
              "      <th></th>\n",
              "      <th>Time</th>\n",
              "      <th>V1</th>\n",
              "      <th>V2</th>\n",
              "      <th>V3</th>\n",
              "      <th>V4</th>\n",
              "      <th>V5</th>\n",
              "      <th>V6</th>\n",
              "      <th>V7</th>\n",
              "      <th>V8</th>\n",
              "      <th>V9</th>\n",
              "      <th>V10</th>\n",
              "      <th>V11</th>\n",
              "      <th>V12</th>\n",
              "      <th>V13</th>\n",
              "      <th>V14</th>\n",
              "      <th>V15</th>\n",
              "      <th>V16</th>\n",
              "      <th>V17</th>\n",
              "      <th>V18</th>\n",
              "      <th>V19</th>\n",
              "      <th>V20</th>\n",
              "      <th>V21</th>\n",
              "      <th>V22</th>\n",
              "      <th>V23</th>\n",
              "      <th>V24</th>\n",
              "      <th>V25</th>\n",
              "      <th>V26</th>\n",
              "      <th>V27</th>\n",
              "      <th>V28</th>\n",
              "      <th>Amount</th>\n",
              "      <th>Class</th>\n",
              "    </tr>\n",
              "  </thead>\n",
              "  <tbody>\n",
              "    <tr>\n",
              "      <th>0</th>\n",
              "      <td>0.0</td>\n",
              "      <td>-1.359807</td>\n",
              "      <td>-0.072781</td>\n",
              "      <td>2.536347</td>\n",
              "      <td>1.378155</td>\n",
              "      <td>-0.338321</td>\n",
              "      <td>0.462388</td>\n",
              "      <td>0.239599</td>\n",
              "      <td>0.098698</td>\n",
              "      <td>0.363787</td>\n",
              "      <td>0.090794</td>\n",
              "      <td>-0.551600</td>\n",
              "      <td>-0.617801</td>\n",
              "      <td>-0.991390</td>\n",
              "      <td>-0.311169</td>\n",
              "      <td>1.468177</td>\n",
              "      <td>-0.470401</td>\n",
              "      <td>0.207971</td>\n",
              "      <td>0.025791</td>\n",
              "      <td>0.403993</td>\n",
              "      <td>0.251412</td>\n",
              "      <td>-0.018307</td>\n",
              "      <td>0.277838</td>\n",
              "      <td>-0.110474</td>\n",
              "      <td>0.066928</td>\n",
              "      <td>0.128539</td>\n",
              "      <td>-0.189115</td>\n",
              "      <td>0.133558</td>\n",
              "      <td>-0.021053</td>\n",
              "      <td>149.62</td>\n",
              "      <td>0</td>\n",
              "    </tr>\n",
              "    <tr>\n",
              "      <th>1</th>\n",
              "      <td>0.0</td>\n",
              "      <td>1.191857</td>\n",
              "      <td>0.266151</td>\n",
              "      <td>0.166480</td>\n",
              "      <td>0.448154</td>\n",
              "      <td>0.060018</td>\n",
              "      <td>-0.082361</td>\n",
              "      <td>-0.078803</td>\n",
              "      <td>0.085102</td>\n",
              "      <td>-0.255425</td>\n",
              "      <td>-0.166974</td>\n",
              "      <td>1.612727</td>\n",
              "      <td>1.065235</td>\n",
              "      <td>0.489095</td>\n",
              "      <td>-0.143772</td>\n",
              "      <td>0.635558</td>\n",
              "      <td>0.463917</td>\n",
              "      <td>-0.114805</td>\n",
              "      <td>-0.183361</td>\n",
              "      <td>-0.145783</td>\n",
              "      <td>-0.069083</td>\n",
              "      <td>-0.225775</td>\n",
              "      <td>-0.638672</td>\n",
              "      <td>0.101288</td>\n",
              "      <td>-0.339846</td>\n",
              "      <td>0.167170</td>\n",
              "      <td>0.125895</td>\n",
              "      <td>-0.008983</td>\n",
              "      <td>0.014724</td>\n",
              "      <td>2.69</td>\n",
              "      <td>0</td>\n",
              "    </tr>\n",
              "    <tr>\n",
              "      <th>2</th>\n",
              "      <td>1.0</td>\n",
              "      <td>-1.358354</td>\n",
              "      <td>-1.340163</td>\n",
              "      <td>1.773209</td>\n",
              "      <td>0.379780</td>\n",
              "      <td>-0.503198</td>\n",
              "      <td>1.800499</td>\n",
              "      <td>0.791461</td>\n",
              "      <td>0.247676</td>\n",
              "      <td>-1.514654</td>\n",
              "      <td>0.207643</td>\n",
              "      <td>0.624501</td>\n",
              "      <td>0.066084</td>\n",
              "      <td>0.717293</td>\n",
              "      <td>-0.165946</td>\n",
              "      <td>2.345865</td>\n",
              "      <td>-2.890083</td>\n",
              "      <td>1.109969</td>\n",
              "      <td>-0.121359</td>\n",
              "      <td>-2.261857</td>\n",
              "      <td>0.524980</td>\n",
              "      <td>0.247998</td>\n",
              "      <td>0.771679</td>\n",
              "      <td>0.909412</td>\n",
              "      <td>-0.689281</td>\n",
              "      <td>-0.327642</td>\n",
              "      <td>-0.139097</td>\n",
              "      <td>-0.055353</td>\n",
              "      <td>-0.059752</td>\n",
              "      <td>378.66</td>\n",
              "      <td>0</td>\n",
              "    </tr>\n",
              "    <tr>\n",
              "      <th>3</th>\n",
              "      <td>1.0</td>\n",
              "      <td>-0.966272</td>\n",
              "      <td>-0.185226</td>\n",
              "      <td>1.792993</td>\n",
              "      <td>-0.863291</td>\n",
              "      <td>-0.010309</td>\n",
              "      <td>1.247203</td>\n",
              "      <td>0.237609</td>\n",
              "      <td>0.377436</td>\n",
              "      <td>-1.387024</td>\n",
              "      <td>-0.054952</td>\n",
              "      <td>-0.226487</td>\n",
              "      <td>0.178228</td>\n",
              "      <td>0.507757</td>\n",
              "      <td>-0.287924</td>\n",
              "      <td>-0.631418</td>\n",
              "      <td>-1.059647</td>\n",
              "      <td>-0.684093</td>\n",
              "      <td>1.965775</td>\n",
              "      <td>-1.232622</td>\n",
              "      <td>-0.208038</td>\n",
              "      <td>-0.108300</td>\n",
              "      <td>0.005274</td>\n",
              "      <td>-0.190321</td>\n",
              "      <td>-1.175575</td>\n",
              "      <td>0.647376</td>\n",
              "      <td>-0.221929</td>\n",
              "      <td>0.062723</td>\n",
              "      <td>0.061458</td>\n",
              "      <td>123.50</td>\n",
              "      <td>0</td>\n",
              "    </tr>\n",
              "    <tr>\n",
              "      <th>4</th>\n",
              "      <td>2.0</td>\n",
              "      <td>-1.158233</td>\n",
              "      <td>0.877737</td>\n",
              "      <td>1.548718</td>\n",
              "      <td>0.403034</td>\n",
              "      <td>-0.407193</td>\n",
              "      <td>0.095921</td>\n",
              "      <td>0.592941</td>\n",
              "      <td>-0.270533</td>\n",
              "      <td>0.817739</td>\n",
              "      <td>0.753074</td>\n",
              "      <td>-0.822843</td>\n",
              "      <td>0.538196</td>\n",
              "      <td>1.345852</td>\n",
              "      <td>-1.119670</td>\n",
              "      <td>0.175121</td>\n",
              "      <td>-0.451449</td>\n",
              "      <td>-0.237033</td>\n",
              "      <td>-0.038195</td>\n",
              "      <td>0.803487</td>\n",
              "      <td>0.408542</td>\n",
              "      <td>-0.009431</td>\n",
              "      <td>0.798278</td>\n",
              "      <td>-0.137458</td>\n",
              "      <td>0.141267</td>\n",
              "      <td>-0.206010</td>\n",
              "      <td>0.502292</td>\n",
              "      <td>0.219422</td>\n",
              "      <td>0.215153</td>\n",
              "      <td>69.99</td>\n",
              "      <td>0</td>\n",
              "    </tr>\n",
              "  </tbody>\n",
              "</table>\n",
              "</div>"
            ],
            "text/plain": [
              "   Time        V1        V2        V3        V4        V5        V6        V7  \\\n",
              "0   0.0 -1.359807 -0.072781  2.536347  1.378155 -0.338321  0.462388  0.239599   \n",
              "1   0.0  1.191857  0.266151  0.166480  0.448154  0.060018 -0.082361 -0.078803   \n",
              "2   1.0 -1.358354 -1.340163  1.773209  0.379780 -0.503198  1.800499  0.791461   \n",
              "3   1.0 -0.966272 -0.185226  1.792993 -0.863291 -0.010309  1.247203  0.237609   \n",
              "4   2.0 -1.158233  0.877737  1.548718  0.403034 -0.407193  0.095921  0.592941   \n",
              "\n",
              "         V8        V9       V10       V11       V12       V13       V14  \\\n",
              "0  0.098698  0.363787  0.090794 -0.551600 -0.617801 -0.991390 -0.311169   \n",
              "1  0.085102 -0.255425 -0.166974  1.612727  1.065235  0.489095 -0.143772   \n",
              "2  0.247676 -1.514654  0.207643  0.624501  0.066084  0.717293 -0.165946   \n",
              "3  0.377436 -1.387024 -0.054952 -0.226487  0.178228  0.507757 -0.287924   \n",
              "4 -0.270533  0.817739  0.753074 -0.822843  0.538196  1.345852 -1.119670   \n",
              "\n",
              "        V15       V16       V17       V18       V19       V20       V21  \\\n",
              "0  1.468177 -0.470401  0.207971  0.025791  0.403993  0.251412 -0.018307   \n",
              "1  0.635558  0.463917 -0.114805 -0.183361 -0.145783 -0.069083 -0.225775   \n",
              "2  2.345865 -2.890083  1.109969 -0.121359 -2.261857  0.524980  0.247998   \n",
              "3 -0.631418 -1.059647 -0.684093  1.965775 -1.232622 -0.208038 -0.108300   \n",
              "4  0.175121 -0.451449 -0.237033 -0.038195  0.803487  0.408542 -0.009431   \n",
              "\n",
              "        V22       V23       V24       V25       V26       V27       V28  \\\n",
              "0  0.277838 -0.110474  0.066928  0.128539 -0.189115  0.133558 -0.021053   \n",
              "1 -0.638672  0.101288 -0.339846  0.167170  0.125895 -0.008983  0.014724   \n",
              "2  0.771679  0.909412 -0.689281 -0.327642 -0.139097 -0.055353 -0.059752   \n",
              "3  0.005274 -0.190321 -1.175575  0.647376 -0.221929  0.062723  0.061458   \n",
              "4  0.798278 -0.137458  0.141267 -0.206010  0.502292  0.219422  0.215153   \n",
              "\n",
              "   Amount  Class  \n",
              "0  149.62      0  \n",
              "1    2.69      0  \n",
              "2  378.66      0  \n",
              "3  123.50      0  \n",
              "4   69.99      0  "
            ]
          },
          "metadata": {
            "tags": []
          },
          "execution_count": 56
        }
      ]
    },
    {
      "cell_type": "code",
      "metadata": {
        "colab": {
          "base_uri": "https://localhost:8080/",
          "height": 308
        },
        "id": "DGbKm821be_6",
        "outputId": "143bf87b-5376-4512-c613-bbbb6fbfb1eb"
      },
      "source": [
        "data_df.describe()"
      ],
      "execution_count": 57,
      "outputs": [
        {
          "output_type": "execute_result",
          "data": {
            "text/html": [
              "<div>\n",
              "<style scoped>\n",
              "    .dataframe tbody tr th:only-of-type {\n",
              "        vertical-align: middle;\n",
              "    }\n",
              "\n",
              "    .dataframe tbody tr th {\n",
              "        vertical-align: top;\n",
              "    }\n",
              "\n",
              "    .dataframe thead th {\n",
              "        text-align: right;\n",
              "    }\n",
              "</style>\n",
              "<table border=\"1\" class=\"dataframe\">\n",
              "  <thead>\n",
              "    <tr style=\"text-align: right;\">\n",
              "      <th></th>\n",
              "      <th>Time</th>\n",
              "      <th>V1</th>\n",
              "      <th>V2</th>\n",
              "      <th>V3</th>\n",
              "      <th>V4</th>\n",
              "      <th>V5</th>\n",
              "      <th>V6</th>\n",
              "      <th>V7</th>\n",
              "      <th>V8</th>\n",
              "      <th>V9</th>\n",
              "      <th>V10</th>\n",
              "      <th>V11</th>\n",
              "      <th>V12</th>\n",
              "      <th>V13</th>\n",
              "      <th>V14</th>\n",
              "      <th>V15</th>\n",
              "      <th>V16</th>\n",
              "      <th>V17</th>\n",
              "      <th>V18</th>\n",
              "      <th>V19</th>\n",
              "      <th>V20</th>\n",
              "      <th>V21</th>\n",
              "      <th>V22</th>\n",
              "      <th>V23</th>\n",
              "      <th>V24</th>\n",
              "      <th>V25</th>\n",
              "      <th>V26</th>\n",
              "      <th>V27</th>\n",
              "      <th>V28</th>\n",
              "      <th>Amount</th>\n",
              "      <th>Class</th>\n",
              "    </tr>\n",
              "  </thead>\n",
              "  <tbody>\n",
              "    <tr>\n",
              "      <th>count</th>\n",
              "      <td>284807.000000</td>\n",
              "      <td>2.848070e+05</td>\n",
              "      <td>2.848070e+05</td>\n",
              "      <td>2.848070e+05</td>\n",
              "      <td>2.848070e+05</td>\n",
              "      <td>2.848070e+05</td>\n",
              "      <td>2.848070e+05</td>\n",
              "      <td>2.848070e+05</td>\n",
              "      <td>2.848070e+05</td>\n",
              "      <td>2.848070e+05</td>\n",
              "      <td>2.848070e+05</td>\n",
              "      <td>2.848070e+05</td>\n",
              "      <td>2.848070e+05</td>\n",
              "      <td>2.848070e+05</td>\n",
              "      <td>2.848070e+05</td>\n",
              "      <td>2.848070e+05</td>\n",
              "      <td>2.848070e+05</td>\n",
              "      <td>2.848070e+05</td>\n",
              "      <td>2.848070e+05</td>\n",
              "      <td>2.848070e+05</td>\n",
              "      <td>2.848070e+05</td>\n",
              "      <td>2.848070e+05</td>\n",
              "      <td>2.848070e+05</td>\n",
              "      <td>2.848070e+05</td>\n",
              "      <td>2.848070e+05</td>\n",
              "      <td>2.848070e+05</td>\n",
              "      <td>2.848070e+05</td>\n",
              "      <td>2.848070e+05</td>\n",
              "      <td>2.848070e+05</td>\n",
              "      <td>284807.000000</td>\n",
              "      <td>284807.000000</td>\n",
              "    </tr>\n",
              "    <tr>\n",
              "      <th>mean</th>\n",
              "      <td>94813.859575</td>\n",
              "      <td>3.919560e-15</td>\n",
              "      <td>5.688174e-16</td>\n",
              "      <td>-8.769071e-15</td>\n",
              "      <td>2.782312e-15</td>\n",
              "      <td>-1.552563e-15</td>\n",
              "      <td>2.010663e-15</td>\n",
              "      <td>-1.694249e-15</td>\n",
              "      <td>-1.927028e-16</td>\n",
              "      <td>-3.137024e-15</td>\n",
              "      <td>1.768627e-15</td>\n",
              "      <td>9.170318e-16</td>\n",
              "      <td>-1.810658e-15</td>\n",
              "      <td>1.693438e-15</td>\n",
              "      <td>1.479045e-15</td>\n",
              "      <td>3.482336e-15</td>\n",
              "      <td>1.392007e-15</td>\n",
              "      <td>-7.528491e-16</td>\n",
              "      <td>4.328772e-16</td>\n",
              "      <td>9.049732e-16</td>\n",
              "      <td>5.085503e-16</td>\n",
              "      <td>1.537294e-16</td>\n",
              "      <td>7.959909e-16</td>\n",
              "      <td>5.367590e-16</td>\n",
              "      <td>4.458112e-15</td>\n",
              "      <td>1.453003e-15</td>\n",
              "      <td>1.699104e-15</td>\n",
              "      <td>-3.660161e-16</td>\n",
              "      <td>-1.206049e-16</td>\n",
              "      <td>88.349619</td>\n",
              "      <td>0.001727</td>\n",
              "    </tr>\n",
              "    <tr>\n",
              "      <th>std</th>\n",
              "      <td>47488.145955</td>\n",
              "      <td>1.958696e+00</td>\n",
              "      <td>1.651309e+00</td>\n",
              "      <td>1.516255e+00</td>\n",
              "      <td>1.415869e+00</td>\n",
              "      <td>1.380247e+00</td>\n",
              "      <td>1.332271e+00</td>\n",
              "      <td>1.237094e+00</td>\n",
              "      <td>1.194353e+00</td>\n",
              "      <td>1.098632e+00</td>\n",
              "      <td>1.088850e+00</td>\n",
              "      <td>1.020713e+00</td>\n",
              "      <td>9.992014e-01</td>\n",
              "      <td>9.952742e-01</td>\n",
              "      <td>9.585956e-01</td>\n",
              "      <td>9.153160e-01</td>\n",
              "      <td>8.762529e-01</td>\n",
              "      <td>8.493371e-01</td>\n",
              "      <td>8.381762e-01</td>\n",
              "      <td>8.140405e-01</td>\n",
              "      <td>7.709250e-01</td>\n",
              "      <td>7.345240e-01</td>\n",
              "      <td>7.257016e-01</td>\n",
              "      <td>6.244603e-01</td>\n",
              "      <td>6.056471e-01</td>\n",
              "      <td>5.212781e-01</td>\n",
              "      <td>4.822270e-01</td>\n",
              "      <td>4.036325e-01</td>\n",
              "      <td>3.300833e-01</td>\n",
              "      <td>250.120109</td>\n",
              "      <td>0.041527</td>\n",
              "    </tr>\n",
              "    <tr>\n",
              "      <th>min</th>\n",
              "      <td>0.000000</td>\n",
              "      <td>-5.640751e+01</td>\n",
              "      <td>-7.271573e+01</td>\n",
              "      <td>-4.832559e+01</td>\n",
              "      <td>-5.683171e+00</td>\n",
              "      <td>-1.137433e+02</td>\n",
              "      <td>-2.616051e+01</td>\n",
              "      <td>-4.355724e+01</td>\n",
              "      <td>-7.321672e+01</td>\n",
              "      <td>-1.343407e+01</td>\n",
              "      <td>-2.458826e+01</td>\n",
              "      <td>-4.797473e+00</td>\n",
              "      <td>-1.868371e+01</td>\n",
              "      <td>-5.791881e+00</td>\n",
              "      <td>-1.921433e+01</td>\n",
              "      <td>-4.498945e+00</td>\n",
              "      <td>-1.412985e+01</td>\n",
              "      <td>-2.516280e+01</td>\n",
              "      <td>-9.498746e+00</td>\n",
              "      <td>-7.213527e+00</td>\n",
              "      <td>-5.449772e+01</td>\n",
              "      <td>-3.483038e+01</td>\n",
              "      <td>-1.093314e+01</td>\n",
              "      <td>-4.480774e+01</td>\n",
              "      <td>-2.836627e+00</td>\n",
              "      <td>-1.029540e+01</td>\n",
              "      <td>-2.604551e+00</td>\n",
              "      <td>-2.256568e+01</td>\n",
              "      <td>-1.543008e+01</td>\n",
              "      <td>0.000000</td>\n",
              "      <td>0.000000</td>\n",
              "    </tr>\n",
              "    <tr>\n",
              "      <th>25%</th>\n",
              "      <td>54201.500000</td>\n",
              "      <td>-9.203734e-01</td>\n",
              "      <td>-5.985499e-01</td>\n",
              "      <td>-8.903648e-01</td>\n",
              "      <td>-8.486401e-01</td>\n",
              "      <td>-6.915971e-01</td>\n",
              "      <td>-7.682956e-01</td>\n",
              "      <td>-5.540759e-01</td>\n",
              "      <td>-2.086297e-01</td>\n",
              "      <td>-6.430976e-01</td>\n",
              "      <td>-5.354257e-01</td>\n",
              "      <td>-7.624942e-01</td>\n",
              "      <td>-4.055715e-01</td>\n",
              "      <td>-6.485393e-01</td>\n",
              "      <td>-4.255740e-01</td>\n",
              "      <td>-5.828843e-01</td>\n",
              "      <td>-4.680368e-01</td>\n",
              "      <td>-4.837483e-01</td>\n",
              "      <td>-4.988498e-01</td>\n",
              "      <td>-4.562989e-01</td>\n",
              "      <td>-2.117214e-01</td>\n",
              "      <td>-2.283949e-01</td>\n",
              "      <td>-5.423504e-01</td>\n",
              "      <td>-1.618463e-01</td>\n",
              "      <td>-3.545861e-01</td>\n",
              "      <td>-3.171451e-01</td>\n",
              "      <td>-3.269839e-01</td>\n",
              "      <td>-7.083953e-02</td>\n",
              "      <td>-5.295979e-02</td>\n",
              "      <td>5.600000</td>\n",
              "      <td>0.000000</td>\n",
              "    </tr>\n",
              "    <tr>\n",
              "      <th>50%</th>\n",
              "      <td>84692.000000</td>\n",
              "      <td>1.810880e-02</td>\n",
              "      <td>6.548556e-02</td>\n",
              "      <td>1.798463e-01</td>\n",
              "      <td>-1.984653e-02</td>\n",
              "      <td>-5.433583e-02</td>\n",
              "      <td>-2.741871e-01</td>\n",
              "      <td>4.010308e-02</td>\n",
              "      <td>2.235804e-02</td>\n",
              "      <td>-5.142873e-02</td>\n",
              "      <td>-9.291738e-02</td>\n",
              "      <td>-3.275735e-02</td>\n",
              "      <td>1.400326e-01</td>\n",
              "      <td>-1.356806e-02</td>\n",
              "      <td>5.060132e-02</td>\n",
              "      <td>4.807155e-02</td>\n",
              "      <td>6.641332e-02</td>\n",
              "      <td>-6.567575e-02</td>\n",
              "      <td>-3.636312e-03</td>\n",
              "      <td>3.734823e-03</td>\n",
              "      <td>-6.248109e-02</td>\n",
              "      <td>-2.945017e-02</td>\n",
              "      <td>6.781943e-03</td>\n",
              "      <td>-1.119293e-02</td>\n",
              "      <td>4.097606e-02</td>\n",
              "      <td>1.659350e-02</td>\n",
              "      <td>-5.213911e-02</td>\n",
              "      <td>1.342146e-03</td>\n",
              "      <td>1.124383e-02</td>\n",
              "      <td>22.000000</td>\n",
              "      <td>0.000000</td>\n",
              "    </tr>\n",
              "    <tr>\n",
              "      <th>75%</th>\n",
              "      <td>139320.500000</td>\n",
              "      <td>1.315642e+00</td>\n",
              "      <td>8.037239e-01</td>\n",
              "      <td>1.027196e+00</td>\n",
              "      <td>7.433413e-01</td>\n",
              "      <td>6.119264e-01</td>\n",
              "      <td>3.985649e-01</td>\n",
              "      <td>5.704361e-01</td>\n",
              "      <td>3.273459e-01</td>\n",
              "      <td>5.971390e-01</td>\n",
              "      <td>4.539234e-01</td>\n",
              "      <td>7.395934e-01</td>\n",
              "      <td>6.182380e-01</td>\n",
              "      <td>6.625050e-01</td>\n",
              "      <td>4.931498e-01</td>\n",
              "      <td>6.488208e-01</td>\n",
              "      <td>5.232963e-01</td>\n",
              "      <td>3.996750e-01</td>\n",
              "      <td>5.008067e-01</td>\n",
              "      <td>4.589494e-01</td>\n",
              "      <td>1.330408e-01</td>\n",
              "      <td>1.863772e-01</td>\n",
              "      <td>5.285536e-01</td>\n",
              "      <td>1.476421e-01</td>\n",
              "      <td>4.395266e-01</td>\n",
              "      <td>3.507156e-01</td>\n",
              "      <td>2.409522e-01</td>\n",
              "      <td>9.104512e-02</td>\n",
              "      <td>7.827995e-02</td>\n",
              "      <td>77.165000</td>\n",
              "      <td>0.000000</td>\n",
              "    </tr>\n",
              "    <tr>\n",
              "      <th>max</th>\n",
              "      <td>172792.000000</td>\n",
              "      <td>2.454930e+00</td>\n",
              "      <td>2.205773e+01</td>\n",
              "      <td>9.382558e+00</td>\n",
              "      <td>1.687534e+01</td>\n",
              "      <td>3.480167e+01</td>\n",
              "      <td>7.330163e+01</td>\n",
              "      <td>1.205895e+02</td>\n",
              "      <td>2.000721e+01</td>\n",
              "      <td>1.559499e+01</td>\n",
              "      <td>2.374514e+01</td>\n",
              "      <td>1.201891e+01</td>\n",
              "      <td>7.848392e+00</td>\n",
              "      <td>7.126883e+00</td>\n",
              "      <td>1.052677e+01</td>\n",
              "      <td>8.877742e+00</td>\n",
              "      <td>1.731511e+01</td>\n",
              "      <td>9.253526e+00</td>\n",
              "      <td>5.041069e+00</td>\n",
              "      <td>5.591971e+00</td>\n",
              "      <td>3.942090e+01</td>\n",
              "      <td>2.720284e+01</td>\n",
              "      <td>1.050309e+01</td>\n",
              "      <td>2.252841e+01</td>\n",
              "      <td>4.584549e+00</td>\n",
              "      <td>7.519589e+00</td>\n",
              "      <td>3.517346e+00</td>\n",
              "      <td>3.161220e+01</td>\n",
              "      <td>3.384781e+01</td>\n",
              "      <td>25691.160000</td>\n",
              "      <td>1.000000</td>\n",
              "    </tr>\n",
              "  </tbody>\n",
              "</table>\n",
              "</div>"
            ],
            "text/plain": [
              "                Time            V1            V2            V3            V4  \\\n",
              "count  284807.000000  2.848070e+05  2.848070e+05  2.848070e+05  2.848070e+05   \n",
              "mean    94813.859575  3.919560e-15  5.688174e-16 -8.769071e-15  2.782312e-15   \n",
              "std     47488.145955  1.958696e+00  1.651309e+00  1.516255e+00  1.415869e+00   \n",
              "min         0.000000 -5.640751e+01 -7.271573e+01 -4.832559e+01 -5.683171e+00   \n",
              "25%     54201.500000 -9.203734e-01 -5.985499e-01 -8.903648e-01 -8.486401e-01   \n",
              "50%     84692.000000  1.810880e-02  6.548556e-02  1.798463e-01 -1.984653e-02   \n",
              "75%    139320.500000  1.315642e+00  8.037239e-01  1.027196e+00  7.433413e-01   \n",
              "max    172792.000000  2.454930e+00  2.205773e+01  9.382558e+00  1.687534e+01   \n",
              "\n",
              "                 V5            V6            V7            V8            V9  \\\n",
              "count  2.848070e+05  2.848070e+05  2.848070e+05  2.848070e+05  2.848070e+05   \n",
              "mean  -1.552563e-15  2.010663e-15 -1.694249e-15 -1.927028e-16 -3.137024e-15   \n",
              "std    1.380247e+00  1.332271e+00  1.237094e+00  1.194353e+00  1.098632e+00   \n",
              "min   -1.137433e+02 -2.616051e+01 -4.355724e+01 -7.321672e+01 -1.343407e+01   \n",
              "25%   -6.915971e-01 -7.682956e-01 -5.540759e-01 -2.086297e-01 -6.430976e-01   \n",
              "50%   -5.433583e-02 -2.741871e-01  4.010308e-02  2.235804e-02 -5.142873e-02   \n",
              "75%    6.119264e-01  3.985649e-01  5.704361e-01  3.273459e-01  5.971390e-01   \n",
              "max    3.480167e+01  7.330163e+01  1.205895e+02  2.000721e+01  1.559499e+01   \n",
              "\n",
              "                V10           V11           V12           V13           V14  \\\n",
              "count  2.848070e+05  2.848070e+05  2.848070e+05  2.848070e+05  2.848070e+05   \n",
              "mean   1.768627e-15  9.170318e-16 -1.810658e-15  1.693438e-15  1.479045e-15   \n",
              "std    1.088850e+00  1.020713e+00  9.992014e-01  9.952742e-01  9.585956e-01   \n",
              "min   -2.458826e+01 -4.797473e+00 -1.868371e+01 -5.791881e+00 -1.921433e+01   \n",
              "25%   -5.354257e-01 -7.624942e-01 -4.055715e-01 -6.485393e-01 -4.255740e-01   \n",
              "50%   -9.291738e-02 -3.275735e-02  1.400326e-01 -1.356806e-02  5.060132e-02   \n",
              "75%    4.539234e-01  7.395934e-01  6.182380e-01  6.625050e-01  4.931498e-01   \n",
              "max    2.374514e+01  1.201891e+01  7.848392e+00  7.126883e+00  1.052677e+01   \n",
              "\n",
              "                V15           V16           V17           V18           V19  \\\n",
              "count  2.848070e+05  2.848070e+05  2.848070e+05  2.848070e+05  2.848070e+05   \n",
              "mean   3.482336e-15  1.392007e-15 -7.528491e-16  4.328772e-16  9.049732e-16   \n",
              "std    9.153160e-01  8.762529e-01  8.493371e-01  8.381762e-01  8.140405e-01   \n",
              "min   -4.498945e+00 -1.412985e+01 -2.516280e+01 -9.498746e+00 -7.213527e+00   \n",
              "25%   -5.828843e-01 -4.680368e-01 -4.837483e-01 -4.988498e-01 -4.562989e-01   \n",
              "50%    4.807155e-02  6.641332e-02 -6.567575e-02 -3.636312e-03  3.734823e-03   \n",
              "75%    6.488208e-01  5.232963e-01  3.996750e-01  5.008067e-01  4.589494e-01   \n",
              "max    8.877742e+00  1.731511e+01  9.253526e+00  5.041069e+00  5.591971e+00   \n",
              "\n",
              "                V20           V21           V22           V23           V24  \\\n",
              "count  2.848070e+05  2.848070e+05  2.848070e+05  2.848070e+05  2.848070e+05   \n",
              "mean   5.085503e-16  1.537294e-16  7.959909e-16  5.367590e-16  4.458112e-15   \n",
              "std    7.709250e-01  7.345240e-01  7.257016e-01  6.244603e-01  6.056471e-01   \n",
              "min   -5.449772e+01 -3.483038e+01 -1.093314e+01 -4.480774e+01 -2.836627e+00   \n",
              "25%   -2.117214e-01 -2.283949e-01 -5.423504e-01 -1.618463e-01 -3.545861e-01   \n",
              "50%   -6.248109e-02 -2.945017e-02  6.781943e-03 -1.119293e-02  4.097606e-02   \n",
              "75%    1.330408e-01  1.863772e-01  5.285536e-01  1.476421e-01  4.395266e-01   \n",
              "max    3.942090e+01  2.720284e+01  1.050309e+01  2.252841e+01  4.584549e+00   \n",
              "\n",
              "                V25           V26           V27           V28         Amount  \\\n",
              "count  2.848070e+05  2.848070e+05  2.848070e+05  2.848070e+05  284807.000000   \n",
              "mean   1.453003e-15  1.699104e-15 -3.660161e-16 -1.206049e-16      88.349619   \n",
              "std    5.212781e-01  4.822270e-01  4.036325e-01  3.300833e-01     250.120109   \n",
              "min   -1.029540e+01 -2.604551e+00 -2.256568e+01 -1.543008e+01       0.000000   \n",
              "25%   -3.171451e-01 -3.269839e-01 -7.083953e-02 -5.295979e-02       5.600000   \n",
              "50%    1.659350e-02 -5.213911e-02  1.342146e-03  1.124383e-02      22.000000   \n",
              "75%    3.507156e-01  2.409522e-01  9.104512e-02  7.827995e-02      77.165000   \n",
              "max    7.519589e+00  3.517346e+00  3.161220e+01  3.384781e+01   25691.160000   \n",
              "\n",
              "               Class  \n",
              "count  284807.000000  \n",
              "mean        0.001727  \n",
              "std         0.041527  \n",
              "min         0.000000  \n",
              "25%         0.000000  \n",
              "50%         0.000000  \n",
              "75%         0.000000  \n",
              "max         1.000000  "
            ]
          },
          "metadata": {
            "tags": []
          },
          "execution_count": 57
        }
      ]
    },
    {
      "cell_type": "code",
      "metadata": {
        "colab": {
          "base_uri": "https://localhost:8080/",
          "height": 128
        },
        "id": "0VProtm0bjwJ",
        "outputId": "79f4bfa5-980d-4b3e-e865-2ec83e176c1d"
      },
      "source": [
        "total = data_df.isnull().sum().sort_values(ascending = False)\r\n",
        "percent = (data_df.isnull().sum()/data_df.isnull().count()*100).sort_values(ascending = False)\r\n",
        "pd.concat([total, percent], axis=1, keys=['Total', 'Percent']).transpose()"
      ],
      "execution_count": 58,
      "outputs": [
        {
          "output_type": "execute_result",
          "data": {
            "text/html": [
              "<div>\n",
              "<style scoped>\n",
              "    .dataframe tbody tr th:only-of-type {\n",
              "        vertical-align: middle;\n",
              "    }\n",
              "\n",
              "    .dataframe tbody tr th {\n",
              "        vertical-align: top;\n",
              "    }\n",
              "\n",
              "    .dataframe thead th {\n",
              "        text-align: right;\n",
              "    }\n",
              "</style>\n",
              "<table border=\"1\" class=\"dataframe\">\n",
              "  <thead>\n",
              "    <tr style=\"text-align: right;\">\n",
              "      <th></th>\n",
              "      <th>Class</th>\n",
              "      <th>V14</th>\n",
              "      <th>V1</th>\n",
              "      <th>V2</th>\n",
              "      <th>V3</th>\n",
              "      <th>V4</th>\n",
              "      <th>V5</th>\n",
              "      <th>V6</th>\n",
              "      <th>V7</th>\n",
              "      <th>V8</th>\n",
              "      <th>V9</th>\n",
              "      <th>V10</th>\n",
              "      <th>V11</th>\n",
              "      <th>V12</th>\n",
              "      <th>V13</th>\n",
              "      <th>V15</th>\n",
              "      <th>Amount</th>\n",
              "      <th>V16</th>\n",
              "      <th>V17</th>\n",
              "      <th>V18</th>\n",
              "      <th>V19</th>\n",
              "      <th>V20</th>\n",
              "      <th>V21</th>\n",
              "      <th>V22</th>\n",
              "      <th>V23</th>\n",
              "      <th>V24</th>\n",
              "      <th>V25</th>\n",
              "      <th>V26</th>\n",
              "      <th>V27</th>\n",
              "      <th>V28</th>\n",
              "      <th>Time</th>\n",
              "    </tr>\n",
              "  </thead>\n",
              "  <tbody>\n",
              "    <tr>\n",
              "      <th>Total</th>\n",
              "      <td>0.0</td>\n",
              "      <td>0.0</td>\n",
              "      <td>0.0</td>\n",
              "      <td>0.0</td>\n",
              "      <td>0.0</td>\n",
              "      <td>0.0</td>\n",
              "      <td>0.0</td>\n",
              "      <td>0.0</td>\n",
              "      <td>0.0</td>\n",
              "      <td>0.0</td>\n",
              "      <td>0.0</td>\n",
              "      <td>0.0</td>\n",
              "      <td>0.0</td>\n",
              "      <td>0.0</td>\n",
              "      <td>0.0</td>\n",
              "      <td>0.0</td>\n",
              "      <td>0.0</td>\n",
              "      <td>0.0</td>\n",
              "      <td>0.0</td>\n",
              "      <td>0.0</td>\n",
              "      <td>0.0</td>\n",
              "      <td>0.0</td>\n",
              "      <td>0.0</td>\n",
              "      <td>0.0</td>\n",
              "      <td>0.0</td>\n",
              "      <td>0.0</td>\n",
              "      <td>0.0</td>\n",
              "      <td>0.0</td>\n",
              "      <td>0.0</td>\n",
              "      <td>0.0</td>\n",
              "      <td>0.0</td>\n",
              "    </tr>\n",
              "    <tr>\n",
              "      <th>Percent</th>\n",
              "      <td>0.0</td>\n",
              "      <td>0.0</td>\n",
              "      <td>0.0</td>\n",
              "      <td>0.0</td>\n",
              "      <td>0.0</td>\n",
              "      <td>0.0</td>\n",
              "      <td>0.0</td>\n",
              "      <td>0.0</td>\n",
              "      <td>0.0</td>\n",
              "      <td>0.0</td>\n",
              "      <td>0.0</td>\n",
              "      <td>0.0</td>\n",
              "      <td>0.0</td>\n",
              "      <td>0.0</td>\n",
              "      <td>0.0</td>\n",
              "      <td>0.0</td>\n",
              "      <td>0.0</td>\n",
              "      <td>0.0</td>\n",
              "      <td>0.0</td>\n",
              "      <td>0.0</td>\n",
              "      <td>0.0</td>\n",
              "      <td>0.0</td>\n",
              "      <td>0.0</td>\n",
              "      <td>0.0</td>\n",
              "      <td>0.0</td>\n",
              "      <td>0.0</td>\n",
              "      <td>0.0</td>\n",
              "      <td>0.0</td>\n",
              "      <td>0.0</td>\n",
              "      <td>0.0</td>\n",
              "      <td>0.0</td>\n",
              "    </tr>\n",
              "  </tbody>\n",
              "</table>\n",
              "</div>"
            ],
            "text/plain": [
              "         Class  V14   V1   V2   V3   V4   V5   V6   V7   V8   V9  V10  V11  \\\n",
              "Total      0.0  0.0  0.0  0.0  0.0  0.0  0.0  0.0  0.0  0.0  0.0  0.0  0.0   \n",
              "Percent    0.0  0.0  0.0  0.0  0.0  0.0  0.0  0.0  0.0  0.0  0.0  0.0  0.0   \n",
              "\n",
              "         V12  V13  V15  Amount  V16  V17  V18  V19  V20  V21  V22  V23  V24  \\\n",
              "Total    0.0  0.0  0.0     0.0  0.0  0.0  0.0  0.0  0.0  0.0  0.0  0.0  0.0   \n",
              "Percent  0.0  0.0  0.0     0.0  0.0  0.0  0.0  0.0  0.0  0.0  0.0  0.0  0.0   \n",
              "\n",
              "         V25  V26  V27  V28  Time  \n",
              "Total    0.0  0.0  0.0  0.0   0.0  \n",
              "Percent  0.0  0.0  0.0  0.0   0.0  "
            ]
          },
          "metadata": {
            "tags": []
          },
          "execution_count": 58
        }
      ]
    },
    {
      "cell_type": "code",
      "metadata": {
        "colab": {
          "base_uri": "https://localhost:8080/",
          "height": 542
        },
        "id": "0C149JJ1bqLy",
        "outputId": "98e9786d-2161-439e-d41b-927b3e854736"
      },
      "source": [
        "temp = data_df[\"Class\"].value_counts()\r\n",
        "df = pd.DataFrame({'Class': temp.index,'values': temp.values})\r\n",
        "\r\n",
        "trace = go.Bar(\r\n",
        "    x = df['Class'],y = df['values'],\r\n",
        "    name=\"Credit Card Fraud Class - data unbalance (Not fraud = 0, Fraud = 1)\",\r\n",
        "    marker=dict(color=\"Red\"),\r\n",
        "    text=df['values']\r\n",
        ")\r\n",
        "data = [trace]\r\n",
        "layout = dict(title = 'Credit Card Fraud Class - data unbalance (Not fraud = 0, Fraud = 1)',\r\n",
        "          xaxis = dict(title = 'Class', showticklabels=True), \r\n",
        "          yaxis = dict(title = 'Number of transactions'),\r\n",
        "          hovermode = 'closest',width=600\r\n",
        "         )\r\n",
        "fig = dict(data=data, layout=layout)\r\n",
        "iplot(fig, filename='class')"
      ],
      "execution_count": 64,
      "outputs": [
        {
          "output_type": "display_data",
          "data": {
            "text/html": [
              "<div>\n",
              "        \n",
              "        \n",
              "            <div id=\"5e6fe6a1-5846-4994-a850-52827549294c\" class=\"plotly-graph-div\" style=\"height:525px; width:600px;\"></div>\n",
              "            <script type=\"text/javascript\">\n",
              "                require([\"plotly\"], function(Plotly) {\n",
              "                    window.PLOTLYENV=window.PLOTLYENV || {};\n",
              "                    \n",
              "                if (document.getElementById(\"5e6fe6a1-5846-4994-a850-52827549294c\")) {\n",
              "                    Plotly.newPlot(\n",
              "                        '5e6fe6a1-5846-4994-a850-52827549294c',\n",
              "                        [{\"marker\": {\"color\": \"Red\"}, \"name\": \"Credit Card Fraud Class - data unbalance (Not fraud = 0, Fraud = 1)\", \"text\": [284315.0, 492.0], \"type\": \"bar\", \"x\": [0, 1], \"y\": [284315, 492]}],\n",
              "                        {\"hovermode\": \"closest\", \"template\": {\"data\": {\"bar\": [{\"error_x\": {\"color\": \"#2a3f5f\"}, \"error_y\": {\"color\": \"#2a3f5f\"}, \"marker\": {\"line\": {\"color\": \"#E5ECF6\", \"width\": 0.5}}, \"type\": \"bar\"}], \"barpolar\": [{\"marker\": {\"line\": {\"color\": \"#E5ECF6\", \"width\": 0.5}}, \"type\": \"barpolar\"}], \"carpet\": [{\"aaxis\": {\"endlinecolor\": \"#2a3f5f\", \"gridcolor\": \"white\", \"linecolor\": \"white\", \"minorgridcolor\": \"white\", \"startlinecolor\": \"#2a3f5f\"}, \"baxis\": {\"endlinecolor\": \"#2a3f5f\", \"gridcolor\": \"white\", \"linecolor\": \"white\", \"minorgridcolor\": \"white\", \"startlinecolor\": \"#2a3f5f\"}, \"type\": \"carpet\"}], \"choropleth\": [{\"colorbar\": {\"outlinewidth\": 0, \"ticks\": \"\"}, \"type\": \"choropleth\"}], \"contour\": [{\"colorbar\": {\"outlinewidth\": 0, \"ticks\": \"\"}, \"colorscale\": [[0.0, \"#0d0887\"], [0.1111111111111111, \"#46039f\"], [0.2222222222222222, \"#7201a8\"], [0.3333333333333333, \"#9c179e\"], [0.4444444444444444, \"#bd3786\"], [0.5555555555555556, \"#d8576b\"], [0.6666666666666666, \"#ed7953\"], [0.7777777777777778, \"#fb9f3a\"], [0.8888888888888888, \"#fdca26\"], [1.0, \"#f0f921\"]], \"type\": \"contour\"}], \"contourcarpet\": [{\"colorbar\": {\"outlinewidth\": 0, \"ticks\": \"\"}, \"type\": \"contourcarpet\"}], \"heatmap\": [{\"colorbar\": {\"outlinewidth\": 0, \"ticks\": \"\"}, \"colorscale\": [[0.0, \"#0d0887\"], [0.1111111111111111, \"#46039f\"], [0.2222222222222222, \"#7201a8\"], [0.3333333333333333, \"#9c179e\"], [0.4444444444444444, \"#bd3786\"], [0.5555555555555556, \"#d8576b\"], [0.6666666666666666, \"#ed7953\"], [0.7777777777777778, \"#fb9f3a\"], [0.8888888888888888, \"#fdca26\"], [1.0, \"#f0f921\"]], \"type\": \"heatmap\"}], \"heatmapgl\": [{\"colorbar\": {\"outlinewidth\": 0, \"ticks\": \"\"}, \"colorscale\": [[0.0, \"#0d0887\"], [0.1111111111111111, \"#46039f\"], [0.2222222222222222, \"#7201a8\"], [0.3333333333333333, \"#9c179e\"], [0.4444444444444444, \"#bd3786\"], [0.5555555555555556, \"#d8576b\"], [0.6666666666666666, \"#ed7953\"], [0.7777777777777778, \"#fb9f3a\"], [0.8888888888888888, \"#fdca26\"], [1.0, \"#f0f921\"]], \"type\": \"heatmapgl\"}], \"histogram\": [{\"marker\": {\"colorbar\": {\"outlinewidth\": 0, \"ticks\": \"\"}}, \"type\": \"histogram\"}], \"histogram2d\": [{\"colorbar\": {\"outlinewidth\": 0, \"ticks\": \"\"}, \"colorscale\": [[0.0, \"#0d0887\"], [0.1111111111111111, \"#46039f\"], [0.2222222222222222, \"#7201a8\"], [0.3333333333333333, \"#9c179e\"], [0.4444444444444444, \"#bd3786\"], [0.5555555555555556, \"#d8576b\"], [0.6666666666666666, \"#ed7953\"], [0.7777777777777778, \"#fb9f3a\"], [0.8888888888888888, \"#fdca26\"], [1.0, \"#f0f921\"]], \"type\": \"histogram2d\"}], \"histogram2dcontour\": [{\"colorbar\": {\"outlinewidth\": 0, \"ticks\": \"\"}, \"colorscale\": [[0.0, \"#0d0887\"], [0.1111111111111111, \"#46039f\"], [0.2222222222222222, \"#7201a8\"], [0.3333333333333333, \"#9c179e\"], [0.4444444444444444, \"#bd3786\"], [0.5555555555555556, \"#d8576b\"], [0.6666666666666666, \"#ed7953\"], [0.7777777777777778, \"#fb9f3a\"], [0.8888888888888888, \"#fdca26\"], [1.0, \"#f0f921\"]], \"type\": \"histogram2dcontour\"}], \"mesh3d\": [{\"colorbar\": {\"outlinewidth\": 0, \"ticks\": \"\"}, \"type\": \"mesh3d\"}], \"parcoords\": [{\"line\": {\"colorbar\": {\"outlinewidth\": 0, \"ticks\": \"\"}}, \"type\": \"parcoords\"}], \"pie\": [{\"automargin\": true, \"type\": \"pie\"}], \"scatter\": [{\"marker\": {\"colorbar\": {\"outlinewidth\": 0, \"ticks\": \"\"}}, \"type\": \"scatter\"}], \"scatter3d\": [{\"line\": {\"colorbar\": {\"outlinewidth\": 0, \"ticks\": \"\"}}, \"marker\": {\"colorbar\": {\"outlinewidth\": 0, \"ticks\": \"\"}}, \"type\": \"scatter3d\"}], \"scattercarpet\": [{\"marker\": {\"colorbar\": {\"outlinewidth\": 0, \"ticks\": \"\"}}, \"type\": \"scattercarpet\"}], \"scattergeo\": [{\"marker\": {\"colorbar\": {\"outlinewidth\": 0, \"ticks\": \"\"}}, \"type\": \"scattergeo\"}], \"scattergl\": [{\"marker\": {\"colorbar\": {\"outlinewidth\": 0, \"ticks\": \"\"}}, \"type\": \"scattergl\"}], \"scattermapbox\": [{\"marker\": {\"colorbar\": {\"outlinewidth\": 0, \"ticks\": \"\"}}, \"type\": \"scattermapbox\"}], \"scatterpolar\": [{\"marker\": {\"colorbar\": {\"outlinewidth\": 0, \"ticks\": \"\"}}, \"type\": \"scatterpolar\"}], \"scatterpolargl\": [{\"marker\": {\"colorbar\": {\"outlinewidth\": 0, \"ticks\": \"\"}}, \"type\": \"scatterpolargl\"}], \"scatterternary\": [{\"marker\": {\"colorbar\": {\"outlinewidth\": 0, \"ticks\": \"\"}}, \"type\": \"scatterternary\"}], \"surface\": [{\"colorbar\": {\"outlinewidth\": 0, \"ticks\": \"\"}, \"colorscale\": [[0.0, \"#0d0887\"], [0.1111111111111111, \"#46039f\"], [0.2222222222222222, \"#7201a8\"], [0.3333333333333333, \"#9c179e\"], [0.4444444444444444, \"#bd3786\"], [0.5555555555555556, \"#d8576b\"], [0.6666666666666666, \"#ed7953\"], [0.7777777777777778, \"#fb9f3a\"], [0.8888888888888888, \"#fdca26\"], [1.0, \"#f0f921\"]], \"type\": \"surface\"}], \"table\": [{\"cells\": {\"fill\": {\"color\": \"#EBF0F8\"}, \"line\": {\"color\": \"white\"}}, \"header\": {\"fill\": {\"color\": \"#C8D4E3\"}, \"line\": {\"color\": \"white\"}}, \"type\": \"table\"}]}, \"layout\": {\"annotationdefaults\": {\"arrowcolor\": \"#2a3f5f\", \"arrowhead\": 0, \"arrowwidth\": 1}, \"coloraxis\": {\"colorbar\": {\"outlinewidth\": 0, \"ticks\": \"\"}}, \"colorscale\": {\"diverging\": [[0, \"#8e0152\"], [0.1, \"#c51b7d\"], [0.2, \"#de77ae\"], [0.3, \"#f1b6da\"], [0.4, \"#fde0ef\"], [0.5, \"#f7f7f7\"], [0.6, \"#e6f5d0\"], [0.7, \"#b8e186\"], [0.8, \"#7fbc41\"], [0.9, \"#4d9221\"], [1, \"#276419\"]], \"sequential\": [[0.0, \"#0d0887\"], [0.1111111111111111, \"#46039f\"], [0.2222222222222222, \"#7201a8\"], [0.3333333333333333, \"#9c179e\"], [0.4444444444444444, \"#bd3786\"], [0.5555555555555556, \"#d8576b\"], [0.6666666666666666, \"#ed7953\"], [0.7777777777777778, \"#fb9f3a\"], [0.8888888888888888, \"#fdca26\"], [1.0, \"#f0f921\"]], \"sequentialminus\": [[0.0, \"#0d0887\"], [0.1111111111111111, \"#46039f\"], [0.2222222222222222, \"#7201a8\"], [0.3333333333333333, \"#9c179e\"], [0.4444444444444444, \"#bd3786\"], [0.5555555555555556, \"#d8576b\"], [0.6666666666666666, \"#ed7953\"], [0.7777777777777778, \"#fb9f3a\"], [0.8888888888888888, \"#fdca26\"], [1.0, \"#f0f921\"]]}, \"colorway\": [\"#636efa\", \"#EF553B\", \"#00cc96\", \"#ab63fa\", \"#FFA15A\", \"#19d3f3\", \"#FF6692\", \"#B6E880\", \"#FF97FF\", \"#FECB52\"], \"font\": {\"color\": \"#2a3f5f\"}, \"geo\": {\"bgcolor\": \"white\", \"lakecolor\": \"white\", \"landcolor\": \"#E5ECF6\", \"showlakes\": true, \"showland\": true, \"subunitcolor\": \"white\"}, \"hoverlabel\": {\"align\": \"left\"}, \"hovermode\": \"closest\", \"mapbox\": {\"style\": \"light\"}, \"paper_bgcolor\": \"white\", \"plot_bgcolor\": \"#E5ECF6\", \"polar\": {\"angularaxis\": {\"gridcolor\": \"white\", \"linecolor\": \"white\", \"ticks\": \"\"}, \"bgcolor\": \"#E5ECF6\", \"radialaxis\": {\"gridcolor\": \"white\", \"linecolor\": \"white\", \"ticks\": \"\"}}, \"scene\": {\"xaxis\": {\"backgroundcolor\": \"#E5ECF6\", \"gridcolor\": \"white\", \"gridwidth\": 2, \"linecolor\": \"white\", \"showbackground\": true, \"ticks\": \"\", \"zerolinecolor\": \"white\"}, \"yaxis\": {\"backgroundcolor\": \"#E5ECF6\", \"gridcolor\": \"white\", \"gridwidth\": 2, \"linecolor\": \"white\", \"showbackground\": true, \"ticks\": \"\", \"zerolinecolor\": \"white\"}, \"zaxis\": {\"backgroundcolor\": \"#E5ECF6\", \"gridcolor\": \"white\", \"gridwidth\": 2, \"linecolor\": \"white\", \"showbackground\": true, \"ticks\": \"\", \"zerolinecolor\": \"white\"}}, \"shapedefaults\": {\"line\": {\"color\": \"#2a3f5f\"}}, \"ternary\": {\"aaxis\": {\"gridcolor\": \"white\", \"linecolor\": \"white\", \"ticks\": \"\"}, \"baxis\": {\"gridcolor\": \"white\", \"linecolor\": \"white\", \"ticks\": \"\"}, \"bgcolor\": \"#E5ECF6\", \"caxis\": {\"gridcolor\": \"white\", \"linecolor\": \"white\", \"ticks\": \"\"}}, \"title\": {\"x\": 0.05}, \"xaxis\": {\"automargin\": true, \"gridcolor\": \"white\", \"linecolor\": \"white\", \"ticks\": \"\", \"title\": {\"standoff\": 15}, \"zerolinecolor\": \"white\", \"zerolinewidth\": 2}, \"yaxis\": {\"automargin\": true, \"gridcolor\": \"white\", \"linecolor\": \"white\", \"ticks\": \"\", \"title\": {\"standoff\": 15}, \"zerolinecolor\": \"white\", \"zerolinewidth\": 2}}}, \"title\": {\"text\": \"Credit Card Fraud Class - data unbalance (Not fraud = 0, Fraud = 1)\"}, \"width\": 600, \"xaxis\": {\"showticklabels\": true, \"title\": {\"text\": \"Class\"}}, \"yaxis\": {\"title\": {\"text\": \"Number of transactions\"}}},\n",
              "                        {\"responsive\": true}\n",
              "                    ).then(function(){\n",
              "                            \n",
              "var gd = document.getElementById('5e6fe6a1-5846-4994-a850-52827549294c');\n",
              "var x = new MutationObserver(function (mutations, observer) {{\n",
              "        var display = window.getComputedStyle(gd).display;\n",
              "        if (!display || display === 'none') {{\n",
              "            console.log([gd, 'removed!']);\n",
              "            Plotly.purge(gd);\n",
              "            observer.disconnect();\n",
              "        }}\n",
              "}});\n",
              "\n",
              "// Listen for the removal of the full notebook cells\n",
              "var notebookContainer = gd.closest('#notebook-container');\n",
              "if (notebookContainer) {{\n",
              "    x.observe(notebookContainer, {childList: true});\n",
              "}}\n",
              "\n",
              "// Listen for the clearing of the current output cell\n",
              "var outputEl = gd.closest('.output');\n",
              "if (outputEl) {{\n",
              "    x.observe(outputEl, {childList: true});\n",
              "}}\n",
              "\n",
              "                        })\n",
              "                };\n",
              "                });\n",
              "            </script>\n",
              "        </div>"
            ],
            "application/vnd.plotly.v1+json": {
              "data": [
                {
                  "name": "Credit Card Fraud Class - data unbalance (Not fraud = 0, Fraud = 1)",
                  "text": [
                    284315,
                    492
                  ],
                  "y": [
                    284315,
                    492
                  ],
                  "marker": {
                    "color": "Red"
                  },
                  "x": [
                    0,
                    1
                  ],
                  "type": "bar"
                }
              ],
              "config": {
                "plotlyServerURL": "https://plot.ly",
                "linkText": "Export to plot.ly",
                "showLink": false
              },
              "layout": {
                "template": {
                  "layout": {
                    "shapedefaults": {
                      "line": {
                        "color": "#2a3f5f"
                      }
                    },
                    "polar": {
                      "radialaxis": {
                        "ticks": "",
                        "gridcolor": "white",
                        "linecolor": "white"
                      },
                      "bgcolor": "#E5ECF6",
                      "angularaxis": {
                        "ticks": "",
                        "gridcolor": "white",
                        "linecolor": "white"
                      }
                    },
                    "colorway": [
                      "#636efa",
                      "#EF553B",
                      "#00cc96",
                      "#ab63fa",
                      "#FFA15A",
                      "#19d3f3",
                      "#FF6692",
                      "#B6E880",
                      "#FF97FF",
                      "#FECB52"
                    ],
                    "xaxis": {
                      "automargin": true,
                      "title": {
                        "standoff": 15
                      },
                      "zerolinewidth": 2,
                      "ticks": "",
                      "zerolinecolor": "white",
                      "gridcolor": "white",
                      "linecolor": "white"
                    },
                    "colorscale": {
                      "diverging": [
                        [
                          0,
                          "#8e0152"
                        ],
                        [
                          0.1,
                          "#c51b7d"
                        ],
                        [
                          0.2,
                          "#de77ae"
                        ],
                        [
                          0.3,
                          "#f1b6da"
                        ],
                        [
                          0.4,
                          "#fde0ef"
                        ],
                        [
                          0.5,
                          "#f7f7f7"
                        ],
                        [
                          0.6,
                          "#e6f5d0"
                        ],
                        [
                          0.7,
                          "#b8e186"
                        ],
                        [
                          0.8,
                          "#7fbc41"
                        ],
                        [
                          0.9,
                          "#4d9221"
                        ],
                        [
                          1,
                          "#276419"
                        ]
                      ],
                      "sequential": [
                        [
                          0,
                          "#0d0887"
                        ],
                        [
                          0.1111111111111111,
                          "#46039f"
                        ],
                        [
                          0.2222222222222222,
                          "#7201a8"
                        ],
                        [
                          0.3333333333333333,
                          "#9c179e"
                        ],
                        [
                          0.4444444444444444,
                          "#bd3786"
                        ],
                        [
                          0.5555555555555556,
                          "#d8576b"
                        ],
                        [
                          0.6666666666666666,
                          "#ed7953"
                        ],
                        [
                          0.7777777777777778,
                          "#fb9f3a"
                        ],
                        [
                          0.8888888888888888,
                          "#fdca26"
                        ],
                        [
                          1,
                          "#f0f921"
                        ]
                      ],
                      "sequentialminus": [
                        [
                          0,
                          "#0d0887"
                        ],
                        [
                          0.1111111111111111,
                          "#46039f"
                        ],
                        [
                          0.2222222222222222,
                          "#7201a8"
                        ],
                        [
                          0.3333333333333333,
                          "#9c179e"
                        ],
                        [
                          0.4444444444444444,
                          "#bd3786"
                        ],
                        [
                          0.5555555555555556,
                          "#d8576b"
                        ],
                        [
                          0.6666666666666666,
                          "#ed7953"
                        ],
                        [
                          0.7777777777777778,
                          "#fb9f3a"
                        ],
                        [
                          0.8888888888888888,
                          "#fdca26"
                        ],
                        [
                          1,
                          "#f0f921"
                        ]
                      ]
                    },
                    "paper_bgcolor": "white",
                    "plot_bgcolor": "#E5ECF6",
                    "title": {
                      "x": 0.05
                    },
                    "scene": {
                      "zaxis": {
                        "backgroundcolor": "#E5ECF6",
                        "ticks": "",
                        "gridwidth": 2,
                        "showbackground": true,
                        "zerolinecolor": "white",
                        "gridcolor": "white",
                        "linecolor": "white"
                      },
                      "xaxis": {
                        "backgroundcolor": "#E5ECF6",
                        "ticks": "",
                        "gridwidth": 2,
                        "showbackground": true,
                        "zerolinecolor": "white",
                        "gridcolor": "white",
                        "linecolor": "white"
                      },
                      "yaxis": {
                        "backgroundcolor": "#E5ECF6",
                        "ticks": "",
                        "gridwidth": 2,
                        "showbackground": true,
                        "zerolinecolor": "white",
                        "gridcolor": "white",
                        "linecolor": "white"
                      }
                    },
                    "yaxis": {
                      "automargin": true,
                      "title": {
                        "standoff": 15
                      },
                      "zerolinewidth": 2,
                      "ticks": "",
                      "zerolinecolor": "white",
                      "gridcolor": "white",
                      "linecolor": "white"
                    },
                    "annotationdefaults": {
                      "arrowwidth": 1,
                      "arrowhead": 0,
                      "arrowcolor": "#2a3f5f"
                    },
                    "hoverlabel": {
                      "align": "left"
                    },
                    "ternary": {
                      "bgcolor": "#E5ECF6",
                      "baxis": {
                        "ticks": "",
                        "gridcolor": "white",
                        "linecolor": "white"
                      },
                      "caxis": {
                        "ticks": "",
                        "gridcolor": "white",
                        "linecolor": "white"
                      },
                      "aaxis": {
                        "ticks": "",
                        "gridcolor": "white",
                        "linecolor": "white"
                      }
                    },
                    "mapbox": {
                      "style": "light"
                    },
                    "hovermode": "closest",
                    "font": {
                      "color": "#2a3f5f"
                    },
                    "geo": {
                      "showland": true,
                      "landcolor": "#E5ECF6",
                      "showlakes": true,
                      "bgcolor": "white",
                      "subunitcolor": "white",
                      "lakecolor": "white"
                    },
                    "coloraxis": {
                      "colorbar": {
                        "outlinewidth": 0,
                        "ticks": ""
                      }
                    }
                  },
                  "data": {
                    "mesh3d": [
                      {
                        "colorbar": {
                          "outlinewidth": 0,
                          "ticks": ""
                        },
                        "type": "mesh3d"
                      }
                    ],
                    "scattercarpet": [
                      {
                        "marker": {
                          "colorbar": {
                            "outlinewidth": 0,
                            "ticks": ""
                          }
                        },
                        "type": "scattercarpet"
                      }
                    ],
                    "pie": [
                      {
                        "automargin": true,
                        "type": "pie"
                      }
                    ],
                    "surface": [
                      {
                        "colorbar": {
                          "outlinewidth": 0,
                          "ticks": ""
                        },
                        "type": "surface",
                        "colorscale": [
                          [
                            0,
                            "#0d0887"
                          ],
                          [
                            0.1111111111111111,
                            "#46039f"
                          ],
                          [
                            0.2222222222222222,
                            "#7201a8"
                          ],
                          [
                            0.3333333333333333,
                            "#9c179e"
                          ],
                          [
                            0.4444444444444444,
                            "#bd3786"
                          ],
                          [
                            0.5555555555555556,
                            "#d8576b"
                          ],
                          [
                            0.6666666666666666,
                            "#ed7953"
                          ],
                          [
                            0.7777777777777778,
                            "#fb9f3a"
                          ],
                          [
                            0.8888888888888888,
                            "#fdca26"
                          ],
                          [
                            1,
                            "#f0f921"
                          ]
                        ]
                      }
                    ],
                    "table": [
                      {
                        "header": {
                          "line": {
                            "color": "white"
                          },
                          "fill": {
                            "color": "#C8D4E3"
                          }
                        },
                        "cells": {
                          "line": {
                            "color": "white"
                          },
                          "fill": {
                            "color": "#EBF0F8"
                          }
                        },
                        "type": "table"
                      }
                    ],
                    "scatterpolargl": [
                      {
                        "marker": {
                          "colorbar": {
                            "outlinewidth": 0,
                            "ticks": ""
                          }
                        },
                        "type": "scatterpolargl"
                      }
                    ],
                    "contour": [
                      {
                        "colorbar": {
                          "outlinewidth": 0,
                          "ticks": ""
                        },
                        "type": "contour",
                        "colorscale": [
                          [
                            0,
                            "#0d0887"
                          ],
                          [
                            0.1111111111111111,
                            "#46039f"
                          ],
                          [
                            0.2222222222222222,
                            "#7201a8"
                          ],
                          [
                            0.3333333333333333,
                            "#9c179e"
                          ],
                          [
                            0.4444444444444444,
                            "#bd3786"
                          ],
                          [
                            0.5555555555555556,
                            "#d8576b"
                          ],
                          [
                            0.6666666666666666,
                            "#ed7953"
                          ],
                          [
                            0.7777777777777778,
                            "#fb9f3a"
                          ],
                          [
                            0.8888888888888888,
                            "#fdca26"
                          ],
                          [
                            1,
                            "#f0f921"
                          ]
                        ]
                      }
                    ],
                    "carpet": [
                      {
                        "type": "carpet",
                        "baxis": {
                          "minorgridcolor": "white",
                          "gridcolor": "white",
                          "linecolor": "white",
                          "endlinecolor": "#2a3f5f",
                          "startlinecolor": "#2a3f5f"
                        },
                        "aaxis": {
                          "minorgridcolor": "white",
                          "gridcolor": "white",
                          "linecolor": "white",
                          "endlinecolor": "#2a3f5f",
                          "startlinecolor": "#2a3f5f"
                        }
                      }
                    ],
                    "contourcarpet": [
                      {
                        "colorbar": {
                          "outlinewidth": 0,
                          "ticks": ""
                        },
                        "type": "contourcarpet"
                      }
                    ],
                    "heatmap": [
                      {
                        "colorbar": {
                          "outlinewidth": 0,
                          "ticks": ""
                        },
                        "type": "heatmap",
                        "colorscale": [
                          [
                            0,
                            "#0d0887"
                          ],
                          [
                            0.1111111111111111,
                            "#46039f"
                          ],
                          [
                            0.2222222222222222,
                            "#7201a8"
                          ],
                          [
                            0.3333333333333333,
                            "#9c179e"
                          ],
                          [
                            0.4444444444444444,
                            "#bd3786"
                          ],
                          [
                            0.5555555555555556,
                            "#d8576b"
                          ],
                          [
                            0.6666666666666666,
                            "#ed7953"
                          ],
                          [
                            0.7777777777777778,
                            "#fb9f3a"
                          ],
                          [
                            0.8888888888888888,
                            "#fdca26"
                          ],
                          [
                            1,
                            "#f0f921"
                          ]
                        ]
                      }
                    ],
                    "scattermapbox": [
                      {
                        "marker": {
                          "colorbar": {
                            "outlinewidth": 0,
                            "ticks": ""
                          }
                        },
                        "type": "scattermapbox"
                      }
                    ],
                    "scatter3d": [
                      {
                        "marker": {
                          "colorbar": {
                            "outlinewidth": 0,
                            "ticks": ""
                          }
                        },
                        "line": {
                          "colorbar": {
                            "outlinewidth": 0,
                            "ticks": ""
                          }
                        },
                        "type": "scatter3d"
                      }
                    ],
                    "scattergl": [
                      {
                        "marker": {
                          "colorbar": {
                            "outlinewidth": 0,
                            "ticks": ""
                          }
                        },
                        "type": "scattergl"
                      }
                    ],
                    "scatterternary": [
                      {
                        "marker": {
                          "colorbar": {
                            "outlinewidth": 0,
                            "ticks": ""
                          }
                        },
                        "type": "scatterternary"
                      }
                    ],
                    "histogram": [
                      {
                        "marker": {
                          "colorbar": {
                            "outlinewidth": 0,
                            "ticks": ""
                          }
                        },
                        "type": "histogram"
                      }
                    ],
                    "heatmapgl": [
                      {
                        "colorbar": {
                          "outlinewidth": 0,
                          "ticks": ""
                        },
                        "type": "heatmapgl",
                        "colorscale": [
                          [
                            0,
                            "#0d0887"
                          ],
                          [
                            0.1111111111111111,
                            "#46039f"
                          ],
                          [
                            0.2222222222222222,
                            "#7201a8"
                          ],
                          [
                            0.3333333333333333,
                            "#9c179e"
                          ],
                          [
                            0.4444444444444444,
                            "#bd3786"
                          ],
                          [
                            0.5555555555555556,
                            "#d8576b"
                          ],
                          [
                            0.6666666666666666,
                            "#ed7953"
                          ],
                          [
                            0.7777777777777778,
                            "#fb9f3a"
                          ],
                          [
                            0.8888888888888888,
                            "#fdca26"
                          ],
                          [
                            1,
                            "#f0f921"
                          ]
                        ]
                      }
                    ],
                    "scatterpolar": [
                      {
                        "marker": {
                          "colorbar": {
                            "outlinewidth": 0,
                            "ticks": ""
                          }
                        },
                        "type": "scatterpolar"
                      }
                    ],
                    "histogram2d": [
                      {
                        "colorbar": {
                          "outlinewidth": 0,
                          "ticks": ""
                        },
                        "type": "histogram2d",
                        "colorscale": [
                          [
                            0,
                            "#0d0887"
                          ],
                          [
                            0.1111111111111111,
                            "#46039f"
                          ],
                          [
                            0.2222222222222222,
                            "#7201a8"
                          ],
                          [
                            0.3333333333333333,
                            "#9c179e"
                          ],
                          [
                            0.4444444444444444,
                            "#bd3786"
                          ],
                          [
                            0.5555555555555556,
                            "#d8576b"
                          ],
                          [
                            0.6666666666666666,
                            "#ed7953"
                          ],
                          [
                            0.7777777777777778,
                            "#fb9f3a"
                          ],
                          [
                            0.8888888888888888,
                            "#fdca26"
                          ],
                          [
                            1,
                            "#f0f921"
                          ]
                        ]
                      }
                    ],
                    "scattergeo": [
                      {
                        "marker": {
                          "colorbar": {
                            "outlinewidth": 0,
                            "ticks": ""
                          }
                        },
                        "type": "scattergeo"
                      }
                    ],
                    "bar": [
                      {
                        "marker": {
                          "line": {
                            "color": "#E5ECF6",
                            "width": 0.5
                          }
                        },
                        "type": "bar",
                        "error_x": {
                          "color": "#2a3f5f"
                        },
                        "error_y": {
                          "color": "#2a3f5f"
                        }
                      }
                    ],
                    "choropleth": [
                      {
                        "colorbar": {
                          "outlinewidth": 0,
                          "ticks": ""
                        },
                        "type": "choropleth"
                      }
                    ],
                    "parcoords": [
                      {
                        "line": {
                          "colorbar": {
                            "outlinewidth": 0,
                            "ticks": ""
                          }
                        },
                        "type": "parcoords"
                      }
                    ],
                    "barpolar": [
                      {
                        "marker": {
                          "line": {
                            "color": "#E5ECF6",
                            "width": 0.5
                          }
                        },
                        "type": "barpolar"
                      }
                    ],
                    "histogram2dcontour": [
                      {
                        "colorbar": {
                          "outlinewidth": 0,
                          "ticks": ""
                        },
                        "type": "histogram2dcontour",
                        "colorscale": [
                          [
                            0,
                            "#0d0887"
                          ],
                          [
                            0.1111111111111111,
                            "#46039f"
                          ],
                          [
                            0.2222222222222222,
                            "#7201a8"
                          ],
                          [
                            0.3333333333333333,
                            "#9c179e"
                          ],
                          [
                            0.4444444444444444,
                            "#bd3786"
                          ],
                          [
                            0.5555555555555556,
                            "#d8576b"
                          ],
                          [
                            0.6666666666666666,
                            "#ed7953"
                          ],
                          [
                            0.7777777777777778,
                            "#fb9f3a"
                          ],
                          [
                            0.8888888888888888,
                            "#fdca26"
                          ],
                          [
                            1,
                            "#f0f921"
                          ]
                        ]
                      }
                    ],
                    "scatter": [
                      {
                        "marker": {
                          "colorbar": {
                            "outlinewidth": 0,
                            "ticks": ""
                          }
                        },
                        "type": "scatter"
                      }
                    ]
                  }
                },
                "yaxis": {
                  "title": {
                    "text": "Number of transactions"
                  }
                },
                "title": {
                  "text": "Credit Card Fraud Class - data unbalance (Not fraud = 0, Fraud = 1)"
                },
                "width": 600,
                "xaxis": {
                  "showticklabels": true,
                  "title": {
                    "text": "Class"
                  }
                },
                "hovermode": "closest"
              }
            }
          },
          "metadata": {
            "tags": []
          }
        }
      ]
    },
    {
      "cell_type": "code",
      "metadata": {
        "colab": {
          "base_uri": "https://localhost:8080/",
          "height": 388
        },
        "id": "3gcXhdX-cC2a",
        "outputId": "f87227ad-0684-40da-a858-095b816d4572"
      },
      "source": [
        "fig, (ax1, ax2) = plt.subplots(ncols=2, figsize=(12,6))\r\n",
        "s = sns.boxplot(ax = ax1, x=\"Class\", y=\"Amount\", hue=\"Class\",data=data_df, palette=\"PRGn\",showfliers=True)\r\n",
        "s = sns.boxplot(ax = ax2, x=\"Class\", y=\"Amount\", hue=\"Class\",data=data_df, palette=\"PRGn\",showfliers=False)\r\n",
        "plt.show()"
      ],
      "execution_count": 65,
      "outputs": [
        {
          "output_type": "display_data",
          "data": {
            "image/png": "[encoded data removed]",
            "text/plain": [
              "<Figure size 864x432 with 2 Axes>"
            ]
          },
          "metadata": {
            "tags": [],
            "needs_background": "light"
          }
        }
      ]
    },
    {
      "cell_type": "code",
      "metadata": {
        "colab": {
          "base_uri": "https://localhost:8080/",
          "height": 542
        },
        "id": "qR-XShdycNA4",
        "outputId": "940c877f-bacb-4e76-e58b-7fa0e0c02d76"
      },
      "source": [
        "fraud = data_df.loc[data_df['Class'] == 1]\r\n",
        "\r\n",
        "trace = go.Scatter(\r\n",
        "    x = fraud['Time'],y = fraud['Amount'],\r\n",
        "    name=\"Amount\",\r\n",
        "     marker=dict(\r\n",
        "                color='rgb(238,23,11)',\r\n",
        "                line=dict(\r\n",
        "                    color='red',\r\n",
        "                    width=1),\r\n",
        "                opacity=0.5,\r\n",
        "            ),\r\n",
        "    text= fraud['Amount'],\r\n",
        "    mode = \"markers\"\r\n",
        ")\r\n",
        "data = [trace]\r\n",
        "layout = dict(title = 'Amount of fraudulent transactions',\r\n",
        "          xaxis = dict(title = 'Time [s]', showticklabels=True), \r\n",
        "          yaxis = dict(title = 'Amount'),\r\n",
        "          hovermode='closest'\r\n",
        "         )\r\n",
        "fig = dict(data=data, layout=layout)\r\n",
        "iplot(fig, filename='fraud-amount')"
      ],
      "execution_count": 67,
      "outputs": [
        {
          "output_type": "display_data",
          "data": {
            "text/html": [
              "<div>\n",
              "        \n",
              "        \n",
              "            <div id=\"caf1eb71-9a50-4389-9777-5d78657d835f\" class=\"plotly-graph-div\" style=\"height:525px; width:100%;\"></div>\n",
              "            <script type=\"text/javascript\">\n",
              "                require([\"plotly\"], function(Plotly) {\n",
              "                    window.PLOTLYENV=window.PLOTLYENV || {};\n",
              "                    \n",
              "                if (document.getElementById(\"caf1eb71-9a50-4389-9777-5d78657d835f\")) {\n",
              "                    Plotly.newPlot(\n",
              "                        'caf1eb71-9a50-4389-9777-5d78657d835f',\n",
              "                        [{\"marker\": {\"color\": \"rgb(238,23,11)\", \"line\": {\"color\": \"red\", \"width\": 1}, \"opacity\": 0.5}, \"mode\": \"markers\", \"name\": \"Amount\", \"text\": [0.0, 529.0, 239.93, 59.0, 1.0, 1.0, 1.0, 1.0, 1.0, 1.0, 1.0, 1.0, 1.0, 1.0, 1.0, 1.0, 1.0, 1.0, 1.0, 1.0, 1.0, 1.1, 1.0, 1.0, 1809.68, 1.0, 1.0, 1.0, 1.0, 1.0, 0.0, 30.39, 179.66, 1.0, 1.0, 1.0, 1.0, 1.0, 11.39, 3.79, 3.79, 3.93, 1.0, 766.36, 1218.89, 1.0, 188.78, 1.0, 1.0, 1.0, 1.0, 1.0, 1.0, 1.0, 1.0, 1.0, 3.12, 99.99, 99.99, 99.99, 3.76, 99.99, 99.99, 99.99, 99.99, 99.99, 99.99, 99.99, 99.99, 99.99, 99.99, 99.99, 99.99, 23.36, 99.99, 730.86, 99.99, 99.99, 99.99, 99.99, 99.99, 0.68, 0.68, 0.68, 30.3, 104.81, 0.0, 717.15, 19.02, 1.52, 18.96, 125.3, 19.02, 0.76, 60.6, 7.61, 1.0, 9.13, 4.56, 14.46, 111.7, 111.7, 12.31, 776.83, 1.0, 1.0, 1.0, 1.0, 0.76, 0.76, 112.33, 3.79, 340.11, 88.23, 5.3, 83.38, 11.38, 1.52, 88.23, 30.26, 459.07, 0.0, 118.3, 45.49, 173.07, 37.32, 59.68, 0.76, 9.99, 34.12, 273.01, 106.55, 364.19, 39.45, 53.95, 172.32, 802.52, 99.99, 139.9, 1.0, 1.0, 1.0, 1.0, 1.0, 648.0, 204.27, 88.0, 24.9, 1.0, 1.0, 1.0, 105.99, 1.0, 1.0, 1.0, 1.0, 0.76, 7.58, 0.76, 0.76, 208.58, 1.0, 19.73, 360.0, 99.99, 99.99, 99.99, 99.99, 99.99, 519.9, 0.76, 0.76, 1.18, 8.0, 0.0, 112.45, 261.87, 1.79, 1.0, 0.83, 0.83, 130.44, 311.91, 170.92, 153.46, 7.52, 1.0, 5.0, 0.01, 444.17, 1.0, 1.0, 1.0, 1.75, 5.09, 270.0, 113.92, 45.64, 1389.56, 18.98, 6.27, 319.2, 5.91, 454.82, 101.5, 19.04, 6.62, 180.0, 1.0, 1.1, 1402.16, 290.18, 294.9, 1.0, 0.0, 0.0, 720.38, 31.91, 1354.25, 98.01, 101.5, 7.53, 489.71, 549.06, 320.0, 1.0, 1.0, 1.0, 1.0, 1.0, 1.0, 19.59, 1.0, 227.3, 3.79, 318.11, 824.83, 0.76, 426.4, 238.9, 45.03, 16.48, 76.94, 311.28, 30.14, 29.95, 124.53, 99.85, 99.9, 219.8, 254.76, 1.0, 1.0, 1.0, 1.0, 129.0, 1.0, 1.0, 1.0, 106.9, 60.0, 0.2, 7.57, 1.0, 1.0, 0.0, 0.0, 512.25, 512.25, 12.31, 354.33, 2.0, 0.0, 0.0, 252.92, 252.92, 1.0, 240.77, 1.0, 310.42, 323.77, 451.27, 829.41, 1.18, 9.21, 6.99, 38.76, 52.69, 1.0, 1.0, 261.22, 18.0, 600.73, 1.0, 75.86, 8.54, 0.01, 44.9, 44.9, 316.06, 316.06, 209.65, 78.0, 78.0, 188.52, 188.52, 30.31, 30.31, 104.03, 104.03, 1.0, 1.0, 37.93, 97.0, 11.4, 45.48, 1.0, 1.0, 1.0, 1.0, 1.0, 33.76, 571.48, 1.63, 1.63, 18.96, 33.59, 1.0, 8.64, 9.82, 2.28, 1.0, 0.76, 1.0, 0.92, 2.28, 147.87, 0.0, 22.04, 0.0, 104.0, 2.28, 0.01, 1.0, 346.94, 7.59, 0.0, 0.0, 119.74, 2.27, 0.0, 186.13, 1.0, 0.76, 80.22, 635.1, 17.06, 65.0, 105.89, 105.89, 144.62, 2125.87, 11.0, 45.51, 40.0, 3.22, 0.0, 25.0, 67.9, 93.35, 1.0, 175.9, 720.8, 7.18, 4.87, 80.9, 0.0, 2.0, 1.0, 362.55, 276.17, 723.21, 480.72, 1.0, 1335.0, 0.0, 130.21, 1.0, 925.31, 0.0, 345.0, 108.51, 84.28, 39.45, 0.01, 727.91, 22.47, 8.3, 120.54, 0.69, 723.21, 0.77, 592.9, 195.66, 4.49, 0.76, 324.59, 320.01, 2.0, 144.8, 0.0, 1.0, 1.0, 8.9, 1.0, 667.55, 0.0, 1.18, 2.22, 0.77, 94.82, 8.0, 996.27, 0.0, 1.59, 1.59, 0.0, 0.76, 0.76, 122.68, 0.0, 1.0, 1.1, 2.0, 17.39, 50.0, 237.26, 1.0, 9.29, 10.7, 0.01, 57.73, 1.0, 1.0, 1.0, 1.0, 1.0, 2.47, 357.95, 247.86, 51.37, 0.0, 0.76, 1504.93, 1096.99, 35.0, 6.74, 0.77, 0.77, 0.77, 3.9, 3.14, 7.06, 94.82, 0.77, 0.77, 187.11, 7.59, 4.97, 0.77, 296.0, 45.51, 4.9, 156.0, 4.69, 0.77, 1.0, 0.77, 127.14, 0.38, 39.98, 12.31, 0.0, 39.9, 634.3, 19.95, 349.08, 390.0, 0.76, 77.89, 245.0, 42.53], \"type\": \"scatter\", \"x\": [406.0, 472.0, 4462.0, 6986.0, 7519.0, 7526.0, 7535.0, 7543.0, 7551.0, 7610.0, 7672.0, 7740.0, 7891.0, 8090.0, 8169.0, 8408.0, 8415.0, 8451.0, 8528.0, 8614.0, 8757.0, 8808.0, 8878.0, 8886.0, 9064.0, 11080.0, 11092.0, 11131.0, 11629.0, 11635.0, 12093.0, 12095.0, 12393.0, 12597.0, 13126.0, 13323.0, 14073.0, 14152.0, 15817.0, 17187.0, 17220.0, 17230.0, 17520.0, 17838.0, 18088.0, 18399.0, 18675.0, 18690.0, 19762.0, 20011.0, 20332.0, 20451.0, 20931.0, 21046.0, 21419.0, 21662.0, 25095.0, 25198.0, 25231.0, 25254.0, 25426.0, 26523.0, 26556.0, 26585.0, 26833.0, 26863.0, 26899.0, 26931.0, 26961.0, 27163.0, 27187.0, 27219.0, 27252.0, 27784.0, 28143.0, 28242.0, 28625.0, 28658.0, 28692.0, 28726.0, 28755.0, 29526.0, 29531.0, 29753.0, 29785.0, 30852.0, 32686.0, 32745.0, 34256.0, 34521.0, 34634.0, 34684.0, 34687.0, 35585.0, 35771.0, 35866.0, 35899.0, 35906.0, 35926.0, 35942.0, 35953.0, 36170.0, 37167.0, 39729.0, 40086.0, 40276.0, 40662.0, 40742.0, 40892.0, 40918.0, 40919.0, 41116.0, 41138.0, 41147.0, 41164.0, 41170.0, 41181.0, 41194.0, 41203.0, 41204.0, 41227.0, 41233.0, 41237.0, 41243.0, 41273.0, 41285.0, 41305.0, 41308.0, 41313.0, 41353.0, 41397.0, 41413.0, 41505.0, 41582.0, 41607.0, 41646.0, 41743.0, 41791.0, 41851.0, 41870.0, 41991.0, 42247.0, 42474.0, 42985.0, 42988.0, 43028.0, 43369.0, 43494.0, 44393.0, 44532.0, 45463.0, 45501.0, 45541.0, 46057.0, 46149.0, 46925.0, 47545.0, 47826.0, 47923.0, 47982.0, 48380.0, 48533.0, 48884.0, 49985.0, 50706.0, 50808.0, 51112.0, 51135.0, 51155.0, 52814.0, 52934.0, 53031.0, 53076.0, 53451.0, 53658.0, 53727.0, 53937.0, 54846.0, 55279.0, 55311.0, 55614.0, 55618.0, 55760.0, 56098.0, 56624.0, 56650.0, 56806.0, 56887.0, 57007.0, 57027.0, 57163.0, 58060.0, 58067.0, 58199.0, 58217.0, 58222.0, 58642.0, 58822.0, 59011.0, 59385.0, 59669.0, 59777.0, 59840.0, 60353.0, 61108.0, 61646.0, 62059.0, 62080.0, 62330.0, 62341.0, 62467.0, 63578.0, 64093.0, 64412.0, 64443.0, 64585.0, 64785.0, 65358.0, 65385.0, 65728.0, 65936.0, 66037.0, 67150.0, 67571.0, 67857.0, 68207.0, 68207.0, 68207.0, 68207.0, 68207.0, 68207.0, 68357.0, 69394.0, 70071.0, 70229.0, 70270.0, 70536.0, 70828.0, 71033.0, 72327.0, 72824.0, 73408.0, 74159.0, 74262.0, 75033.0, 75556.0, 75581.0, 75851.0, 75978.0, 76575.0, 76826.0, 76845.0, 76857.0, 76867.0, 76876.0, 77154.0, 77171.0, 77182.0, 77202.0, 77627.0, 78725.0, 79540.0, 81372.0, 82289.0, 83934.0, 84204.0, 84204.0, 84204.0, 84204.0, 84694.0, 84789.0, 85181.0, 85285.0, 85285.0, 85285.0, 85285.0, 85573.0, 85576.0, 85864.0, 85867.0, 86376.0, 87202.0, 87883.0, 88672.0, 88737.0, 90676.0, 91075.0, 91407.0, 91502.0, 91524.0, 91554.0, 92092.0, 92102.0, 93742.0, 93823.0, 93824.0, 93834.0, 93853.0, 93853.0, 93853.0, 93853.0, 93856.0, 93860.0, 93860.0, 93860.0, 93860.0, 93879.0, 93879.0, 93879.0, 93879.0, 93888.0, 93897.0, 93904.0, 93920.0, 93965.0, 94141.0, 94362.0, 94362.0, 94362.0, 94362.0, 94364.0, 94625.0, 94952.0, 95559.0, 95628.0, 96135.0, 96291.0, 96717.0, 97121.0, 97235.0, 100223.0, 100298.0, 100501.0, 100924.0, 101051.0, 101313.0, 101597.0, 102114.0, 102318.0, 102480.0, 102489.0, 102542.0, 102572.0, 102619.0, 102622.0, 102625.0, 102669.0, 102671.0, 102676.0, 103808.0, 109297.0, 109298.0, 110087.0, 110547.0, 110552.0, 110617.0, 115691.0, 116067.0, 118532.0, 118603.0, 121238.0, 122608.0, 123078.0, 123525.0, 125200.0, 125612.0, 125658.0, 126219.0, 128471.0, 128519.0, 128595.0, 128803.0, 129095.0, 129186.0, 129222.0, 129308.0, 129371.0, 129668.0, 129741.0, 129764.0, 129808.0, 131024.0, 132086.0, 132688.0, 133184.0, 133731.0, 133958.0, 134766.0, 134769.0, 134928.0, 135095.0, 135102.0, 135314.0, 137211.0, 138894.0, 138942.0, 139107.0, 139117.0, 139767.0, 139816.0, 139951.0, 140293.0, 140308.0, 141320.0, 141565.0, 141925.0, 142280.0, 142394.0, 142409.0, 142840.0, 142961.0, 143354.0, 143434.0, 143438.0, 143456.0, 144808.0, 144839.0, 146022.0, 146026.0, 146179.0, 146344.0, 146998.0, 147501.0, 148028.0, 148053.0, 148053.0, 148074.0, 148468.0, 148476.0, 148479.0, 149096.0, 149236.0, 149582.0, 149640.0, 149676.0, 150138.0, 150139.0, 150494.0, 150949.0, 151029.0, 151916.0, 151972.0, 152036.0, 152058.0, 152098.0, 152165.0, 152307.0, 152710.0, 152802.0, 153653.0, 153761.0, 153875.0, 154181.0, 154278.0, 154309.0, 154493.0, 154599.0, 154657.0, 155054.0, 155359.0, 155535.0, 155542.0, 155548.0, 155554.0, 155662.0, 155965.0, 156685.0, 156710.0, 157207.0, 157284.0, 158638.0, 159844.0, 160034.0, 160243.0, 160537.0, 160665.0, 160791.0, 160870.0, 160895.0, 161154.0, 163181.0, 165132.0, 165981.0, 166028.0, 166831.0, 166883.0, 167338.0, 169142.0, 169347.0, 169351.0, 169966.0, 170348.0], \"y\": [0.0, 529.0, 239.93, 59.0, 1.0, 1.0, 1.0, 1.0, 1.0, 1.0, 1.0, 1.0, 1.0, 1.0, 1.0, 1.0, 1.0, 1.0, 1.0, 1.0, 1.0, 1.1, 1.0, 1.0, 1809.68, 1.0, 1.0, 1.0, 1.0, 1.0, 0.0, 30.39, 179.66, 1.0, 1.0, 1.0, 1.0, 1.0, 11.39, 3.79, 3.79, 3.93, 1.0, 766.36, 1218.89, 1.0, 188.78, 1.0, 1.0, 1.0, 1.0, 1.0, 1.0, 1.0, 1.0, 1.0, 3.12, 99.99, 99.99, 99.99, 3.76, 99.99, 99.99, 99.99, 99.99, 99.99, 99.99, 99.99, 99.99, 99.99, 99.99, 99.99, 99.99, 23.36, 99.99, 730.86, 99.99, 99.99, 99.99, 99.99, 99.99, 0.68, 0.68, 0.68, 30.3, 104.81, 0.0, 717.15, 19.02, 1.52, 18.96, 125.3, 19.02, 0.76, 60.6, 7.61, 1.0, 9.13, 4.56, 14.46, 111.7, 111.7, 12.31, 776.83, 1.0, 1.0, 1.0, 1.0, 0.76, 0.76, 112.33, 3.79, 340.11, 88.23, 5.3, 83.38, 11.38, 1.52, 88.23, 30.26, 459.07, 0.0, 118.3, 45.49, 173.07, 37.32, 59.68, 0.76, 9.99, 34.12, 273.01, 106.55, 364.19, 39.45, 53.95, 172.32, 802.52, 99.99, 139.9, 1.0, 1.0, 1.0, 1.0, 1.0, 648.0, 204.27, 88.0, 24.9, 1.0, 1.0, 1.0, 105.99, 1.0, 1.0, 1.0, 1.0, 0.76, 7.58, 0.76, 0.76, 208.58, 1.0, 19.73, 360.0, 99.99, 99.99, 99.99, 99.99, 99.99, 519.9, 0.76, 0.76, 1.18, 8.0, 0.0, 112.45, 261.87, 1.79, 1.0, 0.83, 0.83, 130.44, 311.91, 170.92, 153.46, 7.52, 1.0, 5.0, 0.01, 444.17, 1.0, 1.0, 1.0, 1.75, 5.09, 270.0, 113.92, 45.64, 1389.56, 18.98, 6.27, 319.2, 5.91, 454.82, 101.5, 19.04, 6.62, 180.0, 1.0, 1.1, 1402.16, 290.18, 294.9, 1.0, 0.0, 0.0, 720.38, 31.91, 1354.25, 98.01, 101.5, 7.53, 489.71, 549.06, 320.0, 1.0, 1.0, 1.0, 1.0, 1.0, 1.0, 19.59, 1.0, 227.3, 3.79, 318.11, 824.83, 0.76, 426.4, 238.9, 45.03, 16.48, 76.94, 311.28, 30.14, 29.95, 124.53, 99.85, 99.9, 219.8, 254.76, 1.0, 1.0, 1.0, 1.0, 129.0, 1.0, 1.0, 1.0, 106.9, 60.0, 0.2, 7.57, 1.0, 1.0, 0.0, 0.0, 512.25, 512.25, 12.31, 354.33, 2.0, 0.0, 0.0, 252.92, 252.92, 1.0, 240.77, 1.0, 310.42, 323.77, 451.27, 829.41, 1.18, 9.21, 6.99, 38.76, 52.69, 1.0, 1.0, 261.22, 18.0, 600.73, 1.0, 75.86, 8.54, 0.01, 44.9, 44.9, 316.06, 316.06, 209.65, 78.0, 78.0, 188.52, 188.52, 30.31, 30.31, 104.03, 104.03, 1.0, 1.0, 37.93, 97.0, 11.4, 45.48, 1.0, 1.0, 1.0, 1.0, 1.0, 33.76, 571.48, 1.63, 1.63, 18.96, 33.59, 1.0, 8.64, 9.82, 2.28, 1.0, 0.76, 1.0, 0.92, 2.28, 147.87, 0.0, 22.04, 0.0, 104.0, 2.28, 0.01, 1.0, 346.94, 7.59, 0.0, 0.0, 119.74, 2.27, 0.0, 186.13, 1.0, 0.76, 80.22, 635.1, 17.06, 65.0, 105.89, 105.89, 144.62, 2125.87, 11.0, 45.51, 40.0, 3.22, 0.0, 25.0, 67.9, 93.35, 1.0, 175.9, 720.8, 7.18, 4.87, 80.9, 0.0, 2.0, 1.0, 362.55, 276.17, 723.21, 480.72, 1.0, 1335.0, 0.0, 130.21, 1.0, 925.31, 0.0, 345.0, 108.51, 84.28, 39.45, 0.01, 727.91, 22.47, 8.3, 120.54, 0.69, 723.21, 0.77, 592.9, 195.66, 4.49, 0.76, 324.59, 320.01, 2.0, 144.8, 0.0, 1.0, 1.0, 8.9, 1.0, 667.55, 0.0, 1.18, 2.22, 0.77, 94.82, 8.0, 996.27, 0.0, 1.59, 1.59, 0.0, 0.76, 0.76, 122.68, 0.0, 1.0, 1.1, 2.0, 17.39, 50.0, 237.26, 1.0, 9.29, 10.7, 0.01, 57.73, 1.0, 1.0, 1.0, 1.0, 1.0, 2.47, 357.95, 247.86, 51.37, 0.0, 0.76, 1504.93, 1096.99, 35.0, 6.74, 0.77, 0.77, 0.77, 3.9, 3.14, 7.06, 94.82, 0.77, 0.77, 187.11, 7.59, 4.97, 0.77, 296.0, 45.51, 4.9, 156.0, 4.69, 0.77, 1.0, 0.77, 127.14, 0.38, 39.98, 12.31, 0.0, 39.9, 634.3, 19.95, 349.08, 390.0, 0.76, 77.89, 245.0, 42.53]}],\n",
              "                        {\"hovermode\": \"closest\", \"template\": {\"data\": {\"bar\": [{\"error_x\": {\"color\": \"#2a3f5f\"}, \"error_y\": {\"color\": \"#2a3f5f\"}, \"marker\": {\"line\": {\"color\": \"#E5ECF6\", \"width\": 0.5}}, \"type\": \"bar\"}], \"barpolar\": [{\"marker\": {\"line\": {\"color\": \"#E5ECF6\", \"width\": 0.5}}, \"type\": \"barpolar\"}], \"carpet\": [{\"aaxis\": {\"endlinecolor\": \"#2a3f5f\", \"gridcolor\": \"white\", \"linecolor\": \"white\", \"minorgridcolor\": \"white\", \"startlinecolor\": \"#2a3f5f\"}, \"baxis\": {\"endlinecolor\": \"#2a3f5f\", \"gridcolor\": \"white\", \"linecolor\": \"white\", \"minorgridcolor\": \"white\", \"startlinecolor\": \"#2a3f5f\"}, \"type\": \"carpet\"}], \"choropleth\": [{\"colorbar\": {\"outlinewidth\": 0, \"ticks\": \"\"}, \"type\": \"choropleth\"}], \"contour\": [{\"colorbar\": {\"outlinewidth\": 0, \"ticks\": \"\"}, \"colorscale\": [[0.0, \"#0d0887\"], [0.1111111111111111, \"#46039f\"], [0.2222222222222222, \"#7201a8\"], [0.3333333333333333, \"#9c179e\"], [0.4444444444444444, \"#bd3786\"], [0.5555555555555556, \"#d8576b\"], [0.6666666666666666, \"#ed7953\"], [0.7777777777777778, \"#fb9f3a\"], [0.8888888888888888, \"#fdca26\"], [1.0, \"#f0f921\"]], \"type\": \"contour\"}], \"contourcarpet\": [{\"colorbar\": {\"outlinewidth\": 0, \"ticks\": \"\"}, \"type\": \"contourcarpet\"}], \"heatmap\": [{\"colorbar\": {\"outlinewidth\": 0, \"ticks\": \"\"}, \"colorscale\": [[0.0, \"#0d0887\"], [0.1111111111111111, \"#46039f\"], [0.2222222222222222, \"#7201a8\"], [0.3333333333333333, \"#9c179e\"], [0.4444444444444444, \"#bd3786\"], [0.5555555555555556, \"#d8576b\"], [0.6666666666666666, \"#ed7953\"], [0.7777777777777778, \"#fb9f3a\"], [0.8888888888888888, \"#fdca26\"], [1.0, \"#f0f921\"]], \"type\": \"heatmap\"}], \"heatmapgl\": [{\"colorbar\": {\"outlinewidth\": 0, \"ticks\": \"\"}, \"colorscale\": [[0.0, \"#0d0887\"], [0.1111111111111111, \"#46039f\"], [0.2222222222222222, \"#7201a8\"], [0.3333333333333333, \"#9c179e\"], [0.4444444444444444, \"#bd3786\"], [0.5555555555555556, \"#d8576b\"], [0.6666666666666666, \"#ed7953\"], [0.7777777777777778, \"#fb9f3a\"], [0.8888888888888888, \"#fdca26\"], [1.0, \"#f0f921\"]], \"type\": \"heatmapgl\"}], \"histogram\": [{\"marker\": {\"colorbar\": {\"outlinewidth\": 0, \"ticks\": \"\"}}, \"type\": \"histogram\"}], \"histogram2d\": [{\"colorbar\": {\"outlinewidth\": 0, \"ticks\": \"\"}, \"colorscale\": [[0.0, \"#0d0887\"], [0.1111111111111111, \"#46039f\"], [0.2222222222222222, \"#7201a8\"], [0.3333333333333333, \"#9c179e\"], [0.4444444444444444, \"#bd3786\"], [0.5555555555555556, \"#d8576b\"], [0.6666666666666666, \"#ed7953\"], [0.7777777777777778, \"#fb9f3a\"], [0.8888888888888888, \"#fdca26\"], [1.0, \"#f0f921\"]], \"type\": \"histogram2d\"}], \"histogram2dcontour\": [{\"colorbar\": {\"outlinewidth\": 0, \"ticks\": \"\"}, \"colorscale\": [[0.0, \"#0d0887\"], [0.1111111111111111, \"#46039f\"], [0.2222222222222222, \"#7201a8\"], [0.3333333333333333, \"#9c179e\"], [0.4444444444444444, \"#bd3786\"], [0.5555555555555556, \"#d8576b\"], [0.6666666666666666, \"#ed7953\"], [0.7777777777777778, \"#fb9f3a\"], [0.8888888888888888, \"#fdca26\"], [1.0, \"#f0f921\"]], \"type\": \"histogram2dcontour\"}], \"mesh3d\": [{\"colorbar\": {\"outlinewidth\": 0, \"ticks\": \"\"}, \"type\": \"mesh3d\"}], \"parcoords\": [{\"line\": {\"colorbar\": {\"outlinewidth\": 0, \"ticks\": \"\"}}, \"type\": \"parcoords\"}], \"pie\": [{\"automargin\": true, \"type\": \"pie\"}], \"scatter\": [{\"marker\": {\"colorbar\": {\"outlinewidth\": 0, \"ticks\": \"\"}}, \"type\": \"scatter\"}], \"scatter3d\": [{\"line\": {\"colorbar\": {\"outlinewidth\": 0, \"ticks\": \"\"}}, \"marker\": {\"colorbar\": {\"outlinewidth\": 0, \"ticks\": \"\"}}, \"type\": \"scatter3d\"}], \"scattercarpet\": [{\"marker\": {\"colorbar\": {\"outlinewidth\": 0, \"ticks\": \"\"}}, \"type\": \"scattercarpet\"}], \"scattergeo\": [{\"marker\": {\"colorbar\": {\"outlinewidth\": 0, \"ticks\": \"\"}}, \"type\": \"scattergeo\"}], \"scattergl\": [{\"marker\": {\"colorbar\": {\"outlinewidth\": 0, \"ticks\": \"\"}}, \"type\": \"scattergl\"}], \"scattermapbox\": [{\"marker\": {\"colorbar\": {\"outlinewidth\": 0, \"ticks\": \"\"}}, \"type\": \"scattermapbox\"}], \"scatterpolar\": [{\"marker\": {\"colorbar\": {\"outlinewidth\": 0, \"ticks\": \"\"}}, \"type\": \"scatterpolar\"}], \"scatterpolargl\": [{\"marker\": {\"colorbar\": {\"outlinewidth\": 0, \"ticks\": \"\"}}, \"type\": \"scatterpolargl\"}], \"scatterternary\": [{\"marker\": {\"colorbar\": {\"outlinewidth\": 0, \"ticks\": \"\"}}, \"type\": \"scatterternary\"}], \"surface\": [{\"colorbar\": {\"outlinewidth\": 0, \"ticks\": \"\"}, \"colorscale\": [[0.0, \"#0d0887\"], [0.1111111111111111, \"#46039f\"], [0.2222222222222222, \"#7201a8\"], [0.3333333333333333, \"#9c179e\"], [0.4444444444444444, \"#bd3786\"], [0.5555555555555556, \"#d8576b\"], [0.6666666666666666, \"#ed7953\"], [0.7777777777777778, \"#fb9f3a\"], [0.8888888888888888, \"#fdca26\"], [1.0, \"#f0f921\"]], \"type\": \"surface\"}], \"table\": [{\"cells\": {\"fill\": {\"color\": \"#EBF0F8\"}, \"line\": {\"color\": \"white\"}}, \"header\": {\"fill\": {\"color\": \"#C8D4E3\"}, \"line\": {\"color\": \"white\"}}, \"type\": \"table\"}]}, \"layout\": {\"annotationdefaults\": {\"arrowcolor\": \"#2a3f5f\", \"arrowhead\": 0, \"arrowwidth\": 1}, \"coloraxis\": {\"colorbar\": {\"outlinewidth\": 0, \"ticks\": \"\"}}, \"colorscale\": {\"diverging\": [[0, \"#8e0152\"], [0.1, \"#c51b7d\"], [0.2, \"#de77ae\"], [0.3, \"#f1b6da\"], [0.4, \"#fde0ef\"], [0.5, \"#f7f7f7\"], [0.6, \"#e6f5d0\"], [0.7, \"#b8e186\"], [0.8, \"#7fbc41\"], [0.9, \"#4d9221\"], [1, \"#276419\"]], \"sequential\": [[0.0, \"#0d0887\"], [0.1111111111111111, \"#46039f\"], [0.2222222222222222, \"#7201a8\"], [0.3333333333333333, \"#9c179e\"], [0.4444444444444444, \"#bd3786\"], [0.5555555555555556, \"#d8576b\"], [0.6666666666666666, \"#ed7953\"], [0.7777777777777778, \"#fb9f3a\"], [0.8888888888888888, \"#fdca26\"], [1.0, \"#f0f921\"]], \"sequentialminus\": [[0.0, \"#0d0887\"], [0.1111111111111111, \"#46039f\"], [0.2222222222222222, \"#7201a8\"], [0.3333333333333333, \"#9c179e\"], [0.4444444444444444, \"#bd3786\"], [0.5555555555555556, \"#d8576b\"], [0.6666666666666666, \"#ed7953\"], [0.7777777777777778, \"#fb9f3a\"], [0.8888888888888888, \"#fdca26\"], [1.0, \"#f0f921\"]]}, \"colorway\": [\"#636efa\", \"#EF553B\", \"#00cc96\", \"#ab63fa\", \"#FFA15A\", \"#19d3f3\", \"#FF6692\", \"#B6E880\", \"#FF97FF\", \"#FECB52\"], \"font\": {\"color\": \"#2a3f5f\"}, \"geo\": {\"bgcolor\": \"white\", \"lakecolor\": \"white\", \"landcolor\": \"#E5ECF6\", \"showlakes\": true, \"showland\": true, \"subunitcolor\": \"white\"}, \"hoverlabel\": {\"align\": \"left\"}, \"hovermode\": \"closest\", \"mapbox\": {\"style\": \"light\"}, \"paper_bgcolor\": \"white\", \"plot_bgcolor\": \"#E5ECF6\", \"polar\": {\"angularaxis\": {\"gridcolor\": \"white\", \"linecolor\": \"white\", \"ticks\": \"\"}, \"bgcolor\": \"#E5ECF6\", \"radialaxis\": {\"gridcolor\": \"white\", \"linecolor\": \"white\", \"ticks\": \"\"}}, \"scene\": {\"xaxis\": {\"backgroundcolor\": \"#E5ECF6\", \"gridcolor\": \"white\", \"gridwidth\": 2, \"linecolor\": \"white\", \"showbackground\": true, \"ticks\": \"\", \"zerolinecolor\": \"white\"}, \"yaxis\": {\"backgroundcolor\": \"#E5ECF6\", \"gridcolor\": \"white\", \"gridwidth\": 2, \"linecolor\": \"white\", \"showbackground\": true, \"ticks\": \"\", \"zerolinecolor\": \"white\"}, \"zaxis\": {\"backgroundcolor\": \"#E5ECF6\", \"gridcolor\": \"white\", \"gridwidth\": 2, \"linecolor\": \"white\", \"showbackground\": true, \"ticks\": \"\", \"zerolinecolor\": \"white\"}}, \"shapedefaults\": {\"line\": {\"color\": \"#2a3f5f\"}}, \"ternary\": {\"aaxis\": {\"gridcolor\": \"white\", \"linecolor\": \"white\", \"ticks\": \"\"}, \"baxis\": {\"gridcolor\": \"white\", \"linecolor\": \"white\", \"ticks\": \"\"}, \"bgcolor\": \"#E5ECF6\", \"caxis\": {\"gridcolor\": \"white\", \"linecolor\": \"white\", \"ticks\": \"\"}}, \"title\": {\"x\": 0.05}, \"xaxis\": {\"automargin\": true, \"gridcolor\": \"white\", \"linecolor\": \"white\", \"ticks\": \"\", \"title\": {\"standoff\": 15}, \"zerolinecolor\": \"white\", \"zerolinewidth\": 2}, \"yaxis\": {\"automargin\": true, \"gridcolor\": \"white\", \"linecolor\": \"white\", \"ticks\": \"\", \"title\": {\"standoff\": 15}, \"zerolinecolor\": \"white\", \"zerolinewidth\": 2}}}, \"title\": {\"text\": \"Amount of fraudulent transactions\"}, \"xaxis\": {\"showticklabels\": true, \"title\": {\"text\": \"Time [s]\"}}, \"yaxis\": {\"title\": {\"text\": \"Amount\"}}},\n",
              "                        {\"responsive\": true}\n",
              "                    ).then(function(){\n",
              "                            \n",
              "var gd = document.getElementById('caf1eb71-9a50-4389-9777-5d78657d835f');\n",
              "var x = new MutationObserver(function (mutations, observer) {{\n",
              "        var display = window.getComputedStyle(gd).display;\n",
              "        if (!display || display === 'none') {{\n",
              "            console.log([gd, 'removed!']);\n",
              "            Plotly.purge(gd);\n",
              "            observer.disconnect();\n",
              "        }}\n",
              "}});\n",
              "\n",
              "// Listen for the removal of the full notebook cells\n",
              "var notebookContainer = gd.closest('#notebook-container');\n",
              "if (notebookContainer) {{\n",
              "    x.observe(notebookContainer, {childList: true});\n",
              "}}\n",
              "\n",
              "// Listen for the clearing of the current output cell\n",
              "var outputEl = gd.closest('.output');\n",
              "if (outputEl) {{\n",
              "    x.observe(outputEl, {childList: true});\n",
              "}}\n",
              "\n",
              "                        })\n",
              "                };\n",
              "                });\n",
              "            </script>\n",
              "        </div>"
            ],
            "application/vnd.plotly.v1+json": {
              "data": [
                {
                  "name": "Amount",
                  "text": [
                    0,
                    529,
                    239.93,
                    59,
                    1,
                    1,
                    1,
                    1,
                    1,
                    1,
                    1,
                    1,
                    1,
                    1,
                    1,
                    1,
                    1,
                    1,
                    1,
                    1,
                    1,
                    1.1,
                    1,
                    1,
                    1809.68,
                    1,
                    1,
                    1,
                    1,
                    1,
                    0,
                    30.39,
                    179.66,
                    1,
                    1,
                    1,
                    1,
                    1,
                    11.39,
                    3.79,
                    3.79,
                    3.93,
                    1,
                    766.36,
                    1218.89,
                    1,
                    188.78,
                    1,
                    1,
                    1,
                    1,
                    1,
                    1,
                    1,
                    1,
                    1,
                    3.12,
                    99.99,
                    99.99,
                    99.99,
                    3.76,
                    99.99,
                    99.99,
                    99.99,
                    99.99,
                    99.99,
                    99.99,
                    99.99,
                    99.99,
                    99.99,
                    99.99,
                    99.99,
                    99.99,
                    23.36,
                    99.99,
                    730.86,
                    99.99,
                    99.99,
                    99.99,
                    99.99,
                    99.99,
                    0.68,
                    0.68,
                    0.68,
                    30.3,
                    104.81,
                    0,
                    717.15,
                    19.02,
                    1.52,
                    18.96,
                    125.3,
                    19.02,
                    0.76,
                    60.6,
                    7.61,
                    1,
                    9.13,
                    4.56,
                    14.46,
                    111.7,
                    111.7,
                    12.31,
                    776.83,
                    1,
                    1,
                    1,
                    1,
                    0.76,
                    0.76,
                    112.33,
                    3.79,
                    340.11,
                    88.23,
                    5.3,
                    83.38,
                    11.38,
                    1.52,
                    88.23,
                    30.26,
                    459.07,
                    0,
                    118.3,
                    45.49,
                    173.07,
                    37.32,
                    59.68,
                    0.76,
                    9.99,
                    34.12,
                    273.01,
                    106.55,
                    364.19,
                    39.45,
                    53.95,
                    172.32,
                    802.52,
                    99.99,
                    139.9,
                    1,
                    1,
                    1,
                    1,
                    1,
                    648,
                    204.27,
                    88,
                    24.9,
                    1,
                    1,
                    1,
                    105.99,
                    1,
                    1,
                    1,
                    1,
                    0.76,
                    7.58,
                    0.76,
                    0.76,
                    208.58,
                    1,
                    19.73,
                    360,
                    99.99,
                    99.99,
                    99.99,
                    99.99,
                    99.99,
                    519.9,
                    0.76,
                    0.76,
                    1.18,
                    8,
                    0,
                    112.45,
                    261.87,
                    1.79,
                    1,
                    0.83,
                    0.83,
                    130.44,
                    311.91,
                    170.92,
                    153.46,
                    7.52,
                    1,
                    5,
                    0.01,
                    444.17,
                    1,
                    1,
                    1,
                    1.75,
                    5.09,
                    270,
                    113.92,
                    45.64,
                    1389.56,
                    18.98,
                    6.27,
                    319.2,
                    5.91,
                    454.82,
                    101.5,
                    19.04,
                    6.62,
                    180,
                    1,
                    1.1,
                    1402.16,
                    290.18,
                    294.9,
                    1,
                    0,
                    0,
                    720.38,
                    31.91,
                    1354.25,
                    98.01,
                    101.5,
                    7.53,
                    489.71,
                    549.06,
                    320,
                    1,
                    1,
                    1,
                    1,
                    1,
                    1,
                    19.59,
                    1,
                    227.3,
                    3.79,
                    318.11,
                    824.83,
                    0.76,
                    426.4,
                    238.9,
                    45.03,
                    16.48,
                    76.94,
                    311.28,
                    30.14,
                    29.95,
                    124.53,
                    99.85,
                    99.9,
                    219.8,
                    254.76,
                    1,
                    1,
                    1,
                    1,
                    129,
                    1,
                    1,
                    1,
                    106.9,
                    60,
                    0.2,
                    7.57,
                    1,
                    1,
                    0,
                    0,
                    512.25,
                    512.25,
                    12.31,
                    354.33,
                    2,
                    0,
                    0,
                    252.92,
                    252.92,
                    1,
                    240.77,
                    1,
                    310.42,
                    323.77,
                    451.27,
                    829.41,
                    1.18,
                    9.21,
                    6.99,
                    38.76,
                    52.69,
                    1,
                    1,
                    261.22,
                    18,
                    600.73,
                    1,
                    75.86,
                    8.54,
                    0.01,
                    44.9,
                    44.9,
                    316.06,
                    316.06,
                    209.65,
                    78,
                    78,
                    188.52,
                    188.52,
                    30.31,
                    30.31,
                    104.03,
                    104.03,
                    1,
                    1,
                    37.93,
                    97,
                    11.4,
                    45.48,
                    1,
                    1,
                    1,
                    1,
                    1,
                    33.76,
                    571.48,
                    1.63,
                    1.63,
                    18.96,
                    33.59,
                    1,
                    8.64,
                    9.82,
                    2.28,
                    1,
                    0.76,
                    1,
                    0.92,
                    2.28,
                    147.87,
                    0,
                    22.04,
                    0,
                    104,
                    2.28,
                    0.01,
                    1,
                    346.94,
                    7.59,
                    0,
                    0,
                    119.74,
                    2.27,
                    0,
                    186.13,
                    1,
                    0.76,
                    80.22,
                    635.1,
                    17.06,
                    65,
                    105.89,
                    105.89,
                    144.62,
                    2125.87,
                    11,
                    45.51,
                    40,
                    3.22,
                    0,
                    25,
                    67.9,
                    93.35,
                    1,
                    175.9,
                    720.8,
                    7.18,
                    4.87,
                    80.9,
                    0,
                    2,
                    1,
                    362.55,
                    276.17,
                    723.21,
                    480.72,
                    1,
                    1335,
                    0,
                    130.21,
                    1,
                    925.31,
                    0,
                    345,
                    108.51,
                    84.28,
                    39.45,
                    0.01,
                    727.91,
                    22.47,
                    8.3,
                    120.54,
                    0.69,
                    723.21,
                    0.77,
                    592.9,
                    195.66,
                    4.49,
                    0.76,
                    324.59,
                    320.01,
                    2,
                    144.8,
                    0,
                    1,
                    1,
                    8.9,
                    1,
                    667.55,
                    0,
                    1.18,
                    2.22,
                    0.77,
                    94.82,
                    8,
                    996.27,
                    0,
                    1.59,
                    1.59,
                    0,
                    0.76,
                    0.76,
                    122.68,
                    0,
                    1,
                    1.1,
                    2,
                    17.39,
                    50,
                    237.26,
                    1,
                    9.29,
                    10.7,
                    0.01,
                    57.73,
                    1,
                    1,
                    1,
                    1,
                    1,
                    2.47,
                    357.95,
                    247.86,
                    51.37,
                    0,
                    0.76,
                    1504.93,
                    1096.99,
                    35,
                    6.74,
                    0.77,
                    0.77,
                    0.77,
                    3.9,
                    3.14,
                    7.06,
                    94.82,
                    0.77,
                    0.77,
                    187.11,
                    7.59,
                    4.97,
                    0.77,
                    296,
                    45.51,
                    4.9,
                    156,
                    4.69,
                    0.77,
                    1,
                    0.77,
                    127.14,
                    0.38,
                    39.98,
                    12.31,
                    0,
                    39.9,
                    634.3,
                    19.95,
                    349.08,
                    390,
                    0.76,
                    77.89,
                    245,
                    42.53
                  ],
                  "y": [
                    0,
                    529,
                    239.93,
                    59,
                    1,
                    1,
                    1,
                    1,
                    1,
                    1,
                    1,
                    1,
                    1,
                    1,
                    1,
                    1,
                    1,
                    1,
                    1,
                    1,
                    1,
                    1.1,
                    1,
                    1,
                    1809.68,
                    1,
                    1,
                    1,
                    1,
                    1,
                    0,
                    30.39,
                    179.66,
                    1,
                    1,
                    1,
                    1,
                    1,
                    11.39,
                    3.79,
                    3.79,
                    3.93,
                    1,
                    766.36,
                    1218.89,
                    1,
                    188.78,
                    1,
                    1,
                    1,
                    1,
                    1,
                    1,
                    1,
                    1,
                    1,
                    3.12,
                    99.99,
                    99.99,
                    99.99,
                    3.76,
                    99.99,
                    99.99,
                    99.99,
                    99.99,
                    99.99,
                    99.99,
                    99.99,
                    99.99,
                    99.99,
                    99.99,
                    99.99,
                    99.99,
                    23.36,
                    99.99,
                    730.86,
                    99.99,
                    99.99,
                    99.99,
                    99.99,
                    99.99,
                    0.68,
                    0.68,
                    0.68,
                    30.3,
                    104.81,
                    0,
                    717.15,
                    19.02,
                    1.52,
                    18.96,
                    125.3,
                    19.02,
                    0.76,
                    60.6,
                    7.61,
                    1,
                    9.13,
                    4.56,
                    14.46,
                    111.7,
                    111.7,
                    12.31,
                    776.83,
                    1,
                    1,
                    1,
                    1,
                    0.76,
                    0.76,
                    112.33,
                    3.79,
                    340.11,
                    88.23,
                    5.3,
                    83.38,
                    11.38,
                    1.52,
                    88.23,
                    30.26,
                    459.07,
                    0,
                    118.3,
                    45.49,
                    173.07,
                    37.32,
                    59.68,
                    0.76,
                    9.99,
                    34.12,
                    273.01,
                    106.55,
                    364.19,
                    39.45,
                    53.95,
                    172.32,
                    802.52,
                    99.99,
                    139.9,
                    1,
                    1,
                    1,
                    1,
                    1,
                    648,
                    204.27,
                    88,
                    24.9,
                    1,
                    1,
                    1,
                    105.99,
                    1,
                    1,
                    1,
                    1,
                    0.76,
                    7.58,
                    0.76,
                    0.76,
                    208.58,
                    1,
                    19.73,
                    360,
                    99.99,
                    99.99,
                    99.99,
                    99.99,
                    99.99,
                    519.9,
                    0.76,
                    0.76,
                    1.18,
                    8,
                    0,
                    112.45,
                    261.87,
                    1.79,
                    1,
                    0.83,
                    0.83,
                    130.44,
                    311.91,
                    170.92,
                    153.46,
                    7.52,
                    1,
                    5,
                    0.01,
                    444.17,
                    1,
                    1,
                    1,
                    1.75,
                    5.09,
                    270,
                    113.92,
                    45.64,
                    1389.56,
                    18.98,
                    6.27,
                    319.2,
                    5.91,
                    454.82,
                    101.5,
                    19.04,
                    6.62,
                    180,
                    1,
                    1.1,
                    1402.16,
                    290.18,
                    294.9,
                    1,
                    0,
                    0,
                    720.38,
                    31.91,
                    1354.25,
                    98.01,
                    101.5,
                    7.53,
                    489.71,
                    549.06,
                    320,
                    1,
                    1,
                    1,
                    1,
                    1,
                    1,
                    19.59,
                    1,
                    227.3,
                    3.79,
                    318.11,
                    824.83,
                    0.76,
                    426.4,
                    238.9,
                    45.03,
                    16.48,
                    76.94,
                    311.28,
                    30.14,
                    29.95,
                    124.53,
                    99.85,
                    99.9,
                    219.8,
                    254.76,
                    1,
                    1,
                    1,
                    1,
                    129,
                    1,
                    1,
                    1,
                    106.9,
                    60,
                    0.2,
                    7.57,
                    1,
                    1,
                    0,
                    0,
                    512.25,
                    512.25,
                    12.31,
                    354.33,
                    2,
                    0,
                    0,
                    252.92,
                    252.92,
                    1,
                    240.77,
                    1,
                    310.42,
                    323.77,
                    451.27,
                    829.41,
                    1.18,
                    9.21,
                    6.99,
                    38.76,
                    52.69,
                    1,
                    1,
                    261.22,
                    18,
                    600.73,
                    1,
                    75.86,
                    8.54,
                    0.01,
                    44.9,
                    44.9,
                    316.06,
                    316.06,
                    209.65,
                    78,
                    78,
                    188.52,
                    188.52,
                    30.31,
                    30.31,
                    104.03,
                    104.03,
                    1,
                    1,
                    37.93,
                    97,
                    11.4,
                    45.48,
                    1,
                    1,
                    1,
                    1,
                    1,
                    33.76,
                    571.48,
                    1.63,
                    1.63,
                    18.96,
                    33.59,
                    1,
                    8.64,
                    9.82,
                    2.28,
                    1,
                    0.76,
                    1,
                    0.92,
                    2.28,
                    147.87,
                    0,
                    22.04,
                    0,
                    104,
                    2.28,
                    0.01,
                    1,
                    346.94,
                    7.59,
                    0,
                    0,
                    119.74,
                    2.27,
                    0,
                    186.13,
                    1,
                    0.76,
                    80.22,
                    635.1,
                    17.06,
                    65,
                    105.89,
                    105.89,
                    144.62,
                    2125.87,
                    11,
                    45.51,
                    40,
                    3.22,
                    0,
                    25,
                    67.9,
                    93.35,
                    1,
                    175.9,
                    720.8,
                    7.18,
                    4.87,
                    80.9,
                    0,
                    2,
                    1,
                    362.55,
                    276.17,
                    723.21,
                    480.72,
                    1,
                    1335,
                    0,
                    130.21,
                    1,
                    925.31,
                    0,
                    345,
                    108.51,
                    84.28,
                    39.45,
                    0.01,
                    727.91,
                    22.47,
                    8.3,
                    120.54,
                    0.69,
                    723.21,
                    0.77,
                    592.9,
                    195.66,
                    4.49,
                    0.76,
                    324.59,
                    320.01,
                    2,
                    144.8,
                    0,
                    1,
                    1,
                    8.9,
                    1,
                    667.55,
                    0,
                    1.18,
                    2.22,
                    0.77,
                    94.82,
                    8,
                    996.27,
                    0,
                    1.59,
                    1.59,
                    0,
                    0.76,
                    0.76,
                    122.68,
                    0,
                    1,
                    1.1,
                    2,
                    17.39,
                    50,
                    237.26,
                    1,
                    9.29,
                    10.7,
                    0.01,
                    57.73,
                    1,
                    1,
                    1,
                    1,
                    1,
                    2.47,
                    357.95,
                    247.86,
                    51.37,
                    0,
                    0.76,
                    1504.93,
                    1096.99,
                    35,
                    6.74,
                    0.77,
                    0.77,
                    0.77,
                    3.9,
                    3.14,
                    7.06,
                    94.82,
                    0.77,
                    0.77,
                    187.11,
                    7.59,
                    4.97,
                    0.77,
                    296,
                    45.51,
                    4.9,
                    156,
                    4.69,
                    0.77,
                    1,
                    0.77,
                    127.14,
                    0.38,
                    39.98,
                    12.31,
                    0,
                    39.9,
                    634.3,
                    19.95,
                    349.08,
                    390,
                    0.76,
                    77.89,
                    245,
                    42.53
                  ],
                  "mode": "markers",
                  "marker": {
                    "color": "rgb(238,23,11)",
                    "opacity": 0.5,
                    "line": {
                      "color": "red",
                      "width": 1
                    }
                  },
                  "x": [
                    406,
                    472,
                    4462,
                    6986,
                    7519,
                    7526,
                    7535,
                    7543,
                    7551,
                    7610,
                    7672,
                    7740,
                    7891,
                    8090,
                    8169,
                    8408,
                    8415,
                    8451,
                    8528,
                    8614,
                    8757,
                    8808,
                    8878,
                    8886,
                    9064,
                    11080,
                    11092,
                    11131,
                    11629,
                    11635,
                    12093,
                    12095,
                    12393,
                    12597,
                    13126,
                    13323,
                    14073,
                    14152,
                    15817,
                    17187,
                    17220,
                    17230,
                    17520,
                    17838,
                    18088,
                    18399,
                    18675,
                    18690,
                    19762,
                    20011,
                    20332,
                    20451,
                    20931,
                    21046,
                    21419,
                    21662,
                    25095,
                    25198,
                    25231,
                    25254,
                    25426,
                    26523,
                    26556,
                    26585,
                    26833,
                    26863,
                    26899,
                    26931,
                    26961,
                    27163,
                    27187,
                    27219,
                    27252,
                    27784,
                    28143,
                    28242,
                    28625,
                    28658,
                    28692,
                    28726,
                    28755,
                    29526,
                    29531,
                    29753,
                    29785,
                    30852,
                    32686,
                    32745,
                    34256,
                    34521,
                    34634,
                    34684,
                    34687,
                    35585,
                    35771,
                    35866,
                    35899,
                    35906,
                    35926,
                    35942,
                    35953,
                    36170,
                    37167,
                    39729,
                    40086,
                    40276,
                    40662,
                    40742,
                    40892,
                    40918,
                    40919,
                    41116,
                    41138,
                    41147,
                    41164,
                    41170,
                    41181,
                    41194,
                    41203,
                    41204,
                    41227,
                    41233,
                    41237,
                    41243,
                    41273,
                    41285,
                    41305,
                    41308,
                    41313,
                    41353,
                    41397,
                    41413,
                    41505,
                    41582,
                    41607,
                    41646,
                    41743,
                    41791,
                    41851,
                    41870,
                    41991,
                    42247,
                    42474,
                    42985,
                    42988,
                    43028,
                    43369,
                    43494,
                    44393,
                    44532,
                    45463,
                    45501,
                    45541,
                    46057,
                    46149,
                    46925,
                    47545,
                    47826,
                    47923,
                    47982,
                    48380,
                    48533,
                    48884,
                    49985,
                    50706,
                    50808,
                    51112,
                    51135,
                    51155,
                    52814,
                    52934,
                    53031,
                    53076,
                    53451,
                    53658,
                    53727,
                    53937,
                    54846,
                    55279,
                    55311,
                    55614,
                    55618,
                    55760,
                    56098,
                    56624,
                    56650,
                    56806,
                    56887,
                    57007,
                    57027,
                    57163,
                    58060,
                    58067,
                    58199,
                    58217,
                    58222,
                    58642,
                    58822,
                    59011,
                    59385,
                    59669,
                    59777,
                    59840,
                    60353,
                    61108,
                    61646,
                    62059,
                    62080,
                    62330,
                    62341,
                    62467,
                    63578,
                    64093,
                    64412,
                    64443,
                    64585,
                    64785,
                    65358,
                    65385,
                    65728,
                    65936,
                    66037,
                    67150,
                    67571,
                    67857,
                    68207,
                    68207,
                    68207,
                    68207,
                    68207,
                    68207,
                    68357,
                    69394,
                    70071,
                    70229,
                    70270,
                    70536,
                    70828,
                    71033,
                    72327,
                    72824,
                    73408,
                    74159,
                    74262,
                    75033,
                    75556,
                    75581,
                    75851,
                    75978,
                    76575,
                    76826,
                    76845,
                    76857,
                    76867,
                    76876,
                    77154,
                    77171,
                    77182,
                    77202,
                    77627,
                    78725,
                    79540,
                    81372,
                    82289,
                    83934,
                    84204,
                    84204,
                    84204,
                    84204,
                    84694,
                    84789,
                    85181,
                    85285,
                    85285,
                    85285,
                    85285,
                    85573,
                    85576,
                    85864,
                    85867,
                    86376,
                    87202,
                    87883,
                    88672,
                    88737,
                    90676,
                    91075,
                    91407,
                    91502,
                    91524,
                    91554,
                    92092,
                    92102,
                    93742,
                    93823,
                    93824,
                    93834,
                    93853,
                    93853,
                    93853,
                    93853,
                    93856,
                    93860,
                    93860,
                    93860,
                    93860,
                    93879,
                    93879,
                    93879,
                    93879,
                    93888,
                    93897,
                    93904,
                    93920,
                    93965,
                    94141,
                    94362,
                    94362,
                    94362,
                    94362,
                    94364,
                    94625,
                    94952,
                    95559,
                    95628,
                    96135,
                    96291,
                    96717,
                    97121,
                    97235,
                    100223,
                    100298,
                    100501,
                    100924,
                    101051,
                    101313,
                    101597,
                    102114,
                    102318,
                    102480,
                    102489,
                    102542,
                    102572,
                    102619,
                    102622,
                    102625,
                    102669,
                    102671,
                    102676,
                    103808,
                    109297,
                    109298,
                    110087,
                    110547,
                    110552,
                    110617,
                    115691,
                    116067,
                    118532,
                    118603,
                    121238,
                    122608,
                    123078,
                    123525,
                    125200,
                    125612,
                    125658,
                    126219,
                    128471,
                    128519,
                    128595,
                    128803,
                    129095,
                    129186,
                    129222,
                    129308,
                    129371,
                    129668,
                    129741,
                    129764,
                    129808,
                    131024,
                    132086,
                    132688,
                    133184,
                    133731,
                    133958,
                    134766,
                    134769,
                    134928,
                    135095,
                    135102,
                    135314,
                    137211,
                    138894,
                    138942,
                    139107,
                    139117,
                    139767,
                    139816,
                    139951,
                    140293,
                    140308,
                    141320,
                    141565,
                    141925,
                    142280,
                    142394,
                    142409,
                    142840,
                    142961,
                    143354,
                    143434,
                    143438,
                    143456,
                    144808,
                    144839,
                    146022,
                    146026,
                    146179,
                    146344,
                    146998,
                    147501,
                    148028,
                    148053,
                    148053,
                    148074,
                    148468,
                    148476,
                    148479,
                    149096,
                    149236,
                    149582,
                    149640,
                    149676,
                    150138,
                    150139,
                    150494,
                    150949,
                    151029,
                    151916,
                    151972,
                    152036,
                    152058,
                    152098,
                    152165,
                    152307,
                    152710,
                    152802,
                    153653,
                    153761,
                    153875,
                    154181,
                    154278,
                    154309,
                    154493,
                    154599,
                    154657,
                    155054,
                    155359,
                    155535,
                    155542,
                    155548,
                    155554,
                    155662,
                    155965,
                    156685,
                    156710,
                    157207,
                    157284,
                    158638,
                    159844,
                    160034,
                    160243,
                    160537,
                    160665,
                    160791,
                    160870,
                    160895,
                    161154,
                    163181,
                    165132,
                    165981,
                    166028,
                    166831,
                    166883,
                    167338,
                    169142,
                    169347,
                    169351,
                    169966,
                    170348
                  ],
                  "type": "scatter"
                }
              ],
              "config": {
                "plotlyServerURL": "https://plot.ly",
                "linkText": "Export to plot.ly",
                "showLink": false
              },
              "layout": {
                "hovermode": "closest",
                "yaxis": {
                  "title": {
                    "text": "Amount"
                  }
                },
                "xaxis": {
                  "showticklabels": true,
                  "title": {
                    "text": "Time [s]"
                  }
                },
                "template": {
                  "layout": {
                    "shapedefaults": {
                      "line": {
                        "color": "#2a3f5f"
                      }
                    },
                    "polar": {
                      "radialaxis": {
                        "ticks": "",
                        "gridcolor": "white",
                        "linecolor": "white"
                      },
                      "bgcolor": "#E5ECF6",
                      "angularaxis": {
                        "ticks": "",
                        "gridcolor": "white",
                        "linecolor": "white"
                      }
                    },
                    "colorway": [
                      "#636efa",
                      "#EF553B",
                      "#00cc96",
                      "#ab63fa",
                      "#FFA15A",
                      "#19d3f3",
                      "#FF6692",
                      "#B6E880",
                      "#FF97FF",
                      "#FECB52"
                    ],
                    "xaxis": {
                      "automargin": true,
                      "title": {
                        "standoff": 15
                      },
                      "zerolinewidth": 2,
                      "ticks": "",
                      "zerolinecolor": "white",
                      "gridcolor": "white",
                      "linecolor": "white"
                    },
                    "colorscale": {
                      "diverging": [
                        [
                          0,
                          "#8e0152"
                        ],
                        [
                          0.1,
                          "#c51b7d"
                        ],
                        [
                          0.2,
                          "#de77ae"
                        ],
                        [
                          0.3,
                          "#f1b6da"
                        ],
                        [
                          0.4,
                          "#fde0ef"
                        ],
                        [
                          0.5,
                          "#f7f7f7"
                        ],
                        [
                          0.6,
                          "#e6f5d0"
                        ],
                        [
                          0.7,
                          "#b8e186"
                        ],
                        [
                          0.8,
                          "#7fbc41"
                        ],
                        [
                          0.9,
                          "#4d9221"
                        ],
                        [
                          1,
                          "#276419"
                        ]
                      ],
                      "sequential": [
                        [
                          0,
                          "#0d0887"
                        ],
                        [
                          0.1111111111111111,
                          "#46039f"
                        ],
                        [
                          0.2222222222222222,
                          "#7201a8"
                        ],
                        [
                          0.3333333333333333,
                          "#9c179e"
                        ],
                        [
                          0.4444444444444444,
                          "#bd3786"
                        ],
                        [
                          0.5555555555555556,
                          "#d8576b"
                        ],
                        [
                          0.6666666666666666,
                          "#ed7953"
                        ],
                        [
                          0.7777777777777778,
                          "#fb9f3a"
                        ],
                        [
                          0.8888888888888888,
                          "#fdca26"
                        ],
                        [
                          1,
                          "#f0f921"
                        ]
                      ],
                      "sequentialminus": [
                        [
                          0,
                          "#0d0887"
                        ],
                        [
                          0.1111111111111111,
                          "#46039f"
                        ],
                        [
                          0.2222222222222222,
                          "#7201a8"
                        ],
                        [
                          0.3333333333333333,
                          "#9c179e"
                        ],
                        [
                          0.4444444444444444,
                          "#bd3786"
                        ],
                        [
                          0.5555555555555556,
                          "#d8576b"
                        ],
                        [
                          0.6666666666666666,
                          "#ed7953"
                        ],
                        [
                          0.7777777777777778,
                          "#fb9f3a"
                        ],
                        [
                          0.8888888888888888,
                          "#fdca26"
                        ],
                        [
                          1,
                          "#f0f921"
                        ]
                      ]
                    },
                    "paper_bgcolor": "white",
                    "plot_bgcolor": "#E5ECF6",
                    "title": {
                      "x": 0.05
                    },
                    "scene": {
                      "zaxis": {
                        "backgroundcolor": "#E5ECF6",
                        "ticks": "",
                        "gridwidth": 2,
                        "showbackground": true,
                        "zerolinecolor": "white",
                        "gridcolor": "white",
                        "linecolor": "white"
                      },
                      "xaxis": {
                        "backgroundcolor": "#E5ECF6",
                        "ticks": "",
                        "gridwidth": 2,
                        "showbackground": true,
                        "zerolinecolor": "white",
                        "gridcolor": "white",
                        "linecolor": "white"
                      },
                      "yaxis": {
                        "backgroundcolor": "#E5ECF6",
                        "ticks": "",
                        "gridwidth": 2,
                        "showbackground": true,
                        "zerolinecolor": "white",
                        "gridcolor": "white",
                        "linecolor": "white"
                      }
                    },
                    "yaxis": {
                      "automargin": true,
                      "title": {
                        "standoff": 15
                      },
                      "zerolinewidth": 2,
                      "ticks": "",
                      "zerolinecolor": "white",
                      "gridcolor": "white",
                      "linecolor": "white"
                    },
                    "annotationdefaults": {
                      "arrowwidth": 1,
                      "arrowhead": 0,
                      "arrowcolor": "#2a3f5f"
                    },
                    "hoverlabel": {
                      "align": "left"
                    },
                    "ternary": {
                      "bgcolor": "#E5ECF6",
                      "baxis": {
                        "ticks": "",
                        "gridcolor": "white",
                        "linecolor": "white"
                      },
                      "caxis": {
                        "ticks": "",
                        "gridcolor": "white",
                        "linecolor": "white"
                      },
                      "aaxis": {
                        "ticks": "",
                        "gridcolor": "white",
                        "linecolor": "white"
                      }
                    },
                    "mapbox": {
                      "style": "light"
                    },
                    "hovermode": "closest",
                    "font": {
                      "color": "#2a3f5f"
                    },
                    "geo": {
                      "showland": true,
                      "landcolor": "#E5ECF6",
                      "showlakes": true,
                      "bgcolor": "white",
                      "subunitcolor": "white",
                      "lakecolor": "white"
                    },
                    "coloraxis": {
                      "colorbar": {
                        "outlinewidth": 0,
                        "ticks": ""
                      }
                    }
                  },
                  "data": {
                    "mesh3d": [
                      {
                        "colorbar": {
                          "outlinewidth": 0,
                          "ticks": ""
                        },
                        "type": "mesh3d"
                      }
                    ],
                    "scattercarpet": [
                      {
                        "marker": {
                          "colorbar": {
                            "outlinewidth": 0,
                            "ticks": ""
                          }
                        },
                        "type": "scattercarpet"
                      }
                    ],
                    "pie": [
                      {
                        "automargin": true,
                        "type": "pie"
                      }
                    ],
                    "surface": [
                      {
                        "colorbar": {
                          "outlinewidth": 0,
                          "ticks": ""
                        },
                        "type": "surface",
                        "colorscale": [
                          [
                            0,
                            "#0d0887"
                          ],
                          [
                            0.1111111111111111,
                            "#46039f"
                          ],
                          [
                            0.2222222222222222,
                            "#7201a8"
                          ],
                          [
                            0.3333333333333333,
                            "#9c179e"
                          ],
                          [
                            0.4444444444444444,
                            "#bd3786"
                          ],
                          [
                            0.5555555555555556,
                            "#d8576b"
                          ],
                          [
                            0.6666666666666666,
                            "#ed7953"
                          ],
                          [
                            0.7777777777777778,
                            "#fb9f3a"
                          ],
                          [
                            0.8888888888888888,
                            "#fdca26"
                          ],
                          [
                            1,
                            "#f0f921"
                          ]
                        ]
                      }
                    ],
                    "table": [
                      {
                        "header": {
                          "line": {
                            "color": "white"
                          },
                          "fill": {
                            "color": "#C8D4E3"
                          }
                        },
                        "cells": {
                          "line": {
                            "color": "white"
                          },
                          "fill": {
                            "color": "#EBF0F8"
                          }
                        },
                        "type": "table"
                      }
                    ],
                    "scatterpolargl": [
                      {
                        "marker": {
                          "colorbar": {
                            "outlinewidth": 0,
                            "ticks": ""
                          }
                        },
                        "type": "scatterpolargl"
                      }
                    ],
                    "contour": [
                      {
                        "colorbar": {
                          "outlinewidth": 0,
                          "ticks": ""
                        },
                        "type": "contour",
                        "colorscale": [
                          [
                            0,
                            "#0d0887"
                          ],
                          [
                            0.1111111111111111,
                            "#46039f"
                          ],
                          [
                            0.2222222222222222,
                            "#7201a8"
                          ],
                          [
                            0.3333333333333333,
                            "#9c179e"
                          ],
                          [
                            0.4444444444444444,
                            "#bd3786"
                          ],
                          [
                            0.5555555555555556,
                            "#d8576b"
                          ],
                          [
                            0.6666666666666666,
                            "#ed7953"
                          ],
                          [
                            0.7777777777777778,
                            "#fb9f3a"
                          ],
                          [
                            0.8888888888888888,
                            "#fdca26"
                          ],
                          [
                            1,
                            "#f0f921"
                          ]
                        ]
                      }
                    ],
                    "carpet": [
                      {
                        "type": "carpet",
                        "baxis": {
                          "minorgridcolor": "white",
                          "gridcolor": "white",
                          "linecolor": "white",
                          "endlinecolor": "#2a3f5f",
                          "startlinecolor": "#2a3f5f"
                        },
                        "aaxis": {
                          "minorgridcolor": "white",
                          "gridcolor": "white",
                          "linecolor": "white",
                          "endlinecolor": "#2a3f5f",
                          "startlinecolor": "#2a3f5f"
                        }
                      }
                    ],
                    "contourcarpet": [
                      {
                        "colorbar": {
                          "outlinewidth": 0,
                          "ticks": ""
                        },
                        "type": "contourcarpet"
                      }
                    ],
                    "heatmap": [
                      {
                        "colorbar": {
                          "outlinewidth": 0,
                          "ticks": ""
                        },
                        "type": "heatmap",
                        "colorscale": [
                          [
                            0,
                            "#0d0887"
                          ],
                          [
                            0.1111111111111111,
                            "#46039f"
                          ],
                          [
                            0.2222222222222222,
                            "#7201a8"
                          ],
                          [
                            0.3333333333333333,
                            "#9c179e"
                          ],
                          [
                            0.4444444444444444,
                            "#bd3786"
                          ],
                          [
                            0.5555555555555556,
                            "#d8576b"
                          ],
                          [
                            0.6666666666666666,
                            "#ed7953"
                          ],
                          [
                            0.7777777777777778,
                            "#fb9f3a"
                          ],
                          [
                            0.8888888888888888,
                            "#fdca26"
                          ],
                          [
                            1,
                            "#f0f921"
                          ]
                        ]
                      }
                    ],
                    "scattermapbox": [
                      {
                        "marker": {
                          "colorbar": {
                            "outlinewidth": 0,
                            "ticks": ""
                          }
                        },
                        "type": "scattermapbox"
                      }
                    ],
                    "scatter3d": [
                      {
                        "marker": {
                          "colorbar": {
                            "outlinewidth": 0,
                            "ticks": ""
                          }
                        },
                        "line": {
                          "colorbar": {
                            "outlinewidth": 0,
                            "ticks": ""
                          }
                        },
                        "type": "scatter3d"
                      }
                    ],
                    "scattergl": [
                      {
                        "marker": {
                          "colorbar": {
                            "outlinewidth": 0,
                            "ticks": ""
                          }
                        },
                        "type": "scattergl"
                      }
                    ],
                    "scatterternary": [
                      {
                        "marker": {
                          "colorbar": {
                            "outlinewidth": 0,
                            "ticks": ""
                          }
                        },
                        "type": "scatterternary"
                      }
                    ],
                    "histogram": [
                      {
                        "marker": {
                          "colorbar": {
                            "outlinewidth": 0,
                            "ticks": ""
                          }
                        },
                        "type": "histogram"
                      }
                    ],
                    "heatmapgl": [
                      {
                        "colorbar": {
                          "outlinewidth": 0,
                          "ticks": ""
                        },
                        "type": "heatmapgl",
                        "colorscale": [
                          [
                            0,
                            "#0d0887"
                          ],
                          [
                            0.1111111111111111,
                            "#46039f"
                          ],
                          [
                            0.2222222222222222,
                            "#7201a8"
                          ],
                          [
                            0.3333333333333333,
                            "#9c179e"
                          ],
                          [
                            0.4444444444444444,
                            "#bd3786"
                          ],
                          [
                            0.5555555555555556,
                            "#d8576b"
                          ],
                          [
                            0.6666666666666666,
                            "#ed7953"
                          ],
                          [
                            0.7777777777777778,
                            "#fb9f3a"
                          ],
                          [
                            0.8888888888888888,
                            "#fdca26"
                          ],
                          [
                            1,
                            "#f0f921"
                          ]
                        ]
                      }
                    ],
                    "scatterpolar": [
                      {
                        "marker": {
                          "colorbar": {
                            "outlinewidth": 0,
                            "ticks": ""
                          }
                        },
                        "type": "scatterpolar"
                      }
                    ],
                    "histogram2d": [
                      {
                        "colorbar": {
                          "outlinewidth": 0,
                          "ticks": ""
                        },
                        "type": "histogram2d",
                        "colorscale": [
                          [
                            0,
                            "#0d0887"
                          ],
                          [
                            0.1111111111111111,
                            "#46039f"
                          ],
                          [
                            0.2222222222222222,
                            "#7201a8"
                          ],
                          [
                            0.3333333333333333,
                            "#9c179e"
                          ],
                          [
                            0.4444444444444444,
                            "#bd3786"
                          ],
                          [
                            0.5555555555555556,
                            "#d8576b"
                          ],
                          [
                            0.6666666666666666,
                            "#ed7953"
                          ],
                          [
                            0.7777777777777778,
                            "#fb9f3a"
                          ],
                          [
                            0.8888888888888888,
                            "#fdca26"
                          ],
                          [
                            1,
                            "#f0f921"
                          ]
                        ]
                      }
                    ],
                    "scattergeo": [
                      {
                        "marker": {
                          "colorbar": {
                            "outlinewidth": 0,
                            "ticks": ""
                          }
                        },
                        "type": "scattergeo"
                      }
                    ],
                    "bar": [
                      {
                        "marker": {
                          "line": {
                            "color": "#E5ECF6",
                            "width": 0.5
                          }
                        },
                        "type": "bar",
                        "error_x": {
                          "color": "#2a3f5f"
                        },
                        "error_y": {
                          "color": "#2a3f5f"
                        }
                      }
                    ],
                    "choropleth": [
                      {
                        "colorbar": {
                          "outlinewidth": 0,
                          "ticks": ""
                        },
                        "type": "choropleth"
                      }
                    ],
                    "parcoords": [
                      {
                        "line": {
                          "colorbar": {
                            "outlinewidth": 0,
                            "ticks": ""
                          }
                        },
                        "type": "parcoords"
                      }
                    ],
                    "barpolar": [
                      {
                        "marker": {
                          "line": {
                            "color": "#E5ECF6",
                            "width": 0.5
                          }
                        },
                        "type": "barpolar"
                      }
                    ],
                    "histogram2dcontour": [
                      {
                        "colorbar": {
                          "outlinewidth": 0,
                          "ticks": ""
                        },
                        "type": "histogram2dcontour",
                        "colorscale": [
                          [
                            0,
                            "#0d0887"
                          ],
                          [
                            0.1111111111111111,
                            "#46039f"
                          ],
                          [
                            0.2222222222222222,
                            "#7201a8"
                          ],
                          [
                            0.3333333333333333,
                            "#9c179e"
                          ],
                          [
                            0.4444444444444444,
                            "#bd3786"
                          ],
                          [
                            0.5555555555555556,
                            "#d8576b"
                          ],
                          [
                            0.6666666666666666,
                            "#ed7953"
                          ],
                          [
                            0.7777777777777778,
                            "#fb9f3a"
                          ],
                          [
                            0.8888888888888888,
                            "#fdca26"
                          ],
                          [
                            1,
                            "#f0f921"
                          ]
                        ]
                      }
                    ],
                    "scatter": [
                      {
                        "marker": {
                          "colorbar": {
                            "outlinewidth": 0,
                            "ticks": ""
                          }
                        },
                        "type": "scatter"
                      }
                    ]
                  }
                },
                "title": {
                  "text": "Amount of fraudulent transactions"
                }
              }
            }
          },
          "metadata": {
            "tags": []
          }
        }
      ]
    },
    {
      "cell_type": "code",
      "metadata": {
        "colab": {
          "base_uri": "https://localhost:8080/",
          "height": 854
        },
        "id": "CsV78TSmcRzg",
        "outputId": "c2151c03-6933-498e-fcfb-3397ad4c959e"
      },
      "source": [
        "plt.figure(figsize = (14,14))\r\n",
        "plt.title('Credit Card Transactions features correlation plot (Pearson)')\r\n",
        "corr = data_df.corr()\r\n",
        "sns.heatmap(corr,xticklabels=corr.columns,yticklabels=corr.columns,linewidths=.1,cmap=\"Reds\")\r\n",
        "plt.show()"
      ],
      "execution_count": 68,
      "outputs": [
        {
          "output_type": "display_data",
          "data": {
            "image/png": "[encoded data removed]",
            "text/plain": [
              "<Figure size 1008x1008 with 2 Axes>"
            ]
          },
          "metadata": {
            "tags": [],
            "needs_background": "light"
          }
        }
      ]
    },
    {
      "cell_type": "code",
      "metadata": {
        "colab": {
          "base_uri": "https://localhost:8080/",
          "height": 864
        },
        "id": "-kkYu0TzcVrZ",
        "outputId": "76c960a0-1c74-44f0-dff7-348a1d99daf8"
      },
      "source": [
        "s = sns.lmplot(x='V20', y='Amount',data=data_df, hue='Class', fit_reg=True,scatter_kws={'s':2})\r\n",
        "s = sns.lmplot(x='V7', y='Amount',data=data_df, hue='Class', fit_reg=True,scatter_kws={'s':2})\r\n",
        "plt.show()"
      ],
      "execution_count": 69,
      "outputs": [
        {
          "output_type": "error",
          "ename": "KeyboardInterrupt",
          "evalue": "ignored",
          "traceback": [
            "\u001b[0;31m---------------------------------------------------------------------------\u001b[0m",
            "\u001b[0;31mKeyboardInterrupt\u001b[0m                         Traceback (most recent call last)",
            "\u001b[0;32m<ipython-input-69-69c1d7772a4a>\u001b[0m in \u001b[0;36m<module>\u001b[0;34m()\u001b[0m\n\u001b[1;32m      1\u001b[0m \u001b[0ms\u001b[0m \u001b[0;34m=\u001b[0m \u001b[0msns\u001b[0m\u001b[0;34m.\u001b[0m\u001b[0mlmplot\u001b[0m\u001b[0;34m(\u001b[0m\u001b[0mx\u001b[0m\u001b[0;34m=\u001b[0m\u001b[0;34m'V20'\u001b[0m\u001b[0;34m,\u001b[0m \u001b[0my\u001b[0m\u001b[0;34m=\u001b[0m\u001b[0;34m'Amount'\u001b[0m\u001b[0;34m,\u001b[0m\u001b[0mdata\u001b[0m\u001b[0;34m=\u001b[0m\u001b[0mdata_df\u001b[0m\u001b[0;34m,\u001b[0m \u001b[0mhue\u001b[0m\u001b[0;34m=\u001b[0m\u001b[0;34m'Class'\u001b[0m\u001b[0;34m,\u001b[0m \u001b[0mfit_reg\u001b[0m\u001b[0;34m=\u001b[0m\u001b[0;32mTrue\u001b[0m\u001b[0;34m,\u001b[0m\u001b[0mscatter_kws\u001b[0m\u001b[0;34m=\u001b[0m\u001b[0;34m{\u001b[0m\u001b[0;34m's'\u001b[0m\u001b[0;34m:\u001b[0m\u001b[0;36m2\u001b[0m\u001b[0;34m}\u001b[0m\u001b[0;34m)\u001b[0m\u001b[0;34m\u001b[0m\u001b[0;34m\u001b[0m\u001b[0m\n\u001b[0;32m----> 2\u001b[0;31m \u001b[0ms\u001b[0m \u001b[0;34m=\u001b[0m \u001b[0msns\u001b[0m\u001b[0;34m.\u001b[0m\u001b[0mlmplot\u001b[0m\u001b[0;34m(\u001b[0m\u001b[0mx\u001b[0m\u001b[0;34m=\u001b[0m\u001b[0;34m'V7'\u001b[0m\u001b[0;34m,\u001b[0m \u001b[0my\u001b[0m\u001b[0;34m=\u001b[0m\u001b[0;34m'Amount'\u001b[0m\u001b[0;34m,\u001b[0m\u001b[0mdata\u001b[0m\u001b[0;34m=\u001b[0m\u001b[0mdata_df\u001b[0m\u001b[0;34m,\u001b[0m \u001b[0mhue\u001b[0m\u001b[0;34m=\u001b[0m\u001b[0;34m'Class'\u001b[0m\u001b[0;34m,\u001b[0m \u001b[0mfit_reg\u001b[0m\u001b[0;34m=\u001b[0m\u001b[0;32mTrue\u001b[0m\u001b[0;34m,\u001b[0m\u001b[0mscatter_kws\u001b[0m\u001b[0;34m=\u001b[0m\u001b[0;34m{\u001b[0m\u001b[0;34m's'\u001b[0m\u001b[0;34m:\u001b[0m\u001b[0;36m2\u001b[0m\u001b[0;34m}\u001b[0m\u001b[0;34m)\u001b[0m\u001b[0;34m\u001b[0m\u001b[0;34m\u001b[0m\u001b[0m\n\u001b[0m\u001b[1;32m      3\u001b[0m \u001b[0mplt\u001b[0m\u001b[0;34m.\u001b[0m\u001b[0mshow\u001b[0m\u001b[0;34m(\u001b[0m\u001b[0;34m)\u001b[0m\u001b[0;34m\u001b[0m\u001b[0;34m\u001b[0m\u001b[0m\n",
            "\u001b[0;32m/usr/local/lib/python3.6/dist-packages/seaborn/_decorators.py\u001b[0m in \u001b[0;36minner_f\u001b[0;34m(*args, **kwargs)\u001b[0m\n\u001b[1;32m     44\u001b[0m             )\n\u001b[1;32m     45\u001b[0m         \u001b[0mkwargs\u001b[0m\u001b[0;34m.\u001b[0m\u001b[0mupdate\u001b[0m\u001b[0;34m(\u001b[0m\u001b[0;34m{\u001b[0m\u001b[0mk\u001b[0m\u001b[0;34m:\u001b[0m \u001b[0marg\u001b[0m \u001b[0;32mfor\u001b[0m \u001b[0mk\u001b[0m\u001b[0;34m,\u001b[0m \u001b[0marg\u001b[0m \u001b[0;32min\u001b[0m \u001b[0mzip\u001b[0m\u001b[0;34m(\u001b[0m\u001b[0msig\u001b[0m\u001b[0;34m.\u001b[0m\u001b[0mparameters\u001b[0m\u001b[0;34m,\u001b[0m \u001b[0margs\u001b[0m\u001b[0;34m)\u001b[0m\u001b[0;34m}\u001b[0m\u001b[0;34m)\u001b[0m\u001b[0;34m\u001b[0m\u001b[0;34m\u001b[0m\u001b[0m\n\u001b[0;32m---> 46\u001b[0;31m         \u001b[0;32mreturn\u001b[0m \u001b[0mf\u001b[0m\u001b[0;34m(\u001b[0m\u001b[0;34m**\u001b[0m\u001b[0mkwargs\u001b[0m\u001b[0;34m)\u001b[0m\u001b[0;34m\u001b[0m\u001b[0;34m\u001b[0m\u001b[0m\n\u001b[0m\u001b[1;32m     47\u001b[0m     \u001b[0;32mreturn\u001b[0m \u001b[0minner_f\u001b[0m\u001b[0;34m\u001b[0m\u001b[0;34m\u001b[0m\u001b[0m\n\u001b[1;32m     48\u001b[0m \u001b[0;34m\u001b[0m\u001b[0m\n",
            "\u001b[0;32m/usr/local/lib/python3.6/dist-packages/seaborn/regression.py\u001b[0m in \u001b[0;36mlmplot\u001b[0;34m(x, y, data, hue, col, row, palette, col_wrap, height, aspect, markers, sharex, sharey, hue_order, col_order, row_order, legend, legend_out, x_estimator, x_bins, x_ci, scatter, fit_reg, ci, n_boot, units, seed, order, logistic, lowess, robust, logx, x_partial, y_partial, truncate, x_jitter, y_jitter, scatter_kws, line_kws, size)\u001b[0m\n\u001b[1;32m    626\u001b[0m         \u001b[0mscatter_kws\u001b[0m\u001b[0;34m=\u001b[0m\u001b[0mscatter_kws\u001b[0m\u001b[0;34m,\u001b[0m \u001b[0mline_kws\u001b[0m\u001b[0;34m=\u001b[0m\u001b[0mline_kws\u001b[0m\u001b[0;34m,\u001b[0m\u001b[0;34m\u001b[0m\u001b[0;34m\u001b[0m\u001b[0m\n\u001b[1;32m    627\u001b[0m     )\n\u001b[0;32m--> 628\u001b[0;31m     \u001b[0mfacets\u001b[0m\u001b[0;34m.\u001b[0m\u001b[0mmap_dataframe\u001b[0m\u001b[0;34m(\u001b[0m\u001b[0mregplot\u001b[0m\u001b[0;34m,\u001b[0m \u001b[0mx\u001b[0m\u001b[0;34m=\u001b[0m\u001b[0mx\u001b[0m\u001b[0;34m,\u001b[0m \u001b[0my\u001b[0m\u001b[0;34m=\u001b[0m\u001b[0my\u001b[0m\u001b[0;34m,\u001b[0m \u001b[0;34m**\u001b[0m\u001b[0mregplot_kws\u001b[0m\u001b[0;34m)\u001b[0m\u001b[0;34m\u001b[0m\u001b[0;34m\u001b[0m\u001b[0m\n\u001b[0m\u001b[1;32m    629\u001b[0m \u001b[0;34m\u001b[0m\u001b[0m\n\u001b[1;32m    630\u001b[0m     \u001b[0;31m# TODO this will need to change when we relax string requirement\u001b[0m\u001b[0;34m\u001b[0m\u001b[0;34m\u001b[0m\u001b[0;34m\u001b[0m\u001b[0m\n",
            "\u001b[0;32m/usr/local/lib/python3.6/dist-packages/seaborn/axisgrid.py\u001b[0m in \u001b[0;36mmap_dataframe\u001b[0;34m(self, func, *args, **kwargs)\u001b[0m\n\u001b[1;32m    748\u001b[0m \u001b[0;34m\u001b[0m\u001b[0m\n\u001b[1;32m    749\u001b[0m             \u001b[0;31m# Draw the plot\u001b[0m\u001b[0;34m\u001b[0m\u001b[0;34m\u001b[0m\u001b[0;34m\u001b[0m\u001b[0m\n\u001b[0;32m--> 750\u001b[0;31m             \u001b[0mself\u001b[0m\u001b[0;34m.\u001b[0m\u001b[0m_facet_plot\u001b[0m\u001b[0;34m(\u001b[0m\u001b[0mfunc\u001b[0m\u001b[0;34m,\u001b[0m \u001b[0max\u001b[0m\u001b[0;34m,\u001b[0m \u001b[0margs\u001b[0m\u001b[0;34m,\u001b[0m \u001b[0mkwargs\u001b[0m\u001b[0;34m)\u001b[0m\u001b[0;34m\u001b[0m\u001b[0;34m\u001b[0m\u001b[0m\n\u001b[0m\u001b[1;32m    751\u001b[0m \u001b[0;34m\u001b[0m\u001b[0m\n\u001b[1;32m    752\u001b[0m         \u001b[0;31m# Finalize the annotations and layout\u001b[0m\u001b[0;34m\u001b[0m\u001b[0;34m\u001b[0m\u001b[0;34m\u001b[0m\u001b[0m\n",
            "\u001b[0;32m/usr/local/lib/python3.6/dist-packages/seaborn/axisgrid.py\u001b[0m in \u001b[0;36m_facet_plot\u001b[0;34m(self, func, ax, plot_args, plot_kwargs)\u001b[0m\n\u001b[1;32m    773\u001b[0m             \u001b[0mplot_args\u001b[0m \u001b[0;34m=\u001b[0m \u001b[0;34m[\u001b[0m\u001b[0;34m]\u001b[0m\u001b[0;34m\u001b[0m\u001b[0;34m\u001b[0m\u001b[0m\n\u001b[1;32m    774\u001b[0m             \u001b[0mplot_kwargs\u001b[0m\u001b[0;34m[\u001b[0m\u001b[0;34m\"ax\"\u001b[0m\u001b[0;34m]\u001b[0m \u001b[0;34m=\u001b[0m \u001b[0max\u001b[0m\u001b[0;34m\u001b[0m\u001b[0;34m\u001b[0m\u001b[0m\n\u001b[0;32m--> 775\u001b[0;31m         \u001b[0mfunc\u001b[0m\u001b[0;34m(\u001b[0m\u001b[0;34m*\u001b[0m\u001b[0mplot_args\u001b[0m\u001b[0;34m,\u001b[0m \u001b[0;34m**\u001b[0m\u001b[0mplot_kwargs\u001b[0m\u001b[0;34m)\u001b[0m\u001b[0;34m\u001b[0m\u001b[0;34m\u001b[0m\u001b[0m\n\u001b[0m\u001b[1;32m    776\u001b[0m \u001b[0;34m\u001b[0m\u001b[0m\n\u001b[1;32m    777\u001b[0m         \u001b[0;31m# Sort out the supporting information\u001b[0m\u001b[0;34m\u001b[0m\u001b[0;34m\u001b[0m\u001b[0;34m\u001b[0m\u001b[0m\n",
            "\u001b[0;32m/usr/local/lib/python3.6/dist-packages/seaborn/_decorators.py\u001b[0m in \u001b[0;36minner_f\u001b[0;34m(*args, **kwargs)\u001b[0m\n\u001b[1;32m     44\u001b[0m             )\n\u001b[1;32m     45\u001b[0m         \u001b[0mkwargs\u001b[0m\u001b[0;34m.\u001b[0m\u001b[0mupdate\u001b[0m\u001b[0;34m(\u001b[0m\u001b[0;34m{\u001b[0m\u001b[0mk\u001b[0m\u001b[0;34m:\u001b[0m \u001b[0marg\u001b[0m \u001b[0;32mfor\u001b[0m \u001b[0mk\u001b[0m\u001b[0;34m,\u001b[0m \u001b[0marg\u001b[0m \u001b[0;32min\u001b[0m \u001b[0mzip\u001b[0m\u001b[0;34m(\u001b[0m\u001b[0msig\u001b[0m\u001b[0;34m.\u001b[0m\u001b[0mparameters\u001b[0m\u001b[0;34m,\u001b[0m \u001b[0margs\u001b[0m\u001b[0;34m)\u001b[0m\u001b[0;34m}\u001b[0m\u001b[0;34m)\u001b[0m\u001b[0;34m\u001b[0m\u001b[0;34m\u001b[0m\u001b[0m\n\u001b[0;32m---> 46\u001b[0;31m         \u001b[0;32mreturn\u001b[0m \u001b[0mf\u001b[0m\u001b[0;34m(\u001b[0m\u001b[0;34m**\u001b[0m\u001b[0mkwargs\u001b[0m\u001b[0;34m)\u001b[0m\u001b[0;34m\u001b[0m\u001b[0;34m\u001b[0m\u001b[0m\n\u001b[0m\u001b[1;32m     47\u001b[0m     \u001b[0;32mreturn\u001b[0m \u001b[0minner_f\u001b[0m\u001b[0;34m\u001b[0m\u001b[0;34m\u001b[0m\u001b[0m\n\u001b[1;32m     48\u001b[0m \u001b[0;34m\u001b[0m\u001b[0m\n",
            "\u001b[0;32m/usr/local/lib/python3.6/dist-packages/seaborn/regression.py\u001b[0m in \u001b[0;36mregplot\u001b[0;34m(x, y, data, x_estimator, x_bins, x_ci, scatter, fit_reg, ci, n_boot, units, seed, order, logistic, lowess, robust, logx, x_partial, y_partial, truncate, dropna, x_jitter, y_jitter, label, color, marker, scatter_kws, line_kws, ax)\u001b[0m\n\u001b[1;32m    836\u001b[0m     \u001b[0mscatter_kws\u001b[0m\u001b[0;34m[\u001b[0m\u001b[0;34m\"marker\"\u001b[0m\u001b[0;34m]\u001b[0m \u001b[0;34m=\u001b[0m \u001b[0mmarker\u001b[0m\u001b[0;34m\u001b[0m\u001b[0;34m\u001b[0m\u001b[0m\n\u001b[1;32m    837\u001b[0m     \u001b[0mline_kws\u001b[0m \u001b[0;34m=\u001b[0m \u001b[0;34m{\u001b[0m\u001b[0;34m}\u001b[0m \u001b[0;32mif\u001b[0m \u001b[0mline_kws\u001b[0m \u001b[0;32mis\u001b[0m \u001b[0;32mNone\u001b[0m \u001b[0;32melse\u001b[0m \u001b[0mcopy\u001b[0m\u001b[0;34m.\u001b[0m\u001b[0mcopy\u001b[0m\u001b[0;34m(\u001b[0m\u001b[0mline_kws\u001b[0m\u001b[0;34m)\u001b[0m\u001b[0;34m\u001b[0m\u001b[0;34m\u001b[0m\u001b[0m\n\u001b[0;32m--> 838\u001b[0;31m     \u001b[0mplotter\u001b[0m\u001b[0;34m.\u001b[0m\u001b[0mplot\u001b[0m\u001b[0;34m(\u001b[0m\u001b[0max\u001b[0m\u001b[0;34m,\u001b[0m \u001b[0mscatter_kws\u001b[0m\u001b[0;34m,\u001b[0m \u001b[0mline_kws\u001b[0m\u001b[0;34m)\u001b[0m\u001b[0;34m\u001b[0m\u001b[0;34m\u001b[0m\u001b[0m\n\u001b[0m\u001b[1;32m    839\u001b[0m     \u001b[0;32mreturn\u001b[0m \u001b[0max\u001b[0m\u001b[0;34m\u001b[0m\u001b[0;34m\u001b[0m\u001b[0m\n\u001b[1;32m    840\u001b[0m \u001b[0;34m\u001b[0m\u001b[0m\n",
            "\u001b[0;32m/usr/local/lib/python3.6/dist-packages/seaborn/regression.py\u001b[0m in \u001b[0;36mplot\u001b[0;34m(self, ax, scatter_kws, line_kws)\u001b[0m\n\u001b[1;32m    368\u001b[0m \u001b[0;34m\u001b[0m\u001b[0m\n\u001b[1;32m    369\u001b[0m         \u001b[0;32mif\u001b[0m \u001b[0mself\u001b[0m\u001b[0;34m.\u001b[0m\u001b[0mfit_reg\u001b[0m\u001b[0;34m:\u001b[0m\u001b[0;34m\u001b[0m\u001b[0;34m\u001b[0m\u001b[0m\n\u001b[0;32m--> 370\u001b[0;31m             \u001b[0mself\u001b[0m\u001b[0;34m.\u001b[0m\u001b[0mlineplot\u001b[0m\u001b[0;34m(\u001b[0m\u001b[0max\u001b[0m\u001b[0;34m,\u001b[0m \u001b[0mline_kws\u001b[0m\u001b[0;34m)\u001b[0m\u001b[0;34m\u001b[0m\u001b[0;34m\u001b[0m\u001b[0m\n\u001b[0m\u001b[1;32m    371\u001b[0m \u001b[0;34m\u001b[0m\u001b[0m\n\u001b[1;32m    372\u001b[0m         \u001b[0;31m# Label the axes\u001b[0m\u001b[0;34m\u001b[0m\u001b[0;34m\u001b[0m\u001b[0;34m\u001b[0m\u001b[0m\n",
            "\u001b[0;32m/usr/local/lib/python3.6/dist-packages/seaborn/regression.py\u001b[0m in \u001b[0;36mlineplot\u001b[0;34m(self, ax, kws)\u001b[0m\n\u001b[1;32m    411\u001b[0m         \u001b[0;34m\"\"\"Draw the model.\"\"\"\u001b[0m\u001b[0;34m\u001b[0m\u001b[0;34m\u001b[0m\u001b[0m\n\u001b[1;32m    412\u001b[0m         \u001b[0;31m# Fit the regression model\u001b[0m\u001b[0;34m\u001b[0m\u001b[0;34m\u001b[0m\u001b[0;34m\u001b[0m\u001b[0m\n\u001b[0;32m--> 413\u001b[0;31m         \u001b[0mgrid\u001b[0m\u001b[0;34m,\u001b[0m \u001b[0myhat\u001b[0m\u001b[0;34m,\u001b[0m \u001b[0merr_bands\u001b[0m \u001b[0;34m=\u001b[0m \u001b[0mself\u001b[0m\u001b[0;34m.\u001b[0m\u001b[0mfit_regression\u001b[0m\u001b[0;34m(\u001b[0m\u001b[0max\u001b[0m\u001b[0;34m)\u001b[0m\u001b[0;34m\u001b[0m\u001b[0;34m\u001b[0m\u001b[0m\n\u001b[0m\u001b[1;32m    414\u001b[0m         \u001b[0medges\u001b[0m \u001b[0;34m=\u001b[0m \u001b[0mgrid\u001b[0m\u001b[0;34m[\u001b[0m\u001b[0;36m0\u001b[0m\u001b[0;34m]\u001b[0m\u001b[0;34m,\u001b[0m \u001b[0mgrid\u001b[0m\u001b[0;34m[\u001b[0m\u001b[0;34m-\u001b[0m\u001b[0;36m1\u001b[0m\u001b[0;34m]\u001b[0m\u001b[0;34m\u001b[0m\u001b[0;34m\u001b[0m\u001b[0m\n\u001b[1;32m    415\u001b[0m \u001b[0;34m\u001b[0m\u001b[0m\n",
            "\u001b[0;32m/usr/local/lib/python3.6/dist-packages/seaborn/regression.py\u001b[0m in \u001b[0;36mfit_regression\u001b[0;34m(self, ax, x_range, grid)\u001b[0m\n\u001b[1;32m    219\u001b[0m             \u001b[0myhat\u001b[0m\u001b[0;34m,\u001b[0m \u001b[0myhat_boots\u001b[0m \u001b[0;34m=\u001b[0m \u001b[0mself\u001b[0m\u001b[0;34m.\u001b[0m\u001b[0mfit_logx\u001b[0m\u001b[0;34m(\u001b[0m\u001b[0mgrid\u001b[0m\u001b[0;34m)\u001b[0m\u001b[0;34m\u001b[0m\u001b[0;34m\u001b[0m\u001b[0m\n\u001b[1;32m    220\u001b[0m         \u001b[0;32melse\u001b[0m\u001b[0;34m:\u001b[0m\u001b[0;34m\u001b[0m\u001b[0;34m\u001b[0m\u001b[0m\n\u001b[0;32m--> 221\u001b[0;31m             \u001b[0myhat\u001b[0m\u001b[0;34m,\u001b[0m \u001b[0myhat_boots\u001b[0m \u001b[0;34m=\u001b[0m \u001b[0mself\u001b[0m\u001b[0;34m.\u001b[0m\u001b[0mfit_fast\u001b[0m\u001b[0;34m(\u001b[0m\u001b[0mgrid\u001b[0m\u001b[0;34m)\u001b[0m\u001b[0;34m\u001b[0m\u001b[0;34m\u001b[0m\u001b[0m\n\u001b[0m\u001b[1;32m    222\u001b[0m \u001b[0;34m\u001b[0m\u001b[0m\n\u001b[1;32m    223\u001b[0m         \u001b[0;31m# Compute the confidence interval at each grid point\u001b[0m\u001b[0;34m\u001b[0m\u001b[0;34m\u001b[0m\u001b[0;34m\u001b[0m\u001b[0m\n",
            "\u001b[0;32m/usr/local/lib/python3.6/dist-packages/seaborn/regression.py\u001b[0m in \u001b[0;36mfit_fast\u001b[0;34m(self, grid)\u001b[0m\n\u001b[1;32m    244\u001b[0m                                     \u001b[0mn_boot\u001b[0m\u001b[0;34m=\u001b[0m\u001b[0mself\u001b[0m\u001b[0;34m.\u001b[0m\u001b[0mn_boot\u001b[0m\u001b[0;34m,\u001b[0m\u001b[0;34m\u001b[0m\u001b[0;34m\u001b[0m\u001b[0m\n\u001b[1;32m    245\u001b[0m                                     \u001b[0munits\u001b[0m\u001b[0;34m=\u001b[0m\u001b[0mself\u001b[0m\u001b[0;34m.\u001b[0m\u001b[0munits\u001b[0m\u001b[0;34m,\u001b[0m\u001b[0;34m\u001b[0m\u001b[0;34m\u001b[0m\u001b[0m\n\u001b[0;32m--> 246\u001b[0;31m                                     seed=self.seed).T\n\u001b[0m\u001b[1;32m    247\u001b[0m         \u001b[0myhat_boots\u001b[0m \u001b[0;34m=\u001b[0m \u001b[0mgrid\u001b[0m\u001b[0;34m.\u001b[0m\u001b[0mdot\u001b[0m\u001b[0;34m(\u001b[0m\u001b[0mbeta_boots\u001b[0m\u001b[0;34m)\u001b[0m\u001b[0;34m.\u001b[0m\u001b[0mT\u001b[0m\u001b[0;34m\u001b[0m\u001b[0;34m\u001b[0m\u001b[0m\n\u001b[1;32m    248\u001b[0m         \u001b[0;32mreturn\u001b[0m \u001b[0myhat\u001b[0m\u001b[0;34m,\u001b[0m \u001b[0myhat_boots\u001b[0m\u001b[0;34m\u001b[0m\u001b[0;34m\u001b[0m\u001b[0m\n",
            "\u001b[0;32m/usr/local/lib/python3.6/dist-packages/seaborn/algorithms.py\u001b[0m in \u001b[0;36mbootstrap\u001b[0;34m(*args, **kwargs)\u001b[0m\n\u001b[1;32m     83\u001b[0m         \u001b[0mresampler\u001b[0m \u001b[0;34m=\u001b[0m \u001b[0mintegers\u001b[0m\u001b[0;34m(\u001b[0m\u001b[0;36m0\u001b[0m\u001b[0;34m,\u001b[0m \u001b[0mn\u001b[0m\u001b[0;34m,\u001b[0m \u001b[0mn\u001b[0m\u001b[0;34m,\u001b[0m \u001b[0mdtype\u001b[0m\u001b[0;34m=\u001b[0m\u001b[0mnp\u001b[0m\u001b[0;34m.\u001b[0m\u001b[0mintp\u001b[0m\u001b[0;34m)\u001b[0m  \u001b[0;31m# intp is indexing dtype\u001b[0m\u001b[0;34m\u001b[0m\u001b[0;34m\u001b[0m\u001b[0m\n\u001b[1;32m     84\u001b[0m         \u001b[0msample\u001b[0m \u001b[0;34m=\u001b[0m \u001b[0;34m[\u001b[0m\u001b[0ma\u001b[0m\u001b[0;34m.\u001b[0m\u001b[0mtake\u001b[0m\u001b[0;34m(\u001b[0m\u001b[0mresampler\u001b[0m\u001b[0;34m,\u001b[0m \u001b[0maxis\u001b[0m\u001b[0;34m=\u001b[0m\u001b[0;36m0\u001b[0m\u001b[0;34m)\u001b[0m \u001b[0;32mfor\u001b[0m \u001b[0ma\u001b[0m \u001b[0;32min\u001b[0m \u001b[0margs\u001b[0m\u001b[0;34m]\u001b[0m\u001b[0;34m\u001b[0m\u001b[0;34m\u001b[0m\u001b[0m\n\u001b[0;32m---> 85\u001b[0;31m         \u001b[0mboot_dist\u001b[0m\u001b[0;34m.\u001b[0m\u001b[0mappend\u001b[0m\u001b[0;34m(\u001b[0m\u001b[0mf\u001b[0m\u001b[0;34m(\u001b[0m\u001b[0;34m*\u001b[0m\u001b[0msample\u001b[0m\u001b[0;34m,\u001b[0m \u001b[0;34m**\u001b[0m\u001b[0mfunc_kwargs\u001b[0m\u001b[0;34m)\u001b[0m\u001b[0;34m)\u001b[0m\u001b[0;34m\u001b[0m\u001b[0;34m\u001b[0m\u001b[0m\n\u001b[0m\u001b[1;32m     86\u001b[0m     \u001b[0;32mreturn\u001b[0m \u001b[0mnp\u001b[0m\u001b[0;34m.\u001b[0m\u001b[0marray\u001b[0m\u001b[0;34m(\u001b[0m\u001b[0mboot_dist\u001b[0m\u001b[0;34m)\u001b[0m\u001b[0;34m\u001b[0m\u001b[0;34m\u001b[0m\u001b[0m\n\u001b[1;32m     87\u001b[0m \u001b[0;34m\u001b[0m\u001b[0m\n",
            "\u001b[0;32m/usr/local/lib/python3.6/dist-packages/seaborn/regression.py\u001b[0m in \u001b[0;36mreg_func\u001b[0;34m(_x, _y)\u001b[0m\n\u001b[1;32m    232\u001b[0m         \u001b[0;34m\"\"\"Low-level regression and prediction using linear algebra.\"\"\"\u001b[0m\u001b[0;34m\u001b[0m\u001b[0;34m\u001b[0m\u001b[0m\n\u001b[1;32m    233\u001b[0m         \u001b[0;32mdef\u001b[0m \u001b[0mreg_func\u001b[0m\u001b[0;34m(\u001b[0m\u001b[0m_x\u001b[0m\u001b[0;34m,\u001b[0m \u001b[0m_y\u001b[0m\u001b[0;34m)\u001b[0m\u001b[0;34m:\u001b[0m\u001b[0;34m\u001b[0m\u001b[0;34m\u001b[0m\u001b[0m\n\u001b[0;32m--> 234\u001b[0;31m             \u001b[0;32mreturn\u001b[0m \u001b[0mnp\u001b[0m\u001b[0;34m.\u001b[0m\u001b[0mlinalg\u001b[0m\u001b[0;34m.\u001b[0m\u001b[0mpinv\u001b[0m\u001b[0;34m(\u001b[0m\u001b[0m_x\u001b[0m\u001b[0;34m)\u001b[0m\u001b[0;34m.\u001b[0m\u001b[0mdot\u001b[0m\u001b[0;34m(\u001b[0m\u001b[0m_y\u001b[0m\u001b[0;34m)\u001b[0m\u001b[0;34m\u001b[0m\u001b[0;34m\u001b[0m\u001b[0m\n\u001b[0m\u001b[1;32m    235\u001b[0m \u001b[0;34m\u001b[0m\u001b[0m\n\u001b[1;32m    236\u001b[0m         \u001b[0mX\u001b[0m\u001b[0;34m,\u001b[0m \u001b[0my\u001b[0m \u001b[0;34m=\u001b[0m \u001b[0mnp\u001b[0m\u001b[0;34m.\u001b[0m\u001b[0mc_\u001b[0m\u001b[0;34m[\u001b[0m\u001b[0mnp\u001b[0m\u001b[0;34m.\u001b[0m\u001b[0mones\u001b[0m\u001b[0;34m(\u001b[0m\u001b[0mlen\u001b[0m\u001b[0;34m(\u001b[0m\u001b[0mself\u001b[0m\u001b[0;34m.\u001b[0m\u001b[0mx\u001b[0m\u001b[0;34m)\u001b[0m\u001b[0;34m)\u001b[0m\u001b[0;34m,\u001b[0m \u001b[0mself\u001b[0m\u001b[0;34m.\u001b[0m\u001b[0mx\u001b[0m\u001b[0;34m]\u001b[0m\u001b[0;34m,\u001b[0m \u001b[0mself\u001b[0m\u001b[0;34m.\u001b[0m\u001b[0my\u001b[0m\u001b[0;34m\u001b[0m\u001b[0;34m\u001b[0m\u001b[0m\n",
            "\u001b[0;32m<__array_function__ internals>\u001b[0m in \u001b[0;36mpinv\u001b[0;34m(*args, **kwargs)\u001b[0m\n",
            "\u001b[0;32m/usr/local/lib/python3.6/dist-packages/numpy/linalg/linalg.py\u001b[0m in \u001b[0;36mpinv\u001b[0;34m(a, rcond, hermitian)\u001b[0m\n\u001b[1;32m   2009\u001b[0m     \u001b[0ms\u001b[0m\u001b[0;34m[\u001b[0m\u001b[0;34m~\u001b[0m\u001b[0mlarge\u001b[0m\u001b[0;34m]\u001b[0m \u001b[0;34m=\u001b[0m \u001b[0;36m0\u001b[0m\u001b[0;34m\u001b[0m\u001b[0;34m\u001b[0m\u001b[0m\n\u001b[1;32m   2010\u001b[0m \u001b[0;34m\u001b[0m\u001b[0m\n\u001b[0;32m-> 2011\u001b[0;31m     \u001b[0mres\u001b[0m \u001b[0;34m=\u001b[0m \u001b[0mmatmul\u001b[0m\u001b[0;34m(\u001b[0m\u001b[0mtranspose\u001b[0m\u001b[0;34m(\u001b[0m\u001b[0mvt\u001b[0m\u001b[0;34m)\u001b[0m\u001b[0;34m,\u001b[0m \u001b[0mmultiply\u001b[0m\u001b[0;34m(\u001b[0m\u001b[0ms\u001b[0m\u001b[0;34m[\u001b[0m\u001b[0;34m...\u001b[0m\u001b[0;34m,\u001b[0m \u001b[0mnewaxis\u001b[0m\u001b[0;34m]\u001b[0m\u001b[0;34m,\u001b[0m \u001b[0mtranspose\u001b[0m\u001b[0;34m(\u001b[0m\u001b[0mu\u001b[0m\u001b[0;34m)\u001b[0m\u001b[0;34m)\u001b[0m\u001b[0;34m)\u001b[0m\u001b[0;34m\u001b[0m\u001b[0;34m\u001b[0m\u001b[0m\n\u001b[0m\u001b[1;32m   2012\u001b[0m     \u001b[0;32mreturn\u001b[0m \u001b[0mwrap\u001b[0m\u001b[0;34m(\u001b[0m\u001b[0mres\u001b[0m\u001b[0;34m)\u001b[0m\u001b[0;34m\u001b[0m\u001b[0;34m\u001b[0m\u001b[0m\n\u001b[1;32m   2013\u001b[0m \u001b[0;34m\u001b[0m\u001b[0m\n",
            "\u001b[0;31mKeyboardInterrupt\u001b[0m: "
          ]
        },
        {
          "output_type": "stream",
          "text": [
            "Error in callback <function flush_figures at 0x7f2d45bf1048> (for post_execute):\n"
          ],
          "name": "stdout"
        },
        {
          "output_type": "error",
          "ename": "KeyboardInterrupt",
          "evalue": "ignored",
          "traceback": [
            "\u001b[0;31m---------------------------------------------------------------------------\u001b[0m",
            "\u001b[0;31mKeyboardInterrupt\u001b[0m                         Traceback (most recent call last)",
            "\u001b[0;32m/usr/local/lib/python3.6/dist-packages/ipykernel/pylab/backend_inline.py\u001b[0m in \u001b[0;36mflush_figures\u001b[0;34m()\u001b[0m\n\u001b[1;32m    115\u001b[0m         \u001b[0;31m# ignore the tracking, just draw and close all figures\u001b[0m\u001b[0;34m\u001b[0m\u001b[0;34m\u001b[0m\u001b[0;34m\u001b[0m\u001b[0m\n\u001b[1;32m    116\u001b[0m         \u001b[0;32mtry\u001b[0m\u001b[0;34m:\u001b[0m\u001b[0;34m\u001b[0m\u001b[0;34m\u001b[0m\u001b[0m\n\u001b[0;32m--> 117\u001b[0;31m             \u001b[0;32mreturn\u001b[0m \u001b[0mshow\u001b[0m\u001b[0;34m(\u001b[0m\u001b[0;32mTrue\u001b[0m\u001b[0;34m)\u001b[0m\u001b[0;34m\u001b[0m\u001b[0;34m\u001b[0m\u001b[0m\n\u001b[0m\u001b[1;32m    118\u001b[0m         \u001b[0;32mexcept\u001b[0m \u001b[0mException\u001b[0m \u001b[0;32mas\u001b[0m \u001b[0me\u001b[0m\u001b[0;34m:\u001b[0m\u001b[0;34m\u001b[0m\u001b[0;34m\u001b[0m\u001b[0m\n\u001b[1;32m    119\u001b[0m             \u001b[0;31m# safely show traceback if in IPython, else raise\u001b[0m\u001b[0;34m\u001b[0m\u001b[0;34m\u001b[0m\u001b[0;34m\u001b[0m\u001b[0m\n",
            "\u001b[0;32m/usr/local/lib/python3.6/dist-packages/ipykernel/pylab/backend_inline.py\u001b[0m in \u001b[0;36mshow\u001b[0;34m(close, block)\u001b[0m\n\u001b[1;32m     37\u001b[0m             display(\n\u001b[1;32m     38\u001b[0m                 \u001b[0mfigure_manager\u001b[0m\u001b[0;34m.\u001b[0m\u001b[0mcanvas\u001b[0m\u001b[0;34m.\u001b[0m\u001b[0mfigure\u001b[0m\u001b[0;34m,\u001b[0m\u001b[0;34m\u001b[0m\u001b[0;34m\u001b[0m\u001b[0m\n\u001b[0;32m---> 39\u001b[0;31m                 \u001b[0mmetadata\u001b[0m\u001b[0;34m=\u001b[0m\u001b[0m_fetch_figure_metadata\u001b[0m\u001b[0;34m(\u001b[0m\u001b[0mfigure_manager\u001b[0m\u001b[0;34m.\u001b[0m\u001b[0mcanvas\u001b[0m\u001b[0;34m.\u001b[0m\u001b[0mfigure\u001b[0m\u001b[0;34m)\u001b[0m\u001b[0;34m\u001b[0m\u001b[0;34m\u001b[0m\u001b[0m\n\u001b[0m\u001b[1;32m     40\u001b[0m             )\n\u001b[1;32m     41\u001b[0m     \u001b[0;32mfinally\u001b[0m\u001b[0;34m:\u001b[0m\u001b[0;34m\u001b[0m\u001b[0;34m\u001b[0m\u001b[0m\n",
            "\u001b[0;32m/usr/local/lib/python3.6/dist-packages/IPython/core/display.py\u001b[0m in \u001b[0;36mdisplay\u001b[0;34m(*objs, **kwargs)\u001b[0m\n\u001b[1;32m    304\u001b[0m             \u001b[0mpublish_display_data\u001b[0m\u001b[0;34m(\u001b[0m\u001b[0mdata\u001b[0m\u001b[0;34m=\u001b[0m\u001b[0mobj\u001b[0m\u001b[0;34m,\u001b[0m \u001b[0mmetadata\u001b[0m\u001b[0;34m=\u001b[0m\u001b[0mmetadata\u001b[0m\u001b[0;34m,\u001b[0m \u001b[0;34m**\u001b[0m\u001b[0mkwargs\u001b[0m\u001b[0;34m)\u001b[0m\u001b[0;34m\u001b[0m\u001b[0;34m\u001b[0m\u001b[0m\n\u001b[1;32m    305\u001b[0m         \u001b[0;32melse\u001b[0m\u001b[0;34m:\u001b[0m\u001b[0;34m\u001b[0m\u001b[0;34m\u001b[0m\u001b[0m\n\u001b[0;32m--> 306\u001b[0;31m             \u001b[0mformat_dict\u001b[0m\u001b[0;34m,\u001b[0m \u001b[0mmd_dict\u001b[0m \u001b[0;34m=\u001b[0m \u001b[0mformat\u001b[0m\u001b[0;34m(\u001b[0m\u001b[0mobj\u001b[0m\u001b[0;34m,\u001b[0m \u001b[0minclude\u001b[0m\u001b[0;34m=\u001b[0m\u001b[0minclude\u001b[0m\u001b[0;34m,\u001b[0m \u001b[0mexclude\u001b[0m\u001b[0;34m=\u001b[0m\u001b[0mexclude\u001b[0m\u001b[0;34m)\u001b[0m\u001b[0;34m\u001b[0m\u001b[0;34m\u001b[0m\u001b[0m\n\u001b[0m\u001b[1;32m    307\u001b[0m             \u001b[0;32mif\u001b[0m \u001b[0;32mnot\u001b[0m \u001b[0mformat_dict\u001b[0m\u001b[0;34m:\u001b[0m\u001b[0;34m\u001b[0m\u001b[0;34m\u001b[0m\u001b[0m\n\u001b[1;32m    308\u001b[0m                 \u001b[0;31m# nothing to display (e.g. _ipython_display_ took over)\u001b[0m\u001b[0;34m\u001b[0m\u001b[0;34m\u001b[0m\u001b[0;34m\u001b[0m\u001b[0m\n",
            "\u001b[0;32m/usr/local/lib/python3.6/dist-packages/IPython/core/formatters.py\u001b[0m in \u001b[0;36mformat\u001b[0;34m(self, obj, include, exclude)\u001b[0m\n\u001b[1;32m    171\u001b[0m             \u001b[0mmd\u001b[0m \u001b[0;34m=\u001b[0m \u001b[0;32mNone\u001b[0m\u001b[0;34m\u001b[0m\u001b[0;34m\u001b[0m\u001b[0m\n\u001b[1;32m    172\u001b[0m             \u001b[0;32mtry\u001b[0m\u001b[0;34m:\u001b[0m\u001b[0;34m\u001b[0m\u001b[0;34m\u001b[0m\u001b[0m\n\u001b[0;32m--> 173\u001b[0;31m                 \u001b[0mdata\u001b[0m \u001b[0;34m=\u001b[0m \u001b[0mformatter\u001b[0m\u001b[0;34m(\u001b[0m\u001b[0mobj\u001b[0m\u001b[0;34m)\u001b[0m\u001b[0;34m\u001b[0m\u001b[0;34m\u001b[0m\u001b[0m\n\u001b[0m\u001b[1;32m    174\u001b[0m             \u001b[0;32mexcept\u001b[0m\u001b[0;34m:\u001b[0m\u001b[0;34m\u001b[0m\u001b[0;34m\u001b[0m\u001b[0m\n\u001b[1;32m    175\u001b[0m                 \u001b[0;31m# FIXME: log the exception\u001b[0m\u001b[0;34m\u001b[0m\u001b[0;34m\u001b[0m\u001b[0;34m\u001b[0m\u001b[0m\n",
            "\u001b[0;32m<decorator-gen-9>\u001b[0m in \u001b[0;36m__call__\u001b[0;34m(self, obj)\u001b[0m\n",
            "\u001b[0;32m/usr/local/lib/python3.6/dist-packages/IPython/core/formatters.py\u001b[0m in \u001b[0;36mcatch_format_error\u001b[0;34m(method, self, *args, **kwargs)\u001b[0m\n\u001b[1;32m    215\u001b[0m     \u001b[0;34m\"\"\"show traceback on failed format call\"\"\"\u001b[0m\u001b[0;34m\u001b[0m\u001b[0;34m\u001b[0m\u001b[0m\n\u001b[1;32m    216\u001b[0m     \u001b[0;32mtry\u001b[0m\u001b[0;34m:\u001b[0m\u001b[0;34m\u001b[0m\u001b[0;34m\u001b[0m\u001b[0m\n\u001b[0;32m--> 217\u001b[0;31m         \u001b[0mr\u001b[0m \u001b[0;34m=\u001b[0m \u001b[0mmethod\u001b[0m\u001b[0;34m(\u001b[0m\u001b[0mself\u001b[0m\u001b[0;34m,\u001b[0m \u001b[0;34m*\u001b[0m\u001b[0margs\u001b[0m\u001b[0;34m,\u001b[0m \u001b[0;34m**\u001b[0m\u001b[0mkwargs\u001b[0m\u001b[0;34m)\u001b[0m\u001b[0;34m\u001b[0m\u001b[0;34m\u001b[0m\u001b[0m\n\u001b[0m\u001b[1;32m    218\u001b[0m     \u001b[0;32mexcept\u001b[0m \u001b[0mNotImplementedError\u001b[0m\u001b[0;34m:\u001b[0m\u001b[0;34m\u001b[0m\u001b[0;34m\u001b[0m\u001b[0m\n\u001b[1;32m    219\u001b[0m         \u001b[0;31m# don't warn on NotImplementedErrors\u001b[0m\u001b[0;34m\u001b[0m\u001b[0;34m\u001b[0m\u001b[0;34m\u001b[0m\u001b[0m\n",
            "\u001b[0;32m/usr/local/lib/python3.6/dist-packages/IPython/core/formatters.py\u001b[0m in \u001b[0;36m__call__\u001b[0;34m(self, obj)\u001b[0m\n\u001b[1;32m    332\u001b[0m                 \u001b[0;32mpass\u001b[0m\u001b[0;34m\u001b[0m\u001b[0;34m\u001b[0m\u001b[0m\n\u001b[1;32m    333\u001b[0m             \u001b[0;32melse\u001b[0m\u001b[0;34m:\u001b[0m\u001b[0;34m\u001b[0m\u001b[0;34m\u001b[0m\u001b[0m\n\u001b[0;32m--> 334\u001b[0;31m                 \u001b[0;32mreturn\u001b[0m \u001b[0mprinter\u001b[0m\u001b[0;34m(\u001b[0m\u001b[0mobj\u001b[0m\u001b[0;34m)\u001b[0m\u001b[0;34m\u001b[0m\u001b[0;34m\u001b[0m\u001b[0m\n\u001b[0m\u001b[1;32m    335\u001b[0m             \u001b[0;31m# Finally look for special method names\u001b[0m\u001b[0;34m\u001b[0m\u001b[0;34m\u001b[0m\u001b[0;34m\u001b[0m\u001b[0m\n\u001b[1;32m    336\u001b[0m             \u001b[0mmethod\u001b[0m \u001b[0;34m=\u001b[0m \u001b[0mget_real_method\u001b[0m\u001b[0;34m(\u001b[0m\u001b[0mobj\u001b[0m\u001b[0;34m,\u001b[0m \u001b[0mself\u001b[0m\u001b[0;34m.\u001b[0m\u001b[0mprint_method\u001b[0m\u001b[0;34m)\u001b[0m\u001b[0;34m\u001b[0m\u001b[0;34m\u001b[0m\u001b[0m\n",
            "\u001b[0;32m/usr/local/lib/python3.6/dist-packages/IPython/core/pylabtools.py\u001b[0m in \u001b[0;36m<lambda>\u001b[0;34m(fig)\u001b[0m\n\u001b[1;32m    239\u001b[0m \u001b[0;34m\u001b[0m\u001b[0m\n\u001b[1;32m    240\u001b[0m     \u001b[0;32mif\u001b[0m \u001b[0;34m'png'\u001b[0m \u001b[0;32min\u001b[0m \u001b[0mformats\u001b[0m\u001b[0;34m:\u001b[0m\u001b[0;34m\u001b[0m\u001b[0;34m\u001b[0m\u001b[0m\n\u001b[0;32m--> 241\u001b[0;31m         \u001b[0mpng_formatter\u001b[0m\u001b[0;34m.\u001b[0m\u001b[0mfor_type\u001b[0m\u001b[0;34m(\u001b[0m\u001b[0mFigure\u001b[0m\u001b[0;34m,\u001b[0m \u001b[0;32mlambda\u001b[0m \u001b[0mfig\u001b[0m\u001b[0;34m:\u001b[0m \u001b[0mprint_figure\u001b[0m\u001b[0;34m(\u001b[0m\u001b[0mfig\u001b[0m\u001b[0;34m,\u001b[0m \u001b[0;34m'png'\u001b[0m\u001b[0;34m,\u001b[0m \u001b[0;34m**\u001b[0m\u001b[0mkwargs\u001b[0m\u001b[0;34m)\u001b[0m\u001b[0;34m)\u001b[0m\u001b[0;34m\u001b[0m\u001b[0;34m\u001b[0m\u001b[0m\n\u001b[0m\u001b[1;32m    242\u001b[0m     \u001b[0;32mif\u001b[0m \u001b[0;34m'retina'\u001b[0m \u001b[0;32min\u001b[0m \u001b[0mformats\u001b[0m \u001b[0;32mor\u001b[0m \u001b[0;34m'png2x'\u001b[0m \u001b[0;32min\u001b[0m \u001b[0mformats\u001b[0m\u001b[0;34m:\u001b[0m\u001b[0;34m\u001b[0m\u001b[0;34m\u001b[0m\u001b[0m\n\u001b[1;32m    243\u001b[0m         \u001b[0mpng_formatter\u001b[0m\u001b[0;34m.\u001b[0m\u001b[0mfor_type\u001b[0m\u001b[0;34m(\u001b[0m\u001b[0mFigure\u001b[0m\u001b[0;34m,\u001b[0m \u001b[0;32mlambda\u001b[0m \u001b[0mfig\u001b[0m\u001b[0;34m:\u001b[0m \u001b[0mretina_figure\u001b[0m\u001b[0;34m(\u001b[0m\u001b[0mfig\u001b[0m\u001b[0;34m,\u001b[0m \u001b[0;34m**\u001b[0m\u001b[0mkwargs\u001b[0m\u001b[0;34m)\u001b[0m\u001b[0;34m)\u001b[0m\u001b[0;34m\u001b[0m\u001b[0;34m\u001b[0m\u001b[0m\n",
            "\u001b[0;32m/usr/local/lib/python3.6/dist-packages/IPython/core/pylabtools.py\u001b[0m in \u001b[0;36mprint_figure\u001b[0;34m(fig, fmt, bbox_inches, **kwargs)\u001b[0m\n\u001b[1;32m    123\u001b[0m \u001b[0;34m\u001b[0m\u001b[0m\n\u001b[1;32m    124\u001b[0m     \u001b[0mbytes_io\u001b[0m \u001b[0;34m=\u001b[0m \u001b[0mBytesIO\u001b[0m\u001b[0;34m(\u001b[0m\u001b[0;34m)\u001b[0m\u001b[0;34m\u001b[0m\u001b[0;34m\u001b[0m\u001b[0m\n\u001b[0;32m--> 125\u001b[0;31m     \u001b[0mfig\u001b[0m\u001b[0;34m.\u001b[0m\u001b[0mcanvas\u001b[0m\u001b[0;34m.\u001b[0m\u001b[0mprint_figure\u001b[0m\u001b[0;34m(\u001b[0m\u001b[0mbytes_io\u001b[0m\u001b[0;34m,\u001b[0m \u001b[0;34m**\u001b[0m\u001b[0mkw\u001b[0m\u001b[0;34m)\u001b[0m\u001b[0;34m\u001b[0m\u001b[0;34m\u001b[0m\u001b[0m\n\u001b[0m\u001b[1;32m    126\u001b[0m     \u001b[0mdata\u001b[0m \u001b[0;34m=\u001b[0m \u001b[0mbytes_io\u001b[0m\u001b[0;34m.\u001b[0m\u001b[0mgetvalue\u001b[0m\u001b[0;34m(\u001b[0m\u001b[0;34m)\u001b[0m\u001b[0;34m\u001b[0m\u001b[0;34m\u001b[0m\u001b[0m\n\u001b[1;32m    127\u001b[0m     \u001b[0;32mif\u001b[0m \u001b[0mfmt\u001b[0m \u001b[0;34m==\u001b[0m \u001b[0;34m'svg'\u001b[0m\u001b[0;34m:\u001b[0m\u001b[0;34m\u001b[0m\u001b[0;34m\u001b[0m\u001b[0m\n",
            "\u001b[0;32m/usr/local/lib/python3.6/dist-packages/matplotlib/backend_bases.py\u001b[0m in \u001b[0;36mprint_figure\u001b[0;34m(self, filename, dpi, facecolor, edgecolor, orientation, format, bbox_inches, **kwargs)\u001b[0m\n\u001b[1;32m   2124\u001b[0m                     \u001b[0morientation\u001b[0m\u001b[0;34m=\u001b[0m\u001b[0morientation\u001b[0m\u001b[0;34m,\u001b[0m\u001b[0;34m\u001b[0m\u001b[0;34m\u001b[0m\u001b[0m\n\u001b[1;32m   2125\u001b[0m                     \u001b[0mbbox_inches_restore\u001b[0m\u001b[0;34m=\u001b[0m\u001b[0m_bbox_inches_restore\u001b[0m\u001b[0;34m,\u001b[0m\u001b[0;34m\u001b[0m\u001b[0;34m\u001b[0m\u001b[0m\n\u001b[0;32m-> 2126\u001b[0;31m                     **kwargs)\n\u001b[0m\u001b[1;32m   2127\u001b[0m             \u001b[0;32mfinally\u001b[0m\u001b[0;34m:\u001b[0m\u001b[0;34m\u001b[0m\u001b[0;34m\u001b[0m\u001b[0m\n\u001b[1;32m   2128\u001b[0m                 \u001b[0;32mif\u001b[0m \u001b[0mbbox_inches\u001b[0m \u001b[0;32mand\u001b[0m \u001b[0mrestore_bbox\u001b[0m\u001b[0;34m:\u001b[0m\u001b[0;34m\u001b[0m\u001b[0;34m\u001b[0m\u001b[0m\n",
            "\u001b[0;32m/usr/local/lib/python3.6/dist-packages/matplotlib/backends/backend_agg.py\u001b[0m in \u001b[0;36mprint_png\u001b[0;34m(self, filename_or_obj, metadata, pil_kwargs, *args, **kwargs)\u001b[0m\n\u001b[1;32m    512\u001b[0m         }\n\u001b[1;32m    513\u001b[0m \u001b[0;34m\u001b[0m\u001b[0m\n\u001b[0;32m--> 514\u001b[0;31m         \u001b[0mFigureCanvasAgg\u001b[0m\u001b[0;34m.\u001b[0m\u001b[0mdraw\u001b[0m\u001b[0;34m(\u001b[0m\u001b[0mself\u001b[0m\u001b[0;34m)\u001b[0m\u001b[0;34m\u001b[0m\u001b[0;34m\u001b[0m\u001b[0m\n\u001b[0m\u001b[1;32m    515\u001b[0m         \u001b[0;32mif\u001b[0m \u001b[0mpil_kwargs\u001b[0m \u001b[0;32mis\u001b[0m \u001b[0;32mnot\u001b[0m \u001b[0;32mNone\u001b[0m\u001b[0;34m:\u001b[0m\u001b[0;34m\u001b[0m\u001b[0;34m\u001b[0m\u001b[0m\n\u001b[1;32m    516\u001b[0m             \u001b[0;32mfrom\u001b[0m \u001b[0mPIL\u001b[0m \u001b[0;32mimport\u001b[0m \u001b[0mImage\u001b[0m\u001b[0;34m\u001b[0m\u001b[0;34m\u001b[0m\u001b[0m\n",
            "\u001b[0;32m/usr/local/lib/python3.6/dist-packages/matplotlib/backends/backend_agg.py\u001b[0m in \u001b[0;36mdraw\u001b[0;34m(self)\u001b[0m\n\u001b[1;32m    391\u001b[0m              (self.toolbar._wait_cursor_for_draw_cm() if self.toolbar\n\u001b[1;32m    392\u001b[0m               else nullcontext()):\n\u001b[0;32m--> 393\u001b[0;31m             \u001b[0mself\u001b[0m\u001b[0;34m.\u001b[0m\u001b[0mfigure\u001b[0m\u001b[0;34m.\u001b[0m\u001b[0mdraw\u001b[0m\u001b[0;34m(\u001b[0m\u001b[0mself\u001b[0m\u001b[0;34m.\u001b[0m\u001b[0mrenderer\u001b[0m\u001b[0;34m)\u001b[0m\u001b[0;34m\u001b[0m\u001b[0;34m\u001b[0m\u001b[0m\n\u001b[0m\u001b[1;32m    394\u001b[0m             \u001b[0;31m# A GUI class may be need to update a window using this draw, so\u001b[0m\u001b[0;34m\u001b[0m\u001b[0;34m\u001b[0m\u001b[0;34m\u001b[0m\u001b[0m\n\u001b[1;32m    395\u001b[0m             \u001b[0;31m# don't forget to call the superclass.\u001b[0m\u001b[0;34m\u001b[0m\u001b[0;34m\u001b[0m\u001b[0;34m\u001b[0m\u001b[0m\n",
            "\u001b[0;32m/usr/local/lib/python3.6/dist-packages/matplotlib/artist.py\u001b[0m in \u001b[0;36mdraw_wrapper\u001b[0;34m(artist, renderer, *args, **kwargs)\u001b[0m\n\u001b[1;32m     36\u001b[0m                 \u001b[0mrenderer\u001b[0m\u001b[0;34m.\u001b[0m\u001b[0mstart_filter\u001b[0m\u001b[0;34m(\u001b[0m\u001b[0;34m)\u001b[0m\u001b[0;34m\u001b[0m\u001b[0;34m\u001b[0m\u001b[0m\n\u001b[1;32m     37\u001b[0m \u001b[0;34m\u001b[0m\u001b[0m\n\u001b[0;32m---> 38\u001b[0;31m             \u001b[0;32mreturn\u001b[0m \u001b[0mdraw\u001b[0m\u001b[0;34m(\u001b[0m\u001b[0martist\u001b[0m\u001b[0;34m,\u001b[0m \u001b[0mrenderer\u001b[0m\u001b[0;34m,\u001b[0m \u001b[0;34m*\u001b[0m\u001b[0margs\u001b[0m\u001b[0;34m,\u001b[0m \u001b[0;34m**\u001b[0m\u001b[0mkwargs\u001b[0m\u001b[0;34m)\u001b[0m\u001b[0;34m\u001b[0m\u001b[0;34m\u001b[0m\u001b[0m\n\u001b[0m\u001b[1;32m     39\u001b[0m         \u001b[0;32mfinally\u001b[0m\u001b[0;34m:\u001b[0m\u001b[0;34m\u001b[0m\u001b[0;34m\u001b[0m\u001b[0m\n\u001b[1;32m     40\u001b[0m             \u001b[0;32mif\u001b[0m \u001b[0martist\u001b[0m\u001b[0;34m.\u001b[0m\u001b[0mget_agg_filter\u001b[0m\u001b[0;34m(\u001b[0m\u001b[0;34m)\u001b[0m \u001b[0;32mis\u001b[0m \u001b[0;32mnot\u001b[0m \u001b[0;32mNone\u001b[0m\u001b[0;34m:\u001b[0m\u001b[0;34m\u001b[0m\u001b[0;34m\u001b[0m\u001b[0m\n",
            "\u001b[0;32m/usr/local/lib/python3.6/dist-packages/matplotlib/figure.py\u001b[0m in \u001b[0;36mdraw\u001b[0;34m(self, renderer)\u001b[0m\n\u001b[1;32m   1734\u001b[0m             \u001b[0mself\u001b[0m\u001b[0;34m.\u001b[0m\u001b[0mpatch\u001b[0m\u001b[0;34m.\u001b[0m\u001b[0mdraw\u001b[0m\u001b[0;34m(\u001b[0m\u001b[0mrenderer\u001b[0m\u001b[0;34m)\u001b[0m\u001b[0;34m\u001b[0m\u001b[0;34m\u001b[0m\u001b[0m\n\u001b[1;32m   1735\u001b[0m             mimage._draw_list_compositing_images(\n\u001b[0;32m-> 1736\u001b[0;31m                 renderer, self, artists, self.suppressComposite)\n\u001b[0m\u001b[1;32m   1737\u001b[0m \u001b[0;34m\u001b[0m\u001b[0m\n\u001b[1;32m   1738\u001b[0m             \u001b[0mrenderer\u001b[0m\u001b[0;34m.\u001b[0m\u001b[0mclose_group\u001b[0m\u001b[0;34m(\u001b[0m\u001b[0;34m'figure'\u001b[0m\u001b[0;34m)\u001b[0m\u001b[0;34m\u001b[0m\u001b[0;34m\u001b[0m\u001b[0m\n",
            "\u001b[0;32m/usr/local/lib/python3.6/dist-packages/matplotlib/image.py\u001b[0m in \u001b[0;36m_draw_list_compositing_images\u001b[0;34m(renderer, parent, artists, suppress_composite)\u001b[0m\n\u001b[1;32m    135\u001b[0m     \u001b[0;32mif\u001b[0m \u001b[0mnot_composite\u001b[0m \u001b[0;32mor\u001b[0m \u001b[0;32mnot\u001b[0m \u001b[0mhas_images\u001b[0m\u001b[0;34m:\u001b[0m\u001b[0;34m\u001b[0m\u001b[0;34m\u001b[0m\u001b[0m\n\u001b[1;32m    136\u001b[0m         \u001b[0;32mfor\u001b[0m \u001b[0ma\u001b[0m \u001b[0;32min\u001b[0m \u001b[0martists\u001b[0m\u001b[0;34m:\u001b[0m\u001b[0;34m\u001b[0m\u001b[0;34m\u001b[0m\u001b[0m\n\u001b[0;32m--> 137\u001b[0;31m             \u001b[0ma\u001b[0m\u001b[0;34m.\u001b[0m\u001b[0mdraw\u001b[0m\u001b[0;34m(\u001b[0m\u001b[0mrenderer\u001b[0m\u001b[0;34m)\u001b[0m\u001b[0;34m\u001b[0m\u001b[0;34m\u001b[0m\u001b[0m\n\u001b[0m\u001b[1;32m    138\u001b[0m     \u001b[0;32melse\u001b[0m\u001b[0;34m:\u001b[0m\u001b[0;34m\u001b[0m\u001b[0;34m\u001b[0m\u001b[0m\n\u001b[1;32m    139\u001b[0m         \u001b[0;31m# Composite any adjacent images together\u001b[0m\u001b[0;34m\u001b[0m\u001b[0;34m\u001b[0m\u001b[0;34m\u001b[0m\u001b[0m\n",
            "\u001b[0;32m/usr/local/lib/python3.6/dist-packages/matplotlib/artist.py\u001b[0m in \u001b[0;36mdraw_wrapper\u001b[0;34m(artist, renderer, *args, **kwargs)\u001b[0m\n\u001b[1;32m     36\u001b[0m                 \u001b[0mrenderer\u001b[0m\u001b[0;34m.\u001b[0m\u001b[0mstart_filter\u001b[0m\u001b[0;34m(\u001b[0m\u001b[0;34m)\u001b[0m\u001b[0;34m\u001b[0m\u001b[0;34m\u001b[0m\u001b[0m\n\u001b[1;32m     37\u001b[0m \u001b[0;34m\u001b[0m\u001b[0m\n\u001b[0;32m---> 38\u001b[0;31m             \u001b[0;32mreturn\u001b[0m \u001b[0mdraw\u001b[0m\u001b[0;34m(\u001b[0m\u001b[0martist\u001b[0m\u001b[0;34m,\u001b[0m \u001b[0mrenderer\u001b[0m\u001b[0;34m,\u001b[0m \u001b[0;34m*\u001b[0m\u001b[0margs\u001b[0m\u001b[0;34m,\u001b[0m \u001b[0;34m**\u001b[0m\u001b[0mkwargs\u001b[0m\u001b[0;34m)\u001b[0m\u001b[0;34m\u001b[0m\u001b[0;34m\u001b[0m\u001b[0m\n\u001b[0m\u001b[1;32m     39\u001b[0m         \u001b[0;32mfinally\u001b[0m\u001b[0;34m:\u001b[0m\u001b[0;34m\u001b[0m\u001b[0;34m\u001b[0m\u001b[0m\n\u001b[1;32m     40\u001b[0m             \u001b[0;32mif\u001b[0m \u001b[0martist\u001b[0m\u001b[0;34m.\u001b[0m\u001b[0mget_agg_filter\u001b[0m\u001b[0;34m(\u001b[0m\u001b[0;34m)\u001b[0m \u001b[0;32mis\u001b[0m \u001b[0;32mnot\u001b[0m \u001b[0;32mNone\u001b[0m\u001b[0;34m:\u001b[0m\u001b[0;34m\u001b[0m\u001b[0;34m\u001b[0m\u001b[0m\n",
            "\u001b[0;32m/usr/local/lib/python3.6/dist-packages/matplotlib/axes/_base.py\u001b[0m in \u001b[0;36mdraw\u001b[0;34m(self, renderer, inframe)\u001b[0m\n\u001b[1;32m   2628\u001b[0m             \u001b[0mrenderer\u001b[0m\u001b[0;34m.\u001b[0m\u001b[0mstop_rasterizing\u001b[0m\u001b[0;34m(\u001b[0m\u001b[0;34m)\u001b[0m\u001b[0;34m\u001b[0m\u001b[0;34m\u001b[0m\u001b[0m\n\u001b[1;32m   2629\u001b[0m \u001b[0;34m\u001b[0m\u001b[0m\n\u001b[0;32m-> 2630\u001b[0;31m         \u001b[0mmimage\u001b[0m\u001b[0;34m.\u001b[0m\u001b[0m_draw_list_compositing_images\u001b[0m\u001b[0;34m(\u001b[0m\u001b[0mrenderer\u001b[0m\u001b[0;34m,\u001b[0m \u001b[0mself\u001b[0m\u001b[0;34m,\u001b[0m \u001b[0martists\u001b[0m\u001b[0;34m)\u001b[0m\u001b[0;34m\u001b[0m\u001b[0;34m\u001b[0m\u001b[0m\n\u001b[0m\u001b[1;32m   2631\u001b[0m \u001b[0;34m\u001b[0m\u001b[0m\n\u001b[1;32m   2632\u001b[0m         \u001b[0mrenderer\u001b[0m\u001b[0;34m.\u001b[0m\u001b[0mclose_group\u001b[0m\u001b[0;34m(\u001b[0m\u001b[0;34m'axes'\u001b[0m\u001b[0;34m)\u001b[0m\u001b[0;34m\u001b[0m\u001b[0;34m\u001b[0m\u001b[0m\n",
            "\u001b[0;32m/usr/local/lib/python3.6/dist-packages/matplotlib/image.py\u001b[0m in \u001b[0;36m_draw_list_compositing_images\u001b[0;34m(renderer, parent, artists, suppress_composite)\u001b[0m\n\u001b[1;32m    135\u001b[0m     \u001b[0;32mif\u001b[0m \u001b[0mnot_composite\u001b[0m \u001b[0;32mor\u001b[0m \u001b[0;32mnot\u001b[0m \u001b[0mhas_images\u001b[0m\u001b[0;34m:\u001b[0m\u001b[0;34m\u001b[0m\u001b[0;34m\u001b[0m\u001b[0m\n\u001b[1;32m    136\u001b[0m         \u001b[0;32mfor\u001b[0m \u001b[0ma\u001b[0m \u001b[0;32min\u001b[0m \u001b[0martists\u001b[0m\u001b[0;34m:\u001b[0m\u001b[0;34m\u001b[0m\u001b[0;34m\u001b[0m\u001b[0m\n\u001b[0;32m--> 137\u001b[0;31m             \u001b[0ma\u001b[0m\u001b[0;34m.\u001b[0m\u001b[0mdraw\u001b[0m\u001b[0;34m(\u001b[0m\u001b[0mrenderer\u001b[0m\u001b[0;34m)\u001b[0m\u001b[0;34m\u001b[0m\u001b[0;34m\u001b[0m\u001b[0m\n\u001b[0m\u001b[1;32m    138\u001b[0m     \u001b[0;32melse\u001b[0m\u001b[0;34m:\u001b[0m\u001b[0;34m\u001b[0m\u001b[0;34m\u001b[0m\u001b[0m\n\u001b[1;32m    139\u001b[0m         \u001b[0;31m# Composite any adjacent images together\u001b[0m\u001b[0;34m\u001b[0m\u001b[0;34m\u001b[0m\u001b[0;34m\u001b[0m\u001b[0m\n",
            "\u001b[0;32m/usr/local/lib/python3.6/dist-packages/matplotlib/artist.py\u001b[0m in \u001b[0;36mdraw_wrapper\u001b[0;34m(artist, renderer, *args, **kwargs)\u001b[0m\n\u001b[1;32m     36\u001b[0m                 \u001b[0mrenderer\u001b[0m\u001b[0;34m.\u001b[0m\u001b[0mstart_filter\u001b[0m\u001b[0;34m(\u001b[0m\u001b[0;34m)\u001b[0m\u001b[0;34m\u001b[0m\u001b[0;34m\u001b[0m\u001b[0m\n\u001b[1;32m     37\u001b[0m \u001b[0;34m\u001b[0m\u001b[0m\n\u001b[0;32m---> 38\u001b[0;31m             \u001b[0;32mreturn\u001b[0m \u001b[0mdraw\u001b[0m\u001b[0;34m(\u001b[0m\u001b[0martist\u001b[0m\u001b[0;34m,\u001b[0m \u001b[0mrenderer\u001b[0m\u001b[0;34m,\u001b[0m \u001b[0;34m*\u001b[0m\u001b[0margs\u001b[0m\u001b[0;34m,\u001b[0m \u001b[0;34m**\u001b[0m\u001b[0mkwargs\u001b[0m\u001b[0;34m)\u001b[0m\u001b[0;34m\u001b[0m\u001b[0;34m\u001b[0m\u001b[0m\n\u001b[0m\u001b[1;32m     39\u001b[0m         \u001b[0;32mfinally\u001b[0m\u001b[0;34m:\u001b[0m\u001b[0;34m\u001b[0m\u001b[0;34m\u001b[0m\u001b[0m\n\u001b[1;32m     40\u001b[0m             \u001b[0;32mif\u001b[0m \u001b[0martist\u001b[0m\u001b[0;34m.\u001b[0m\u001b[0mget_agg_filter\u001b[0m\u001b[0;34m(\u001b[0m\u001b[0;34m)\u001b[0m \u001b[0;32mis\u001b[0m \u001b[0;32mnot\u001b[0m \u001b[0;32mNone\u001b[0m\u001b[0;34m:\u001b[0m\u001b[0;34m\u001b[0m\u001b[0;34m\u001b[0m\u001b[0m\n",
            "\u001b[0;32m/usr/local/lib/python3.6/dist-packages/matplotlib/axis.py\u001b[0m in \u001b[0;36mdraw\u001b[0;34m(self, renderer, *args, **kwargs)\u001b[0m\n\u001b[1;32m   1241\u001b[0m         \u001b[0mself\u001b[0m\u001b[0;34m.\u001b[0m\u001b[0mlabel\u001b[0m\u001b[0;34m.\u001b[0m\u001b[0mdraw\u001b[0m\u001b[0;34m(\u001b[0m\u001b[0mrenderer\u001b[0m\u001b[0;34m)\u001b[0m\u001b[0;34m\u001b[0m\u001b[0;34m\u001b[0m\u001b[0m\n\u001b[1;32m   1242\u001b[0m \u001b[0;34m\u001b[0m\u001b[0m\n\u001b[0;32m-> 1243\u001b[0;31m         \u001b[0mself\u001b[0m\u001b[0;34m.\u001b[0m\u001b[0m_update_offset_text_position\u001b[0m\u001b[0;34m(\u001b[0m\u001b[0mticklabelBoxes\u001b[0m\u001b[0;34m,\u001b[0m \u001b[0mticklabelBoxes2\u001b[0m\u001b[0;34m)\u001b[0m\u001b[0;34m\u001b[0m\u001b[0;34m\u001b[0m\u001b[0m\n\u001b[0m\u001b[1;32m   1244\u001b[0m         \u001b[0mself\u001b[0m\u001b[0;34m.\u001b[0m\u001b[0moffsetText\u001b[0m\u001b[0;34m.\u001b[0m\u001b[0mset_text\u001b[0m\u001b[0;34m(\u001b[0m\u001b[0mself\u001b[0m\u001b[0;34m.\u001b[0m\u001b[0mmajor\u001b[0m\u001b[0;34m.\u001b[0m\u001b[0mformatter\u001b[0m\u001b[0;34m.\u001b[0m\u001b[0mget_offset\u001b[0m\u001b[0;34m(\u001b[0m\u001b[0;34m)\u001b[0m\u001b[0;34m)\u001b[0m\u001b[0;34m\u001b[0m\u001b[0;34m\u001b[0m\u001b[0m\n\u001b[1;32m   1245\u001b[0m         \u001b[0mself\u001b[0m\u001b[0;34m.\u001b[0m\u001b[0moffsetText\u001b[0m\u001b[0;34m.\u001b[0m\u001b[0mdraw\u001b[0m\u001b[0;34m(\u001b[0m\u001b[0mrenderer\u001b[0m\u001b[0;34m)\u001b[0m\u001b[0;34m\u001b[0m\u001b[0;34m\u001b[0m\u001b[0m\n",
            "\u001b[0;32m/usr/local/lib/python3.6/dist-packages/matplotlib/axis.py\u001b[0m in \u001b[0;36m_update_offset_text_position\u001b[0;34m(self, bboxes, bboxes2)\u001b[0m\n\u001b[1;32m   2349\u001b[0m         \"\"\"\n\u001b[1;32m   2350\u001b[0m         \u001b[0mx\u001b[0m\u001b[0;34m,\u001b[0m \u001b[0my\u001b[0m \u001b[0;34m=\u001b[0m \u001b[0mself\u001b[0m\u001b[0;34m.\u001b[0m\u001b[0moffsetText\u001b[0m\u001b[0;34m.\u001b[0m\u001b[0mget_position\u001b[0m\u001b[0;34m(\u001b[0m\u001b[0;34m)\u001b[0m\u001b[0;34m\u001b[0m\u001b[0;34m\u001b[0m\u001b[0m\n\u001b[0;32m-> 2351\u001b[0;31m         \u001b[0mtop\u001b[0m \u001b[0;34m=\u001b[0m \u001b[0mself\u001b[0m\u001b[0;34m.\u001b[0m\u001b[0maxes\u001b[0m\u001b[0;34m.\u001b[0m\u001b[0mbbox\u001b[0m\u001b[0;34m.\u001b[0m\u001b[0mymax\u001b[0m\u001b[0;34m\u001b[0m\u001b[0;34m\u001b[0m\u001b[0m\n\u001b[0m\u001b[1;32m   2352\u001b[0m         self.offsetText.set_position(\n\u001b[1;32m   2353\u001b[0m             \u001b[0;34m(\u001b[0m\u001b[0mx\u001b[0m\u001b[0;34m,\u001b[0m \u001b[0mtop\u001b[0m \u001b[0;34m+\u001b[0m \u001b[0mself\u001b[0m\u001b[0;34m.\u001b[0m\u001b[0mOFFSETTEXTPAD\u001b[0m \u001b[0;34m*\u001b[0m \u001b[0mself\u001b[0m\u001b[0;34m.\u001b[0m\u001b[0mfigure\u001b[0m\u001b[0;34m.\u001b[0m\u001b[0mdpi\u001b[0m \u001b[0;34m/\u001b[0m \u001b[0;36m72\u001b[0m\u001b[0;34m)\u001b[0m\u001b[0;34m\u001b[0m\u001b[0;34m\u001b[0m\u001b[0m\n",
            "\u001b[0;32m/usr/local/lib/python3.6/dist-packages/matplotlib/transforms.py\u001b[0m in \u001b[0;36mymax\u001b[0;34m(self)\u001b[0m\n\u001b[1;32m    362\u001b[0m     \u001b[0;32mdef\u001b[0m \u001b[0mymax\u001b[0m\u001b[0;34m(\u001b[0m\u001b[0mself\u001b[0m\u001b[0;34m)\u001b[0m\u001b[0;34m:\u001b[0m\u001b[0;34m\u001b[0m\u001b[0;34m\u001b[0m\u001b[0m\n\u001b[1;32m    363\u001b[0m         \u001b[0;34m\"\"\"The top edge of the bounding box.\"\"\"\u001b[0m\u001b[0;34m\u001b[0m\u001b[0;34m\u001b[0m\u001b[0m\n\u001b[0;32m--> 364\u001b[0;31m         \u001b[0;32mreturn\u001b[0m \u001b[0mnp\u001b[0m\u001b[0;34m.\u001b[0m\u001b[0mmax\u001b[0m\u001b[0;34m(\u001b[0m\u001b[0mself\u001b[0m\u001b[0;34m.\u001b[0m\u001b[0mget_points\u001b[0m\u001b[0;34m(\u001b[0m\u001b[0;34m)\u001b[0m\u001b[0;34m[\u001b[0m\u001b[0;34m:\u001b[0m\u001b[0;34m,\u001b[0m \u001b[0;36m1\u001b[0m\u001b[0;34m]\u001b[0m\u001b[0;34m)\u001b[0m\u001b[0;34m\u001b[0m\u001b[0;34m\u001b[0m\u001b[0m\n\u001b[0m\u001b[1;32m    365\u001b[0m \u001b[0;34m\u001b[0m\u001b[0m\n\u001b[1;32m    366\u001b[0m     \u001b[0;34m@\u001b[0m\u001b[0mproperty\u001b[0m\u001b[0;34m\u001b[0m\u001b[0;34m\u001b[0m\u001b[0m\n",
            "\u001b[0;32m<__array_function__ internals>\u001b[0m in \u001b[0;36mamax\u001b[0;34m(*args, **kwargs)\u001b[0m\n",
            "\u001b[0;32m/usr/local/lib/python3.6/dist-packages/numpy/core/fromnumeric.py\u001b[0m in \u001b[0;36mamax\u001b[0;34m(a, axis, out, keepdims, initial, where)\u001b[0m\n\u001b[1;32m   2704\u001b[0m     \"\"\"\n\u001b[1;32m   2705\u001b[0m     return _wrapreduction(a, np.maximum, 'max', axis, None, out,\n\u001b[0;32m-> 2706\u001b[0;31m                           keepdims=keepdims, initial=initial, where=where)\n\u001b[0m\u001b[1;32m   2707\u001b[0m \u001b[0;34m\u001b[0m\u001b[0m\n\u001b[1;32m   2708\u001b[0m \u001b[0;34m\u001b[0m\u001b[0m\n",
            "\u001b[0;32m/usr/local/lib/python3.6/dist-packages/numpy/core/fromnumeric.py\u001b[0m in \u001b[0;36m_wrapreduction\u001b[0;34m(obj, ufunc, method, axis, dtype, out, **kwargs)\u001b[0m\n\u001b[1;32m     68\u001b[0m \u001b[0;34m\u001b[0m\u001b[0m\n\u001b[1;32m     69\u001b[0m \u001b[0;34m\u001b[0m\u001b[0m\n\u001b[0;32m---> 70\u001b[0;31m \u001b[0;32mdef\u001b[0m \u001b[0m_wrapreduction\u001b[0m\u001b[0;34m(\u001b[0m\u001b[0mobj\u001b[0m\u001b[0;34m,\u001b[0m \u001b[0mufunc\u001b[0m\u001b[0;34m,\u001b[0m \u001b[0mmethod\u001b[0m\u001b[0;34m,\u001b[0m \u001b[0maxis\u001b[0m\u001b[0;34m,\u001b[0m \u001b[0mdtype\u001b[0m\u001b[0;34m,\u001b[0m \u001b[0mout\u001b[0m\u001b[0;34m,\u001b[0m \u001b[0;34m**\u001b[0m\u001b[0mkwargs\u001b[0m\u001b[0;34m)\u001b[0m\u001b[0;34m:\u001b[0m\u001b[0;34m\u001b[0m\u001b[0;34m\u001b[0m\u001b[0m\n\u001b[0m\u001b[1;32m     71\u001b[0m     passkwargs = {k: v for k, v in kwargs.items()\n\u001b[1;32m     72\u001b[0m                   if v is not np._NoValue}\n",
            "\u001b[0;31mKeyboardInterrupt\u001b[0m: "
          ]
        }
      ]
    },
    {
      "cell_type": "code",
      "metadata": {
        "id": "3zTmJ1tkccIy"
      },
      "source": [
        "target = 'Class'\r\n",
        "predictors = ['Time', 'V1', 'V2', 'V3', 'V4', 'V5', 'V6', 'V7', 'V8', 'V9', 'V10',\\\r\n",
        "       'V11', 'V12', 'V13', 'V14', 'V15', 'V16', 'V17', 'V18', 'V19',\\\r\n",
        "       'V20', 'V21', 'V22', 'V23', 'V24', 'V25', 'V26', 'V27', 'V28',\\\r\n",
        "       'Amount']"
      ],
      "execution_count": 70,
      "outputs": []
    },
    {
      "cell_type": "code",
      "metadata": {
        "id": "2-DjtJ0ZcjzT"
      },
      "source": [
        "train_df, test_df = train_test_split(data_df, test_size=TEST_SIZE, random_state=RANDOM_STATE, shuffle=True )\r\n",
        "train_df, valid_df = train_test_split(train_df, test_size=VALID_SIZE, random_state=RANDOM_STATE, shuffle=True )"
      ],
      "execution_count": 71,
      "outputs": []
    },
    {
      "cell_type": "code",
      "metadata": {
        "id": "vsMVRbIgcpPy"
      },
      "source": [
        "clf = RandomForestClassifier(n_jobs=NO_JOBS, \r\n",
        "                             random_state=RANDOM_STATE,\r\n",
        "                             criterion=RFC_METRIC,\r\n",
        "                             n_estimators=NUM_ESTIMATORS,\r\n",
        "                             verbose=False)"
      ],
      "execution_count": 72,
      "outputs": []
    },
    {
      "cell_type": "code",
      "metadata": {
        "colab": {
          "base_uri": "https://localhost:8080/"
        },
        "id": "R0hx3WVMcsZ9",
        "outputId": "74e868c9-862e-4089-dbfc-18a75e05e801"
      },
      "source": [
        "clf.fit(train_df[predictors], train_df[target].values)"
      ],
      "execution_count": 74,
      "outputs": [
        {
          "output_type": "execute_result",
          "data": {
            "text/plain": [
              "RandomForestClassifier(bootstrap=True, ccp_alpha=0.0, class_weight=None,\n",
              "                       criterion='gini', max_depth=None, max_features='auto',\n",
              "                       max_leaf_nodes=None, max_samples=None,\n",
              "                       min_impurity_decrease=0.0, min_impurity_split=None,\n",
              "                       min_samples_leaf=1, min_samples_split=2,\n",
              "                       min_weight_fraction_leaf=0.0, n_estimators=100, n_jobs=4,\n",
              "                       oob_score=False, random_state=2018, verbose=False,\n",
              "                       warm_start=False)"
            ]
          },
          "metadata": {
            "tags": []
          },
          "execution_count": 74
        }
      ]
    },
    {
      "cell_type": "code",
      "metadata": {
        "colab": {
          "base_uri": "https://localhost:8080/",
          "height": 542
        },
        "id": "Rhf7-0WGbts6",
        "outputId": "05dbff6c-e403-4536-8c9f-be168d86d45a"
      },
      "source": [
        "class_0 = data_df.loc[data_df['Class'] == 0][\"Time\"]\r\n",
        "class_1 = data_df.loc[data_df['Class'] == 1][\"Time\"]\r\n",
        "#plt.figure(figsize = (14,4))\r\n",
        "#plt.title('Credit Card Transactions Time Density Plot')\r\n",
        "#sns.set_color_codes(\"pastel\")\r\n",
        "#sns.distplot(class_0,kde=True,bins=480)\r\n",
        "#sns.distplot(class_1,kde=True,bins=480)\r\n",
        "#plt.show()\r\n",
        "hist_data = [class_0, class_1]\r\n",
        "group_labels = ['Not Fraud', 'Fraud']\r\n",
        "\r\n",
        "fig = ff.create_distplot(hist_data, group_labels, show_hist=False, show_rug=False)\r\n",
        "fig['layout'].update(title='Credit Card Transactions Time Density Plot', xaxis=dict(title='Time [s]'))\r\n",
        "iplot(fig, filename='dist_only')"
      ],
      "execution_count": 82,
      "outputs": [
        {
          "output_type": "display_data",
          "data": {
            "text/html": [
              "<div>\n",
              "        \n",
              "        \n",
              "            <div id=\"d7eb23d2-5722-41fe-b098-4e49d787cfd6\" class=\"plotly-graph-div\" style=\"height:525px; width:100%;\"></div>\n",
              "            <script type=\"text/javascript\">\n",
              "                require([\"plotly\"], function(Plotly) {\n",
              "                    window.PLOTLYENV=window.PLOTLYENV || {};\n",
              "                    \n",
              "                if (document.getElementById(\"d7eb23d2-5722-41fe-b098-4e49d787cfd6\")) {\n",
              "                    Plotly.newPlot(\n",
              "                        'd7eb23d2-5722-41fe-b098-4e49d787cfd6',\n",
              "                        [{\"legendgroup\": \"Not Fraud\", \"marker\": {\"color\": \"rgb(31, 119, 180)\"}, \"mode\": \"lines\", \"name\": \"Not Fraud\", \"showlegend\": true, \"type\": \"scatter\", \"x\": [0.0, 345.584, 691.168, 1036.752, 1382.336, 1727.92, 2073.504, 2419.088, 2764.672, 3110.256, 3455.84, 3801.424, 4147.008, 4492.592, 4838.176, 5183.76, 5529.344, 5874.928, 6220.512, 6566.096, 6911.68, 7257.264, 7602.848, 7948.432, 8294.016, 8639.6, 8985.184, 9330.768, 9676.352, 10021.936, 10367.52, 10713.104, 11058.688, 11404.272, 11749.856, 12095.44, 12441.024, 12786.608, 13132.192, 13477.776, 13823.36, 14168.944, 14514.528, 14860.112, 15205.696, 15551.28, 15896.864, 16242.448, 16588.032, 16933.616, 17279.2, 17624.784, 17970.368, 18315.952, 18661.536, 19007.12, 19352.704, 19698.288, 20043.872, 20389.456, 20735.04, 21080.624, 21426.208, 21771.792, 22117.376, 22462.96, 22808.544, 23154.128, 23499.712, 23845.296, 24190.88, 24536.464, 24882.048, 25227.632, 25573.216, 25918.8, 26264.384, 26609.968, 26955.552, 27301.136, 27646.72, 27992.304, 28337.888, 28683.472, 29029.056, 29374.64, 29720.224, 30065.808, 30411.392, 30756.976, 31102.56, 31448.144, 31793.728, 32139.312, 32484.896, 32830.48, 33176.064, 33521.648, 33867.232, 34212.816, 34558.4, 34903.984, 35249.568, 35595.152, 35940.736, 36286.32, 36631.904, 36977.488, 37323.072, 37668.656, 38014.24, 38359.824, 38705.408, 39050.992, 39396.576, 39742.16, 40087.744, 40433.328, 40778.912, 41124.496, 41470.08, 41815.664, 42161.248, 42506.832, 42852.416, 43198.0, 43543.584, 43889.168, 44234.752, 44580.336, 44925.92, 45271.504, 45617.088, 45962.672, 46308.256, 46653.84, 46999.424, 47345.008, 47690.592, 48036.176, 48381.76, 48727.344, 49072.928, 49418.512, 49764.096, 50109.68, 50455.264, 50800.848, 51146.432, 51492.016, 51837.6, 52183.184, 52528.768, 52874.352, 53219.936, 53565.52, 53911.104, 54256.688, 54602.272, 54947.856, 55293.44, 55639.024, 55984.608, 56330.192, 56675.776, 57021.36, 57366.944, 57712.528, 58058.112, 58403.696, 58749.28, 59094.864, 59440.448, 59786.032, 60131.616, 60477.2, 60822.784, 61168.368, 61513.952, 61859.536, 62205.12, 62550.704, 62896.288, 63241.872, 63587.456, 63933.04, 64278.624, 64624.208, 64969.792, 65315.376, 65660.96, 66006.544, 66352.128, 66697.712, 67043.296, 67388.88, 67734.464, 68080.048, 68425.632, 68771.216, 69116.8, 69462.384, 69807.968, 70153.552, 70499.136, 70844.72, 71190.304, 71535.888, 71881.472, 72227.056, 72572.64, 72918.224, 73263.808, 73609.392, 73954.976, 74300.56, 74646.144, 74991.728, 75337.312, 75682.896, 76028.48, 76374.064, 76719.648, 77065.232, 77410.816, 77756.4, 78101.984, 78447.568, 78793.152, 79138.736, 79484.32, 79829.904, 80175.488, 80521.072, 80866.656, 81212.24, 81557.824, 81903.408, 82248.992, 82594.576, 82940.16, 83285.744, 83631.328, 83976.912, 84322.496, 84668.08, 85013.664, 85359.248, 85704.832, 86050.416, 86396.0, 86741.584, 87087.168, 87432.752, 87778.336, 88123.92, 88469.504, 88815.088, 89160.672, 89506.256, 89851.84, 90197.424, 90543.008, 90888.592, 91234.176, 91579.76, 91925.344, 92270.928, 92616.512, 92962.096, 93307.68, 93653.264, 93998.848, 94344.432, 94690.016, 95035.6, 95381.184, 95726.768, 96072.352, 96417.936, 96763.52, 97109.104, 97454.688, 97800.272, 98145.856, 98491.44, 98837.024, 99182.608, 99528.192, 99873.776, 100219.36, 100564.944, 100910.528, 101256.112, 101601.696, 101947.28, 102292.864, 102638.448, 102984.032, 103329.616, 103675.2, 104020.784, 104366.368, 104711.952, 105057.536, 105403.12, 105748.704, 106094.288, 106439.872, 106785.456, 107131.04, 107476.624, 107822.208, 108167.792, 108513.376, 108858.96, 109204.544, 109550.128, 109895.712, 110241.296, 110586.88, 110932.464, 111278.048, 111623.632, 111969.216, 112314.8, 112660.384, 113005.968, 113351.552, 113697.136, 114042.72, 114388.304, 114733.888, 115079.472, 115425.056, 115770.64, 116116.224, 116461.808, 116807.392, 117152.976, 117498.56, 117844.144, 118189.728, 118535.312, 118880.896, 119226.48, 119572.064, 119917.648, 120263.232, 120608.816, 120954.4, 121299.984, 121645.568, 121991.152, 122336.736, 122682.32, 123027.904, 123373.488, 123719.072, 124064.656, 124410.24, 124755.824, 125101.408, 125446.992, 125792.576, 126138.16, 126483.744, 126829.328, 127174.912, 127520.496, 127866.08, 128211.664, 128557.248, 128902.832, 129248.416, 129594.0, 129939.584, 130285.168, 130630.752, 130976.336, 131321.92, 131667.504, 132013.088, 132358.672, 132704.256, 133049.84, 133395.424, 133741.008, 134086.592, 134432.176, 134777.76, 135123.344, 135468.928, 135814.512, 136160.096, 136505.68, 136851.264, 137196.848, 137542.432, 137888.016, 138233.6, 138579.184, 138924.768, 139270.352, 139615.936, 139961.52, 140307.104, 140652.688, 140998.272, 141343.856, 141689.44, 142035.024, 142380.608, 142726.192, 143071.776, 143417.36, 143762.944, 144108.528, 144454.112, 144799.696, 145145.28, 145490.864, 145836.448, 146182.032, 146527.616, 146873.2, 147218.784, 147564.368, 147909.952, 148255.536, 148601.12, 148946.704, 149292.288, 149637.872, 149983.456, 150329.04, 150674.624, 151020.208, 151365.792, 151711.376, 152056.96, 152402.544, 152748.128, 153093.712, 153439.296, 153784.88, 154130.464, 154476.048, 154821.632, 155167.216, 155512.8, 155858.384, 156203.968, 156549.552, 156895.136, 157240.72, 157586.304, 157931.888, 158277.472, 158623.056, 158968.64, 159314.224, 159659.808, 160005.392, 160350.976, 160696.56, 161042.144, 161387.728, 161733.312, 162078.896, 162424.48, 162770.064, 163115.648, 163461.232, 163806.816, 164152.4, 164497.984, 164843.568, 165189.152, 165534.736, 165880.32, 166225.904, 166571.488, 166917.072, 167262.656, 167608.24, 167953.824, 168299.408, 168644.992, 168990.576, 169336.16, 169681.744, 170027.328, 170372.912, 170718.496, 171064.08, 171409.664, 171755.248, 172100.832, 172446.416], \"xaxis\": \"x\", \"y\": [1.6973474560862627e-06, 1.789240686083853e-06, 1.8751066622895502e-06, 1.9539240211317092e-06, 2.0248147874843115e-06, 2.0870700001729115e-06, 2.1401693523159302e-06, 2.183793947141815e-06, 2.2178316034667483e-06, 2.2423745117614643e-06, 2.257709419619589e-06, 2.264300891818995e-06, 2.26276852340525e-06, 2.25385926516644e-06, 2.23841623407765e-06, 2.2173455159804105e-06, 2.1915825183282746e-06, 2.1620593970212847e-06, 2.1296749680388305e-06, 2.095268331193561e-06, 2.0595971930319196e-06, 2.023321594572056e-06, 1.9869934446535077e-06, 1.951051949066699e-06, 1.9158247265703086e-06, 1.8815341310019926e-06, 1.8483080671293393e-06, 1.8161944068401388e-06, 1.785177988507982e-06, 1.7551991191213953e-06, 1.7261724957826228e-06, 1.698005516988453e-06, 1.6706150584079208e-06, 1.6439419340972738e-06, 1.6179624420038264e-06, 1.5926965909611322e-06, 1.5682128135696683e-06, 1.5446291740590165e-06, 1.5221112719307153e-06, 1.5008672116659746e-06, 1.4811401484837605e-06, 1.4631990243978157e-06, 1.4473281740525025e-06, 1.433816504534442e-06, 1.4229469381476588e-06, 1.4149867545429892e-06, 1.4101793829092355e-06, 1.408738081981424e-06, 1.4108418124354172e-06, 1.4166334607268717e-06, 1.4262204239962383e-06, 1.4396774207780309e-06, 1.4570512600449124e-06, 1.4783671889174918e-06, 1.5036363533036462e-06, 1.532863850340675e-06, 1.5660568294638413e-06, 1.6032321108016588e-06, 1.644422833837571e-06, 1.6896837222362084e-06, 1.7390946469102094e-06, 1.7927622818094409e-06, 1.8508197675565917e-06, 1.913424418521692e-06, 1.9807536210244885e-06, 2.0529991667168726e-06, 2.1303603398728393e-06, 2.2130361262112214e-06, 2.3012169320792574e-06, 2.395076196709517e-06, 2.494762249423668e-06, 2.6003907126325713e-06, 2.712037686308704e-06, 2.8297338772312673e-06, 2.9534597639184145e-06, 3.0831418225125194e-06, 3.2186497856325986e-06, 3.359794869388725e-06, 3.506328885405163e-06, 3.6579441546932664e-06, 3.814274156307338e-06, 3.974894871817851e-06, 4.1393268212820875e-06, 4.3070378213577e-06, 4.4774465252103875e-06, 4.649926821293437e-06, 4.823813169618673e-06, 4.998406937320888e-06, 5.172983759821001e-06, 5.346801901645627e-06, 5.519111525987055e-06, 5.689164710128997e-06, 5.856225971804483e-06, 6.019583006720739e-06, 6.1785572868971975e-06, 6.332514139091255e-06, 6.48087191674152e-06, 6.623109899730125e-06, 6.758774603685585e-06, 6.887484251984151e-06, 7.008931254393495e-06, 7.122882640062262e-06, 7.229178501787705e-06, 7.3277286152221635e-06, 7.4185074931608865e-06, 7.501548214399746e-06, 7.5769354233673155e-06, 7.644797927106257e-06, 7.70530131849069e-06, 7.758641029150762e-06, 7.805036164695595e-06, 7.844724402421191e-06, 7.877958143024664e-06, 7.905002009089145e-06, 7.926131680881424e-06, 7.941633960960516e-06, 7.951807869480464e-06, 7.95696649738394e-06, 7.957439289377042e-06, 7.953574395833075e-06, 7.945740724360046e-06, 7.934329337960166e-06, 7.919753886307517e-06, 7.902449817071933e-06, 7.882872191586981e-06, 7.861492018652478e-06, 7.838791116317865e-06, 7.81525560817615e-06, 7.791368252069772e-06, 7.767599879606222e-06, 7.744400289672022e-06, 7.722188984437915e-06, 7.701346159669779e-06, 7.682204361437302e-06, 7.66504119895186e-06, 7.650073460068545e-06, 7.637452914971322e-06, 7.627264018690252e-06, 7.619523638962204e-06, 7.614182847393712e-06, 7.6111307236867375e-06, 7.6102000392219856e-06, 7.611174611301136e-06, 7.613798055773857e-06, 7.617783615694085e-06, 7.622824708288295e-06, 7.628605812331322e-06, 7.634813312831897e-06, 7.641145929062422e-06, 7.647324374416424e-06, 7.653099931107249e-06, 7.658261667942255e-06, 7.662642083794296e-06, 7.66612102126682e-06, 7.668627762522527e-06, 7.670141290160721e-06, 7.670688767914657e-06, 7.670342366007512e-06, 7.66921462120061e-06, 7.667452578693217e-06, 7.665231008940166e-06, 7.66274502428145e-06, 7.66020243573115e-06, 7.657816187892733e-06, 7.655797189369246e-06, 7.654347818074227e-06, 7.653656327679867e-06, 7.653892316465874e-06, 7.655203347519694e-06, 7.657712734803939e-06, 7.661518438616632e-06, 7.666692951868894e-06, 7.673284010222965e-06, 7.681315928222697e-06, 7.690791352390224e-06, 7.701693231398905e-06, 7.713986831544126e-06, 7.727621669694495e-06, 7.742533291007435e-06, 7.758644879036353e-06, 7.775868744871326e-06, 7.79410779301171e-06, 7.813257098720212e-06, 7.833205749804812e-06, 7.853839101993527e-06, 7.875041570289569e-06, 7.896700030201781e-06, 7.918707836091387e-06, 7.940969384639727e-06, 7.963405066766211e-06, 7.985956369289425e-06, 8.00859081649447e-06, 8.031306389214013e-06, 8.054135031363676e-06, 8.077144855419447e-06, 8.100440690962982e-06, 8.124162683360498e-06, 8.14848273946222e-06, 8.173598728158167e-06, 8.199726468139169e-06, 8.227089664610625e-06, 8.255908081986862e-06, 8.286384352227574e-06, 8.31868991113152e-06, 8.352950622010653e-06, 8.389232684289283e-06, 8.42752943251731e-06, 8.467749609998034e-06, 8.509707653467948e-06, 8.553116455128514e-06, 8.597582980706167e-06, 8.642607022227222e-06, 8.687583256706687e-06, 8.7318066712248e-06, 8.77448130436738e-06, 8.814732146393727e-06, 8.851619937765457e-06, 8.884158509418412e-06, 8.911334219900082e-06, 8.932126965959534e-06, 8.945532176540032e-06, 8.9505831480962e-06, 8.946373044910867e-06, 8.932075875017815e-06, 8.906965763681004e-06, 8.8704338847293e-06, 8.822002476834194e-06, 8.761335466861045e-06, 8.688245343573517e-06, 8.602696067955184e-06, 8.504801964908324e-06, 8.394822707027601e-06, 8.273154665238413e-06, 8.14031905353361e-06, 7.996947426325242e-06, 7.843765188648273e-06, 7.681573845069891e-06, 7.511232738581462e-06, 7.3336410147174135e-06, 7.149720490327968e-06, 6.960400015284356e-06, 6.766601795742137e-06, 6.569230008025219e-06, 6.369161882344947e-06, 6.167241285296886e-06, 5.964274688715339e-06, 5.761029288153197e-06, 5.558232933421001e-06, 5.356575460667352e-06, 5.1567109726577165e-06, 4.95926060136908e-06, 4.764815303057903e-06, 4.573938277349227e-06, 4.387166664291064e-06, 4.205012251684119e-06, 4.027961014003793e-06, 3.8564713985998095e-06, 3.6909713696185345e-06, 3.5318543107641165e-06, 3.3794739707041413e-06, 3.2341387063644098e-06, 3.096105336894337e-06, 2.965572962655079e-06, 2.842677127687256e-06, 2.7274847098052645e-06, 2.6199899093580015e-06, 2.520111676015244e-06, 2.4276928635699915e-06, 2.34250133729657e-06, 2.2642331792467844e-06, 2.192518047148896e-06, 2.1269266461766625e-06, 2.0669801742747255e-06, 2.0121615058943922e-06, 1.9619277910246253e-06, 1.9157240712836386e-06, 1.8729974570884757e-06, 1.8332113732541475e-06, 1.795859367380311e-06, 1.7604779872841774e-06, 1.7266582702357457e-06, 1.6940554459928815e-06, 1.6623965343017228e-06, 1.631485611053777e-06, 1.6012066201757904e-06, 1.571523714540801e-06, 1.542479212608412e-06, 1.5141893523612146e-06, 1.4868381053924665e-06, 1.4606693777951694e-06, 1.4359779681992243e-06, 1.4130996757282457e-06, 1.3924009520550411e-06, 1.3742684736944611e-06, 1.359098975866334e-06, 1.347289641216179e-06, 1.3392292794638814e-06, 1.3352904719534254e-06, 1.3358227923196138e-06, 1.3411471549520402e-06, 1.351551289946453e-06, 1.3672862993905285e-06, 1.3885642169033652e-06, 1.4155564712148165e-06, 1.448393145216723e-06, 1.4871629234742205e-06, 1.531913632014404e-06, 1.5826532920302963e-06, 1.6393516311860297e-06, 1.7019420194298078e-06, 1.7703238174881998e-06, 1.844365142565678e-06, 1.9239060646458684e-06, 2.0087622462565665e-06, 2.098729027519743e-06, 2.193585936646221e-06, 2.2931015747104405e-06, 2.3970387845925416e-06, 2.505159970443063e-06, 2.6172323897751412e-06, 2.733033199748877e-06, 2.852354007036832e-06, 2.9750046513344767e-06, 3.100815950010066e-06, 3.2296411484897554e-06, 3.3613558593166203e-06, 3.4958563323565664e-06, 3.6330559775249434e-06, 3.772880156059899e-06, 3.9152593615047434e-06, 4.060121020560459e-06, 4.207380249287825e-06, 4.356929993860718e-06, 4.508631059529605e-06, 4.662302579861582e-06, 4.817713495387323e-06, 4.974575593216108e-06, 5.132538606064984e-06, 5.291187782149925e-06, 5.450044220727604e-06, 5.608568128320148e-06, 5.766164996283537e-06, 5.922194541198664e-06, 6.075982095988321e-06, 6.2268320019342305e-06, 6.374042439170282e-06, 6.51692105337119e-06, 6.654800694582381e-06, 6.787054583110181e-06, 6.913110256889381e-06, 7.032461731691254e-06, 7.14467941424815e-06, 7.249417441024103e-06, 7.34641826260364e-06, 7.4355144453583966e-06, 7.516627808025405e-06, 7.589766141684877e-06, 7.655017869382308e-06, 7.712545080305865e-06, 7.762575419365505e-06, 7.805393325112301e-06, 7.841331088566704e-06, 7.870760156337701e-06, 7.894083028920383e-06, 7.911726016106728e-06, 7.924133013619312e-06, 7.93176036607584e-06, 7.935072788426302e-06, 7.934540237283306e-06, 7.930635559896704e-06, 7.923832705051497e-06, 7.914605258270883e-06, 7.903425063041962e-06, 7.89076070846701e-06, 7.877075698646474e-06, 7.862826166203136e-06, 7.848458047159103e-06, 7.834403692291265e-06, 7.821077946805538e-06, 7.80887378194629e-06, 7.798157606036477e-06, 7.789264416364607e-06, 7.782492976152238e-06, 7.778101212259764e-06, 7.776302029754437e-06, 7.777259729963352e-06, 7.781087200522935e-06, 7.787844020760795e-06, 7.79753559508473e-06, 7.810113392412084e-06, 7.825476332419113e-06, 7.843473320743669e-06, 7.863906896333801e-06, 7.886537915928918e-06, 7.91109116421336e-06, 7.937261744566773e-06, 7.964722075704143e-06, 7.993129295077426e-06, 8.022132851959118e-06, 8.051382062852077e-06, 8.080533400310438e-06, 8.109257294160325e-06, 8.137244241794656e-06, 8.16421005146629e-06, 8.189900078482718e-06, 8.214092357438947e-06, 8.236599582027277e-06, 8.257269934936005e-06, 8.275986820935823e-06, 8.292667603341735e-06, 8.30726148460067e-06, 8.319746703096739e-06, 8.330127238270504e-06, 8.338429223485542e-06, 8.344697260357186e-06, 8.348990810121478e-06, 8.351380808722875e-06, 8.351946615215521e-06, 8.350773361117272e-06, 8.347949725304522e-06, 8.3435661188024e-06, 8.337713230093822e-06, 8.330480857437757e-06, 8.321956942328886e-06, 8.312226718653714e-06, 8.301371904983938e-06, 8.289469891131081e-06, 8.276592901670688e-06, 8.262807154750896e-06, 8.248172069642868e-06, 8.232739606528159e-06, 8.216553842656548e-06, 8.19965089678613e-06, 8.18205930653055e-06, 8.163800940243871e-06, 8.144892487442291e-06, 8.125347522247991e-06, 8.105179077168563e-06, 8.084402605008365e-06, 8.06303915073689e-06, 8.041118508591715e-06, 8.018682107832052e-06, 7.995785357477848e-06, 7.97249918855473e-06, 7.94891056241752e-06, 7.925121764270978e-06, 7.901248368810615e-06, 7.877415845168673e-06, 7.853754855151636e-06, 7.830395385603237e-06, 7.807459936140094e-06, 7.785056051576916e-06, 7.763268539232035e-06, 7.742151741544829e-06, 7.72172224223308e-06, 7.701952369437036e-06, 7.682764823383501e-06, 7.664028701862123e-06, 7.645557128088655e-06, 7.6271066068796656e-06, 7.608378151350894e-06, 7.5890201384405364e-06, 7.568632772026083e-06, 7.546773961324247e-06, 7.522966363070432e-06, 7.496705291375268e-06, 7.467467171099383e-06, 7.434718200257083e-06, 7.397922894775448e-06, 7.356552214556279e-06, 7.310091012100826e-06, 7.258044602058912e-06, 7.199944319248186e-06, 7.135352010448121e-06, 7.063863487342734e-06, 6.9851110494467895e-06, 6.898765261309037e-06, 6.804536232138982e-06, 6.702174692783637e-06, 6.591473189773056e-06, 6.47226771505226e-06, 6.34444006057946e-06, 6.207921128630427e-06, 6.062695343022782e-06, 5.908806197528024e-06, 5.746362851759786e-06, 5.575547550174974e-06, 5.396623506475843e-06, 5.209942774562239e-06, 5.015953529263193e-06, 4.81520611554094e-06, 4.608357202072397e-06, 4.3961713997570675e-06, 4.179519780059279e-06, 3.959374850598449e-06, 3.736801710492048e-06, 3.5129453063020944e-06, 3.2890139285170644e-06, 3.066259313514769e-06, 2.845953930965837e-06], \"yaxis\": \"y\"}, {\"legendgroup\": \"Fraud\", \"marker\": {\"color\": \"rgb(255, 127, 14)\"}, \"mode\": \"lines\", \"name\": \"Fraud\", \"showlegend\": true, \"type\": \"scatter\", \"x\": [406.0, 745.884, 1085.768, 1425.652, 1765.536, 2105.42, 2445.304, 2785.188, 3125.072, 3464.956, 3804.84, 4144.724, 4484.608, 4824.492, 5164.376, 5504.26, 5844.144, 6184.028, 6523.912, 6863.796, 7203.68, 7543.564, 7883.448, 8223.332, 8563.216, 8903.1, 9242.984, 9582.868, 9922.752, 10262.636, 10602.52, 10942.404, 11282.288, 11622.172, 11962.056, 12301.94, 12641.824, 12981.708, 13321.592, 13661.476, 14001.36, 14341.244, 14681.128, 15021.012, 15360.896, 15700.78, 16040.664, 16380.548, 16720.432, 17060.316, 17400.2, 17740.084, 18079.968, 18419.852, 18759.736, 19099.62, 19439.504, 19779.388, 20119.272, 20459.156, 20799.04, 21138.924, 21478.808, 21818.692, 22158.576, 22498.46, 22838.344, 23178.228, 23518.112, 23857.996, 24197.88, 24537.764, 24877.648, 25217.532, 25557.416, 25897.3, 26237.184, 26577.068, 26916.952, 27256.836, 27596.72, 27936.604, 28276.488, 28616.372, 28956.256, 29296.14, 29636.024, 29975.908, 30315.792, 30655.676, 30995.56, 31335.444, 31675.328, 32015.212, 32355.096, 32694.98, 33034.864, 33374.748, 33714.632, 34054.516, 34394.4, 34734.284, 35074.168, 35414.052, 35753.936, 36093.82, 36433.704, 36773.588, 37113.472, 37453.356, 37793.24, 38133.124, 38473.008, 38812.892, 39152.776, 39492.66, 39832.544, 40172.428, 40512.312, 40852.196, 41192.08, 41531.964, 41871.848, 42211.732, 42551.616, 42891.5, 43231.384, 43571.268, 43911.152, 44251.036, 44590.92, 44930.804, 45270.688, 45610.572, 45950.456, 46290.34, 46630.224, 46970.108, 47309.992, 47649.876, 47989.76, 48329.644, 48669.528, 49009.412, 49349.296, 49689.18, 50029.064, 50368.948, 50708.832, 51048.716, 51388.6, 51728.484, 52068.368, 52408.252, 52748.136, 53088.02, 53427.904, 53767.788, 54107.672, 54447.556, 54787.44, 55127.324, 55467.208, 55807.092, 56146.976, 56486.86, 56826.744, 57166.628, 57506.512, 57846.396, 58186.28, 58526.164, 58866.048, 59205.932, 59545.816, 59885.7, 60225.584, 60565.468, 60905.352, 61245.236, 61585.12, 61925.004, 62264.888, 62604.772, 62944.656, 63284.54, 63624.424, 63964.308, 64304.192, 64644.076, 64983.96, 65323.844, 65663.728, 66003.612, 66343.496, 66683.38, 67023.264, 67363.148, 67703.032, 68042.916, 68382.8, 68722.684, 69062.568, 69402.452, 69742.336, 70082.22, 70422.104, 70761.988, 71101.872, 71441.756, 71781.64, 72121.524, 72461.408, 72801.292, 73141.176, 73481.06, 73820.944, 74160.828, 74500.712, 74840.596, 75180.48, 75520.364, 75860.248, 76200.132, 76540.016, 76879.9, 77219.784, 77559.668, 77899.552, 78239.436, 78579.32, 78919.204, 79259.088, 79598.972, 79938.856, 80278.74, 80618.624, 80958.508, 81298.392, 81638.276, 81978.16, 82318.044, 82657.928, 82997.812, 83337.696, 83677.58, 84017.464, 84357.348, 84697.232, 85037.116, 85377.0, 85716.884, 86056.768, 86396.652, 86736.536, 87076.42, 87416.304, 87756.188, 88096.072, 88435.956, 88775.84, 89115.724, 89455.608, 89795.492, 90135.376, 90475.26, 90815.144, 91155.028, 91494.912, 91834.796, 92174.68, 92514.564, 92854.448, 93194.332, 93534.216, 93874.1, 94213.984, 94553.868, 94893.752, 95233.636, 95573.52, 95913.404, 96253.288, 96593.172, 96933.056, 97272.94, 97612.824, 97952.708, 98292.592, 98632.476, 98972.36, 99312.244, 99652.128, 99992.012, 100331.896, 100671.78, 101011.664, 101351.548, 101691.432, 102031.316, 102371.2, 102711.084, 103050.968, 103390.852, 103730.736, 104070.62, 104410.504, 104750.388, 105090.272, 105430.156, 105770.04, 106109.924, 106449.808, 106789.692, 107129.576, 107469.46, 107809.344, 108149.228, 108489.112, 108828.996, 109168.88, 109508.764, 109848.648, 110188.532, 110528.416, 110868.3, 111208.184, 111548.068, 111887.952, 112227.836, 112567.72, 112907.604, 113247.488, 113587.372, 113927.256, 114267.14, 114607.024, 114946.908, 115286.792, 115626.676, 115966.56, 116306.444, 116646.328, 116986.212, 117326.096, 117665.98, 118005.864, 118345.748, 118685.632, 119025.516, 119365.4, 119705.284, 120045.168, 120385.052, 120724.936, 121064.82, 121404.704, 121744.588, 122084.472, 122424.356, 122764.24, 123104.124, 123444.008, 123783.892, 124123.776, 124463.66, 124803.544, 125143.428, 125483.312, 125823.196, 126163.08, 126502.964, 126842.848, 127182.732, 127522.616, 127862.5, 128202.384, 128542.268, 128882.152, 129222.036, 129561.92, 129901.804, 130241.688, 130581.572, 130921.456, 131261.34, 131601.224, 131941.108, 132280.992, 132620.876, 132960.76, 133300.644, 133640.528, 133980.412, 134320.296, 134660.18, 135000.064, 135339.948, 135679.832, 136019.716, 136359.6, 136699.484, 137039.368, 137379.252, 137719.136, 138059.02, 138398.904, 138738.788, 139078.672, 139418.556, 139758.44, 140098.324, 140438.208, 140778.092, 141117.976, 141457.86, 141797.744, 142137.628, 142477.512, 142817.396, 143157.28, 143497.164, 143837.048, 144176.932, 144516.816, 144856.7, 145196.584, 145536.468, 145876.352, 146216.236, 146556.12, 146896.004, 147235.888, 147575.772, 147915.656, 148255.54, 148595.424, 148935.308, 149275.192, 149615.076, 149954.96, 150294.844, 150634.728, 150974.612, 151314.496, 151654.38, 151994.264, 152334.148, 152674.032, 153013.916, 153353.8, 153693.684, 154033.568, 154373.452, 154713.336, 155053.22, 155393.104, 155732.988, 156072.872, 156412.756, 156752.64, 157092.524, 157432.408, 157772.292, 158112.176, 158452.06, 158791.944, 159131.828, 159471.712, 159811.596, 160151.48, 160491.364, 160831.248, 161171.132, 161511.016, 161850.9, 162190.784, 162530.668, 162870.552, 163210.436, 163550.32, 163890.204, 164230.088, 164569.972, 164909.856, 165249.74, 165589.624, 165929.508, 166269.392, 166609.276, 166949.16, 167289.044, 167628.928, 167968.812, 168308.696, 168648.58, 168988.464, 169328.348, 169668.232, 170008.116], \"xaxis\": \"x\", \"y\": [2.572527019918418e-06, 2.631005805812937e-06, 2.68976863043631e-06, 2.748786647363215e-06, 2.8080309928186195e-06, 2.867472852442725e-06, 2.9270835279276315e-06, 2.9868345032672447e-06, 3.046697510360475e-06, 3.1066445937077396e-06, 3.166648173942127e-06, 3.2266811099387627e-06, 3.286716759249751e-06, 3.3467290366169313e-06, 3.406692470320782e-06, 3.466582256131253e-06, 3.5263743086346604e-06, 3.5860453097207323e-06, 3.645572754024379e-06, 3.7049349911288065e-06, 3.7641112643496275e-06, 3.823081745932923e-06, 3.881827568515629e-06, 3.940330852711663e-06, 3.9985747307038155e-06, 4.056543365738192e-06, 4.11422196743588e-06, 4.17159680285426e-06, 4.228655203249315e-06, 4.285385566508666e-06, 4.341777355244732e-06, 4.397821090555953e-06, 4.453508341484289e-06, 4.508831710215102e-06, 4.56378481308629e-06, 4.618362257490828e-06, 4.672559614776589e-06, 4.7263733892648665e-06, 4.7798009835267675e-06, 4.832840660073919e-06, 4.885491499635643e-06, 4.937753356211278e-06, 4.9896268091001775e-06, 5.04111311212635e-06, 5.0922141402872045e-06, 5.142932334068033e-06, 5.193270641674173e-06, 5.2432324594427485e-06, 5.29282157070396e-06, 5.342042083369242e-06, 5.390898366529331e-06, 5.439394986349829e-06, 5.487536641555422e-06, 5.53532809879498e-06, 5.582774128181612e-06, 5.629879439299512e-06, 5.676648617968548e-06, 5.7230860640530265e-06, 5.769195930597317e-06, 5.8149820645638296e-06, 5.860447949442464e-06, 5.905596649991411e-06, 5.950430759359777e-06, 5.994952348831397e-06, 6.039162920417342e-06, 6.083063362511554e-06, 6.126653908809837e-06, 6.169934100677945e-06, 6.212902753138355e-06, 6.2555579246289196e-06, 6.297896890669668e-06, 6.3399161215556845e-06, 6.381611264176305e-06, 6.422977128041526e-06, 6.464007675577934e-06, 6.504696016736761e-06, 6.545034407937361e-06, 6.58501425534952e-06, 6.624626122499018e-06, 6.663859742160649e-06, 6.702704032484241e-06, 6.741147117280051e-06, 6.7791763503712725e-06, 6.816778343903152e-06, 6.853939000481316e-06, 6.890643548994119e-06, 6.9268765839581e-06, 6.9626221082105396e-06, 6.9978635787578355e-06, 7.032583955575575e-06, 7.066765753143314e-06, 7.100391094485448e-06, 7.133441767479519e-06, 7.165899283183912e-06, 7.197744935928862e-06, 7.228959864908304e-06, 7.259525117004091e-06, 7.289421710570792e-06, 7.318630699905549e-06, 7.347133240126908e-06, 7.374910652185979e-06, 7.401944487734295e-06, 7.428216593576151e-06, 7.453709175436183e-06, 7.4784048607786135e-06, 7.502286760421189e-06, 7.525338528693983e-06, 7.54754442190277e-06, 7.568889354865966e-06, 7.589358955305961e-06, 7.608939615886935e-06, 7.627618543704974e-06, 7.64538380704971e-06, 7.662224379271769e-06, 7.678130179605051e-06, 7.693092110809925e-06, 7.707102093518345e-06, 7.720153097180755e-06, 7.732239167530266e-06, 7.743355450497756e-06, 7.753498212529603e-06, 7.762664857276421e-06, 7.77085393863962e-06, 7.778065170179888e-06, 7.784299430908168e-06, 7.789558767497574e-06, 7.79384639297004e-06, 7.797166681927951e-06, 7.799525162415758e-06, 7.800928504511131e-06, 7.801384505758742e-06, 7.800902073572762e-06, 7.799491204745427e-06, 7.797162962210424e-06, 7.793929449219107e-06, 7.789803781096382e-06, 7.784800054750645e-06, 7.778933316118128e-06, 7.772219525727602e-06, 7.76467552257463e-06, 7.756318986497782e-06, 7.747168399250406e-06, 7.737243004461257e-06, 7.726562766677164e-06, 7.715148329678096e-06, 7.703020974251555e-06, 7.690202575608846e-06, 7.676715560620797e-06, 7.66258286504243e-06, 7.647827890890538e-06, 7.632474464127662e-06, 7.616546792798236e-06, 7.60006942575189e-06, 7.583067212077946e-06, 7.565565261365005e-06, 7.5475889048861955e-06, 7.5291636577997275e-06, 7.510315182441241e-06, 7.491069252771455e-06, 7.471451720031002e-06, 7.451488479639318e-06, 7.431205439363608e-06, 7.410628488770469e-06, 7.389783469959165e-06, 7.368696149565697e-06, 7.347392192012741e-06, 7.325897133970936e-06, 7.3042363599855454e-06, 7.2824350792125365e-06, 7.260518303199252e-06, 7.238510824635931e-06, 7.2164371969967705e-06, 7.1943217149825935e-06, 7.172188395671033e-06, 7.150060960275756e-06, 7.1279628164118875e-06, 7.105917040762365e-06, 7.0839463620378695e-06, 7.06207314412267e-06, 7.04031936929879e-06, 7.018706621442342e-06, 6.997256069088544e-06, 6.97598844826533e-06, 6.9549240450000584e-06, 6.93408267740929e-06, 6.913483677288108e-06, 6.893145871122813e-06, 6.873087560459105e-06, 6.85332650156659e-06, 6.833879884350607e-06, 6.814764310472568e-06, 6.79599577065081e-06, 6.777589621125889e-06, 6.759560559286028e-06, 6.741922598460664e-06, 6.724689041902922e-06, 6.7078724559944585e-06, 6.6914846427192845e-06, 6.67553661146574e-06, 6.660038550229452e-06, 6.644999796301861e-06, 6.630428806542273e-06, 6.6163331273431475e-06, 6.602719364410154e-06, 6.589593152489992e-06, 6.576959125189145e-06, 6.564820885037662e-06, 6.553180973960314e-06, 6.542040844326766e-06, 6.531400830759608e-06, 6.52126012288577e-06, 6.511616739222866e-06, 6.5024675023959905e-06, 6.49380801588478e-06, 6.485632642502064e-06, 6.4779344848076e-06, 6.4707053676594145e-06, 6.463935823104725e-06, 6.4576150778095214e-06, 6.451731043222335e-06, 6.4462703086626185e-06, 6.441218137517924e-06, 6.436558466726343e-06, 6.432273909712515e-06, 6.4283457629346345e-06, 6.4247540161895185e-06, 6.421477366810482e-06, 6.418493237878817e-06, 6.415777800556122e-06, 6.413306000628752e-06, 6.411051589339756e-06, 6.4089871585665144e-06, 6.4070841803843275e-06, 6.405313051037881e-06, 6.403643139323298e-06, 6.402042839363781e-06, 6.400479627742135e-06, 6.398920124932855e-06, 6.397330160956046e-06, 6.395674845154967e-06, 6.393918639978057e-06, 6.3920254386263285e-06, 6.389958646405971e-06, 6.387681265607025e-06, 6.385155983708639e-06, 6.382345264692881e-06, 6.379211443230834e-06, 6.375716821486894e-06, 6.37182376827063e-06, 6.367494820249902e-06, 6.362692784924032e-06, 6.357380845042467e-06, 6.351522664141803e-06, 6.345082492863207e-06, 6.338025275702307e-06, 6.3303167578356834e-06, 6.321923591660977e-06, 6.312813442682555e-06, 6.302955094371119e-06, 6.292318551623303e-06, 6.280875142447136e-06, 6.2685976175005394e-06, 6.25546024711257e-06, 6.24143891542239e-06, 6.2265112112763815e-06, 6.210656515532501e-06, 6.193856084429975e-06, 6.17609312869381e-06, 6.1573528880561844e-06, 6.137622700890796e-06, 6.116892068672298e-06, 6.095152714989147e-06, 6.0723986388573795e-06, 6.048626162101342e-06, 6.0238339705888565e-06, 5.998023149129178e-06, 5.9711972098654034e-06, 5.943362114015655e-06, 5.914526286842002e-06, 5.884700625750638e-06, 5.853898501451925e-06, 5.82213575213467e-06, 5.7894306706348805e-06, 5.755803984604959e-06, 5.721278829715627e-06, 5.68588071594857e-06, 5.649637487063374e-06, 5.612579273347971e-06, 5.5747384377862284e-06, 5.536149515800897e-06, 5.496849148753552e-06, 5.456876011406087e-06, 5.416270733570007e-06, 5.375075816190749e-06, 5.3333355421342105e-06, 5.291095881960875e-06, 5.248404394990802e-06, 5.205310125978367e-06, 5.1618634977305e-06, 5.11811620001525e-06, 5.074121075119358e-06, 5.029932000423424e-06, 4.985603768372087e-06, 4.941191964223307e-06, 4.8967528419664025e-06, 4.852343198802162e-06, 4.808020248580183e-06, 4.763841494589365e-06, 4.719864602095875e-06, 4.676147271020589e-06, 4.632747109143131e-06, 4.589721506214108e-06, 4.547127509349559e-06, 4.505021700072849e-06, 4.463460073359001e-06, 4.422497919024833e-06, 4.382189705795714e-06, 4.3425889683652545e-06, 4.303748197749751e-06, 4.265718735222605e-06, 4.228550670097033e-06, 4.19229274160747e-06, 4.156992245121317e-06, 4.122694942893465e-06, 4.089444979555858e-06, 4.057284802514104e-06, 4.0262550874025364e-06, 3.9963946687275235e-06, 3.9677404758083995e-06, 3.940327474103146e-06, 3.914188611985553e-06, 3.889354773018635e-06, 3.865854733748635e-06, 3.8437151270229636e-06, 3.8229604108152885e-06, 3.80361284252098e-06, 3.7856924586670494e-06, 3.769217059961993e-06, 3.754202201592919e-06, 3.7406611886604247e-06, 3.7286050766251526e-06, 3.7180426766247427e-06, 3.70898056550533e-06, 3.7014231003984343e-06, 3.6953724376616726e-06, 3.6908285559905295e-06, 3.6877892834982047e-06, 3.6862503285517056e-06, 3.686205314144643e-06, 3.687645815580386e-06, 3.690561401234203e-06, 3.6949396761586598e-06, 3.700766328293753e-06, 3.7080251770415652e-06, 3.716698223964656e-06, 3.726765705368289e-06, 3.738206146528155e-06, 3.7509964173285537e-06, 3.7651117890798198e-06, 3.7805259922891007e-06, 3.7972112751645677e-06, 3.815138462640423e-06, 3.83427701571793e-06, 3.8545950909266296e-06, 3.876059599719653e-06, 3.898636267627167e-06, 3.922289693003297e-06, 3.94698340521336e-06, 3.972679922120383e-06, 3.9993408067424625e-06, 4.0269267229654216e-06, 4.055397490208563e-06, 4.084712136954441e-06, 4.114828953067467e-06, 4.145705540839353e-06, 4.177298864713322e-06, 4.209565299651933e-06, 4.242460678127159e-06, 4.275940335723664e-06, 4.309959155359335e-06, 4.344471610138979e-06, 4.379431804868751e-06, 4.414793516270269e-06, 4.450510231943431e-06, 4.486535188137172e-06, 4.522821406396074e-06, 4.559321729159451e-06, 4.595988854396516e-06, 4.632775369368179e-06, 4.669633783611575e-06, 4.706516561248098e-06, 4.743376152719508e-06, 4.780165026059654e-06, 4.81683569781089e-06, 4.853340763695297e-06, 4.889632929150577e-06, 4.925665039839295e-06, 4.961390112238062e-06, 4.996761364410149e-06, 5.031732247060993e-06, 5.0662564749711855e-06, 5.100288058895631e-06, 5.133781338011258e-06, 5.166691012987885e-06, 5.19897217974911e-06, 5.230580363981218e-06, 5.26147155643864e-06, 5.291602249084776e-06, 5.320929472096581e-06, 5.3494108317504305e-06, 5.377004549195871e-06, 5.403669500112425e-06, 5.429365255233114e-06, 5.4540521217067536e-06, 5.477691185259585e-06, 5.50024435310493e-06, 5.521674397538642e-06, 5.541945000146362e-06, 5.561020796538232e-06, 5.578867421515785e-06, 5.59545155456591e-06, 5.610740965567119e-06, 5.624704560584351e-06, 5.637312427620309e-06, 5.648535882183494e-06, 5.65834751252651e-06, 5.666721224401679e-06, 5.673632285176339e-06, 5.679057367145261e-06, 5.682974589874617e-06, 5.685363561409187e-06, 5.686205418173045e-06, 5.685482863393367e-06, 5.683180203877495e-06, 5.6792833849747315e-06, 5.673780023556719e-06, 5.666659438853751e-06, 5.657912680988523e-06, 5.64753255705424e-06, 5.635513654590002e-06, 5.621852362313587e-06, 5.6065468879795055e-06, 5.589597273238926e-06, 5.5710054053873445e-06, 5.550775025896206e-06, 5.528911735635076e-06, 5.505422996702588e-06, 5.480318130795819e-06, 5.453608314060395e-06, 5.425306568375871e-06, 5.39542774904404e-06, 5.363988528860969e-06, 5.331007378566767e-06, 5.296504543680575e-06, 5.260502017741648e-06, 5.2230235119907465e-06, 5.18409442153927e-06, 5.143741788086646e-06, 5.101994259259248e-06, 5.0588820446564595e-06, 5.01443686870174e-06, 4.968691920407997e-06, 4.921681800177757e-06, 4.873442463769115e-06, 4.824011163568486e-06, 4.773426387320354e-06, 4.721727794472898e-06, 4.668956150306305e-06, 4.615153258017562e-06, 4.560361888942084e-06, 4.504625711097863e-06, 4.44798921624283e-06, 4.390497645639762e-06, 4.332196914726353e-06, 4.273133536890291e-06, 4.21335454655048e-06, 4.152907421746278e-06, 4.0918400064364236e-06, 4.030200432708102e-06, 3.968037043095128e-06, 3.905398313201444e-06, 3.842332774823002e-06, 3.778888939757001e-06, 3.7151152244830654e-06, 3.651059875895514e-06, 3.5867708982600215e-06, 3.5222959815618237e-06, 3.4576824314054788e-06, 3.3929771006189383e-06, 3.3282263227070728e-06, 3.263475847291374e-06, 3.1987707776643135e-06, 3.1341555105780303e-06, 3.069673678378031e-06, 3.005368093583347e-06, 2.941280696005462e-06, 2.8774525024886786e-06, 2.8139235593453085e-06, 2.7507328975493915e-06, 2.6879184907434168e-06], \"yaxis\": \"y\"}],\n",
              "                        {\"barmode\": \"overlay\", \"hovermode\": \"closest\", \"legend\": {\"traceorder\": \"reversed\"}, \"template\": {\"data\": {\"bar\": [{\"error_x\": {\"color\": \"#2a3f5f\"}, \"error_y\": {\"color\": \"#2a3f5f\"}, \"marker\": {\"line\": {\"color\": \"#E5ECF6\", \"width\": 0.5}}, \"type\": \"bar\"}], \"barpolar\": [{\"marker\": {\"line\": {\"color\": \"#E5ECF6\", \"width\": 0.5}}, \"type\": \"barpolar\"}], \"carpet\": [{\"aaxis\": {\"endlinecolor\": \"#2a3f5f\", \"gridcolor\": \"white\", \"linecolor\": \"white\", \"minorgridcolor\": \"white\", \"startlinecolor\": \"#2a3f5f\"}, \"baxis\": {\"endlinecolor\": \"#2a3f5f\", \"gridcolor\": \"white\", \"linecolor\": \"white\", \"minorgridcolor\": \"white\", \"startlinecolor\": \"#2a3f5f\"}, \"type\": \"carpet\"}], \"choropleth\": [{\"colorbar\": {\"outlinewidth\": 0, \"ticks\": \"\"}, \"type\": \"choropleth\"}], \"contour\": [{\"colorbar\": {\"outlinewidth\": 0, \"ticks\": \"\"}, \"colorscale\": [[0.0, \"#0d0887\"], [0.1111111111111111, \"#46039f\"], [0.2222222222222222, \"#7201a8\"], [0.3333333333333333, \"#9c179e\"], [0.4444444444444444, \"#bd3786\"], [0.5555555555555556, \"#d8576b\"], [0.6666666666666666, \"#ed7953\"], [0.7777777777777778, \"#fb9f3a\"], [0.8888888888888888, \"#fdca26\"], [1.0, \"#f0f921\"]], \"type\": \"contour\"}], \"contourcarpet\": [{\"colorbar\": {\"outlinewidth\": 0, \"ticks\": \"\"}, \"type\": \"contourcarpet\"}], \"heatmap\": [{\"colorbar\": {\"outlinewidth\": 0, \"ticks\": \"\"}, \"colorscale\": [[0.0, \"#0d0887\"], [0.1111111111111111, \"#46039f\"], [0.2222222222222222, \"#7201a8\"], [0.3333333333333333, \"#9c179e\"], [0.4444444444444444, \"#bd3786\"], [0.5555555555555556, \"#d8576b\"], [0.6666666666666666, \"#ed7953\"], [0.7777777777777778, \"#fb9f3a\"], [0.8888888888888888, \"#fdca26\"], [1.0, \"#f0f921\"]], \"type\": \"heatmap\"}], \"heatmapgl\": [{\"colorbar\": {\"outlinewidth\": 0, \"ticks\": \"\"}, \"colorscale\": [[0.0, \"#0d0887\"], [0.1111111111111111, \"#46039f\"], [0.2222222222222222, \"#7201a8\"], [0.3333333333333333, \"#9c179e\"], [0.4444444444444444, \"#bd3786\"], [0.5555555555555556, \"#d8576b\"], [0.6666666666666666, \"#ed7953\"], [0.7777777777777778, \"#fb9f3a\"], [0.8888888888888888, \"#fdca26\"], [1.0, \"#f0f921\"]], \"type\": \"heatmapgl\"}], \"histogram\": [{\"marker\": {\"colorbar\": {\"outlinewidth\": 0, \"ticks\": \"\"}}, \"type\": \"histogram\"}], \"histogram2d\": [{\"colorbar\": {\"outlinewidth\": 0, \"ticks\": \"\"}, \"colorscale\": [[0.0, \"#0d0887\"], [0.1111111111111111, \"#46039f\"], [0.2222222222222222, \"#7201a8\"], [0.3333333333333333, \"#9c179e\"], [0.4444444444444444, \"#bd3786\"], [0.5555555555555556, \"#d8576b\"], [0.6666666666666666, \"#ed7953\"], [0.7777777777777778, \"#fb9f3a\"], [0.8888888888888888, \"#fdca26\"], [1.0, \"#f0f921\"]], \"type\": \"histogram2d\"}], \"histogram2dcontour\": [{\"colorbar\": {\"outlinewidth\": 0, \"ticks\": \"\"}, \"colorscale\": [[0.0, \"#0d0887\"], [0.1111111111111111, \"#46039f\"], [0.2222222222222222, \"#7201a8\"], [0.3333333333333333, \"#9c179e\"], [0.4444444444444444, \"#bd3786\"], [0.5555555555555556, \"#d8576b\"], [0.6666666666666666, \"#ed7953\"], [0.7777777777777778, \"#fb9f3a\"], [0.8888888888888888, \"#fdca26\"], [1.0, \"#f0f921\"]], \"type\": \"histogram2dcontour\"}], \"mesh3d\": [{\"colorbar\": {\"outlinewidth\": 0, \"ticks\": \"\"}, \"type\": \"mesh3d\"}], \"parcoords\": [{\"line\": {\"colorbar\": {\"outlinewidth\": 0, \"ticks\": \"\"}}, \"type\": \"parcoords\"}], \"pie\": [{\"automargin\": true, \"type\": \"pie\"}], \"scatter\": [{\"marker\": {\"colorbar\": {\"outlinewidth\": 0, \"ticks\": \"\"}}, \"type\": \"scatter\"}], \"scatter3d\": [{\"line\": {\"colorbar\": {\"outlinewidth\": 0, \"ticks\": \"\"}}, \"marker\": {\"colorbar\": {\"outlinewidth\": 0, \"ticks\": \"\"}}, \"type\": \"scatter3d\"}], \"scattercarpet\": [{\"marker\": {\"colorbar\": {\"outlinewidth\": 0, \"ticks\": \"\"}}, \"type\": \"scattercarpet\"}], \"scattergeo\": [{\"marker\": {\"colorbar\": {\"outlinewidth\": 0, \"ticks\": \"\"}}, \"type\": \"scattergeo\"}], \"scattergl\": [{\"marker\": {\"colorbar\": {\"outlinewidth\": 0, \"ticks\": \"\"}}, \"type\": \"scattergl\"}], \"scattermapbox\": [{\"marker\": {\"colorbar\": {\"outlinewidth\": 0, \"ticks\": \"\"}}, \"type\": \"scattermapbox\"}], \"scatterpolar\": [{\"marker\": {\"colorbar\": {\"outlinewidth\": 0, \"ticks\": \"\"}}, \"type\": \"scatterpolar\"}], \"scatterpolargl\": [{\"marker\": {\"colorbar\": {\"outlinewidth\": 0, \"ticks\": \"\"}}, \"type\": \"scatterpolargl\"}], \"scatterternary\": [{\"marker\": {\"colorbar\": {\"outlinewidth\": 0, \"ticks\": \"\"}}, \"type\": \"scatterternary\"}], \"surface\": [{\"colorbar\": {\"outlinewidth\": 0, \"ticks\": \"\"}, \"colorscale\": [[0.0, \"#0d0887\"], [0.1111111111111111, \"#46039f\"], [0.2222222222222222, \"#7201a8\"], [0.3333333333333333, \"#9c179e\"], [0.4444444444444444, \"#bd3786\"], [0.5555555555555556, \"#d8576b\"], [0.6666666666666666, \"#ed7953\"], [0.7777777777777778, \"#fb9f3a\"], [0.8888888888888888, \"#fdca26\"], [1.0, \"#f0f921\"]], \"type\": \"surface\"}], \"table\": [{\"cells\": {\"fill\": {\"color\": \"#EBF0F8\"}, \"line\": {\"color\": \"white\"}}, \"header\": {\"fill\": {\"color\": \"#C8D4E3\"}, \"line\": {\"color\": \"white\"}}, \"type\": \"table\"}]}, \"layout\": {\"annotationdefaults\": {\"arrowcolor\": \"#2a3f5f\", \"arrowhead\": 0, \"arrowwidth\": 1}, \"coloraxis\": {\"colorbar\": {\"outlinewidth\": 0, \"ticks\": \"\"}}, \"colorscale\": {\"diverging\": [[0, \"#8e0152\"], [0.1, \"#c51b7d\"], [0.2, \"#de77ae\"], [0.3, \"#f1b6da\"], [0.4, \"#fde0ef\"], [0.5, \"#f7f7f7\"], [0.6, \"#e6f5d0\"], [0.7, \"#b8e186\"], [0.8, \"#7fbc41\"], [0.9, \"#4d9221\"], [1, \"#276419\"]], \"sequential\": [[0.0, \"#0d0887\"], [0.1111111111111111, \"#46039f\"], [0.2222222222222222, \"#7201a8\"], [0.3333333333333333, \"#9c179e\"], [0.4444444444444444, \"#bd3786\"], [0.5555555555555556, \"#d8576b\"], [0.6666666666666666, \"#ed7953\"], [0.7777777777777778, \"#fb9f3a\"], [0.8888888888888888, \"#fdca26\"], [1.0, \"#f0f921\"]], \"sequentialminus\": [[0.0, \"#0d0887\"], [0.1111111111111111, \"#46039f\"], [0.2222222222222222, \"#7201a8\"], [0.3333333333333333, \"#9c179e\"], [0.4444444444444444, \"#bd3786\"], [0.5555555555555556, \"#d8576b\"], [0.6666666666666666, \"#ed7953\"], [0.7777777777777778, \"#fb9f3a\"], [0.8888888888888888, \"#fdca26\"], [1.0, \"#f0f921\"]]}, \"colorway\": [\"#636efa\", \"#EF553B\", \"#00cc96\", \"#ab63fa\", \"#FFA15A\", \"#19d3f3\", \"#FF6692\", \"#B6E880\", \"#FF97FF\", \"#FECB52\"], \"font\": {\"color\": \"#2a3f5f\"}, \"geo\": {\"bgcolor\": \"white\", \"lakecolor\": \"white\", \"landcolor\": \"#E5ECF6\", \"showlakes\": true, \"showland\": true, \"subunitcolor\": \"white\"}, \"hoverlabel\": {\"align\": \"left\"}, \"hovermode\": \"closest\", \"mapbox\": {\"style\": \"light\"}, \"paper_bgcolor\": \"white\", \"plot_bgcolor\": \"#E5ECF6\", \"polar\": {\"angularaxis\": {\"gridcolor\": \"white\", \"linecolor\": \"white\", \"ticks\": \"\"}, \"bgcolor\": \"#E5ECF6\", \"radialaxis\": {\"gridcolor\": \"white\", \"linecolor\": \"white\", \"ticks\": \"\"}}, \"scene\": {\"xaxis\": {\"backgroundcolor\": \"#E5ECF6\", \"gridcolor\": \"white\", \"gridwidth\": 2, \"linecolor\": \"white\", \"showbackground\": true, \"ticks\": \"\", \"zerolinecolor\": \"white\"}, \"yaxis\": {\"backgroundcolor\": \"#E5ECF6\", \"gridcolor\": \"white\", \"gridwidth\": 2, \"linecolor\": \"white\", \"showbackground\": true, \"ticks\": \"\", \"zerolinecolor\": \"white\"}, \"zaxis\": {\"backgroundcolor\": \"#E5ECF6\", \"gridcolor\": \"white\", \"gridwidth\": 2, \"linecolor\": \"white\", \"showbackground\": true, \"ticks\": \"\", \"zerolinecolor\": \"white\"}}, \"shapedefaults\": {\"line\": {\"color\": \"#2a3f5f\"}}, \"ternary\": {\"aaxis\": {\"gridcolor\": \"white\", \"linecolor\": \"white\", \"ticks\": \"\"}, \"baxis\": {\"gridcolor\": \"white\", \"linecolor\": \"white\", \"ticks\": \"\"}, \"bgcolor\": \"#E5ECF6\", \"caxis\": {\"gridcolor\": \"white\", \"linecolor\": \"white\", \"ticks\": \"\"}}, \"title\": {\"x\": 0.05}, \"xaxis\": {\"automargin\": true, \"gridcolor\": \"white\", \"linecolor\": \"white\", \"ticks\": \"\", \"title\": {\"standoff\": 15}, \"zerolinecolor\": \"white\", \"zerolinewidth\": 2}, \"yaxis\": {\"automargin\": true, \"gridcolor\": \"white\", \"linecolor\": \"white\", \"ticks\": \"\", \"title\": {\"standoff\": 15}, \"zerolinecolor\": \"white\", \"zerolinewidth\": 2}}}, \"title\": {\"text\": \"Credit Card Transactions Time Density Plot\"}, \"xaxis\": {\"anchor\": \"y2\", \"domain\": [0.0, 1.0], \"title\": {\"text\": \"Time [s]\"}, \"zeroline\": false}, \"yaxis\": {\"anchor\": \"free\", \"domain\": [0.0, 1], \"position\": 0.0}},\n",
              "                        {\"responsive\": true}\n",
              "                    ).then(function(){\n",
              "                            \n",
              "var gd = document.getElementById('d7eb23d2-5722-41fe-b098-4e49d787cfd6');\n",
              "var x = new MutationObserver(function (mutations, observer) {{\n",
              "        var display = window.getComputedStyle(gd).display;\n",
              "        if (!display || display === 'none') {{\n",
              "            console.log([gd, 'removed!']);\n",
              "            Plotly.purge(gd);\n",
              "            observer.disconnect();\n",
              "        }}\n",
              "}});\n",
              "\n",
              "// Listen for the removal of the full notebook cells\n",
              "var notebookContainer = gd.closest('#notebook-container');\n",
              "if (notebookContainer) {{\n",
              "    x.observe(notebookContainer, {childList: true});\n",
              "}}\n",
              "\n",
              "// Listen for the clearing of the current output cell\n",
              "var outputEl = gd.closest('.output');\n",
              "if (outputEl) {{\n",
              "    x.observe(outputEl, {childList: true});\n",
              "}}\n",
              "\n",
              "                        })\n",
              "                };\n",
              "                });\n",
              "            </script>\n",
              "        </div>"
            ],
            "application/vnd.plotly.v1+json": {
              "data": [
                {
                  "showlegend": true,
                  "legendgroup": "Not Fraud",
                  "name": "Not Fraud",
                  "yaxis": "y",
                  "y": [
                    0.0000016973474560862627,
                    0.000001789240686083853,
                    0.0000018751066622895502,
                    0.0000019539240211317092,
                    0.0000020248147874843115,
                    0.0000020870700001729115,
                    0.0000021401693523159302,
                    0.000002183793947141815,
                    0.0000022178316034667483,
                    0.0000022423745117614643,
                    0.000002257709419619589,
                    0.000002264300891818995,
                    0.00000226276852340525,
                    0.00000225385926516644,
                    0.00000223841623407765,
                    0.0000022173455159804105,
                    0.0000021915825183282746,
                    0.0000021620593970212847,
                    0.0000021296749680388305,
                    0.000002095268331193561,
                    0.0000020595971930319196,
                    0.000002023321594572056,
                    0.0000019869934446535077,
                    0.000001951051949066699,
                    0.0000019158247265703086,
                    0.0000018815341310019926,
                    0.0000018483080671293393,
                    0.0000018161944068401388,
                    0.000001785177988507982,
                    0.0000017551991191213953,
                    0.0000017261724957826228,
                    0.000001698005516988453,
                    0.0000016706150584079208,
                    0.0000016439419340972738,
                    0.0000016179624420038264,
                    0.0000015926965909611322,
                    0.0000015682128135696683,
                    0.0000015446291740590165,
                    0.0000015221112719307153,
                    0.0000015008672116659746,
                    0.0000014811401484837605,
                    0.0000014631990243978157,
                    0.0000014473281740525025,
                    0.000001433816504534442,
                    0.0000014229469381476588,
                    0.0000014149867545429892,
                    0.0000014101793829092355,
                    0.000001408738081981424,
                    0.0000014108418124354172,
                    0.0000014166334607268717,
                    0.0000014262204239962383,
                    0.0000014396774207780309,
                    0.0000014570512600449124,
                    0.0000014783671889174918,
                    0.0000015036363533036462,
                    0.000001532863850340675,
                    0.0000015660568294638413,
                    0.0000016032321108016588,
                    0.000001644422833837571,
                    0.0000016896837222362084,
                    0.0000017390946469102094,
                    0.0000017927622818094409,
                    0.0000018508197675565917,
                    0.000001913424418521692,
                    0.0000019807536210244885,
                    0.0000020529991667168726,
                    0.0000021303603398728393,
                    0.0000022130361262112214,
                    0.0000023012169320792574,
                    0.000002395076196709517,
                    0.000002494762249423668,
                    0.0000026003907126325713,
                    0.000002712037686308704,
                    0.0000028297338772312673,
                    0.0000029534597639184145,
                    0.0000030831418225125194,
                    0.0000032186497856325986,
                    0.000003359794869388725,
                    0.000003506328885405163,
                    0.0000036579441546932664,
                    0.000003814274156307338,
                    0.000003974894871817851,
                    0.0000041393268212820875,
                    0.0000043070378213577,
                    0.0000044774465252103875,
                    0.000004649926821293437,
                    0.000004823813169618673,
                    0.000004998406937320888,
                    0.000005172983759821001,
                    0.000005346801901645627,
                    0.000005519111525987055,
                    0.000005689164710128997,
                    0.000005856225971804483,
                    0.000006019583006720739,
                    0.0000061785572868971975,
                    0.000006332514139091255,
                    0.00000648087191674152,
                    0.000006623109899730125,
                    0.000006758774603685585,
                    0.000006887484251984151,
                    0.000007008931254393495,
                    0.000007122882640062262,
                    0.000007229178501787705,
                    0.0000073277286152221635,
                    0.0000074185074931608865,
                    0.000007501548214399746,
                    0.0000075769354233673155,
                    0.000007644797927106257,
                    0.00000770530131849069,
                    0.000007758641029150762,
                    0.000007805036164695595,
                    0.000007844724402421191,
                    0.000007877958143024664,
                    0.000007905002009089145,
                    0.000007926131680881424,
                    0.000007941633960960516,
                    0.000007951807869480464,
                    0.00000795696649738394,
                    0.000007957439289377042,
                    0.000007953574395833075,
                    0.000007945740724360046,
                    0.000007934329337960166,
                    0.000007919753886307517,
                    0.000007902449817071933,
                    0.000007882872191586981,
                    0.000007861492018652478,
                    0.000007838791116317865,
                    0.00000781525560817615,
                    0.000007791368252069772,
                    0.000007767599879606222,
                    0.000007744400289672022,
                    0.000007722188984437915,
                    0.000007701346159669779,
                    0.000007682204361437302,
                    0.00000766504119895186,
                    0.000007650073460068545,
                    0.000007637452914971322,
                    0.000007627264018690252,
                    0.000007619523638962204,
                    0.000007614182847393712,
                    0.0000076111307236867375,
                    0.0000076102000392219856,
                    0.000007611174611301136,
                    0.000007613798055773857,
                    0.000007617783615694085,
                    0.000007622824708288295,
                    0.000007628605812331322,
                    0.000007634813312831897,
                    0.000007641145929062422,
                    0.000007647324374416424,
                    0.000007653099931107249,
                    0.000007658261667942255,
                    0.000007662642083794296,
                    0.00000766612102126682,
                    0.000007668627762522527,
                    0.000007670141290160721,
                    0.000007670688767914657,
                    0.000007670342366007512,
                    0.00000766921462120061,
                    0.000007667452578693217,
                    0.000007665231008940166,
                    0.00000766274502428145,
                    0.00000766020243573115,
                    0.000007657816187892733,
                    0.000007655797189369246,
                    0.000007654347818074227,
                    0.000007653656327679867,
                    0.000007653892316465874,
                    0.000007655203347519694,
                    0.000007657712734803939,
                    0.000007661518438616632,
                    0.000007666692951868894,
                    0.000007673284010222965,
                    0.000007681315928222697,
                    0.000007690791352390224,
                    0.000007701693231398905,
                    0.000007713986831544126,
                    0.000007727621669694495,
                    0.000007742533291007435,
                    0.000007758644879036353,
                    0.000007775868744871326,
                    0.00000779410779301171,
                    0.000007813257098720212,
                    0.000007833205749804812,
                    0.000007853839101993527,
                    0.000007875041570289569,
                    0.000007896700030201781,
                    0.000007918707836091387,
                    0.000007940969384639727,
                    0.000007963405066766211,
                    0.000007985956369289425,
                    0.00000800859081649447,
                    0.000008031306389214013,
                    0.000008054135031363676,
                    0.000008077144855419447,
                    0.000008100440690962982,
                    0.000008124162683360498,
                    0.00000814848273946222,
                    0.000008173598728158167,
                    0.000008199726468139169,
                    0.000008227089664610625,
                    0.000008255908081986862,
                    0.000008286384352227574,
                    0.00000831868991113152,
                    0.000008352950622010653,
                    0.000008389232684289283,
                    0.00000842752943251731,
                    0.000008467749609998034,
                    0.000008509707653467948,
                    0.000008553116455128514,
                    0.000008597582980706167,
                    0.000008642607022227222,
                    0.000008687583256706687,
                    0.0000087318066712248,
                    0.00000877448130436738,
                    0.000008814732146393727,
                    0.000008851619937765457,
                    0.000008884158509418412,
                    0.000008911334219900082,
                    0.000008932126965959534,
                    0.000008945532176540032,
                    0.0000089505831480962,
                    0.000008946373044910867,
                    0.000008932075875017815,
                    0.000008906965763681004,
                    0.0000088704338847293,
                    0.000008822002476834194,
                    0.000008761335466861045,
                    0.000008688245343573517,
                    0.000008602696067955184,
                    0.000008504801964908324,
                    0.000008394822707027601,
                    0.000008273154665238413,
                    0.00000814031905353361,
                    0.000007996947426325242,
                    0.000007843765188648273,
                    0.000007681573845069891,
                    0.000007511232738581462,
                    0.0000073336410147174135,
                    0.000007149720490327968,
                    0.000006960400015284356,
                    0.000006766601795742137,
                    0.000006569230008025219,
                    0.000006369161882344947,
                    0.000006167241285296886,
                    0.000005964274688715339,
                    0.000005761029288153197,
                    0.000005558232933421001,
                    0.000005356575460667352,
                    0.0000051567109726577165,
                    0.00000495926060136908,
                    0.000004764815303057903,
                    0.000004573938277349227,
                    0.000004387166664291064,
                    0.000004205012251684119,
                    0.000004027961014003793,
                    0.0000038564713985998095,
                    0.0000036909713696185345,
                    0.0000035318543107641165,
                    0.0000033794739707041413,
                    0.0000032341387063644098,
                    0.000003096105336894337,
                    0.000002965572962655079,
                    0.000002842677127687256,
                    0.0000027274847098052645,
                    0.0000026199899093580015,
                    0.000002520111676015244,
                    0.0000024276928635699915,
                    0.00000234250133729657,
                    0.0000022642331792467844,
                    0.000002192518047148896,
                    0.0000021269266461766625,
                    0.0000020669801742747255,
                    0.0000020121615058943922,
                    0.0000019619277910246253,
                    0.0000019157240712836386,
                    0.0000018729974570884757,
                    0.0000018332113732541475,
                    0.000001795859367380311,
                    0.0000017604779872841774,
                    0.0000017266582702357457,
                    0.0000016940554459928815,
                    0.0000016623965343017228,
                    0.000001631485611053777,
                    0.0000016012066201757904,
                    0.000001571523714540801,
                    0.000001542479212608412,
                    0.0000015141893523612146,
                    0.0000014868381053924665,
                    0.0000014606693777951694,
                    0.0000014359779681992243,
                    0.0000014130996757282457,
                    0.0000013924009520550411,
                    0.0000013742684736944611,
                    0.000001359098975866334,
                    0.000001347289641216179,
                    0.0000013392292794638814,
                    0.0000013352904719534254,
                    0.0000013358227923196138,
                    0.0000013411471549520402,
                    0.000001351551289946453,
                    0.0000013672862993905285,
                    0.0000013885642169033652,
                    0.0000014155564712148165,
                    0.000001448393145216723,
                    0.0000014871629234742205,
                    0.000001531913632014404,
                    0.0000015826532920302963,
                    0.0000016393516311860297,
                    0.0000017019420194298078,
                    0.0000017703238174881998,
                    0.000001844365142565678,
                    0.0000019239060646458684,
                    0.0000020087622462565665,
                    0.000002098729027519743,
                    0.000002193585936646221,
                    0.0000022931015747104405,
                    0.0000023970387845925416,
                    0.000002505159970443063,
                    0.0000026172323897751412,
                    0.000002733033199748877,
                    0.000002852354007036832,
                    0.0000029750046513344767,
                    0.000003100815950010066,
                    0.0000032296411484897554,
                    0.0000033613558593166203,
                    0.0000034958563323565664,
                    0.0000036330559775249434,
                    0.000003772880156059899,
                    0.0000039152593615047434,
                    0.000004060121020560459,
                    0.000004207380249287825,
                    0.000004356929993860718,
                    0.000004508631059529605,
                    0.000004662302579861582,
                    0.000004817713495387323,
                    0.000004974575593216108,
                    0.000005132538606064984,
                    0.000005291187782149925,
                    0.000005450044220727604,
                    0.000005608568128320148,
                    0.000005766164996283537,
                    0.000005922194541198664,
                    0.000006075982095988321,
                    0.0000062268320019342305,
                    0.000006374042439170282,
                    0.00000651692105337119,
                    0.000006654800694582381,
                    0.000006787054583110181,
                    0.000006913110256889381,
                    0.000007032461731691254,
                    0.00000714467941424815,
                    0.000007249417441024103,
                    0.00000734641826260364,
                    0.0000074355144453583966,
                    0.000007516627808025405,
                    0.000007589766141684877,
                    0.000007655017869382308,
                    0.000007712545080305865,
                    0.000007762575419365505,
                    0.000007805393325112301,
                    0.000007841331088566704,
                    0.000007870760156337701,
                    0.000007894083028920383,
                    0.000007911726016106728,
                    0.000007924133013619312,
                    0.00000793176036607584,
                    0.000007935072788426302,
                    0.000007934540237283306,
                    0.000007930635559896704,
                    0.000007923832705051497,
                    0.000007914605258270883,
                    0.000007903425063041962,
                    0.00000789076070846701,
                    0.000007877075698646474,
                    0.000007862826166203136,
                    0.000007848458047159103,
                    0.000007834403692291265,
                    0.000007821077946805538,
                    0.00000780887378194629,
                    0.000007798157606036477,
                    0.000007789264416364607,
                    0.000007782492976152238,
                    0.000007778101212259764,
                    0.000007776302029754437,
                    0.000007777259729963352,
                    0.000007781087200522935,
                    0.000007787844020760795,
                    0.00000779753559508473,
                    0.000007810113392412084,
                    0.000007825476332419113,
                    0.000007843473320743669,
                    0.000007863906896333801,
                    0.000007886537915928918,
                    0.00000791109116421336,
                    0.000007937261744566773,
                    0.000007964722075704143,
                    0.000007993129295077426,
                    0.000008022132851959118,
                    0.000008051382062852077,
                    0.000008080533400310438,
                    0.000008109257294160325,
                    0.000008137244241794656,
                    0.00000816421005146629,
                    0.000008189900078482718,
                    0.000008214092357438947,
                    0.000008236599582027277,
                    0.000008257269934936005,
                    0.000008275986820935823,
                    0.000008292667603341735,
                    0.00000830726148460067,
                    0.000008319746703096739,
                    0.000008330127238270504,
                    0.000008338429223485542,
                    0.000008344697260357186,
                    0.000008348990810121478,
                    0.000008351380808722875,
                    0.000008351946615215521,
                    0.000008350773361117272,
                    0.000008347949725304522,
                    0.0000083435661188024,
                    0.000008337713230093822,
                    0.000008330480857437757,
                    0.000008321956942328886,
                    0.000008312226718653714,
                    0.000008301371904983938,
                    0.000008289469891131081,
                    0.000008276592901670688,
                    0.000008262807154750896,
                    0.000008248172069642868,
                    0.000008232739606528159,
                    0.000008216553842656548,
                    0.00000819965089678613,
                    0.00000818205930653055,
                    0.000008163800940243871,
                    0.000008144892487442291,
                    0.000008125347522247991,
                    0.000008105179077168563,
                    0.000008084402605008365,
                    0.00000806303915073689,
                    0.000008041118508591715,
                    0.000008018682107832052,
                    0.000007995785357477848,
                    0.00000797249918855473,
                    0.00000794891056241752,
                    0.000007925121764270978,
                    0.000007901248368810615,
                    0.000007877415845168673,
                    0.000007853754855151636,
                    0.000007830395385603237,
                    0.000007807459936140094,
                    0.000007785056051576916,
                    0.000007763268539232035,
                    0.000007742151741544829,
                    0.00000772172224223308,
                    0.000007701952369437036,
                    0.000007682764823383501,
                    0.000007664028701862123,
                    0.000007645557128088655,
                    0.0000076271066068796656,
                    0.000007608378151350894,
                    0.0000075890201384405364,
                    0.000007568632772026083,
                    0.000007546773961324247,
                    0.000007522966363070432,
                    0.000007496705291375268,
                    0.000007467467171099383,
                    0.000007434718200257083,
                    0.000007397922894775448,
                    0.000007356552214556279,
                    0.000007310091012100826,
                    0.000007258044602058912,
                    0.000007199944319248186,
                    0.000007135352010448121,
                    0.000007063863487342734,
                    0.0000069851110494467895,
                    0.000006898765261309037,
                    0.000006804536232138982,
                    0.000006702174692783637,
                    0.000006591473189773056,
                    0.00000647226771505226,
                    0.00000634444006057946,
                    0.000006207921128630427,
                    0.000006062695343022782,
                    0.000005908806197528024,
                    0.000005746362851759786,
                    0.000005575547550174974,
                    0.000005396623506475843,
                    0.000005209942774562239,
                    0.000005015953529263193,
                    0.00000481520611554094,
                    0.000004608357202072397,
                    0.0000043961713997570675,
                    0.000004179519780059279,
                    0.000003959374850598449,
                    0.000003736801710492048,
                    0.0000035129453063020944,
                    0.0000032890139285170644,
                    0.000003066259313514769,
                    0.000002845953930965837
                  ],
                  "mode": "lines",
                  "xaxis": "x",
                  "marker": {
                    "color": "rgb(31, 119, 180)"
                  },
                  "x": [
                    0,
                    345.584,
                    691.168,
                    1036.752,
                    1382.336,
                    1727.92,
                    2073.504,
                    2419.088,
                    2764.672,
                    3110.256,
                    3455.84,
                    3801.424,
                    4147.008,
                    4492.592,
                    4838.176,
                    5183.76,
                    5529.344,
                    5874.928,
                    6220.512,
                    6566.096,
                    6911.68,
                    7257.264,
                    7602.848,
                    7948.432,
                    8294.016,
                    8639.6,
                    8985.184,
                    9330.768,
                    9676.352,
                    10021.936,
                    10367.52,
                    10713.104,
                    11058.688,
                    11404.272,
                    11749.856,
                    12095.44,
                    12441.024,
                    12786.608,
                    13132.192,
                    13477.776,
                    13823.36,
                    14168.944,
                    14514.528,
                    14860.112,
                    15205.696,
                    15551.28,
                    15896.864,
                    16242.448,
                    16588.032,
                    16933.616,
                    17279.2,
                    17624.784,
                    17970.368,
                    18315.952,
                    18661.536,
                    19007.12,
                    19352.704,
                    19698.288,
                    20043.872,
                    20389.456,
                    20735.04,
                    21080.624,
                    21426.208,
                    21771.792,
                    22117.376,
                    22462.96,
                    22808.544,
                    23154.128,
                    23499.712,
                    23845.296,
                    24190.88,
                    24536.464,
                    24882.048,
                    25227.632,
                    25573.216,
                    25918.8,
                    26264.384,
                    26609.968,
                    26955.552,
                    27301.136,
                    27646.72,
                    27992.304,
                    28337.888,
                    28683.472,
                    29029.056,
                    29374.64,
                    29720.224,
                    30065.808,
                    30411.392,
                    30756.976,
                    31102.56,
                    31448.144,
                    31793.728,
                    32139.312,
                    32484.896,
                    32830.48,
                    33176.064,
                    33521.648,
                    33867.232,
                    34212.816,
                    34558.4,
                    34903.984,
                    35249.568,
                    35595.152,
                    35940.736,
                    36286.32,
                    36631.904,
                    36977.488,
                    37323.072,
                    37668.656,
                    38014.24,
                    38359.824,
                    38705.408,
                    39050.992,
                    39396.576,
                    39742.16,
                    40087.744,
                    40433.328,
                    40778.912,
                    41124.496,
                    41470.08,
                    41815.664,
                    42161.248,
                    42506.832,
                    42852.416,
                    43198,
                    43543.584,
                    43889.168,
                    44234.752,
                    44580.336,
                    44925.92,
                    45271.504,
                    45617.088,
                    45962.672,
                    46308.256,
                    46653.84,
                    46999.424,
                    47345.008,
                    47690.592,
                    48036.176,
                    48381.76,
                    48727.344,
                    49072.928,
                    49418.512,
                    49764.096,
                    50109.68,
                    50455.264,
                    50800.848,
                    51146.432,
                    51492.016,
                    51837.6,
                    52183.184,
                    52528.768,
                    52874.352,
                    53219.936,
                    53565.52,
                    53911.104,
                    54256.688,
                    54602.272,
                    54947.856,
                    55293.44,
                    55639.024,
                    55984.608,
                    56330.192,
                    56675.776,
                    57021.36,
                    57366.944,
                    57712.528,
                    58058.112,
                    58403.696,
                    58749.28,
                    59094.864,
                    59440.448,
                    59786.032,
                    60131.616,
                    60477.2,
                    60822.784,
                    61168.368,
                    61513.952,
                    61859.536,
                    62205.12,
                    62550.704,
                    62896.288,
                    63241.872,
                    63587.456,
                    63933.04,
                    64278.624,
                    64624.208,
                    64969.792,
                    65315.376,
                    65660.96,
                    66006.544,
                    66352.128,
                    66697.712,
                    67043.296,
                    67388.88,
                    67734.464,
                    68080.048,
                    68425.632,
                    68771.216,
                    69116.8,
                    69462.384,
                    69807.968,
                    70153.552,
                    70499.136,
                    70844.72,
                    71190.304,
                    71535.888,
                    71881.472,
                    72227.056,
                    72572.64,
                    72918.224,
                    73263.808,
                    73609.392,
                    73954.976,
                    74300.56,
                    74646.144,
                    74991.728,
                    75337.312,
                    75682.896,
                    76028.48,
                    76374.064,
                    76719.648,
                    77065.232,
                    77410.816,
                    77756.4,
                    78101.984,
                    78447.568,
                    78793.152,
                    79138.736,
                    79484.32,
                    79829.904,
                    80175.488,
                    80521.072,
                    80866.656,
                    81212.24,
                    81557.824,
                    81903.408,
                    82248.992,
                    82594.576,
                    82940.16,
                    83285.744,
                    83631.328,
                    83976.912,
                    84322.496,
                    84668.08,
                    85013.664,
                    85359.248,
                    85704.832,
                    86050.416,
                    86396,
                    86741.584,
                    87087.168,
                    87432.752,
                    87778.336,
                    88123.92,
                    88469.504,
                    88815.088,
                    89160.672,
                    89506.256,
                    89851.84,
                    90197.424,
                    90543.008,
                    90888.592,
                    91234.176,
                    91579.76,
                    91925.344,
                    92270.928,
                    92616.512,
                    92962.096,
                    93307.68,
                    93653.264,
                    93998.848,
                    94344.432,
                    94690.016,
                    95035.6,
                    95381.184,
                    95726.768,
                    96072.352,
                    96417.936,
                    96763.52,
                    97109.104,
                    97454.688,
                    97800.272,
                    98145.856,
                    98491.44,
                    98837.024,
                    99182.608,
                    99528.192,
                    99873.776,
                    100219.36,
                    100564.944,
                    100910.528,
                    101256.112,
                    101601.696,
                    101947.28,
                    102292.864,
                    102638.448,
                    102984.032,
                    103329.616,
                    103675.2,
                    104020.784,
                    104366.368,
                    104711.952,
                    105057.536,
                    105403.12,
                    105748.704,
                    106094.288,
                    106439.872,
                    106785.456,
                    107131.04,
                    107476.624,
                    107822.208,
                    108167.792,
                    108513.376,
                    108858.96,
                    109204.544,
                    109550.128,
                    109895.712,
                    110241.296,
                    110586.88,
                    110932.464,
                    111278.048,
                    111623.632,
                    111969.216,
                    112314.8,
                    112660.384,
                    113005.968,
                    113351.552,
                    113697.136,
                    114042.72,
                    114388.304,
                    114733.888,
                    115079.472,
                    115425.056,
                    115770.64,
                    116116.224,
                    116461.808,
                    116807.392,
                    117152.976,
                    117498.56,
                    117844.144,
                    118189.728,
                    118535.312,
                    118880.896,
                    119226.48,
                    119572.064,
                    119917.648,
                    120263.232,
                    120608.816,
                    120954.4,
                    121299.984,
                    121645.568,
                    121991.152,
                    122336.736,
                    122682.32,
                    123027.904,
                    123373.488,
                    123719.072,
                    124064.656,
                    124410.24,
                    124755.824,
                    125101.408,
                    125446.992,
                    125792.576,
                    126138.16,
                    126483.744,
                    126829.328,
                    127174.912,
                    127520.496,
                    127866.08,
                    128211.664,
                    128557.248,
                    128902.832,
                    129248.416,
                    129594,
                    129939.584,
                    130285.168,
                    130630.752,
                    130976.336,
                    131321.92,
                    131667.504,
                    132013.088,
                    132358.672,
                    132704.256,
                    133049.84,
                    133395.424,
                    133741.008,
                    134086.592,
                    134432.176,
                    134777.76,
                    135123.344,
                    135468.928,
                    135814.512,
                    136160.096,
                    136505.68,
                    136851.264,
                    137196.848,
                    137542.432,
                    137888.016,
                    138233.6,
                    138579.184,
                    138924.768,
                    139270.352,
                    139615.936,
                    139961.52,
                    140307.104,
                    140652.688,
                    140998.272,
                    141343.856,
                    141689.44,
                    142035.024,
                    142380.608,
                    142726.192,
                    143071.776,
                    143417.36,
                    143762.944,
                    144108.528,
                    144454.112,
                    144799.696,
                    145145.28,
                    145490.864,
                    145836.448,
                    146182.032,
                    146527.616,
                    146873.2,
                    147218.784,
                    147564.368,
                    147909.952,
                    148255.536,
                    148601.12,
                    148946.704,
                    149292.288,
                    149637.872,
                    149983.456,
                    150329.04,
                    150674.624,
                    151020.208,
                    151365.792,
                    151711.376,
                    152056.96,
                    152402.544,
                    152748.128,
                    153093.712,
                    153439.296,
                    153784.88,
                    154130.464,
                    154476.048,
                    154821.632,
                    155167.216,
                    155512.8,
                    155858.384,
                    156203.968,
                    156549.552,
                    156895.136,
                    157240.72,
                    157586.304,
                    157931.888,
                    158277.472,
                    158623.056,
                    158968.64,
                    159314.224,
                    159659.808,
                    160005.392,
                    160350.976,
                    160696.56,
                    161042.144,
                    161387.728,
                    161733.312,
                    162078.896,
                    162424.48,
                    162770.064,
                    163115.648,
                    163461.232,
                    163806.816,
                    164152.4,
                    164497.984,
                    164843.568,
                    165189.152,
                    165534.736,
                    165880.32,
                    166225.904,
                    166571.488,
                    166917.072,
                    167262.656,
                    167608.24,
                    167953.824,
                    168299.408,
                    168644.992,
                    168990.576,
                    169336.16,
                    169681.744,
                    170027.328,
                    170372.912,
                    170718.496,
                    171064.08,
                    171409.664,
                    171755.248,
                    172100.832,
                    172446.416
                  ],
                  "type": "scatter"
                },
                {
                  "showlegend": true,
                  "legendgroup": "Fraud",
                  "name": "Fraud",
                  "yaxis": "y",
                  "y": [
                    0.000002572527019918418,
                    0.000002631005805812937,
                    0.00000268976863043631,
                    0.000002748786647363215,
                    0.0000028080309928186195,
                    0.000002867472852442725,
                    0.0000029270835279276315,
                    0.0000029868345032672447,
                    0.000003046697510360475,
                    0.0000031066445937077396,
                    0.000003166648173942127,
                    0.0000032266811099387627,
                    0.000003286716759249751,
                    0.0000033467290366169313,
                    0.000003406692470320782,
                    0.000003466582256131253,
                    0.0000035263743086346604,
                    0.0000035860453097207323,
                    0.000003645572754024379,
                    0.0000037049349911288065,
                    0.0000037641112643496275,
                    0.000003823081745932923,
                    0.000003881827568515629,
                    0.000003940330852711663,
                    0.0000039985747307038155,
                    0.000004056543365738192,
                    0.00000411422196743588,
                    0.00000417159680285426,
                    0.000004228655203249315,
                    0.000004285385566508666,
                    0.000004341777355244732,
                    0.000004397821090555953,
                    0.000004453508341484289,
                    0.000004508831710215102,
                    0.00000456378481308629,
                    0.000004618362257490828,
                    0.000004672559614776589,
                    0.0000047263733892648665,
                    0.0000047798009835267675,
                    0.000004832840660073919,
                    0.000004885491499635643,
                    0.000004937753356211278,
                    0.0000049896268091001775,
                    0.00000504111311212635,
                    0.0000050922141402872045,
                    0.000005142932334068033,
                    0.000005193270641674173,
                    0.0000052432324594427485,
                    0.00000529282157070396,
                    0.000005342042083369242,
                    0.000005390898366529331,
                    0.000005439394986349829,
                    0.000005487536641555422,
                    0.00000553532809879498,
                    0.000005582774128181612,
                    0.000005629879439299512,
                    0.000005676648617968548,
                    0.0000057230860640530265,
                    0.000005769195930597317,
                    0.0000058149820645638296,
                    0.000005860447949442464,
                    0.000005905596649991411,
                    0.000005950430759359777,
                    0.000005994952348831397,
                    0.000006039162920417342,
                    0.000006083063362511554,
                    0.000006126653908809837,
                    0.000006169934100677945,
                    0.000006212902753138355,
                    0.0000062555579246289196,
                    0.000006297896890669668,
                    0.0000063399161215556845,
                    0.000006381611264176305,
                    0.000006422977128041526,
                    0.000006464007675577934,
                    0.000006504696016736761,
                    0.000006545034407937361,
                    0.00000658501425534952,
                    0.000006624626122499018,
                    0.000006663859742160649,
                    0.000006702704032484241,
                    0.000006741147117280051,
                    0.0000067791763503712725,
                    0.000006816778343903152,
                    0.000006853939000481316,
                    0.000006890643548994119,
                    0.0000069268765839581,
                    0.0000069626221082105396,
                    0.0000069978635787578355,
                    0.000007032583955575575,
                    0.000007066765753143314,
                    0.000007100391094485448,
                    0.000007133441767479519,
                    0.000007165899283183912,
                    0.000007197744935928862,
                    0.000007228959864908304,
                    0.000007259525117004091,
                    0.000007289421710570792,
                    0.000007318630699905549,
                    0.000007347133240126908,
                    0.000007374910652185979,
                    0.000007401944487734295,
                    0.000007428216593576151,
                    0.000007453709175436183,
                    0.0000074784048607786135,
                    0.000007502286760421189,
                    0.000007525338528693983,
                    0.00000754754442190277,
                    0.000007568889354865966,
                    0.000007589358955305961,
                    0.000007608939615886935,
                    0.000007627618543704974,
                    0.00000764538380704971,
                    0.000007662224379271769,
                    0.000007678130179605051,
                    0.000007693092110809925,
                    0.000007707102093518345,
                    0.000007720153097180755,
                    0.000007732239167530266,
                    0.000007743355450497756,
                    0.000007753498212529603,
                    0.000007762664857276421,
                    0.00000777085393863962,
                    0.000007778065170179888,
                    0.000007784299430908168,
                    0.000007789558767497574,
                    0.00000779384639297004,
                    0.000007797166681927951,
                    0.000007799525162415758,
                    0.000007800928504511131,
                    0.000007801384505758742,
                    0.000007800902073572762,
                    0.000007799491204745427,
                    0.000007797162962210424,
                    0.000007793929449219107,
                    0.000007789803781096382,
                    0.000007784800054750645,
                    0.000007778933316118128,
                    0.000007772219525727602,
                    0.00000776467552257463,
                    0.000007756318986497782,
                    0.000007747168399250406,
                    0.000007737243004461257,
                    0.000007726562766677164,
                    0.000007715148329678096,
                    0.000007703020974251555,
                    0.000007690202575608846,
                    0.000007676715560620797,
                    0.00000766258286504243,
                    0.000007647827890890538,
                    0.000007632474464127662,
                    0.000007616546792798236,
                    0.00000760006942575189,
                    0.000007583067212077946,
                    0.000007565565261365005,
                    0.0000075475889048861955,
                    0.0000075291636577997275,
                    0.000007510315182441241,
                    0.000007491069252771455,
                    0.000007471451720031002,
                    0.000007451488479639318,
                    0.000007431205439363608,
                    0.000007410628488770469,
                    0.000007389783469959165,
                    0.000007368696149565697,
                    0.000007347392192012741,
                    0.000007325897133970936,
                    0.0000073042363599855454,
                    0.0000072824350792125365,
                    0.000007260518303199252,
                    0.000007238510824635931,
                    0.0000072164371969967705,
                    0.0000071943217149825935,
                    0.000007172188395671033,
                    0.000007150060960275756,
                    0.0000071279628164118875,
                    0.000007105917040762365,
                    0.0000070839463620378695,
                    0.00000706207314412267,
                    0.00000704031936929879,
                    0.000007018706621442342,
                    0.000006997256069088544,
                    0.00000697598844826533,
                    0.0000069549240450000584,
                    0.00000693408267740929,
                    0.000006913483677288108,
                    0.000006893145871122813,
                    0.000006873087560459105,
                    0.00000685332650156659,
                    0.000006833879884350607,
                    0.000006814764310472568,
                    0.00000679599577065081,
                    0.000006777589621125889,
                    0.000006759560559286028,
                    0.000006741922598460664,
                    0.000006724689041902922,
                    0.0000067078724559944585,
                    0.0000066914846427192845,
                    0.00000667553661146574,
                    0.000006660038550229452,
                    0.000006644999796301861,
                    0.000006630428806542273,
                    0.0000066163331273431475,
                    0.000006602719364410154,
                    0.000006589593152489992,
                    0.000006576959125189145,
                    0.000006564820885037662,
                    0.000006553180973960314,
                    0.000006542040844326766,
                    0.000006531400830759608,
                    0.00000652126012288577,
                    0.000006511616739222866,
                    0.0000065024675023959905,
                    0.00000649380801588478,
                    0.000006485632642502064,
                    0.0000064779344848076,
                    0.0000064707053676594145,
                    0.000006463935823104725,
                    0.0000064576150778095214,
                    0.000006451731043222335,
                    0.0000064462703086626185,
                    0.000006441218137517924,
                    0.000006436558466726343,
                    0.000006432273909712515,
                    0.0000064283457629346345,
                    0.0000064247540161895185,
                    0.000006421477366810482,
                    0.000006418493237878817,
                    0.000006415777800556122,
                    0.000006413306000628752,
                    0.000006411051589339756,
                    0.0000064089871585665144,
                    0.0000064070841803843275,
                    0.000006405313051037881,
                    0.000006403643139323298,
                    0.000006402042839363781,
                    0.000006400479627742135,
                    0.000006398920124932855,
                    0.000006397330160956046,
                    0.000006395674845154967,
                    0.000006393918639978057,
                    0.0000063920254386263285,
                    0.000006389958646405971,
                    0.000006387681265607025,
                    0.000006385155983708639,
                    0.000006382345264692881,
                    0.000006379211443230834,
                    0.000006375716821486894,
                    0.00000637182376827063,
                    0.000006367494820249902,
                    0.000006362692784924032,
                    0.000006357380845042467,
                    0.000006351522664141803,
                    0.000006345082492863207,
                    0.000006338025275702307,
                    0.0000063303167578356834,
                    0.000006321923591660977,
                    0.000006312813442682555,
                    0.000006302955094371119,
                    0.000006292318551623303,
                    0.000006280875142447136,
                    0.0000062685976175005394,
                    0.00000625546024711257,
                    0.00000624143891542239,
                    0.0000062265112112763815,
                    0.000006210656515532501,
                    0.000006193856084429975,
                    0.00000617609312869381,
                    0.0000061573528880561844,
                    0.000006137622700890796,
                    0.000006116892068672298,
                    0.000006095152714989147,
                    0.0000060723986388573795,
                    0.000006048626162101342,
                    0.0000060238339705888565,
                    0.000005998023149129178,
                    0.0000059711972098654034,
                    0.000005943362114015655,
                    0.000005914526286842002,
                    0.000005884700625750638,
                    0.000005853898501451925,
                    0.00000582213575213467,
                    0.0000057894306706348805,
                    0.000005755803984604959,
                    0.000005721278829715627,
                    0.00000568588071594857,
                    0.000005649637487063374,
                    0.000005612579273347971,
                    0.0000055747384377862284,
                    0.000005536149515800897,
                    0.000005496849148753552,
                    0.000005456876011406087,
                    0.000005416270733570007,
                    0.000005375075816190749,
                    0.0000053333355421342105,
                    0.000005291095881960875,
                    0.000005248404394990802,
                    0.000005205310125978367,
                    0.0000051618634977305,
                    0.00000511811620001525,
                    0.000005074121075119358,
                    0.000005029932000423424,
                    0.000004985603768372087,
                    0.000004941191964223307,
                    0.0000048967528419664025,
                    0.000004852343198802162,
                    0.000004808020248580183,
                    0.000004763841494589365,
                    0.000004719864602095875,
                    0.000004676147271020589,
                    0.000004632747109143131,
                    0.000004589721506214108,
                    0.000004547127509349559,
                    0.000004505021700072849,
                    0.000004463460073359001,
                    0.000004422497919024833,
                    0.000004382189705795714,
                    0.0000043425889683652545,
                    0.000004303748197749751,
                    0.000004265718735222605,
                    0.000004228550670097033,
                    0.00000419229274160747,
                    0.000004156992245121317,
                    0.000004122694942893465,
                    0.000004089444979555858,
                    0.000004057284802514104,
                    0.0000040262550874025364,
                    0.0000039963946687275235,
                    0.0000039677404758083995,
                    0.000003940327474103146,
                    0.000003914188611985553,
                    0.000003889354773018635,
                    0.000003865854733748635,
                    0.0000038437151270229636,
                    0.0000038229604108152885,
                    0.00000380361284252098,
                    0.0000037856924586670494,
                    0.000003769217059961993,
                    0.000003754202201592919,
                    0.0000037406611886604247,
                    0.0000037286050766251526,
                    0.0000037180426766247427,
                    0.00000370898056550533,
                    0.0000037014231003984343,
                    0.0000036953724376616726,
                    0.0000036908285559905295,
                    0.0000036877892834982047,
                    0.0000036862503285517056,
                    0.000003686205314144643,
                    0.000003687645815580386,
                    0.000003690561401234203,
                    0.0000036949396761586598,
                    0.000003700766328293753,
                    0.0000037080251770415652,
                    0.000003716698223964656,
                    0.000003726765705368289,
                    0.000003738206146528155,
                    0.0000037509964173285537,
                    0.0000037651117890798198,
                    0.0000037805259922891007,
                    0.0000037972112751645677,
                    0.000003815138462640423,
                    0.00000383427701571793,
                    0.0000038545950909266296,
                    0.000003876059599719653,
                    0.000003898636267627167,
                    0.000003922289693003297,
                    0.00000394698340521336,
                    0.000003972679922120383,
                    0.0000039993408067424625,
                    0.0000040269267229654216,
                    0.000004055397490208563,
                    0.000004084712136954441,
                    0.000004114828953067467,
                    0.000004145705540839353,
                    0.000004177298864713322,
                    0.000004209565299651933,
                    0.000004242460678127159,
                    0.000004275940335723664,
                    0.000004309959155359335,
                    0.000004344471610138979,
                    0.000004379431804868751,
                    0.000004414793516270269,
                    0.000004450510231943431,
                    0.000004486535188137172,
                    0.000004522821406396074,
                    0.000004559321729159451,
                    0.000004595988854396516,
                    0.000004632775369368179,
                    0.000004669633783611575,
                    0.000004706516561248098,
                    0.000004743376152719508,
                    0.000004780165026059654,
                    0.00000481683569781089,
                    0.000004853340763695297,
                    0.000004889632929150577,
                    0.000004925665039839295,
                    0.000004961390112238062,
                    0.000004996761364410149,
                    0.000005031732247060993,
                    0.0000050662564749711855,
                    0.000005100288058895631,
                    0.000005133781338011258,
                    0.000005166691012987885,
                    0.00000519897217974911,
                    0.000005230580363981218,
                    0.00000526147155643864,
                    0.000005291602249084776,
                    0.000005320929472096581,
                    0.0000053494108317504305,
                    0.000005377004549195871,
                    0.000005403669500112425,
                    0.000005429365255233114,
                    0.0000054540521217067536,
                    0.000005477691185259585,
                    0.00000550024435310493,
                    0.000005521674397538642,
                    0.000005541945000146362,
                    0.000005561020796538232,
                    0.000005578867421515785,
                    0.00000559545155456591,
                    0.000005610740965567119,
                    0.000005624704560584351,
                    0.000005637312427620309,
                    0.000005648535882183494,
                    0.00000565834751252651,
                    0.000005666721224401679,
                    0.000005673632285176339,
                    0.000005679057367145261,
                    0.000005682974589874617,
                    0.000005685363561409187,
                    0.000005686205418173045,
                    0.000005685482863393367,
                    0.000005683180203877495,
                    0.0000056792833849747315,
                    0.000005673780023556719,
                    0.000005666659438853751,
                    0.000005657912680988523,
                    0.00000564753255705424,
                    0.000005635513654590002,
                    0.000005621852362313587,
                    0.0000056065468879795055,
                    0.000005589597273238926,
                    0.0000055710054053873445,
                    0.000005550775025896206,
                    0.000005528911735635076,
                    0.000005505422996702588,
                    0.000005480318130795819,
                    0.000005453608314060395,
                    0.000005425306568375871,
                    0.00000539542774904404,
                    0.000005363988528860969,
                    0.000005331007378566767,
                    0.000005296504543680575,
                    0.000005260502017741648,
                    0.0000052230235119907465,
                    0.00000518409442153927,
                    0.000005143741788086646,
                    0.000005101994259259248,
                    0.0000050588820446564595,
                    0.00000501443686870174,
                    0.000004968691920407997,
                    0.000004921681800177757,
                    0.000004873442463769115,
                    0.000004824011163568486,
                    0.000004773426387320354,
                    0.000004721727794472898,
                    0.000004668956150306305,
                    0.000004615153258017562,
                    0.000004560361888942084,
                    0.000004504625711097863,
                    0.00000444798921624283,
                    0.000004390497645639762,
                    0.000004332196914726353,
                    0.000004273133536890291,
                    0.00000421335454655048,
                    0.000004152907421746278,
                    0.0000040918400064364236,
                    0.000004030200432708102,
                    0.000003968037043095128,
                    0.000003905398313201444,
                    0.000003842332774823002,
                    0.000003778888939757001,
                    0.0000037151152244830654,
                    0.000003651059875895514,
                    0.0000035867708982600215,
                    0.0000035222959815618237,
                    0.0000034576824314054788,
                    0.0000033929771006189383,
                    0.0000033282263227070728,
                    0.000003263475847291374,
                    0.0000031987707776643135,
                    0.0000031341555105780303,
                    0.000003069673678378031,
                    0.000003005368093583347,
                    0.000002941280696005462,
                    0.0000028774525024886786,
                    0.0000028139235593453085,
                    0.0000027507328975493915,
                    0.0000026879184907434168
                  ],
                  "mode": "lines",
                  "xaxis": "x",
                  "marker": {
                    "color": "rgb(255, 127, 14)"
                  },
                  "x": [
                    406,
                    745.884,
                    1085.768,
                    1425.652,
                    1765.536,
                    2105.42,
                    2445.304,
                    2785.188,
                    3125.072,
                    3464.956,
                    3804.84,
                    4144.724,
                    4484.608,
                    4824.492,
                    5164.376,
                    5504.26,
                    5844.144,
                    6184.028,
                    6523.912,
                    6863.796,
                    7203.68,
                    7543.564,
                    7883.448,
                    8223.332,
                    8563.216,
                    8903.1,
                    9242.984,
                    9582.868,
                    9922.752,
                    10262.636,
                    10602.52,
                    10942.404,
                    11282.288,
                    11622.172,
                    11962.056,
                    12301.94,
                    12641.824,
                    12981.708,
                    13321.592,
                    13661.476,
                    14001.36,
                    14341.244,
                    14681.128,
                    15021.012,
                    15360.896,
                    15700.78,
                    16040.664,
                    16380.548,
                    16720.432,
                    17060.316,
                    17400.2,
                    17740.084,
                    18079.968,
                    18419.852,
                    18759.736,
                    19099.62,
                    19439.504,
                    19779.388,
                    20119.272,
                    20459.156,
                    20799.04,
                    21138.924,
                    21478.808,
                    21818.692,
                    22158.576,
                    22498.46,
                    22838.344,
                    23178.228,
                    23518.112,
                    23857.996,
                    24197.88,
                    24537.764,
                    24877.648,
                    25217.532,
                    25557.416,
                    25897.3,
                    26237.184,
                    26577.068,
                    26916.952,
                    27256.836,
                    27596.72,
                    27936.604,
                    28276.488,
                    28616.372,
                    28956.256,
                    29296.14,
                    29636.024,
                    29975.908,
                    30315.792,
                    30655.676,
                    30995.56,
                    31335.444,
                    31675.328,
                    32015.212,
                    32355.096,
                    32694.98,
                    33034.864,
                    33374.748,
                    33714.632,
                    34054.516,
                    34394.4,
                    34734.284,
                    35074.168,
                    35414.052,
                    35753.936,
                    36093.82,
                    36433.704,
                    36773.588,
                    37113.472,
                    37453.356,
                    37793.24,
                    38133.124,
                    38473.008,
                    38812.892,
                    39152.776,
                    39492.66,
                    39832.544,
                    40172.428,
                    40512.312,
                    40852.196,
                    41192.08,
                    41531.964,
                    41871.848,
                    42211.732,
                    42551.616,
                    42891.5,
                    43231.384,
                    43571.268,
                    43911.152,
                    44251.036,
                    44590.92,
                    44930.804,
                    45270.688,
                    45610.572,
                    45950.456,
                    46290.34,
                    46630.224,
                    46970.108,
                    47309.992,
                    47649.876,
                    47989.76,
                    48329.644,
                    48669.528,
                    49009.412,
                    49349.296,
                    49689.18,
                    50029.064,
                    50368.948,
                    50708.832,
                    51048.716,
                    51388.6,
                    51728.484,
                    52068.368,
                    52408.252,
                    52748.136,
                    53088.02,
                    53427.904,
                    53767.788,
                    54107.672,
                    54447.556,
                    54787.44,
                    55127.324,
                    55467.208,
                    55807.092,
                    56146.976,
                    56486.86,
                    56826.744,
                    57166.628,
                    57506.512,
                    57846.396,
                    58186.28,
                    58526.164,
                    58866.048,
                    59205.932,
                    59545.816,
                    59885.7,
                    60225.584,
                    60565.468,
                    60905.352,
                    61245.236,
                    61585.12,
                    61925.004,
                    62264.888,
                    62604.772,
                    62944.656,
                    63284.54,
                    63624.424,
                    63964.308,
                    64304.192,
                    64644.076,
                    64983.96,
                    65323.844,
                    65663.728,
                    66003.612,
                    66343.496,
                    66683.38,
                    67023.264,
                    67363.148,
                    67703.032,
                    68042.916,
                    68382.8,
                    68722.684,
                    69062.568,
                    69402.452,
                    69742.336,
                    70082.22,
                    70422.104,
                    70761.988,
                    71101.872,
                    71441.756,
                    71781.64,
                    72121.524,
                    72461.408,
                    72801.292,
                    73141.176,
                    73481.06,
                    73820.944,
                    74160.828,
                    74500.712,
                    74840.596,
                    75180.48,
                    75520.364,
                    75860.248,
                    76200.132,
                    76540.016,
                    76879.9,
                    77219.784,
                    77559.668,
                    77899.552,
                    78239.436,
                    78579.32,
                    78919.204,
                    79259.088,
                    79598.972,
                    79938.856,
                    80278.74,
                    80618.624,
                    80958.508,
                    81298.392,
                    81638.276,
                    81978.16,
                    82318.044,
                    82657.928,
                    82997.812,
                    83337.696,
                    83677.58,
                    84017.464,
                    84357.348,
                    84697.232,
                    85037.116,
                    85377,
                    85716.884,
                    86056.768,
                    86396.652,
                    86736.536,
                    87076.42,
                    87416.304,
                    87756.188,
                    88096.072,
                    88435.956,
                    88775.84,
                    89115.724,
                    89455.608,
                    89795.492,
                    90135.376,
                    90475.26,
                    90815.144,
                    91155.028,
                    91494.912,
                    91834.796,
                    92174.68,
                    92514.564,
                    92854.448,
                    93194.332,
                    93534.216,
                    93874.1,
                    94213.984,
                    94553.868,
                    94893.752,
                    95233.636,
                    95573.52,
                    95913.404,
                    96253.288,
                    96593.172,
                    96933.056,
                    97272.94,
                    97612.824,
                    97952.708,
                    98292.592,
                    98632.476,
                    98972.36,
                    99312.244,
                    99652.128,
                    99992.012,
                    100331.896,
                    100671.78,
                    101011.664,
                    101351.548,
                    101691.432,
                    102031.316,
                    102371.2,
                    102711.084,
                    103050.968,
                    103390.852,
                    103730.736,
                    104070.62,
                    104410.504,
                    104750.388,
                    105090.272,
                    105430.156,
                    105770.04,
                    106109.924,
                    106449.808,
                    106789.692,
                    107129.576,
                    107469.46,
                    107809.344,
                    108149.228,
                    108489.112,
                    108828.996,
                    109168.88,
                    109508.764,
                    109848.648,
                    110188.532,
                    110528.416,
                    110868.3,
                    111208.184,
                    111548.068,
                    111887.952,
                    112227.836,
                    112567.72,
                    112907.604,
                    113247.488,
                    113587.372,
                    113927.256,
                    114267.14,
                    114607.024,
                    114946.908,
                    115286.792,
                    115626.676,
                    115966.56,
                    116306.444,
                    116646.328,
                    116986.212,
                    117326.096,
                    117665.98,
                    118005.864,
                    118345.748,
                    118685.632,
                    119025.516,
                    119365.4,
                    119705.284,
                    120045.168,
                    120385.052,
                    120724.936,
                    121064.82,
                    121404.704,
                    121744.588,
                    122084.472,
                    122424.356,
                    122764.24,
                    123104.124,
                    123444.008,
                    123783.892,
                    124123.776,
                    124463.66,
                    124803.544,
                    125143.428,
                    125483.312,
                    125823.196,
                    126163.08,
                    126502.964,
                    126842.848,
                    127182.732,
                    127522.616,
                    127862.5,
                    128202.384,
                    128542.268,
                    128882.152,
                    129222.036,
                    129561.92,
                    129901.804,
                    130241.688,
                    130581.572,
                    130921.456,
                    131261.34,
                    131601.224,
                    131941.108,
                    132280.992,
                    132620.876,
                    132960.76,
                    133300.644,
                    133640.528,
                    133980.412,
                    134320.296,
                    134660.18,
                    135000.064,
                    135339.948,
                    135679.832,
                    136019.716,
                    136359.6,
                    136699.484,
                    137039.368,
                    137379.252,
                    137719.136,
                    138059.02,
                    138398.904,
                    138738.788,
                    139078.672,
                    139418.556,
                    139758.44,
                    140098.324,
                    140438.208,
                    140778.092,
                    141117.976,
                    141457.86,
                    141797.744,
                    142137.628,
                    142477.512,
                    142817.396,
                    143157.28,
                    143497.164,
                    143837.048,
                    144176.932,
                    144516.816,
                    144856.7,
                    145196.584,
                    145536.468,
                    145876.352,
                    146216.236,
                    146556.12,
                    146896.004,
                    147235.888,
                    147575.772,
                    147915.656,
                    148255.54,
                    148595.424,
                    148935.308,
                    149275.192,
                    149615.076,
                    149954.96,
                    150294.844,
                    150634.728,
                    150974.612,
                    151314.496,
                    151654.38,
                    151994.264,
                    152334.148,
                    152674.032,
                    153013.916,
                    153353.8,
                    153693.684,
                    154033.568,
                    154373.452,
                    154713.336,
                    155053.22,
                    155393.104,
                    155732.988,
                    156072.872,
                    156412.756,
                    156752.64,
                    157092.524,
                    157432.408,
                    157772.292,
                    158112.176,
                    158452.06,
                    158791.944,
                    159131.828,
                    159471.712,
                    159811.596,
                    160151.48,
                    160491.364,
                    160831.248,
                    161171.132,
                    161511.016,
                    161850.9,
                    162190.784,
                    162530.668,
                    162870.552,
                    163210.436,
                    163550.32,
                    163890.204,
                    164230.088,
                    164569.972,
                    164909.856,
                    165249.74,
                    165589.624,
                    165929.508,
                    166269.392,
                    166609.276,
                    166949.16,
                    167289.044,
                    167628.928,
                    167968.812,
                    168308.696,
                    168648.58,
                    168988.464,
                    169328.348,
                    169668.232,
                    170008.116
                  ],
                  "type": "scatter"
                }
              ],
              "config": {
                "plotlyServerURL": "https://plot.ly",
                "linkText": "Export to plot.ly",
                "showLink": false
              },
              "layout": {
                "template": {
                  "layout": {
                    "shapedefaults": {
                      "line": {
                        "color": "#2a3f5f"
                      }
                    },
                    "polar": {
                      "radialaxis": {
                        "ticks": "",
                        "gridcolor": "white",
                        "linecolor": "white"
                      },
                      "bgcolor": "#E5ECF6",
                      "angularaxis": {
                        "ticks": "",
                        "gridcolor": "white",
                        "linecolor": "white"
                      }
                    },
                    "colorway": [
                      "#636efa",
                      "#EF553B",
                      "#00cc96",
                      "#ab63fa",
                      "#FFA15A",
                      "#19d3f3",
                      "#FF6692",
                      "#B6E880",
                      "#FF97FF",
                      "#FECB52"
                    ],
                    "xaxis": {
                      "automargin": true,
                      "title": {
                        "standoff": 15
                      },
                      "zerolinewidth": 2,
                      "ticks": "",
                      "zerolinecolor": "white",
                      "gridcolor": "white",
                      "linecolor": "white"
                    },
                    "colorscale": {
                      "diverging": [
                        [
                          0,
                          "#8e0152"
                        ],
                        [
                          0.1,
                          "#c51b7d"
                        ],
                        [
                          0.2,
                          "#de77ae"
                        ],
                        [
                          0.3,
                          "#f1b6da"
                        ],
                        [
                          0.4,
                          "#fde0ef"
                        ],
                        [
                          0.5,
                          "#f7f7f7"
                        ],
                        [
                          0.6,
                          "#e6f5d0"
                        ],
                        [
                          0.7,
                          "#b8e186"
                        ],
                        [
                          0.8,
                          "#7fbc41"
                        ],
                        [
                          0.9,
                          "#4d9221"
                        ],
                        [
                          1,
                          "#276419"
                        ]
                      ],
                      "sequential": [
                        [
                          0,
                          "#0d0887"
                        ],
                        [
                          0.1111111111111111,
                          "#46039f"
                        ],
                        [
                          0.2222222222222222,
                          "#7201a8"
                        ],
                        [
                          0.3333333333333333,
                          "#9c179e"
                        ],
                        [
                          0.4444444444444444,
                          "#bd3786"
                        ],
                        [
                          0.5555555555555556,
                          "#d8576b"
                        ],
                        [
                          0.6666666666666666,
                          "#ed7953"
                        ],
                        [
                          0.7777777777777778,
                          "#fb9f3a"
                        ],
                        [
                          0.8888888888888888,
                          "#fdca26"
                        ],
                        [
                          1,
                          "#f0f921"
                        ]
                      ],
                      "sequentialminus": [
                        [
                          0,
                          "#0d0887"
                        ],
                        [
                          0.1111111111111111,
                          "#46039f"
                        ],
                        [
                          0.2222222222222222,
                          "#7201a8"
                        ],
                        [
                          0.3333333333333333,
                          "#9c179e"
                        ],
                        [
                          0.4444444444444444,
                          "#bd3786"
                        ],
                        [
                          0.5555555555555556,
                          "#d8576b"
                        ],
                        [
                          0.6666666666666666,
                          "#ed7953"
                        ],
                        [
                          0.7777777777777778,
                          "#fb9f3a"
                        ],
                        [
                          0.8888888888888888,
                          "#fdca26"
                        ],
                        [
                          1,
                          "#f0f921"
                        ]
                      ]
                    },
                    "paper_bgcolor": "white",
                    "plot_bgcolor": "#E5ECF6",
                    "title": {
                      "x": 0.05
                    },
                    "scene": {
                      "zaxis": {
                        "backgroundcolor": "#E5ECF6",
                        "ticks": "",
                        "gridwidth": 2,
                        "showbackground": true,
                        "zerolinecolor": "white",
                        "gridcolor": "white",
                        "linecolor": "white"
                      },
                      "xaxis": {
                        "backgroundcolor": "#E5ECF6",
                        "ticks": "",
                        "gridwidth": 2,
                        "showbackground": true,
                        "zerolinecolor": "white",
                        "gridcolor": "white",
                        "linecolor": "white"
                      },
                      "yaxis": {
                        "backgroundcolor": "#E5ECF6",
                        "ticks": "",
                        "gridwidth": 2,
                        "showbackground": true,
                        "zerolinecolor": "white",
                        "gridcolor": "white",
                        "linecolor": "white"
                      }
                    },
                    "yaxis": {
                      "automargin": true,
                      "title": {
                        "standoff": 15
                      },
                      "zerolinewidth": 2,
                      "ticks": "",
                      "zerolinecolor": "white",
                      "gridcolor": "white",
                      "linecolor": "white"
                    },
                    "annotationdefaults": {
                      "arrowwidth": 1,
                      "arrowhead": 0,
                      "arrowcolor": "#2a3f5f"
                    },
                    "hoverlabel": {
                      "align": "left"
                    },
                    "ternary": {
                      "bgcolor": "#E5ECF6",
                      "baxis": {
                        "ticks": "",
                        "gridcolor": "white",
                        "linecolor": "white"
                      },
                      "caxis": {
                        "ticks": "",
                        "gridcolor": "white",
                        "linecolor": "white"
                      },
                      "aaxis": {
                        "ticks": "",
                        "gridcolor": "white",
                        "linecolor": "white"
                      }
                    },
                    "mapbox": {
                      "style": "light"
                    },
                    "hovermode": "closest",
                    "font": {
                      "color": "#2a3f5f"
                    },
                    "geo": {
                      "showland": true,
                      "landcolor": "#E5ECF6",
                      "showlakes": true,
                      "bgcolor": "white",
                      "subunitcolor": "white",
                      "lakecolor": "white"
                    },
                    "coloraxis": {
                      "colorbar": {
                        "outlinewidth": 0,
                        "ticks": ""
                      }
                    }
                  },
                  "data": {
                    "mesh3d": [
                      {
                        "colorbar": {
                          "outlinewidth": 0,
                          "ticks": ""
                        },
                        "type": "mesh3d"
                      }
                    ],
                    "scattercarpet": [
                      {
                        "marker": {
                          "colorbar": {
                            "outlinewidth": 0,
                            "ticks": ""
                          }
                        },
                        "type": "scattercarpet"
                      }
                    ],
                    "pie": [
                      {
                        "automargin": true,
                        "type": "pie"
                      }
                    ],
                    "surface": [
                      {
                        "colorbar": {
                          "outlinewidth": 0,
                          "ticks": ""
                        },
                        "type": "surface",
                        "colorscale": [
                          [
                            0,
                            "#0d0887"
                          ],
                          [
                            0.1111111111111111,
                            "#46039f"
                          ],
                          [
                            0.2222222222222222,
                            "#7201a8"
                          ],
                          [
                            0.3333333333333333,
                            "#9c179e"
                          ],
                          [
                            0.4444444444444444,
                            "#bd3786"
                          ],
                          [
                            0.5555555555555556,
                            "#d8576b"
                          ],
                          [
                            0.6666666666666666,
                            "#ed7953"
                          ],
                          [
                            0.7777777777777778,
                            "#fb9f3a"
                          ],
                          [
                            0.8888888888888888,
                            "#fdca26"
                          ],
                          [
                            1,
                            "#f0f921"
                          ]
                        ]
                      }
                    ],
                    "table": [
                      {
                        "header": {
                          "line": {
                            "color": "white"
                          },
                          "fill": {
                            "color": "#C8D4E3"
                          }
                        },
                        "cells": {
                          "line": {
                            "color": "white"
                          },
                          "fill": {
                            "color": "#EBF0F8"
                          }
                        },
                        "type": "table"
                      }
                    ],
                    "scatterpolargl": [
                      {
                        "marker": {
                          "colorbar": {
                            "outlinewidth": 0,
                            "ticks": ""
                          }
                        },
                        "type": "scatterpolargl"
                      }
                    ],
                    "contour": [
                      {
                        "colorbar": {
                          "outlinewidth": 0,
                          "ticks": ""
                        },
                        "type": "contour",
                        "colorscale": [
                          [
                            0,
                            "#0d0887"
                          ],
                          [
                            0.1111111111111111,
                            "#46039f"
                          ],
                          [
                            0.2222222222222222,
                            "#7201a8"
                          ],
                          [
                            0.3333333333333333,
                            "#9c179e"
                          ],
                          [
                            0.4444444444444444,
                            "#bd3786"
                          ],
                          [
                            0.5555555555555556,
                            "#d8576b"
                          ],
                          [
                            0.6666666666666666,
                            "#ed7953"
                          ],
                          [
                            0.7777777777777778,
                            "#fb9f3a"
                          ],
                          [
                            0.8888888888888888,
                            "#fdca26"
                          ],
                          [
                            1,
                            "#f0f921"
                          ]
                        ]
                      }
                    ],
                    "carpet": [
                      {
                        "type": "carpet",
                        "baxis": {
                          "minorgridcolor": "white",
                          "gridcolor": "white",
                          "linecolor": "white",
                          "endlinecolor": "#2a3f5f",
                          "startlinecolor": "#2a3f5f"
                        },
                        "aaxis": {
                          "minorgridcolor": "white",
                          "gridcolor": "white",
                          "linecolor": "white",
                          "endlinecolor": "#2a3f5f",
                          "startlinecolor": "#2a3f5f"
                        }
                      }
                    ],
                    "contourcarpet": [
                      {
                        "colorbar": {
                          "outlinewidth": 0,
                          "ticks": ""
                        },
                        "type": "contourcarpet"
                      }
                    ],
                    "heatmap": [
                      {
                        "colorbar": {
                          "outlinewidth": 0,
                          "ticks": ""
                        },
                        "type": "heatmap",
                        "colorscale": [
                          [
                            0,
                            "#0d0887"
                          ],
                          [
                            0.1111111111111111,
                            "#46039f"
                          ],
                          [
                            0.2222222222222222,
                            "#7201a8"
                          ],
                          [
                            0.3333333333333333,
                            "#9c179e"
                          ],
                          [
                            0.4444444444444444,
                            "#bd3786"
                          ],
                          [
                            0.5555555555555556,
                            "#d8576b"
                          ],
                          [
                            0.6666666666666666,
                            "#ed7953"
                          ],
                          [
                            0.7777777777777778,
                            "#fb9f3a"
                          ],
                          [
                            0.8888888888888888,
                            "#fdca26"
                          ],
                          [
                            1,
                            "#f0f921"
                          ]
                        ]
                      }
                    ],
                    "scattermapbox": [
                      {
                        "marker": {
                          "colorbar": {
                            "outlinewidth": 0,
                            "ticks": ""
                          }
                        },
                        "type": "scattermapbox"
                      }
                    ],
                    "scatter3d": [
                      {
                        "marker": {
                          "colorbar": {
                            "outlinewidth": 0,
                            "ticks": ""
                          }
                        },
                        "line": {
                          "colorbar": {
                            "outlinewidth": 0,
                            "ticks": ""
                          }
                        },
                        "type": "scatter3d"
                      }
                    ],
                    "scattergl": [
                      {
                        "marker": {
                          "colorbar": {
                            "outlinewidth": 0,
                            "ticks": ""
                          }
                        },
                        "type": "scattergl"
                      }
                    ],
                    "scatterternary": [
                      {
                        "marker": {
                          "colorbar": {
                            "outlinewidth": 0,
                            "ticks": ""
                          }
                        },
                        "type": "scatterternary"
                      }
                    ],
                    "histogram": [
                      {
                        "marker": {
                          "colorbar": {
                            "outlinewidth": 0,
                            "ticks": ""
                          }
                        },
                        "type": "histogram"
                      }
                    ],
                    "heatmapgl": [
                      {
                        "colorbar": {
                          "outlinewidth": 0,
                          "ticks": ""
                        },
                        "type": "heatmapgl",
                        "colorscale": [
                          [
                            0,
                            "#0d0887"
                          ],
                          [
                            0.1111111111111111,
                            "#46039f"
                          ],
                          [
                            0.2222222222222222,
                            "#7201a8"
                          ],
                          [
                            0.3333333333333333,
                            "#9c179e"
                          ],
                          [
                            0.4444444444444444,
                            "#bd3786"
                          ],
                          [
                            0.5555555555555556,
                            "#d8576b"
                          ],
                          [
                            0.6666666666666666,
                            "#ed7953"
                          ],
                          [
                            0.7777777777777778,
                            "#fb9f3a"
                          ],
                          [
                            0.8888888888888888,
                            "#fdca26"
                          ],
                          [
                            1,
                            "#f0f921"
                          ]
                        ]
                      }
                    ],
                    "scatterpolar": [
                      {
                        "marker": {
                          "colorbar": {
                            "outlinewidth": 0,
                            "ticks": ""
                          }
                        },
                        "type": "scatterpolar"
                      }
                    ],
                    "histogram2d": [
                      {
                        "colorbar": {
                          "outlinewidth": 0,
                          "ticks": ""
                        },
                        "type": "histogram2d",
                        "colorscale": [
                          [
                            0,
                            "#0d0887"
                          ],
                          [
                            0.1111111111111111,
                            "#46039f"
                          ],
                          [
                            0.2222222222222222,
                            "#7201a8"
                          ],
                          [
                            0.3333333333333333,
                            "#9c179e"
                          ],
                          [
                            0.4444444444444444,
                            "#bd3786"
                          ],
                          [
                            0.5555555555555556,
                            "#d8576b"
                          ],
                          [
                            0.6666666666666666,
                            "#ed7953"
                          ],
                          [
                            0.7777777777777778,
                            "#fb9f3a"
                          ],
                          [
                            0.8888888888888888,
                            "#fdca26"
                          ],
                          [
                            1,
                            "#f0f921"
                          ]
                        ]
                      }
                    ],
                    "scattergeo": [
                      {
                        "marker": {
                          "colorbar": {
                            "outlinewidth": 0,
                            "ticks": ""
                          }
                        },
                        "type": "scattergeo"
                      }
                    ],
                    "bar": [
                      {
                        "marker": {
                          "line": {
                            "color": "#E5ECF6",
                            "width": 0.5
                          }
                        },
                        "type": "bar",
                        "error_x": {
                          "color": "#2a3f5f"
                        },
                        "error_y": {
                          "color": "#2a3f5f"
                        }
                      }
                    ],
                    "choropleth": [
                      {
                        "colorbar": {
                          "outlinewidth": 0,
                          "ticks": ""
                        },
                        "type": "choropleth"
                      }
                    ],
                    "parcoords": [
                      {
                        "line": {
                          "colorbar": {
                            "outlinewidth": 0,
                            "ticks": ""
                          }
                        },
                        "type": "parcoords"
                      }
                    ],
                    "barpolar": [
                      {
                        "marker": {
                          "line": {
                            "color": "#E5ECF6",
                            "width": 0.5
                          }
                        },
                        "type": "barpolar"
                      }
                    ],
                    "histogram2dcontour": [
                      {
                        "colorbar": {
                          "outlinewidth": 0,
                          "ticks": ""
                        },
                        "type": "histogram2dcontour",
                        "colorscale": [
                          [
                            0,
                            "#0d0887"
                          ],
                          [
                            0.1111111111111111,
                            "#46039f"
                          ],
                          [
                            0.2222222222222222,
                            "#7201a8"
                          ],
                          [
                            0.3333333333333333,
                            "#9c179e"
                          ],
                          [
                            0.4444444444444444,
                            "#bd3786"
                          ],
                          [
                            0.5555555555555556,
                            "#d8576b"
                          ],
                          [
                            0.6666666666666666,
                            "#ed7953"
                          ],
                          [
                            0.7777777777777778,
                            "#fb9f3a"
                          ],
                          [
                            0.8888888888888888,
                            "#fdca26"
                          ],
                          [
                            1,
                            "#f0f921"
                          ]
                        ]
                      }
                    ],
                    "scatter": [
                      {
                        "marker": {
                          "colorbar": {
                            "outlinewidth": 0,
                            "ticks": ""
                          }
                        },
                        "type": "scatter"
                      }
                    ]
                  }
                },
                "title": {
                  "text": "Credit Card Transactions Time Density Plot"
                },
                "yaxis": {
                  "position": 0,
                  "domain": [
                    0,
                    1
                  ],
                  "anchor": "free"
                },
                "barmode": "overlay",
                "xaxis": {
                  "zeroline": false,
                  "domain": [
                    0,
                    1
                  ],
                  "anchor": "y2",
                  "title": {
                    "text": "Time [s]"
                  }
                },
                "hovermode": "closest",
                "legend": {
                  "traceorder": "reversed"
                }
              }
            }
          },
          "metadata": {
            "tags": []
          }
        }
      ]
    },
    {
      "cell_type": "code",
      "metadata": {
        "id": "lESBQZVxcwMC"
      },
      "source": [
        "preds = clf.predict(valid_df[predictors])"
      ],
      "execution_count": 75,
      "outputs": []
    },
    {
      "cell_type": "code",
      "metadata": {
        "colab": {
          "base_uri": "https://localhost:8080/",
          "height": 325
        },
        "id": "Wh99PHZAcwvU",
        "outputId": "9893a2e0-8767-4cdb-b00a-8743d4d7a380"
      },
      "source": [
        "tmp = pd.DataFrame({'Feature': predictors, 'Feature importance': clf.feature_importances_})\r\n",
        "tmp = tmp.sort_values(by='Feature importance',ascending=False)\r\n",
        "plt.figure(figsize = (7,4))\r\n",
        "plt.title('Features importance',fontsize=14)\r\n",
        "s = sns.barplot(x='Feature',y='Feature importance',data=tmp)\r\n",
        "s.set_xticklabels(s.get_xticklabels(),rotation=90)\r\n",
        "plt.show()"
      ],
      "execution_count": 76,
      "outputs": [
        {
          "output_type": "display_data",
          "data": {
            "image/png": "[encoded data removed]",
            "text/plain": [
              "<Figure size 504x288 with 1 Axes>"
            ]
          },
          "metadata": {
            "tags": [],
            "needs_background": "light"
          }
        }
      ]
    },
    {
      "cell_type": "code",
      "metadata": {
        "colab": {
          "base_uri": "https://localhost:8080/",
          "height": 351
        },
        "id": "k1rRQm32c22z",
        "outputId": "27545c81-e5e5-4560-9266-0d89889394e4"
      },
      "source": [
        "cm = pd.crosstab(valid_df[target].values, preds, rownames=['Actual'], colnames=['Predicted'])\r\n",
        "fig, (ax1) = plt.subplots(ncols=1, figsize=(5,5))\r\n",
        "sns.heatmap(cm, \r\n",
        "            xticklabels=['Not Fraud', 'Fraud'],\r\n",
        "            yticklabels=['Not Fraud', 'Fraud'],\r\n",
        "            annot=True,ax=ax1,\r\n",
        "            linewidths=.2,linecolor=\"Darkblue\", cmap=\"Blues\")\r\n",
        "plt.title('Confusion Matrix', fontsize=14)\r\n",
        "plt.show()"
      ],
      "execution_count": 77,
      "outputs": [
        {
          "output_type": "display_data",
          "data": {
            "image/png": "[encoded data removed]",
            "text/plain": [
              "<Figure size 360x360 with 2 Axes>"
            ]
          },
          "metadata": {
            "tags": [],
            "needs_background": "light"
          }
        }
      ]
    },
    {
      "cell_type": "code",
      "metadata": {
        "colab": {
          "base_uri": "https://localhost:8080/"
        },
        "id": "aXp85rkPc594",
        "outputId": "7672eba2-77dc-459d-bada-66c632197cb3"
      },
      "source": [
        "roc_auc_score(valid_df[target].values, preds)"
      ],
      "execution_count": 78,
      "outputs": [
        {
          "output_type": "execute_result",
          "data": {
            "text/plain": [
              "0.8528641975628091"
            ]
          },
          "metadata": {
            "tags": []
          },
          "execution_count": 78
        }
      ]
    },
    {
      "cell_type": "code",
      "metadata": {
        "colab": {
          "base_uri": "https://localhost:8080/",
          "height": 677
        },
        "id": "DRdLBj_oc88j",
        "outputId": "5841666a-c6d0-4a47-e643-ed964d2b5f96"
      },
      "source": [
        "clf = AdaBoostClassifier(random_state=RANDOM_STATE,\r\n",
        "                         algorithm='SAMME.R',\r\n",
        "                         learning_rate=0.8,\r\n",
        "                             n_estimators=NUM_ESTIMATORS)\r\n",
        "clf.fit(train_df[predictors], train_df[target].values)\r\n",
        "preds = clf.predict(valid_df[predictors])\r\n",
        "tmp = pd.DataFrame({'Feature': predictors, 'Feature importance': clf.feature_importances_})\r\n",
        "tmp = tmp.sort_values(by='Feature importance',ascending=False)\r\n",
        "plt.figure(figsize = (7,4))\r\n",
        "plt.title('Features importance',fontsize=14)\r\n",
        "s = sns.barplot(x='Feature',y='Feature importance',data=tmp)\r\n",
        "s.set_xticklabels(s.get_xticklabels(),rotation=90)\r\n",
        "plt.show()  \r\n",
        "cm = pd.crosstab(valid_df[target].values, preds, rownames=['Actual'], colnames=['Predicted'])\r\n",
        "fig, (ax1) = plt.subplots(ncols=1, figsize=(5,5))\r\n",
        "sns.heatmap(cm, \r\n",
        "            xticklabels=['Not Fraud', 'Fraud'],\r\n",
        "            yticklabels=['Not Fraud', 'Fraud'],\r\n",
        "            annot=True,ax=ax1,\r\n",
        "            linewidths=.2,linecolor=\"Darkblue\", cmap=\"Blues\")\r\n",
        "plt.title('Confusion Matrix', fontsize=14)\r\n",
        "plt.show()\r\n",
        "roc_auc_score(valid_df[target].values, preds)"
      ],
      "execution_count": 80,
      "outputs": [
        {
          "output_type": "display_data",
          "data": {
            "image/png": "[encoded data removed]",
            "text/plain": [
              "<Figure size 504x288 with 1 Axes>"
            ]
          },
          "metadata": {
            "tags": [],
            "needs_background": "light"
          }
        },
        {
          "output_type": "display_data",
          "data": {
            "image/png": "[encoded data removed]",
            "text/plain": [
              "<Figure size 360x360 with 2 Axes>"
            ]
          },
          "metadata": {
            "tags": [],
            "needs_background": "light"
          }
        },
        {
          "output_type": "execute_result",
          "data": {
            "text/plain": [
              "0.8332343604519027"
            ]
          },
          "metadata": {
            "tags": []
          },
          "execution_count": 80
        }
      ]
    }
  ]
}