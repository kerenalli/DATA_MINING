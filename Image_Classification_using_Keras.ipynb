{
  "nbformat": 4,
  "nbformat_minor": 0,
  "metadata": {
    "colab": {
      "name": "Image Classification using Keras.ipynb",
      "provenance": [],
      "mount_file_id": "1072joEesMcfOlldsn3VUzuH487Nqizs4",
      "authorship_tag": "ABX9TyNY5oxhlaTc7trKKzP9gNJ8",
      "include_colab_link": true
    },
    "kernelspec": {
      "name": "python3",
      "display_name": "Python 3"
    },
    "language_info": {
      "name": "python"
    },
    "accelerator": "GPU"
  },
  "cells": [
    {
      "cell_type": "markdown",
      "metadata": {
        "id": "view-in-github",
        "colab_type": "text"
      },
      "source": [
        "<a href=\"https://colab.research.google.com/github/kerenalli/DATA_MINING/blob/main/Image_Classification_using_Keras.ipynb\" target=\"_parent\"><img src=\"https://colab.research.google.com/assets/colab-badge.svg\" alt=\"Open In Colab\"/></a>"
      ]
    },
    {
      "cell_type": "code",
      "source": [
        "from google.colab import drive\n",
        "drive.mount('/content/drive')"
      ],
      "metadata": {
        "colab": {
          "base_uri": "https://localhost:8080/"
        },
        "id": "BWv9TVjvR6rr",
        "outputId": "239caa4d-a2e6-4cb5-a136-b36293c54df0"
      },
      "execution_count": 1,
      "outputs": [
        {
          "output_type": "stream",
          "name": "stdout",
          "text": [
            "Mounted at /content/drive\n"
          ]
        }
      ]
    },
    {
      "cell_type": "markdown",
      "source": [
        "https://www.geeksforgeeks.org/python-image-classification-using-keras/"
      ],
      "metadata": {
        "id": "Cxk_5Z5dSJGZ"
      }
    },
    {
      "cell_type": "code",
      "execution_count": 1,
      "metadata": {
        "id": "-qFz5ZfoR3Wl"
      },
      "outputs": [],
      "source": [
        "# Importing all necessary libraries\n",
        "from keras.preprocessing.image import ImageDataGenerator\n",
        "from keras.models import Sequential\n",
        "from keras.layers import Conv2D, MaxPooling2D\n",
        "from keras.layers import Activation, Dropout, Flatten, Dense\n",
        "from keras import backend as K\n",
        " \n",
        "img_width, img_height = 224, 224"
      ]
    },
    {
      "cell_type": "code",
      "source": [
        "train_data_dir = '/content/drive/MyDrive/Colab Notebooks/real_and_fake_face/Train'\n",
        "validation_data_dir = '/content/drive/MyDrive/Colab Notebooks/real_and_fake_face/Test'\n",
        "nb_train_samples =1000\n",
        "nb_validation_samples = 100\n",
        "epochs = 10\n",
        "batch_size = 16"
      ],
      "metadata": {
        "id": "dJGoqLMvTndL"
      },
      "execution_count": 2,
      "outputs": []
    },
    {
      "cell_type": "code",
      "source": [
        "if K.image_data_format() == 'channels_first':\n",
        "\tinput_shape = (3, img_width, img_height)\n",
        "else:\n",
        "\tinput_shape = (img_width, img_height, 3)\n"
      ],
      "metadata": {
        "id": "EJsFWOkeXAtr"
      },
      "execution_count": 3,
      "outputs": []
    },
    {
      "cell_type": "code",
      "source": [
        "model = Sequential()\n",
        "model.add(Conv2D(32, (2, 2), input_shape=input_shape))\n",
        "model.add(Activation('relu'))\n",
        "model.add(MaxPooling2D(pool_size=(2, 2)))\n",
        "\n",
        "model.add(Conv2D(32, (2, 2)))\n",
        "model.add(Activation('relu'))\n",
        "model.add(MaxPooling2D(pool_size=(2, 2)))\n",
        "\n",
        "model.add(Conv2D(64, (2, 2)))\n",
        "model.add(Activation('relu'))\n",
        "model.add(MaxPooling2D(pool_size=(2, 2)))\n",
        "\n",
        "model.add(Flatten())\n",
        "model.add(Dense(64))\n",
        "model.add(Activation('relu'))\n",
        "model.add(Dropout(0.5))\n",
        "model.add(Dense(1))\n",
        "model.add(Activation('sigmoid'))\n"
      ],
      "metadata": {
        "id": "yne7DrJsXJ9j"
      },
      "execution_count": 4,
      "outputs": []
    },
    {
      "cell_type": "code",
      "source": [
        "model.compile(loss='binary_crossentropy',\n",
        "\t\t\toptimizer='rmsprop',\n",
        "\t\t\tmetrics=['accuracy'])"
      ],
      "metadata": {
        "id": "yjrqdURWXTvi"
      },
      "execution_count": 5,
      "outputs": []
    },
    {
      "cell_type": "code",
      "source": [
        "train_datagen = ImageDataGenerator(\n",
        "\trescale=1. / 255,\n",
        "\tshear_range=0.2,\n",
        "\tzoom_range=0.2,\n",
        "\thorizontal_flip=True)\n",
        "\n",
        "test_datagen = ImageDataGenerator(rescale=1. / 255)\n",
        "\n",
        "train_generator = train_datagen.flow_from_directory(\n",
        "\ttrain_data_dir,\n",
        "\ttarget_size=(img_width, img_height),\n",
        "\tbatch_size=batch_size,\n",
        "\tclass_mode='binary')\n",
        "\n",
        "validation_generator = test_datagen.flow_from_directory(\n",
        "\tvalidation_data_dir,\n",
        "\ttarget_size=(img_width, img_height),\n",
        "\tbatch_size=batch_size,\n",
        "\tclass_mode='binary')\n",
        "\n",
        "model.fit_generator(\n",
        "\ttrain_generator,\n",
        "\tsteps_per_epoch=nb_train_samples // batch_size,\n",
        "\tepochs=epochs,\n",
        "\tvalidation_data=validation_generator,\n",
        "\tvalidation_steps=nb_validation_samples // batch_size)\n"
      ],
      "metadata": {
        "colab": {
          "base_uri": "https://localhost:8080/"
        },
        "id": "QYK873UBXVva",
        "outputId": "ad565e3d-9538-4e05-ba81-d676b73e0f3b"
      },
      "execution_count": 6,
      "outputs": [
        {
          "output_type": "stream",
          "name": "stdout",
          "text": [
            "Found 1946 images belonging to 2 classes.\n",
            "Found 95 images belonging to 2 classes.\n"
          ]
        },
        {
          "output_type": "stream",
          "name": "stderr",
          "text": [
            "/usr/local/lib/python3.7/dist-packages/ipykernel_launcher.py:26: UserWarning: `Model.fit_generator` is deprecated and will be removed in a future version. Please use `Model.fit`, which supports generators.\n"
          ]
        },
        {
          "output_type": "stream",
          "name": "stdout",
          "text": [
            "Epoch 1/10\n",
            "62/62 [==============================] - 132s 2s/step - loss: 0.7403 - accuracy: 0.5212 - val_loss: 0.6680 - val_accuracy: 0.6316\n",
            "Epoch 2/10\n",
            "62/62 [==============================] - 61s 979ms/step - loss: 0.6955 - accuracy: 0.5274 - val_loss: 0.6586 - val_accuracy: 0.6316\n",
            "Epoch 3/10\n",
            "62/62 [==============================] - 45s 727ms/step - loss: 0.6975 - accuracy: 0.5507 - val_loss: 0.7006 - val_accuracy: 0.5263\n",
            "Epoch 4/10\n",
            "62/62 [==============================] - 41s 659ms/step - loss: 0.6905 - accuracy: 0.5538 - val_loss: 0.6793 - val_accuracy: 0.6316\n",
            "Epoch 5/10\n",
            "62/62 [==============================] - 32s 513ms/step - loss: 0.6908 - accuracy: 0.5649 - val_loss: 0.6763 - val_accuracy: 0.6105\n",
            "Epoch 6/10\n",
            "62/62 [==============================] - 30s 479ms/step - loss: 0.6885 - accuracy: 0.5444 - val_loss: 0.6963 - val_accuracy: 0.5789\n",
            "Epoch 7/10\n",
            "62/62 [==============================] - 29s 466ms/step - loss: 0.6812 - accuracy: 0.5619 - val_loss: 0.7036 - val_accuracy: 0.4947\n",
            "Epoch 8/10\n",
            "62/62 [==============================] - 28s 444ms/step - loss: 0.6666 - accuracy: 0.6079 - val_loss: 0.6565 - val_accuracy: 0.6316\n",
            "Epoch 9/10\n",
            "62/62 [==============================] - 28s 444ms/step - loss: 0.6961 - accuracy: 0.5953 - val_loss: 0.6929 - val_accuracy: 0.5263\n",
            "Epoch 10/10\n",
            "62/62 [==============================] - 27s 443ms/step - loss: 0.6758 - accuracy: 0.5817 - val_loss: 0.6627 - val_accuracy: 0.5895\n"
          ]
        },
        {
          "output_type": "execute_result",
          "data": {
            "text/plain": [
              "<keras.callbacks.History at 0x7f4300039c90>"
            ]
          },
          "metadata": {},
          "execution_count": 6
        }
      ]
    }
  ]
}