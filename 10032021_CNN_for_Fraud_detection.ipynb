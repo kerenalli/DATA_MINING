{
  "nbformat": 4,
  "nbformat_minor": 0,
  "metadata": {
    "colab": {
      "name": "10032021_CNN_for_Fraud_detection.ipynb",
      "provenance": [],
      "mount_file_id": "1FG7BnfwalQm9iSArXUn09Z7IF76eUDPh",
      "authorship_tag": "ABX9TyOG4mejQXsGehj+wMK9zM2B",
      "include_colab_link": true
    },
    "kernelspec": {
      "name": "python3",
      "display_name": "Python 3"
    }
  },
  "cells": [
    {
      "cell_type": "markdown",
      "metadata": {
        "id": "view-in-github",
        "colab_type": "text"
      },
      "source": [
        "<a href=\"https://colab.research.google.com/github/kerenalli/DATA_MINING/blob/main/10032021_CNN_for_Fraud_detection.ipynb\" target=\"_parent\"><img src=\"https://colab.research.google.com/assets/colab-badge.svg\" alt=\"Open In Colab\"/></a>"
      ]
    },
    {
      "cell_type": "code",
      "metadata": {
        "colab": {
          "base_uri": "https://localhost:8080/"
        },
        "id": "KOOxB9R705-3",
        "outputId": "03230533-b0c6-4c30-ec98-4b5dcec42333"
      },
      "source": [
        "from google.colab import drive\n",
        "drive.mount('/content/drive')"
      ],
      "execution_count": 2,
      "outputs": [
        {
          "output_type": "stream",
          "text": [
            "Mounted at /content/drive\n"
          ],
          "name": "stdout"
        }
      ]
    },
    {
      "cell_type": "code",
      "metadata": {
        "id": "Ym1JFoBK0yEX"
      },
      "source": [
        "import tensorflow as tf\r\n",
        "from tensorflow import keras\r\n",
        "from keras import Sequential\r\n",
        "from tensorflow.keras.optimizers import Adam\r\n",
        "from keras.layers import Flatten,Dense,Dropout,BatchNormalization\r\n",
        "\r\n",
        "from keras.layers import Conv1D,MaxPool1D\r\n",
        "\r\n",
        "import pandas as pd\r\n",
        "import numpy as np\r\n",
        "import matplotlib.pyplot as plt\r\n",
        "import seaborn as sns\r\n",
        "from sklearn.model_selection import train_test_split\r\n",
        "from sklearn.preprocessing import StandardScaler\r\n",
        "from sklearn.metrics import confusion_matrix\r\n",
        "\r\n",
        "df = pd.read_csv(\"/content/drive/MyDrive/DataSet/creditcard.csv\")"
      ],
      "execution_count": 3,
      "outputs": []
    },
    {
      "cell_type": "code",
      "metadata": {
        "id": "6FgM4UXM1DLc"
      },
      "source": [
        "fraud_data = df[df['Class']==1]\r\n",
        "non_fraud_data = df[df[\"Class\"]==0]"
      ],
      "execution_count": 4,
      "outputs": []
    },
    {
      "cell_type": "code",
      "metadata": {
        "colab": {
          "base_uri": "https://localhost:8080/"
        },
        "id": "ek4V6Zff1Iqb",
        "outputId": "4b622a1b-c8f1-48e1-e999-7b9e6bf8f860"
      },
      "source": [
        "print(\"\\n there are true records: \")\r\n",
        "print(non_fraud_data.shape)\r\n",
        "print(\"\\n there are fraud records: \")\r\n",
        "print(fraud_data.shape)"
      ],
      "execution_count": 8,
      "outputs": [
        {
          "output_type": "stream",
          "text": [
            "\n",
            " there are true records: \n",
            "(284315, 31)\n",
            "\n",
            " there are fraud records: \n",
            "(492, 31)\n"
          ],
          "name": "stdout"
        }
      ]
    },
    {
      "cell_type": "code",
      "metadata": {
        "colab": {
          "base_uri": "https://localhost:8080/"
        },
        "id": "QJPvPBSN1oZD",
        "outputId": "fb49d514-2e89-4cfa-b331-72061355b118"
      },
      "source": [
        "final_data = fraud_data.append(non_fraud_data,ignore_index=True)\r\n",
        "final_data.shape"
      ],
      "execution_count": 10,
      "outputs": [
        {
          "output_type": "execute_result",
          "data": {
            "text/plain": [
              "(284807, 31)"
            ]
          },
          "metadata": {
            "tags": []
          },
          "execution_count": 10
        }
      ]
    },
    {
      "cell_type": "code",
      "metadata": {
        "colab": {
          "base_uri": "https://localhost:8080/"
        },
        "id": "h4HScc2s14D0",
        "outputId": "89675bae-c518-4e6f-aac5-101e940f4d87"
      },
      "source": [
        "features=final_data.drop(\"Class\",axis=1)\r\n",
        "label=final_data[\"Class\"]\r\n",
        "\r\n",
        "#features.shape,label.shape\r\n",
        "features.shape,label.shape"
      ],
      "execution_count": 11,
      "outputs": [
        {
          "output_type": "execute_result",
          "data": {
            "text/plain": [
              "((284807, 30), (284807,))"
            ]
          },
          "metadata": {
            "tags": []
          },
          "execution_count": 11
        }
      ]
    },
    {
      "cell_type": "code",
      "metadata": {
        "id": "jGrZILvj2DUr"
      },
      "source": [
        "features_train,features_test,labels_train,labels_test = train_test_split(\r\n",
        "    features,label,test_size=.25,random_state=11,stratify = label)\r\n"
      ],
      "execution_count": 12,
      "outputs": []
    },
    {
      "cell_type": "code",
      "metadata": {
        "colab": {
          "base_uri": "https://localhost:8080/"
        },
        "id": "tyYOTr2t2LST",
        "outputId": "8c2daec7-5ba9-4138-8927-f717579094e0"
      },
      "source": [
        "features_train.shape,features_test.shape"
      ],
      "execution_count": 13,
      "outputs": [
        {
          "output_type": "execute_result",
          "data": {
            "text/plain": [
              "((213605, 30), (71202, 30))"
            ]
          },
          "metadata": {
            "tags": []
          },
          "execution_count": 13
        }
      ]
    },
    {
      "cell_type": "code",
      "metadata": {
        "id": "EmUlxDl12NV9"
      },
      "source": [
        "scaler = StandardScaler()\r\n",
        "features_train = scaler.fit_transform(features_train)\r\n",
        "features_test = scaler.fit_transform(features_test)\r\n",
        "\r\n",
        "\r\n",
        "# converting features into dataframe\r\n",
        "features_train = pd.DataFrame(features_train)\r\n",
        "features_test = pd.DataFrame(features_test)"
      ],
      "execution_count": 14,
      "outputs": []
    },
    {
      "cell_type": "code",
      "metadata": {
        "id": "eN6iXR5o2VOM"
      },
      "source": [
        "features_train = features_train.to_numpy()\r\n",
        "features_test = features_test.to_numpy()"
      ],
      "execution_count": 15,
      "outputs": []
    },
    {
      "cell_type": "code",
      "metadata": {
        "id": "QxfOfavB2ZgU"
      },
      "source": [
        "features_train =features_train.reshape(features_train.shape[0],features_train.shape[1],1)\r\n",
        "features_test =features_test.reshape(features_test.shape[0],features_test.shape[1],1)"
      ],
      "execution_count": 16,
      "outputs": []
    },
    {
      "cell_type": "code",
      "metadata": {
        "colab": {
          "base_uri": "https://localhost:8080/"
        },
        "id": "9gwGeh922gz6",
        "outputId": "11ed2746-9345-448c-ddb4-c7605b00ddd8"
      },
      "source": [
        "features_train.shape,features_test.shape"
      ],
      "execution_count": 17,
      "outputs": [
        {
          "output_type": "execute_result",
          "data": {
            "text/plain": [
              "((213605, 30, 1), (71202, 30, 1))"
            ]
          },
          "metadata": {
            "tags": []
          },
          "execution_count": 17
        }
      ]
    },
    {
      "cell_type": "code",
      "metadata": {
        "colab": {
          "base_uri": "https://localhost:8080/"
        },
        "id": "w9l7bSgg2jxE",
        "outputId": "9d59a2f8-253b-4669-83f6-ece3152b34f6"
      },
      "source": [
        "epochs=25\r\n",
        "model=Sequential()\r\n",
        "\r\n",
        "model.add(Conv1D(32,2,activation='relu',input_shape=features_train[0].shape))\r\n",
        "model.add(BatchNormalization())\r\n",
        "model.add(MaxPool1D(2))\r\n",
        "model.add(Dropout(0.2))\r\n",
        "\r\n",
        "model.add(Conv1D(64,2,activation='relu'))\r\n",
        "model.add(BatchNormalization())\r\n",
        "model.add(MaxPool1D(2))\r\n",
        "model.add(Dropout(0.5))\r\n",
        "\r\n",
        "#flattening layer\r\n",
        "model.add(Flatten())\r\n",
        "model.add(Dense(64,activation=\"relu\"))\r\n",
        "model.add(Dropout(0.5))\r\n",
        "\r\n",
        "#final layer\r\n",
        "model.add(Dense(1,activation=\"sigmoid\"))\r\n",
        "\r\n",
        "#model.summary()\r\n",
        "model.summary()\r\n",
        "\r\n",
        "#model compile and fitting\r\n",
        "model.compile(optimizer=Adam(lr=0.001),loss='binary_crossentropy',metrics=['accuracy'])\r\n",
        "\r\n",
        "history =model.fit(features_train,labels_train,epochs=epochs,\r\n",
        "                    validation_data = (features_test,labels_test),verbose=1)\r\n",
        "\r\n"
      ],
      "execution_count": 18,
      "outputs": [
        {
          "output_type": "stream",
          "text": [
            "Model: \"sequential\"\n",
            "_________________________________________________________________\n",
            "Layer (type)                 Output Shape              Param #   \n",
            "=================================================================\n",
            "conv1d (Conv1D)              (None, 29, 32)            96        \n",
            "_________________________________________________________________\n",
            "batch_normalization (BatchNo (None, 29, 32)            128       \n",
            "_________________________________________________________________\n",
            "max_pooling1d (MaxPooling1D) (None, 14, 32)            0         \n",
            "_________________________________________________________________\n",
            "dropout (Dropout)            (None, 14, 32)            0         \n",
            "_________________________________________________________________\n",
            "conv1d_1 (Conv1D)            (None, 13, 64)            4160      \n",
            "_________________________________________________________________\n",
            "batch_normalization_1 (Batch (None, 13, 64)            256       \n",
            "_________________________________________________________________\n",
            "max_pooling1d_1 (MaxPooling1 (None, 6, 64)             0         \n",
            "_________________________________________________________________\n",
            "dropout_1 (Dropout)          (None, 6, 64)             0         \n",
            "_________________________________________________________________\n",
            "flatten (Flatten)            (None, 384)               0         \n",
            "_________________________________________________________________\n",
            "dense (Dense)                (None, 64)                24640     \n",
            "_________________________________________________________________\n",
            "dropout_2 (Dropout)          (None, 64)                0         \n",
            "_________________________________________________________________\n",
            "dense_1 (Dense)              (None, 1)                 65        \n",
            "=================================================================\n",
            "Total params: 29,345\n",
            "Trainable params: 29,153\n",
            "Non-trainable params: 192\n",
            "_________________________________________________________________\n",
            "Epoch 1/25\n",
            "6676/6676 [==============================] - 40s 6ms/step - loss: 0.0372 - accuracy: 0.9909 - val_loss: 0.0037 - val_accuracy: 0.9994\n",
            "Epoch 2/25\n",
            "6676/6676 [==============================] - 37s 6ms/step - loss: 0.0064 - accuracy: 0.9991 - val_loss: 0.0045 - val_accuracy: 0.9993\n",
            "Epoch 3/25\n",
            "6676/6676 [==============================] - 37s 6ms/step - loss: 0.0053 - accuracy: 0.9992 - val_loss: 0.0038 - val_accuracy: 0.9994\n",
            "Epoch 4/25\n",
            "6676/6676 [==============================] - 38s 6ms/step - loss: 0.0046 - accuracy: 0.9993 - val_loss: 0.0038 - val_accuracy: 0.9994\n",
            "Epoch 5/25\n",
            "6676/6676 [==============================] - 38s 6ms/step - loss: 0.0048 - accuracy: 0.9992 - val_loss: 0.0032 - val_accuracy: 0.9994\n",
            "Epoch 6/25\n",
            "6676/6676 [==============================] - 38s 6ms/step - loss: 0.0048 - accuracy: 0.9992 - val_loss: 0.0036 - val_accuracy: 0.9993\n",
            "Epoch 7/25\n",
            "6676/6676 [==============================] - 39s 6ms/step - loss: 0.0049 - accuracy: 0.9992 - val_loss: 0.0035 - val_accuracy: 0.9993\n",
            "Epoch 8/25\n",
            "6676/6676 [==============================] - 39s 6ms/step - loss: 0.0045 - accuracy: 0.9993 - val_loss: 0.0040 - val_accuracy: 0.9993\n",
            "Epoch 9/25\n",
            "6676/6676 [==============================] - 39s 6ms/step - loss: 0.0035 - accuracy: 0.9994 - val_loss: 0.0030 - val_accuracy: 0.9994\n",
            "Epoch 10/25\n",
            "6676/6676 [==============================] - 38s 6ms/step - loss: 0.0035 - accuracy: 0.9994 - val_loss: 0.0030 - val_accuracy: 0.9994\n",
            "Epoch 11/25\n",
            "6676/6676 [==============================] - 39s 6ms/step - loss: 0.0034 - accuracy: 0.9994 - val_loss: 0.0029 - val_accuracy: 0.9994\n",
            "Epoch 12/25\n",
            "6676/6676 [==============================] - 39s 6ms/step - loss: 0.0039 - accuracy: 0.9993 - val_loss: 0.0036 - val_accuracy: 0.9994\n",
            "Epoch 13/25\n",
            "6676/6676 [==============================] - 38s 6ms/step - loss: 0.0038 - accuracy: 0.9994 - val_loss: 0.0032 - val_accuracy: 0.9994\n",
            "Epoch 14/25\n",
            "6676/6676 [==============================] - 38s 6ms/step - loss: 0.0034 - accuracy: 0.9994 - val_loss: 0.0029 - val_accuracy: 0.9994\n",
            "Epoch 15/25\n",
            "6676/6676 [==============================] - 38s 6ms/step - loss: 0.0043 - accuracy: 0.9993 - val_loss: 0.0028 - val_accuracy: 0.9994\n",
            "Epoch 16/25\n",
            "6676/6676 [==============================] - 38s 6ms/step - loss: 0.0036 - accuracy: 0.9994 - val_loss: 0.0027 - val_accuracy: 0.9994\n",
            "Epoch 17/25\n",
            "6676/6676 [==============================] - 39s 6ms/step - loss: 0.0035 - accuracy: 0.9994 - val_loss: 0.0033 - val_accuracy: 0.9994\n",
            "Epoch 18/25\n",
            "6676/6676 [==============================] - 38s 6ms/step - loss: 0.0035 - accuracy: 0.9994 - val_loss: 0.0030 - val_accuracy: 0.9994\n",
            "Epoch 19/25\n",
            "6676/6676 [==============================] - 38s 6ms/step - loss: 0.0043 - accuracy: 0.9994 - val_loss: 0.0027 - val_accuracy: 0.9994\n",
            "Epoch 20/25\n",
            "6676/6676 [==============================] - 39s 6ms/step - loss: 0.0035 - accuracy: 0.9993 - val_loss: 0.0026 - val_accuracy: 0.9994\n",
            "Epoch 21/25\n",
            "6676/6676 [==============================] - 38s 6ms/step - loss: 0.0034 - accuracy: 0.9994 - val_loss: 0.0028 - val_accuracy: 0.9994\n",
            "Epoch 22/25\n",
            "6676/6676 [==============================] - 38s 6ms/step - loss: 0.0036 - accuracy: 0.9993 - val_loss: 0.0030 - val_accuracy: 0.9994\n",
            "Epoch 23/25\n",
            "6676/6676 [==============================] - 39s 6ms/step - loss: 0.0037 - accuracy: 0.9994 - val_loss: 0.0027 - val_accuracy: 0.9994\n",
            "Epoch 24/25\n",
            "6676/6676 [==============================] - 38s 6ms/step - loss: 0.0042 - accuracy: 0.9992 - val_loss: 0.0029 - val_accuracy: 0.9994\n",
            "Epoch 25/25\n",
            "6676/6676 [==============================] - 38s 6ms/step - loss: 0.0041 - accuracy: 0.9992 - val_loss: 0.0036 - val_accuracy: 0.9994\n"
          ],
          "name": "stdout"
        }
      ]
    },
    {
      "cell_type": "code",
      "metadata": {
        "id": "qmg-p50F3BPc"
      },
      "source": [
        "def plot_learning_curve(history,epochs):\r\n",
        "    \r\n",
        "    epoch_range=range(1,epochs+1)\r\n",
        "    plt.plot(epoch_range,history.history['accuracy'])\r\n",
        "    plt.plot(epoch_range,history.history[\"val_accuracy\"])\r\n",
        "    plt.title(\"Model Accuracy\")\r\n",
        "    plt.xlabel(\"epochs\")\r\n",
        "    plt.ylabel(\"accuracy\")\r\n",
        "    plt.legend(\"train\",\"val\",loc=\"upper left\")\r\n",
        "    plt.show()\r\n",
        "    \r\n",
        "    \r\n",
        "     \r\n",
        "    plt.plot(epoch_range,history.history['loss'])\r\n",
        "    plt.plot(epoch_range,history.history['val_loss'])\r\n",
        "    plt.title('Model loss')\r\n",
        "    plt.ylabel('loss')\r\n",
        "    plt.xlabel('epoch')\r\n",
        "    plt.legend(['Train','Val'],loc='upper left')\r\n",
        "    plt.show()"
      ],
      "execution_count": 20,
      "outputs": []
    },
    {
      "cell_type": "code",
      "metadata": {
        "colab": {
          "base_uri": "https://localhost:8080/",
          "height": 786
        },
        "id": "MmdflJwR2qnU",
        "outputId": "26e9caed-a318-4fab-e6fd-2849b7b9a730"
      },
      "source": [
        "plot_learning_curve(history,epochs)"
      ],
      "execution_count": 21,
      "outputs": [
        {
          "output_type": "stream",
          "text": [
            "/usr/local/lib/python3.7/dist-packages/ipykernel_launcher.py:9: UserWarning: Legend does not support 't' instances.\n",
            "A proxy artist may be used instead.\n",
            "See: http://matplotlib.org/users/legend_guide.html#creating-artists-specifically-for-adding-to-the-legend-aka-proxy-artists\n",
            "  if __name__ == '__main__':\n",
            "/usr/local/lib/python3.7/dist-packages/ipykernel_launcher.py:9: UserWarning: Legend does not support 'r' instances.\n",
            "A proxy artist may be used instead.\n",
            "See: http://matplotlib.org/users/legend_guide.html#creating-artists-specifically-for-adding-to-the-legend-aka-proxy-artists\n",
            "  if __name__ == '__main__':\n",
            "/usr/local/lib/python3.7/dist-packages/ipykernel_launcher.py:9: UserWarning: Legend does not support 'a' instances.\n",
            "A proxy artist may be used instead.\n",
            "See: http://matplotlib.org/users/legend_guide.html#creating-artists-specifically-for-adding-to-the-legend-aka-proxy-artists\n",
            "  if __name__ == '__main__':\n"
          ],
          "name": "stderr"
        },
        {
          "output_type": "display_data",
          "data": {
            "image/png": "[encoded data removed]",
            "text/plain": [
              "<Figure size 432x288 with 1 Axes>"
            ]
          },
          "metadata": {
            "tags": [],
            "needs_background": "light"
          }
        },
        {
          "output_type": "display_data",
          "data": {
            "image/png": "[encoded data removed]",
            "text/plain": [
              "<Figure size 432x288 with 1 Axes>"
            ]
          },
          "metadata": {
            "tags": [],
            "needs_background": "light"
          }
        }
      ]
    },
    {
      "cell_type": "code",
      "metadata": {
        "colab": {
          "base_uri": "https://localhost:8080/"
        },
        "id": "2VdJiDOu4k-t",
        "outputId": "dff1c060-5b07-4290-8a6b-b5a9ddbdb5ce"
      },
      "source": [
        "final_acc = model.evaluate(features_train,labels_train)\r\n",
        "final_acc"
      ],
      "execution_count": 22,
      "outputs": [
        {
          "output_type": "stream",
          "text": [
            "6676/6676 [==============================] - 11s 2ms/step - loss: 0.0036 - accuracy: 0.9994\n"
          ],
          "name": "stdout"
        },
        {
          "output_type": "execute_result",
          "data": {
            "text/plain": [
              "[0.0036210224498063326, 0.9994054436683655]"
            ]
          },
          "metadata": {
            "tags": []
          },
          "execution_count": 22
        }
      ]
    },
    {
      "cell_type": "code",
      "metadata": {
        "id": "fYUBgLgt7aNE"
      },
      "source": [
        ""
      ],
      "execution_count": null,
      "outputs": []
    },
    {
      "cell_type": "code",
      "metadata": {
        "colab": {
          "base_uri": "https://localhost:8080/"
        },
        "id": "O9pjdlZD7a0C",
        "outputId": "c832dc48-f42b-456f-80c6-d9e3c7180d92"
      },
      "source": [
        "final_acc2 = model.evaluate(features_test,labels_test)\r\n",
        "final_acc2"
      ],
      "execution_count": 25,
      "outputs": [
        {
          "output_type": "stream",
          "text": [
            "2226/2226 [==============================] - 4s 2ms/step - loss: 0.0036 - accuracy: 0.9994\n"
          ],
          "name": "stdout"
        },
        {
          "output_type": "execute_result",
          "data": {
            "text/plain": [
              "[0.003602120094001293, 0.9993960857391357]"
            ]
          },
          "metadata": {
            "tags": []
          },
          "execution_count": 25
        }
      ]
    },
    {
      "cell_type": "code",
      "metadata": {
        "colab": {
          "base_uri": "https://localhost:8080/"
        },
        "id": "VE2TPNjf5g11",
        "outputId": "0141ae03-76c8-4f88-b498-40d3ff8051e9"
      },
      "source": [
        "pred = model.predict(features_test)\r\n",
        "pred_label=pred.argmax(axis=1)\r\n",
        "#confusion_matrix\r\n",
        "cm=confusion_matrix(labels_test,pred.round())\r\n",
        "cm"
      ],
      "execution_count": 23,
      "outputs": [
        {
          "output_type": "execute_result",
          "data": {
            "text/plain": [
              "array([[71059,    20],\n",
              "       [   23,   100]])"
            ]
          },
          "metadata": {
            "tags": []
          },
          "execution_count": 23
        }
      ]
    },
    {
      "cell_type": "code",
      "metadata": {
        "colab": {
          "base_uri": "https://localhost:8080/"
        },
        "id": "HhXqNCzb8FIi",
        "outputId": "77d1bda6-3b21-44e6-ccb5-19d8c0d3aa6d"
      },
      "source": [
        "pred = model.predict(features_train)\r\n",
        "pred_label=pred.argmax(axis=1)\r\n",
        "#confusion_matrix\r\n",
        "cm=confusion_matrix(labels_train,pred.round())\r\n",
        "cm"
      ],
      "execution_count": 26,
      "outputs": [
        {
          "output_type": "execute_result",
          "data": {
            "text/plain": [
              "array([[213185,     51],\n",
              "       [    76,    293]])"
            ]
          },
          "metadata": {
            "tags": []
          },
          "execution_count": 26
        }
      ]
    }
  ]
}